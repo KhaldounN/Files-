{
  "nbformat": 4,
  "nbformat_minor": 0,
  "metadata": {
    "colab": {
      "name": "Session_6_Classical_Data_Analysis_DT_EXERCISES.ipynb",
      "provenance": [],
      "collapsed_sections": [],
      "include_colab_link": true
    },
    "kernelspec": {
      "display_name": "Python 3",
      "language": "python",
      "name": "python3"
    },
    "language_info": {
      "codemirror_mode": {
        "name": "ipython",
        "version": 3
      },
      "file_extension": ".py",
      "mimetype": "text/x-python",
      "name": "python",
      "nbconvert_exporter": "python",
      "pygments_lexer": "ipython3",
      "version": "3.7.4"
    }
  },
  "cells": [
    {
      "cell_type": "markdown",
      "metadata": {
        "id": "view-in-github",
        "colab_type": "text"
      },
      "source": [
        "<a href=\"https://colab.research.google.com/github/KhaldounN/Files-/blob/master/Session_6_Classical_Data_Analysis_DT_EXERCISES.ipynb\" target=\"_parent\"><img src=\"https://colab.research.google.com/assets/colab-badge.svg\" alt=\"Open In Colab\"/></a>"
      ]
    },
    {
      "cell_type": "markdown",
      "metadata": {
        "id": "aB_ck5OSE3TU"
      },
      "source": [
        "![BTS](https://github.com/vfp1/bts-mbds-data-science-foundations-2019/raw/master/sessions/img/Logo-BTS.jpg)\n",
        "\n",
        "# Session 6: Decision Trees EXERCISES\n",
        "\n",
        "\n",
        "### Filipa Peleja <filipa.peleja@bts.tech>\n",
        "### Victor F. Pajuelo Madrigal <victor.pajuelo@bts.tech>\n",
        "\n",
        "## Classical Data Analysis (05-03-2021)\n",
        "\n",
        "Open this notebook in Google Colaboratory: [![Open in Colab](https://colab.research.google.com/assets/colab-badge.svg)](https://colab.research.google.com/github/vfp1/bts-cda-2020/blob/main/Session_10/Session_10_Classical_Data_Analysis_EXERCISES.ipynb)"
      ]
    },
    {
      "cell_type": "markdown",
      "metadata": {
        "id": "_dCdQvVLm8DY"
      },
      "source": [
        "## EXERCISE 1 - Naive Bayes\n",
        "\n",
        "We will use a file called 'person_data.txt'. It contains 100 random person data, male and female, with body sizes, weights and gender tags."
      ]
    },
    {
      "cell_type": "markdown",
      "metadata": {
        "id": "DewyrECuR7kG"
      },
      "source": [
        "**Q1. Designing a Feature class**\n",
        "\n",
        "The Feature class needs a label, e.g. \"heights\" or \"firstnames\". If the feature values are numerical we may want to \"bin\" them to reduce the number of possible feature values. The heights from our persons have a huge range and we have only 50 measured values for our Naive Bayes classes \"male\" and \"female\". We will bin them into ranges \"130 to 134\", \"135 to 139\", \"140 to 144\" and so on by setting bin_width to 5. There is no way of binning the first names, so bin_width will be set to None.\n",
        "\n",
        "The method frequency returns the number of occurrencies for a certain feature value or a binned range."
      ]
    },
    {
      "cell_type": "code",
      "metadata": {
        "id": "RRdATwBGPAs2"
      },
      "source": [
        "#import data & split into columns \n",
        "\n",
        "import pandas as pd \n",
        "text = \"/content/person_data.txt\"\n",
        "file = open(text, \"r\" , encoding='utf-8' )\n",
        "df = pd.DataFrame(file)\n",
        "df = pd.DataFrame(df[0].str.split(' ',4).tolist(),columns=['First_name','last_name','heights' , 'weights' , 'gender'])\n",
        "df.head()\n",
        "\n",
        "df['heights'] = df['heights'].astype(int)\n",
        "df['weights'] = df['weights'].astype(float).astype(int)\n"
      ],
      "execution_count": 57,
      "outputs": []
    },
    {
      "cell_type": "code",
      "metadata": {
        "id": "JeFu-e0e8Kvz"
      },
      "source": [
        "#spliting wieghts into bins\n",
        "df['processed_weights'] = pd.qcut( df['weights'] ,[0 , .25,.5,.75 ,1])"
      ],
      "execution_count": 58,
      "outputs": []
    },
    {
      "cell_type": "code",
      "metadata": {
        "id": "XrDoBVq8-Jx6"
      },
      "source": [
        "#spliting heights \n",
        "cut_bins = list(range(131,213,5))\n",
        "\n",
        "df['processed_heights'] = pd.cut(df['heights'], bins=cut_bins)"
      ],
      "execution_count": 59,
      "outputs": []
    },
    {
      "cell_type": "code",
      "metadata": {
        "id": "h_yRTLZvBsfi",
        "outputId": "614471f8-70d2-4e0a-aeb6-e9fe15c777d6",
        "colab": {
          "base_uri": "https://localhost:8080/",
          "height": 408
        }
      },
      "source": [
        "df = df.replace(to_replace='male\\n', value  = 'male')\n",
        "df = df.replace(to_replace='female\\n', value  = 'female')\n",
        "df"
      ],
      "execution_count": 60,
      "outputs": [
        {
          "output_type": "execute_result",
          "data": {
            "text/html": [
              "<div>\n",
              "<style scoped>\n",
              "    .dataframe tbody tr th:only-of-type {\n",
              "        vertical-align: middle;\n",
              "    }\n",
              "\n",
              "    .dataframe tbody tr th {\n",
              "        vertical-align: top;\n",
              "    }\n",
              "\n",
              "    .dataframe thead th {\n",
              "        text-align: right;\n",
              "    }\n",
              "</style>\n",
              "<table border=\"1\" class=\"dataframe\">\n",
              "  <thead>\n",
              "    <tr style=\"text-align: right;\">\n",
              "      <th></th>\n",
              "      <th>First_name</th>\n",
              "      <th>last_name</th>\n",
              "      <th>heights</th>\n",
              "      <th>weights</th>\n",
              "      <th>gender</th>\n",
              "      <th>processed_weights</th>\n",
              "      <th>processed_heights</th>\n",
              "    </tr>\n",
              "  </thead>\n",
              "  <tbody>\n",
              "    <tr>\n",
              "      <th>0</th>\n",
              "      <td>Randy</td>\n",
              "      <td>Carter</td>\n",
              "      <td>184</td>\n",
              "      <td>73</td>\n",
              "      <td>male</td>\n",
              "      <td>(61.0, 75.0]</td>\n",
              "      <td>(181, 186]</td>\n",
              "    </tr>\n",
              "    <tr>\n",
              "      <th>1</th>\n",
              "      <td>Stephanie</td>\n",
              "      <td>Smith</td>\n",
              "      <td>149</td>\n",
              "      <td>52</td>\n",
              "      <td>female</td>\n",
              "      <td>(17.999, 52.0]</td>\n",
              "      <td>(146, 151]</td>\n",
              "    </tr>\n",
              "    <tr>\n",
              "      <th>2</th>\n",
              "      <td>Cynthia</td>\n",
              "      <td>Watson</td>\n",
              "      <td>174</td>\n",
              "      <td>63</td>\n",
              "      <td>female</td>\n",
              "      <td>(61.0, 75.0]</td>\n",
              "      <td>(171, 176]</td>\n",
              "    </tr>\n",
              "    <tr>\n",
              "      <th>3</th>\n",
              "      <td>Jessie</td>\n",
              "      <td>Morgan</td>\n",
              "      <td>175</td>\n",
              "      <td>67</td>\n",
              "      <td>male</td>\n",
              "      <td>(61.0, 75.0]</td>\n",
              "      <td>(171, 176]</td>\n",
              "    </tr>\n",
              "    <tr>\n",
              "      <th>4</th>\n",
              "      <td>Katherine</td>\n",
              "      <td>Carter</td>\n",
              "      <td>183</td>\n",
              "      <td>81</td>\n",
              "      <td>female</td>\n",
              "      <td>(75.0, 122.0]</td>\n",
              "      <td>(181, 186]</td>\n",
              "    </tr>\n",
              "    <tr>\n",
              "      <th>...</th>\n",
              "      <td>...</td>\n",
              "      <td>...</td>\n",
              "      <td>...</td>\n",
              "      <td>...</td>\n",
              "      <td>...</td>\n",
              "      <td>...</td>\n",
              "      <td>...</td>\n",
              "    </tr>\n",
              "    <tr>\n",
              "      <th>95</th>\n",
              "      <td>Jessie</td>\n",
              "      <td>Thomas</td>\n",
              "      <td>168</td>\n",
              "      <td>69</td>\n",
              "      <td>female</td>\n",
              "      <td>(61.0, 75.0]</td>\n",
              "      <td>(166, 171]</td>\n",
              "    </tr>\n",
              "    <tr>\n",
              "      <th>96</th>\n",
              "      <td>Emily</td>\n",
              "      <td>Gonzalez</td>\n",
              "      <td>156</td>\n",
              "      <td>51</td>\n",
              "      <td>female</td>\n",
              "      <td>(17.999, 52.0]</td>\n",
              "      <td>(151, 156]</td>\n",
              "    </tr>\n",
              "    <tr>\n",
              "      <th>97</th>\n",
              "      <td>Doris</td>\n",
              "      <td>Nelson</td>\n",
              "      <td>167</td>\n",
              "      <td>40</td>\n",
              "      <td>female</td>\n",
              "      <td>(17.999, 52.0]</td>\n",
              "      <td>(166, 171]</td>\n",
              "    </tr>\n",
              "    <tr>\n",
              "      <th>98</th>\n",
              "      <td>Louis</td>\n",
              "      <td>Bennett</td>\n",
              "      <td>161</td>\n",
              "      <td>18</td>\n",
              "      <td>male</td>\n",
              "      <td>(17.999, 52.0]</td>\n",
              "      <td>(156, 161]</td>\n",
              "    </tr>\n",
              "    <tr>\n",
              "      <th>99</th>\n",
              "      <td>Janice</td>\n",
              "      <td>Moore</td>\n",
              "      <td>167</td>\n",
              "      <td>56</td>\n",
              "      <td>female</td>\n",
              "      <td>(52.0, 61.0]</td>\n",
              "      <td>(166, 171]</td>\n",
              "    </tr>\n",
              "  </tbody>\n",
              "</table>\n",
              "<p>100 rows × 7 columns</p>\n",
              "</div>"
            ],
            "text/plain": [
              "   First_name last_name  heights  ...  gender processed_weights processed_heights\n",
              "0       Randy    Carter      184  ...    male      (61.0, 75.0]        (181, 186]\n",
              "1   Stephanie     Smith      149  ...  female    (17.999, 52.0]        (146, 151]\n",
              "2     Cynthia    Watson      174  ...  female      (61.0, 75.0]        (171, 176]\n",
              "3      Jessie    Morgan      175  ...    male      (61.0, 75.0]        (171, 176]\n",
              "4   Katherine    Carter      183  ...  female     (75.0, 122.0]        (181, 186]\n",
              "..        ...       ...      ...  ...     ...               ...               ...\n",
              "95     Jessie    Thomas      168  ...  female      (61.0, 75.0]        (166, 171]\n",
              "96      Emily  Gonzalez      156  ...  female    (17.999, 52.0]        (151, 156]\n",
              "97      Doris    Nelson      167  ...  female    (17.999, 52.0]        (166, 171]\n",
              "98      Louis   Bennett      161  ...    male    (17.999, 52.0]        (156, 161]\n",
              "99     Janice     Moore      167  ...  female      (52.0, 61.0]        (166, 171]\n",
              "\n",
              "[100 rows x 7 columns]"
            ]
          },
          "metadata": {
            "tags": []
          },
          "execution_count": 60
        }
      ]
    },
    {
      "cell_type": "code",
      "metadata": {
        "id": "_bONFIuUQJ-j",
        "outputId": "ce495199-68c3-41f7-d817-b47657814965",
        "colab": {
          "base_uri": "https://localhost:8080/",
          "height": 198
        }
      },
      "source": [
        "df2 = df[['First_name' , 'last_name' , 'gender' , 'processed_weights', 'processed_heights']]\n",
        "df2.head()"
      ],
      "execution_count": 61,
      "outputs": [
        {
          "output_type": "execute_result",
          "data": {
            "text/html": [
              "<div>\n",
              "<style scoped>\n",
              "    .dataframe tbody tr th:only-of-type {\n",
              "        vertical-align: middle;\n",
              "    }\n",
              "\n",
              "    .dataframe tbody tr th {\n",
              "        vertical-align: top;\n",
              "    }\n",
              "\n",
              "    .dataframe thead th {\n",
              "        text-align: right;\n",
              "    }\n",
              "</style>\n",
              "<table border=\"1\" class=\"dataframe\">\n",
              "  <thead>\n",
              "    <tr style=\"text-align: right;\">\n",
              "      <th></th>\n",
              "      <th>First_name</th>\n",
              "      <th>last_name</th>\n",
              "      <th>gender</th>\n",
              "      <th>processed_weights</th>\n",
              "      <th>processed_heights</th>\n",
              "    </tr>\n",
              "  </thead>\n",
              "  <tbody>\n",
              "    <tr>\n",
              "      <th>0</th>\n",
              "      <td>Randy</td>\n",
              "      <td>Carter</td>\n",
              "      <td>male</td>\n",
              "      <td>(61.0, 75.0]</td>\n",
              "      <td>(181, 186]</td>\n",
              "    </tr>\n",
              "    <tr>\n",
              "      <th>1</th>\n",
              "      <td>Stephanie</td>\n",
              "      <td>Smith</td>\n",
              "      <td>female</td>\n",
              "      <td>(17.999, 52.0]</td>\n",
              "      <td>(146, 151]</td>\n",
              "    </tr>\n",
              "    <tr>\n",
              "      <th>2</th>\n",
              "      <td>Cynthia</td>\n",
              "      <td>Watson</td>\n",
              "      <td>female</td>\n",
              "      <td>(61.0, 75.0]</td>\n",
              "      <td>(171, 176]</td>\n",
              "    </tr>\n",
              "    <tr>\n",
              "      <th>3</th>\n",
              "      <td>Jessie</td>\n",
              "      <td>Morgan</td>\n",
              "      <td>male</td>\n",
              "      <td>(61.0, 75.0]</td>\n",
              "      <td>(171, 176]</td>\n",
              "    </tr>\n",
              "    <tr>\n",
              "      <th>4</th>\n",
              "      <td>Katherine</td>\n",
              "      <td>Carter</td>\n",
              "      <td>female</td>\n",
              "      <td>(75.0, 122.0]</td>\n",
              "      <td>(181, 186]</td>\n",
              "    </tr>\n",
              "  </tbody>\n",
              "</table>\n",
              "</div>"
            ],
            "text/plain": [
              "  First_name last_name  gender processed_weights processed_heights\n",
              "0      Randy    Carter    male      (61.0, 75.0]        (181, 186]\n",
              "1  Stephanie     Smith  female    (17.999, 52.0]        (146, 151]\n",
              "2    Cynthia    Watson  female      (61.0, 75.0]        (171, 176]\n",
              "3     Jessie    Morgan    male      (61.0, 75.0]        (171, 176]\n",
              "4  Katherine    Carter  female     (75.0, 122.0]        (181, 186]"
            ]
          },
          "metadata": {
            "tags": []
          },
          "execution_count": 61
        }
      ]
    },
    {
      "cell_type": "markdown",
      "metadata": {
        "id": "iBer2I-FSJ3G"
      },
      "source": [
        "**Q2. Design the features**\n",
        "\n",
        "We will create now two feature classes Feature for the height values of the person data set. One Feature class contains the height for the Naive Bayes class \"male\" and one the heights for the class \"female\""
      ]
    },
    {
      "cell_type": "markdown",
      "metadata": {
        "id": "ejwKmbqqSXoJ"
      },
      "source": [
        "**Q3. Plot  the distribution of Male vs Female**\n",
        "\n",
        "Based on what you observe and your dataset, which Naive Bayes model that you've learned today is the best for this problem?"
      ]
    },
    {
      "cell_type": "code",
      "metadata": {
        "id": "XwHRu9CkSbnH",
        "outputId": "b2854361-052b-4060-f8e0-c9ba7e5199b9",
        "colab": {
          "base_uri": "https://localhost:8080/",
          "height": 867
        }
      },
      "source": [
        "import matplotlib.pyplot as plt\n",
        "import seaborn as sns \n",
        "\n",
        "plt.figure(figsize = (15,7))\n",
        "sns.histplot(data = df , x='heights', kde = True  , hue='gender' , element=\"step\")\n",
        "plt.show()\n",
        "plt.figure(figsize = (15,7))\n",
        "sns.histplot(data = df , x='weights', kde = True  , hue='gender' , element=\"step\")\n",
        "plt.show()\n"
      ],
      "execution_count": 75,
      "outputs": [
        {
          "output_type": "display_data",
          "data": {
            "image/png": "[encoded data removed]",
            "text/plain": [
              "<Figure size 1080x504 with 1 Axes>"
            ]
          },
          "metadata": {
            "tags": [],
            "needs_background": "light"
          }
        },
        {
          "output_type": "display_data",
          "data": {
            "image/png": "[encoded data removed]",
            "text/plain": [
              "<Figure size 1080x504 with 1 Axes>"
            ]
          },
          "metadata": {
            "tags": [],
            "needs_background": "light"
          }
        }
      ]
    },
    {
      "cell_type": "markdown",
      "metadata": {
        "id": "PJeq7G_lSw8p"
      },
      "source": [
        "**Q4. Build your Naive Bayes classifier**\n",
        "- with and without parameter tunning"
      ]
    },
    {
      "cell_type": "code",
      "metadata": {
        "id": "mOkAtmchS04K"
      },
      "source": [
        "from sklearn.naive_bayes import GaussianNB\n",
        "\n",
        "# fitting a model using the continious features\n",
        "y = df.gender\n",
        "X = df[['heights' , 'weights']]"
      ],
      "execution_count": 92,
      "outputs": []
    },
    {
      "cell_type": "code",
      "metadata": {
        "id": "abnS37IEYMBL"
      },
      "source": [
        "from sklearn.model_selection import train_test_split\n",
        "X_train, X_test, y_train, y_test = train_test_split(X, y, test_size=0.33, random_state=42)"
      ],
      "execution_count": 93,
      "outputs": []
    },
    {
      "cell_type": "code",
      "metadata": {
        "id": "H8BR-KlLU-Ys",
        "outputId": "44c6ece6-ef11-4664-8f63-855de88d2453",
        "colab": {
          "base_uri": "https://localhost:8080/"
        }
      },
      "source": [
        "model = GaussianNB()\n",
        "model.fit(X_train, y_train)"
      ],
      "execution_count": 94,
      "outputs": [
        {
          "output_type": "execute_result",
          "data": {
            "text/plain": [
              "GaussianNB(priors=None, var_smoothing=1e-09)"
            ]
          },
          "metadata": {
            "tags": []
          },
          "execution_count": 94
        }
      ]
    },
    {
      "cell_type": "code",
      "metadata": {
        "id": "Ns3gZRSFU-b7",
        "outputId": "5eb83e8d-7eb1-4feb-b685-6926a08b3423",
        "colab": {
          "base_uri": "https://localhost:8080/"
        }
      },
      "source": [
        "from sklearn.metrics import accuracy_score\n",
        "y_pred = model.predict(X_test)\n",
        "accuracy_score(y_test, y_pred)"
      ],
      "execution_count": 89,
      "outputs": [
        {
          "output_type": "execute_result",
          "data": {
            "text/plain": [
              "0.7575757575757576"
            ]
          },
          "metadata": {
            "tags": []
          },
          "execution_count": 89
        }
      ]
    },
    {
      "cell_type": "code",
      "metadata": {
        "id": "TTnBMdMmZKLx",
        "outputId": "9175e1dd-0164-4fd3-834e-2c3c22945431",
        "colab": {
          "base_uri": "https://localhost:8080/"
        }
      },
      "source": [
        "from sklearn.naive_bayes import MultinomialNB\n",
        "clf = MultinomialNB()\n",
        "clf.fit(X_train, y_train)"
      ],
      "execution_count": 97,
      "outputs": [
        {
          "output_type": "execute_result",
          "data": {
            "text/plain": [
              "MultinomialNB(alpha=1.0, class_prior=None, fit_prior=True)"
            ]
          },
          "metadata": {
            "tags": []
          },
          "execution_count": 97
        }
      ]
    },
    {
      "cell_type": "code",
      "metadata": {
        "id": "KUVMP1qpZpFW",
        "outputId": "0c4939ec-1f0a-48a0-db47-3ddd568f4da5",
        "colab": {
          "base_uri": "https://localhost:8080/"
        }
      },
      "source": [
        "from sklearn.metrics import accuracy_score\n",
        "y_pred = clf.predict(X_test)\n",
        "accuracy_score(y_test, y_pred)"
      ],
      "execution_count": 98,
      "outputs": [
        {
          "output_type": "execute_result",
          "data": {
            "text/plain": [
              "0.6666666666666666"
            ]
          },
          "metadata": {
            "tags": []
          },
          "execution_count": 98
        }
      ]
    },
    {
      "cell_type": "markdown",
      "metadata": {
        "id": "iYIOkBscwKlx"
      },
      "source": [
        "## Place your reflections here about what you've learned\n",
        "* When should I used Naive Bayes?\n",
        "* Why is Naive Bayes powerful for some problems?\n",
        "* Why is Naive Bayes known for resolving NLP problems?"
      ]
    },
    {
      "cell_type": "code",
      "metadata": {
        "id": "J2txhFq-wMn5"
      },
      "source": [
        ""
      ],
      "execution_count": null,
      "outputs": []
    }
  ]
}