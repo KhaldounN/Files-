{
  "nbformat": 4,
  "nbformat_minor": 0,
  "metadata": {
    "colab": {
      "name": "Session_6_Classical_Data_Analysis_DT_EXERCISES.ipynb",
      "provenance": [],
      "collapsed_sections": [],
      "include_colab_link": true
    },
    "kernelspec": {
      "display_name": "Python 3",
      "language": "python",
      "name": "python3"
    },
    "language_info": {
      "codemirror_mode": {
        "name": "ipython",
        "version": 3
      },
      "file_extension": ".py",
      "mimetype": "text/x-python",
      "name": "python",
      "nbconvert_exporter": "python",
      "pygments_lexer": "ipython3",
      "version": "3.7.4"
    }
  },
  "cells": [
    {
      "cell_type": "markdown",
      "metadata": {
        "id": "view-in-github",
        "colab_type": "text"
      },
      "source": [
        "<a href=\"https://colab.research.google.com/github/KhaldounN/Files-/blob/master/Session_6_Classical_Data_Analysis_DT_EXERCISES.ipynb\" target=\"_parent\"><img src=\"https://colab.research.google.com/assets/colab-badge.svg\" alt=\"Open In Colab\"/></a>"
      ]
    },
    {
      "cell_type": "markdown",
      "metadata": {
        "id": "aB_ck5OSE3TU"
      },
      "source": [
        "![BTS](https://github.com/vfp1/bts-mbds-data-science-foundations-2019/raw/master/sessions/img/Logo-BTS.jpg)\n",
        "\n",
        "# Session 6: Decision Trees EXERCISES\n",
        "\n",
        "\n",
        "### Filipa Peleja <filipa.peleja@bts.tech>\n",
        "### Victor F. Pajuelo Madrigal <victor.pajuelo@bts.tech>\n",
        "\n",
        "## Classical Data Analysis (05-03-2021)\n",
        "\n",
        "Open this notebook in Google Colaboratory: [![Open in Colab](https://colab.research.google.com/assets/colab-badge.svg)](https://colab.research.google.com/github/vfp1/bts-cda-2020/blob/main/Session_10/Session_10_Classical_Data_Analysis_EXERCISES.ipynb)"
      ]
    },
    {
      "cell_type": "markdown",
      "metadata": {
        "id": "_dCdQvVLm8DY"
      },
      "source": [
        "## EXERCISE 1 - Naive Bayes\n",
        "\n",
        "We will use a file called 'person_data.txt'. It contains 100 random person data, male and female, with body sizes, weights and gender tags."
      ]
    },
    {
      "cell_type": "markdown",
      "metadata": {
        "id": "DewyrECuR7kG"
      },
      "source": [
        "**Q1. Designing a Feature class**\n",
        "\n",
        "The Feature class needs a label, e.g. \"heights\" or \"firstnames\". If the feature values are numerical we may want to \"bin\" them to reduce the number of possible feature values. The heights from our persons have a huge range and we have only 50 measured values for our Naive Bayes classes \"male\" and \"female\". We will bin them into ranges \"130 to 134\", \"135 to 139\", \"140 to 144\" and so on by setting bin_width to 5. There is no way of binning the first names, so bin_width will be set to None.\n",
        "\n",
        "The method frequency returns the number of occurrencies for a certain feature value or a binned range."
      ]
    },
    {
      "cell_type": "code",
      "metadata": {
        "id": "RRdATwBGPAs2"
      },
      "source": [
        "#import data & split into columns \n",
        "\n",
        "import pandas as pd \n",
        "text = \"/content/person_data.txt\"\n",
        "file = open(text, \"r\" , encoding='utf-8' )\n",
        "df = pd.DataFrame(file)\n",
        "df = pd.DataFrame(df[0].str.split(' ',4).tolist(),columns=['First_name','last_name','heights' , 'weights' , 'gender'])\n",
        "df.head()\n",
        "\n",
        "df['heights'] = df['heights'].astype(int)\n",
        "df['weights'] = df['weights'].astype(float).astype(int)\n"
      ],
      "execution_count": null,
      "outputs": []
    },
    {
      "cell_type": "code",
      "metadata": {
        "id": "JeFu-e0e8Kvz"
      },
      "source": [
        "#spliting wieghts into bins\n",
        "df['processed_weights'] = pd.qcut( df['weights'] ,[0 , .25,.5,.75 ,1])"
      ],
      "execution_count": null,
      "outputs": []
    },
    {
      "cell_type": "code",
      "metadata": {
        "id": "XrDoBVq8-Jx6"
      },
      "source": [
        "#spliting heights \n",
        "cut_bins = list(range(131,213,4))\n",
        "\n",
        "df['processed_heights'] = pd.cut(df['heights'], bins=cut_bins)"
      ],
      "execution_count": null,
      "outputs": []
    },
    {
      "cell_type": "code",
      "metadata": {
        "id": "h_yRTLZvBsfi"
      },
      "source": [
        "df.head()"
      ],
      "execution_count": null,
      "outputs": []
    },
    {
      "cell_type": "markdown",
      "metadata": {
        "id": "iKS0HokQCATz"
      },
      "source": [
        ""
      ]
    },
    {
      "cell_type": "code",
      "metadata": {
        "id": "gvqK3NFPBEly"
      },
      "source": [
        ""
      ],
      "execution_count": null,
      "outputs": []
    },
    {
      "cell_type": "markdown",
      "metadata": {
        "id": "aEXxDUFeBHSt"
      },
      "source": [
        ""
      ]
    },
    {
      "cell_type": "markdown",
      "metadata": {
        "id": "tx_G-m3bBEaL"
      },
      "source": [
        ""
      ]
    },
    {
      "cell_type": "code",
      "metadata": {
        "colab": {
          "base_uri": "https://localhost:8080/"
        },
        "id": "Gbp4b8du-eIv",
        "outputId": "194ab60d-267b-427f-9045-60794da0b941"
      },
      "source": [
        "pd.cut(df['heights'], bins=10)"
      ],
      "execution_count": null,
      "outputs": [
        {
          "output_type": "execute_result",
          "data": {
            "text/plain": [
              "0     (179.6, 187.7]\n",
              "1     (147.2, 155.3]\n",
              "2     (171.5, 179.6]\n",
              "3     (171.5, 179.6]\n",
              "4     (179.6, 187.7]\n",
              "           ...      \n",
              "95    (163.4, 171.5]\n",
              "96    (155.3, 163.4]\n",
              "97    (163.4, 171.5]\n",
              "98    (155.3, 163.4]\n",
              "99    (163.4, 171.5]\n",
              "Name: heights, Length: 100, dtype: category\n",
              "Categories (10, interval[float64]): [(130.919, 139.1] < (139.1, 147.2] < (147.2, 155.3] <\n",
              "                                     (155.3, 163.4] ... (179.6, 187.7] < (187.7, 195.8] <\n",
              "                                     (195.8, 203.9] < (203.9, 212.0]]"
            ]
          },
          "metadata": {
            "tags": []
          },
          "execution_count": 121
        }
      ]
    },
    {
      "cell_type": "code",
      "metadata": {
        "colab": {
          "base_uri": "https://localhost:8080/"
        },
        "id": "KVgaP4O0_38c",
        "outputId": "73fab006-00b3-4a91-8151-690878982bc1"
      },
      "source": [
        "list(range(131,213,4))"
      ],
      "execution_count": null,
      "outputs": [
        {
          "output_type": "execute_result",
          "data": {
            "text/plain": [
              "[131,\n",
              " 135,\n",
              " 139,\n",
              " 143,\n",
              " 147,\n",
              " 151,\n",
              " 155,\n",
              " 159,\n",
              " 163,\n",
              " 167,\n",
              " 171,\n",
              " 175,\n",
              " 179,\n",
              " 183,\n",
              " 187,\n",
              " 191,\n",
              " 195,\n",
              " 199,\n",
              " 203,\n",
              " 207,\n",
              " 211]"
            ]
          },
          "metadata": {
            "tags": []
          },
          "execution_count": 114
        }
      ]
    },
    {
      "cell_type": "code",
      "metadata": {
        "colab": {
          "base_uri": "https://localhost:8080/"
        },
        "id": "P-ef8beS8KzI",
        "outputId": "26206219-8396-429c-d6ae-c68f720649b2"
      },
      "source": [
        "df.dtypes"
      ],
      "execution_count": null,
      "outputs": [
        {
          "output_type": "execute_result",
          "data": {
            "text/plain": [
              "First_name             object\n",
              "last_name              object\n",
              "heights                 int64\n",
              "weights                 int64\n",
              "gender                 object\n",
              "processed_heights    category\n",
              "processed_weights    category\n",
              "dtype: object"
            ]
          },
          "metadata": {
            "tags": []
          },
          "execution_count": 101
        }
      ]
    },
    {
      "cell_type": "markdown",
      "metadata": {
        "id": "iBer2I-FSJ3G"
      },
      "source": [
        "**Q2. Design the features**\n",
        "\n",
        "We will create now two feature classes Feature for the height values of the person data set. One Feature class contains the height for the Naive Bayes class \"male\" and one the heights for the class \"female\""
      ]
    },
    {
      "cell_type": "code",
      "metadata": {
        "id": "4WTj4rzaSVC_"
      },
      "source": [
        ""
      ],
      "execution_count": null,
      "outputs": []
    },
    {
      "cell_type": "markdown",
      "metadata": {
        "id": "ejwKmbqqSXoJ"
      },
      "source": [
        "**Q3. Plot  the distribution of Male vs Female**\n",
        "\n",
        "Based on what you observe and your dataset, which Naive Bayes model that you've learned today is the best for this problem?"
      ]
    },
    {
      "cell_type": "code",
      "metadata": {
        "id": "XwHRu9CkSbnH"
      },
      "source": [
        ""
      ],
      "execution_count": null,
      "outputs": []
    },
    {
      "cell_type": "markdown",
      "metadata": {
        "id": "PJeq7G_lSw8p"
      },
      "source": [
        "**Q4. Build your Naive Bayes classifier**\n",
        "- with and without parameter tunning"
      ]
    },
    {
      "cell_type": "code",
      "metadata": {
        "id": "mOkAtmchS04K"
      },
      "source": [
        ""
      ],
      "execution_count": null,
      "outputs": []
    },
    {
      "cell_type": "markdown",
      "metadata": {
        "id": "iYIOkBscwKlx"
      },
      "source": [
        "## Place your reflections here about what you've learned\n",
        "* When should I used Naive Bayes?\n",
        "* Why is Naive Bayes powerful for some problems?\n",
        "* Why is Naive Bayes known for resolving NLP problems?"
      ]
    },
    {
      "cell_type": "code",
      "metadata": {
        "id": "J2txhFq-wMn5"
      },
      "source": [
        ""
      ],
      "execution_count": null,
      "outputs": []
    }
  ]
}