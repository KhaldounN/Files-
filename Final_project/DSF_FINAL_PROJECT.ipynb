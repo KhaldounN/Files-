{
  "nbformat": 4,
  "nbformat_minor": 0,
  "metadata": {
    "colab": {
      "name": "DSF_FINAL_PROJECT.ipynb",
      "provenance": []
    },
    "kernelspec": {
      "name": "python3",
      "display_name": "Python 3"
    }
  },
  "cells": [
    {
      "cell_type": "markdown",
      "metadata": {
        "id": "tUNzu8pXC5jh"
      },
      "source": [
        "![BTS](https://github.com/vfp1/bts-dsf-2020/blob/main/Logo-BTS.jpg?raw=1)\n",
        "\n",
        "# FINAL PROJECT\n",
        "\n",
        "### Victor F. Pajuelo Madrigal <victor.pajuelo@bts.tech> - Data Science Foundations (2020-10-29)\n",
        "\n",
        "Open this notebook in Google Colaboratory: [![Open in Colab](https://colab.research.google.com/assets/colab-badge.svg)](https://colab.research.google.com/github/vfp1/bts-dsf-2020/blob/main/Final_project/DSF_FINAL_PROJECT.ipynb)"
      ]
    },
    {
      "cell_type": "markdown",
      "metadata": {
        "id": "vM0SM4jCS1bS"
      },
      "source": [
        "# Regarding the final project for the class\n",
        "\n",
        "The final project for the class will need to draw from everything you have covered in class, at least everything relevant for your final project. For that you will need to choose a topic. You will be using **the image and text** datasets that we have seen on our sessions. \n",
        "\n",
        "It doesn't need to be a super revolutionary idea, but at least have in mind the issue of reducing the time between information and action. And you will need to send it to me. \n",
        "\n",
        "The project will need to contain the following steps:\n",
        "\n",
        "1. Ingesting, exploring and cleaning data for your project\n",
        "2. Choosing/testing of algorithm approach\n",
        "3. Visualizing the results\n",
        "4. Packaging the project into a product\n",
        "\n",
        "You will be using code from class to support you on the second, third and forth parts of the project. \n",
        "\n",
        "I am not looking for excellence, and I do not mind that you copy/paste code, but always try to understand why. "
      ]
    },
    {
      "cell_type": "code",
      "metadata": {
        "id": "5qAFxroDTP4J",
        "colab": {
          "base_uri": "https://localhost:8080/"
        },
        "outputId": "8b910831-d981-4e19-e230-26bdfacdb25f"
      },
      "source": [
        "!python -m spacy download en_core_web_sm\n",
        "!python -m spacy download en_core_web_md\n"
      ],
      "execution_count": 76,
      "outputs": [
        {
          "output_type": "stream",
          "text": [
            "Requirement already satisfied: en_core_web_sm==2.2.5 from https://github.com/explosion/spacy-models/releases/download/en_core_web_sm-2.2.5/en_core_web_sm-2.2.5.tar.gz#egg=en_core_web_sm==2.2.5 in /usr/local/lib/python3.6/dist-packages (2.2.5)\n",
            "Requirement already satisfied: spacy>=2.2.2 in /usr/local/lib/python3.6/dist-packages (from en_core_web_sm==2.2.5) (2.2.4)\n",
            "Requirement already satisfied: requests<3.0.0,>=2.13.0 in /usr/local/lib/python3.6/dist-packages (from spacy>=2.2.2->en_core_web_sm==2.2.5) (2.23.0)\n",
            "Requirement already satisfied: blis<0.5.0,>=0.4.0 in /usr/local/lib/python3.6/dist-packages (from spacy>=2.2.2->en_core_web_sm==2.2.5) (0.4.1)\n",
            "Requirement already satisfied: murmurhash<1.1.0,>=0.28.0 in /usr/local/lib/python3.6/dist-packages (from spacy>=2.2.2->en_core_web_sm==2.2.5) (1.0.5)\n",
            "Requirement already satisfied: thinc==7.4.0 in /usr/local/lib/python3.6/dist-packages (from spacy>=2.2.2->en_core_web_sm==2.2.5) (7.4.0)\n",
            "Requirement already satisfied: plac<1.2.0,>=0.9.6 in /usr/local/lib/python3.6/dist-packages (from spacy>=2.2.2->en_core_web_sm==2.2.5) (1.1.3)\n",
            "Requirement already satisfied: wasabi<1.1.0,>=0.4.0 in /usr/local/lib/python3.6/dist-packages (from spacy>=2.2.2->en_core_web_sm==2.2.5) (0.8.0)\n",
            "Requirement already satisfied: catalogue<1.1.0,>=0.0.7 in /usr/local/lib/python3.6/dist-packages (from spacy>=2.2.2->en_core_web_sm==2.2.5) (1.0.0)\n",
            "Requirement already satisfied: tqdm<5.0.0,>=4.38.0 in /usr/local/lib/python3.6/dist-packages (from spacy>=2.2.2->en_core_web_sm==2.2.5) (4.41.1)\n",
            "Requirement already satisfied: cymem<2.1.0,>=2.0.2 in /usr/local/lib/python3.6/dist-packages (from spacy>=2.2.2->en_core_web_sm==2.2.5) (2.0.5)\n",
            "Requirement already satisfied: numpy>=1.15.0 in /usr/local/lib/python3.6/dist-packages (from spacy>=2.2.2->en_core_web_sm==2.2.5) (1.18.5)\n",
            "Requirement already satisfied: preshed<3.1.0,>=3.0.2 in /usr/local/lib/python3.6/dist-packages (from spacy>=2.2.2->en_core_web_sm==2.2.5) (3.0.5)\n",
            "Requirement already satisfied: srsly<1.1.0,>=1.0.2 in /usr/local/lib/python3.6/dist-packages (from spacy>=2.2.2->en_core_web_sm==2.2.5) (1.0.5)\n",
            "Requirement already satisfied: setuptools in /usr/local/lib/python3.6/dist-packages (from spacy>=2.2.2->en_core_web_sm==2.2.5) (50.3.2)\n",
            "Requirement already satisfied: urllib3!=1.25.0,!=1.25.1,<1.26,>=1.21.1 in /usr/local/lib/python3.6/dist-packages (from requests<3.0.0,>=2.13.0->spacy>=2.2.2->en_core_web_sm==2.2.5) (1.24.3)\n",
            "Requirement already satisfied: certifi>=2017.4.17 in /usr/local/lib/python3.6/dist-packages (from requests<3.0.0,>=2.13.0->spacy>=2.2.2->en_core_web_sm==2.2.5) (2020.12.5)\n",
            "Requirement already satisfied: idna<3,>=2.5 in /usr/local/lib/python3.6/dist-packages (from requests<3.0.0,>=2.13.0->spacy>=2.2.2->en_core_web_sm==2.2.5) (2.10)\n",
            "Requirement already satisfied: chardet<4,>=3.0.2 in /usr/local/lib/python3.6/dist-packages (from requests<3.0.0,>=2.13.0->spacy>=2.2.2->en_core_web_sm==2.2.5) (3.0.4)\n",
            "Requirement already satisfied: importlib-metadata>=0.20; python_version < \"3.8\" in /usr/local/lib/python3.6/dist-packages (from catalogue<1.1.0,>=0.0.7->spacy>=2.2.2->en_core_web_sm==2.2.5) (3.1.1)\n",
            "Requirement already satisfied: zipp>=0.5 in /usr/local/lib/python3.6/dist-packages (from importlib-metadata>=0.20; python_version < \"3.8\"->catalogue<1.1.0,>=0.0.7->spacy>=2.2.2->en_core_web_sm==2.2.5) (3.4.0)\n",
            "Traceback (most recent call last):\n",
            "  File \"/usr/lib/python3.6/subprocess.py\", line 289, in call\n",
            "    return p.wait(timeout=timeout)\n",
            "  File \"/usr/lib/python3.6/subprocess.py\", line 1477, in wait\n",
            "    (pid, sts) = self._try_wait(0)\n",
            "  File \"/usr/lib/python3.6/subprocess.py\", line 1424, in _try_wait\n",
            "    (pid, sts) = os.waitpid(self.pid, wait_flags)\n",
            "KeyboardInterrupt\n",
            "\n",
            "During handling of the above exception, another exception occurred:\n",
            "\n",
            "Traceback (most recent call last):\n",
            "  File \"/usr/lib/python3.6/runpy.py\", line 193, in _run_module_as_main\n",
            "    \"__main__\", mod_spec)\n",
            "  File \"/usr/lib/python3.6/runpy.py\", line 85, in _run_code\n",
            "    exec(code, run_globals)\n",
            "  File \"/usr/local/lib/python3.6/dist-packages/spacy/__main__.py\", line 33, in <module>\n",
            "    plac.call(commands[command], sys.argv[1:])\n",
            "  File \"/usr/local/lib/python3.6/dist-packages/plac_core.py\", line 367, in call\n",
            "    cmd, result = parser.consume(arglist)\n",
            "  File \"/usr/local/lib/python3.6/dist-packages/plac_core.py\", line 232, in consume\n",
            "    return cmd, self.func(*(args + varargs + extraopts), **kwargs)\n",
            "  File \"/usr/local/lib/python3.6/dist-packages/spacy/cli/download.py\", line 48, in download\n",
            "    dl = download_model(dl_tpl.format(m=model_name, v=version), pip_args)\n",
            "  File \"/usr/local/lib/python3.6/dist-packages/spacy/cli/download.py\", line 135, in download_model\n",
            "    return subprocess.call(cmd, env=os.environ.copy())\n",
            "  File \"/usr/lib/python3.6/subprocess.py\", line 292, in call\n",
            "    p.wait()\n",
            "  File \"/usr/lib/python3.6/subprocess.py\", line 1477, in wait\n",
            "    (pid, sts) = self._try_wait(0)\n",
            "  File \"/usr/lib/python3.6/subprocess.py\", line 1424, in _try_wait\n",
            "    (pid, sts) = os.waitpid(self.pid, wait_flags)\n",
            "KeyboardInterrupt\n",
            "Collecting en_core_web_md==2.2.5\n",
            "\u001b[?25l  Downloading https://github.com/explosion/spacy-models/releases/download/en_core_web_md-2.2.5/en_core_web_md-2.2.5.tar.gz (96.4MB)\n",
            "\u001b[K     |████████████████████████████████| 96.4MB 70.4MB/s \n",
            "\u001b[?25hRequirement already satisfied: spacy>=2.2.2 in /usr/local/lib/python3.6/dist-packages (from en_core_web_md==2.2.5) (2.2.4)\n",
            "Requirement already satisfied: setuptools in /usr/local/lib/python3.6/dist-packages (from spacy>=2.2.2->en_core_web_md==2.2.5) (50.3.2)\n",
            "Requirement already satisfied: catalogue<1.1.0,>=0.0.7 in /usr/local/lib/python3.6/dist-packages (from spacy>=2.2.2->en_core_web_md==2.2.5) (1.0.0)\n",
            "Requirement already satisfied: thinc==7.4.0 in /usr/local/lib/python3.6/dist-packages (from spacy>=2.2.2->en_core_web_md==2.2.5) (7.4.0)\n",
            "Requirement already satisfied: requests<3.0.0,>=2.13.0 in /usr/local/lib/python3.6/dist-packages (from spacy>=2.2.2->en_core_web_md==2.2.5) (2.23.0)\n",
            "Requirement already satisfied: plac<1.2.0,>=0.9.6 in /usr/local/lib/python3.6/dist-packages (from spacy>=2.2.2->en_core_web_md==2.2.5) (1.1.3)\n",
            "Requirement already satisfied: tqdm<5.0.0,>=4.38.0 in /usr/local/lib/python3.6/dist-packages (from spacy>=2.2.2->en_core_web_md==2.2.5) (4.41.1)\n",
            "Requirement already satisfied: blis<0.5.0,>=0.4.0 in /usr/local/lib/python3.6/dist-packages (from spacy>=2.2.2->en_core_web_md==2.2.5) (0.4.1)\n",
            "Requirement already satisfied: preshed<3.1.0,>=3.0.2 in /usr/local/lib/python3.6/dist-packages (from spacy>=2.2.2->en_core_web_md==2.2.5) (3.0.5)\n",
            "Requirement already satisfied: cymem<2.1.0,>=2.0.2 in /usr/local/lib/python3.6/dist-packages (from spacy>=2.2.2->en_core_web_md==2.2.5) (2.0.5)\n",
            "Requirement already satisfied: wasabi<1.1.0,>=0.4.0 in /usr/local/lib/python3.6/dist-packages (from spacy>=2.2.2->en_core_web_md==2.2.5) (0.8.0)\n",
            "Requirement already satisfied: numpy>=1.15.0 in /usr/local/lib/python3.6/dist-packages (from spacy>=2.2.2->en_core_web_md==2.2.5) (1.18.5)\n",
            "Requirement already satisfied: srsly<1.1.0,>=1.0.2 in /usr/local/lib/python3.6/dist-packages (from spacy>=2.2.2->en_core_web_md==2.2.5) (1.0.5)\n",
            "Requirement already satisfied: murmurhash<1.1.0,>=0.28.0 in /usr/local/lib/python3.6/dist-packages (from spacy>=2.2.2->en_core_web_md==2.2.5) (1.0.5)\n",
            "Requirement already satisfied: importlib-metadata>=0.20; python_version < \"3.8\" in /usr/local/lib/python3.6/dist-packages (from catalogue<1.1.0,>=0.0.7->spacy>=2.2.2->en_core_web_md==2.2.5) (3.1.1)\n",
            "Requirement already satisfied: urllib3!=1.25.0,!=1.25.1,<1.26,>=1.21.1 in /usr/local/lib/python3.6/dist-packages (from requests<3.0.0,>=2.13.0->spacy>=2.2.2->en_core_web_md==2.2.5) (1.24.3)\n",
            "Requirement already satisfied: certifi>=2017.4.17 in /usr/local/lib/python3.6/dist-packages (from requests<3.0.0,>=2.13.0->spacy>=2.2.2->en_core_web_md==2.2.5) (2020.12.5)\n",
            "Requirement already satisfied: chardet<4,>=3.0.2 in /usr/local/lib/python3.6/dist-packages (from requests<3.0.0,>=2.13.0->spacy>=2.2.2->en_core_web_md==2.2.5) (3.0.4)\n",
            "Requirement already satisfied: idna<3,>=2.5 in /usr/local/lib/python3.6/dist-packages (from requests<3.0.0,>=2.13.0->spacy>=2.2.2->en_core_web_md==2.2.5) (2.10)\n",
            "Requirement already satisfied: zipp>=0.5 in /usr/local/lib/python3.6/dist-packages (from importlib-metadata>=0.20; python_version < \"3.8\"->catalogue<1.1.0,>=0.0.7->spacy>=2.2.2->en_core_web_md==2.2.5) (3.4.0)\n",
            "Building wheels for collected packages: en-core-web-md\n",
            "\n"
          ],
          "name": "stdout"
        }
      ]
    },
    {
      "cell_type": "code",
      "metadata": {
        "colab": {
          "base_uri": "https://localhost:8080/"
        },
        "id": "NjzSvv6X1gqJ",
        "outputId": "f3452f1e-beb1-4532-f0c3-21f79aa5cb75"
      },
      "source": [
        "!pip3 install flair"
      ],
      "execution_count": null,
      "outputs": [
        {
          "output_type": "stream",
          "text": [
            "Collecting flair\n",
            "\u001b[?25l  Downloading https://files.pythonhosted.org/packages/68/a0/a1b41fa2fcb23ff71ba9148af75211dcccc35b256dea821b36e1ee871848/flair-0.7-py3-none-any.whl (448kB)\n",
            "\r\u001b[K     |▊                               | 10kB 16.3MB/s eta 0:00:01\r\u001b[K     |█▌                              | 20kB 21.2MB/s eta 0:00:01\r\u001b[K     |██▏                             | 30kB 16.2MB/s eta 0:00:01\r\u001b[K     |███                             | 40kB 10.5MB/s eta 0:00:01\r\u001b[K     |███▋                            | 51kB 8.0MB/s eta 0:00:01\r\u001b[K     |████▍                           | 61kB 7.3MB/s eta 0:00:01\r\u001b[K     |█████▏                          | 71kB 7.7MB/s eta 0:00:01\r\u001b[K     |█████▉                          | 81kB 8.6MB/s eta 0:00:01\r\u001b[K     |██████▋                         | 92kB 8.6MB/s eta 0:00:01\r\u001b[K     |███████▎                        | 102kB 8.4MB/s eta 0:00:01\r\u001b[K     |████████                        | 112kB 8.4MB/s eta 0:00:01\r\u001b[K     |████████▊                       | 122kB 8.4MB/s eta 0:00:01\r\u001b[K     |█████████▌                      | 133kB 8.4MB/s eta 0:00:01\r\u001b[K     |██████████▎                     | 143kB 8.4MB/s eta 0:00:01\r\u001b[K     |███████████                     | 153kB 8.4MB/s eta 0:00:01\r\u001b[K     |███████████▊                    | 163kB 8.4MB/s eta 0:00:01\r\u001b[K     |████████████▍                   | 174kB 8.4MB/s eta 0:00:01\r\u001b[K     |█████████████▏                  | 184kB 8.4MB/s eta 0:00:01\r\u001b[K     |█████████████▉                  | 194kB 8.4MB/s eta 0:00:01\r\u001b[K     |██████████████▋                 | 204kB 8.4MB/s eta 0:00:01\r\u001b[K     |███████████████▍                | 215kB 8.4MB/s eta 0:00:01\r\u001b[K     |████████████████                | 225kB 8.4MB/s eta 0:00:01\r\u001b[K     |████████████████▉               | 235kB 8.4MB/s eta 0:00:01\r\u001b[K     |█████████████████▌              | 245kB 8.4MB/s eta 0:00:01\r\u001b[K     |██████████████████▎             | 256kB 8.4MB/s eta 0:00:01\r\u001b[K     |███████████████████             | 266kB 8.4MB/s eta 0:00:01\r\u001b[K     |███████████████████▊            | 276kB 8.4MB/s eta 0:00:01\r\u001b[K     |████████████████████▌           | 286kB 8.4MB/s eta 0:00:01\r\u001b[K     |█████████████████████▏          | 296kB 8.4MB/s eta 0:00:01\r\u001b[K     |██████████████████████          | 307kB 8.4MB/s eta 0:00:01\r\u001b[K     |██████████████████████▋         | 317kB 8.4MB/s eta 0:00:01\r\u001b[K     |███████████████████████▍        | 327kB 8.4MB/s eta 0:00:01\r\u001b[K     |████████████████████████▏       | 337kB 8.4MB/s eta 0:00:01\r\u001b[K     |████████████████████████▉       | 348kB 8.4MB/s eta 0:00:01\r\u001b[K     |█████████████████████████▋      | 358kB 8.4MB/s eta 0:00:01\r\u001b[K     |██████████████████████████▎     | 368kB 8.4MB/s eta 0:00:01\r\u001b[K     |███████████████████████████     | 378kB 8.4MB/s eta 0:00:01\r\u001b[K     |███████████████████████████▊    | 389kB 8.4MB/s eta 0:00:01\r\u001b[K     |████████████████████████████▌   | 399kB 8.4MB/s eta 0:00:01\r\u001b[K     |█████████████████████████████▎  | 409kB 8.4MB/s eta 0:00:01\r\u001b[K     |██████████████████████████████  | 419kB 8.4MB/s eta 0:00:01\r\u001b[K     |██████████████████████████████▊ | 430kB 8.4MB/s eta 0:00:01\r\u001b[K     |███████████████████████████████▍| 440kB 8.4MB/s eta 0:00:01\r\u001b[K     |████████████████████████████████| 450kB 8.4MB/s \n",
            "\u001b[?25hRequirement already satisfied: torch>=1.1.0 in /usr/local/lib/python3.6/dist-packages (from flair) (1.7.0+cu101)\n",
            "Requirement already satisfied: python-dateutil>=2.6.1 in /usr/local/lib/python3.6/dist-packages (from flair) (2.8.1)\n",
            "Collecting mpld3==0.3\n",
            "\u001b[?25l  Downloading https://files.pythonhosted.org/packages/91/95/a52d3a83d0a29ba0d6898f6727e9858fe7a43f6c2ce81a5fe7e05f0f4912/mpld3-0.3.tar.gz (788kB)\n",
            "\u001b[K     |████████████████████████████████| 798kB 14.7MB/s \n",
            "\u001b[?25hCollecting langdetect\n",
            "\u001b[?25l  Downloading https://files.pythonhosted.org/packages/56/a3/8407c1e62d5980188b4acc45ef3d94b933d14a2ebc9ef3505f22cf772570/langdetect-1.0.8.tar.gz (981kB)\n",
            "\u001b[K     |████████████████████████████████| 983kB 24.3MB/s \n",
            "\u001b[?25hRequirement already satisfied: tabulate in /usr/local/lib/python3.6/dist-packages (from flair) (0.8.7)\n",
            "Requirement already satisfied: regex in /usr/local/lib/python3.6/dist-packages (from flair) (2019.12.20)\n",
            "Collecting transformers<=3.5.1,>=3.5.0\n",
            "\u001b[?25l  Downloading https://files.pythonhosted.org/packages/3a/83/e74092e7f24a08d751aa59b37a9fc572b2e4af3918cb66f7766c3affb1b4/transformers-3.5.1-py3-none-any.whl (1.3MB)\n",
            "\u001b[K     |████████████████████████████████| 1.3MB 29.4MB/s \n",
            "\u001b[?25hRequirement already satisfied: hyperopt>=0.1.1 in /usr/local/lib/python3.6/dist-packages (from flair) (0.1.2)\n",
            "Collecting sentencepiece<=0.1.91\n",
            "\u001b[?25l  Downloading https://files.pythonhosted.org/packages/d4/a4/d0a884c4300004a78cca907a6ff9a5e9fe4f090f5d95ab341c53d28cbc58/sentencepiece-0.1.91-cp36-cp36m-manylinux1_x86_64.whl (1.1MB)\n",
            "\u001b[K     |████████████████████████████████| 1.1MB 34.1MB/s \n",
            "\u001b[?25hRequirement already satisfied: matplotlib>=2.2.3 in /usr/local/lib/python3.6/dist-packages (from flair) (3.2.2)\n",
            "Collecting bpemb>=0.3.2\n",
            "  Downloading https://files.pythonhosted.org/packages/91/77/3f0f53856e86af32b1d3c86652815277f7b5f880002584eb30db115b6df5/bpemb-0.3.2-py3-none-any.whl\n",
            "Requirement already satisfied: gensim<=3.8.3,>=3.4.0 in /usr/local/lib/python3.6/dist-packages (from flair) (3.6.0)\n",
            "Requirement already satisfied: lxml in /usr/local/lib/python3.6/dist-packages (from flair) (4.2.6)\n",
            "Requirement already satisfied: gdown in /usr/local/lib/python3.6/dist-packages (from flair) (3.6.4)\n",
            "Collecting konoha<5.0.0,>=4.0.0\n",
            "  Downloading https://files.pythonhosted.org/packages/ea/01/47358efec5396fc80f98273c42cbdfe7aab056252b07884ffcc0f118978f/konoha-4.6.2-py3-none-any.whl\n",
            "Collecting deprecated>=1.2.4\n",
            "  Downloading https://files.pythonhosted.org/packages/76/a1/05d7f62f956d77b23a640efc650f80ce24483aa2f85a09c03fb64f49e879/Deprecated-1.2.10-py2.py3-none-any.whl\n",
            "Collecting sqlitedict>=1.6.0\n",
            "  Downloading https://files.pythonhosted.org/packages/5c/2d/b1d99e9ad157dd7de9cd0d36a8a5876b13b55e4b75f7498bc96035fb4e96/sqlitedict-1.7.0.tar.gz\n",
            "Collecting ftfy\n",
            "\u001b[?25l  Downloading https://files.pythonhosted.org/packages/ff/e2/3b51c53dffb1e52d9210ebc01f1fb9f2f6eba9b3201fa971fd3946643c71/ftfy-5.8.tar.gz (64kB)\n",
            "\u001b[K     |████████████████████████████████| 71kB 7.6MB/s \n",
            "\u001b[?25hCollecting janome\n",
            "\u001b[?25l  Downloading https://files.pythonhosted.org/packages/a8/63/98858cbead27df7536c7e300c169da0999e9704d02220dc6700b804eeff0/Janome-0.4.1-py2.py3-none-any.whl (19.7MB)\n",
            "\u001b[K     |████████████████████████████████| 19.7MB 259kB/s \n",
            "\u001b[?25hRequirement already satisfied: scikit-learn>=0.21.3 in /usr/local/lib/python3.6/dist-packages (from flair) (0.22.2.post1)\n",
            "Collecting segtok>=1.5.7\n",
            "  Downloading https://files.pythonhosted.org/packages/41/08/582dab5f4b1d5ca23bc6927b4bb977c8ff7f3a87a3b98844ef833e2f5623/segtok-1.5.10.tar.gz\n",
            "Requirement already satisfied: tqdm>=4.26.0 in /usr/local/lib/python3.6/dist-packages (from flair) (4.41.1)\n",
            "Requirement already satisfied: numpy in /usr/local/lib/python3.6/dist-packages (from torch>=1.1.0->flair) (1.18.5)\n",
            "Requirement already satisfied: dataclasses in /usr/local/lib/python3.6/dist-packages (from torch>=1.1.0->flair) (0.8)\n",
            "Requirement already satisfied: future in /usr/local/lib/python3.6/dist-packages (from torch>=1.1.0->flair) (0.16.0)\n",
            "Requirement already satisfied: typing-extensions in /usr/local/lib/python3.6/dist-packages (from torch>=1.1.0->flair) (3.7.4.3)\n",
            "Requirement already satisfied: six>=1.5 in /usr/local/lib/python3.6/dist-packages (from python-dateutil>=2.6.1->flair) (1.15.0)\n",
            "Collecting tokenizers==0.9.3\n",
            "\u001b[?25l  Downloading https://files.pythonhosted.org/packages/4c/34/b39eb9994bc3c999270b69c9eea40ecc6f0e97991dba28282b9fd32d44ee/tokenizers-0.9.3-cp36-cp36m-manylinux1_x86_64.whl (2.9MB)\n",
            "\u001b[K     |████████████████████████████████| 2.9MB 31.6MB/s \n",
            "\u001b[?25hRequirement already satisfied: packaging in /usr/local/lib/python3.6/dist-packages (from transformers<=3.5.1,>=3.5.0->flair) (20.7)\n",
            "Requirement already satisfied: requests in /usr/local/lib/python3.6/dist-packages (from transformers<=3.5.1,>=3.5.0->flair) (2.23.0)\n",
            "Requirement already satisfied: protobuf in /usr/local/lib/python3.6/dist-packages (from transformers<=3.5.1,>=3.5.0->flair) (3.12.4)\n",
            "Collecting sacremoses\n",
            "\u001b[?25l  Downloading https://files.pythonhosted.org/packages/7d/34/09d19aff26edcc8eb2a01bed8e98f13a1537005d31e95233fd48216eed10/sacremoses-0.0.43.tar.gz (883kB)\n",
            "\u001b[K     |████████████████████████████████| 890kB 43.9MB/s \n",
            "\u001b[?25hRequirement already satisfied: filelock in /usr/local/lib/python3.6/dist-packages (from transformers<=3.5.1,>=3.5.0->flair) (3.0.12)\n",
            "Requirement already satisfied: scipy in /usr/local/lib/python3.6/dist-packages (from hyperopt>=0.1.1->flair) (1.4.1)\n",
            "Requirement already satisfied: pymongo in /usr/local/lib/python3.6/dist-packages (from hyperopt>=0.1.1->flair) (3.11.2)\n",
            "Requirement already satisfied: networkx in /usr/local/lib/python3.6/dist-packages (from hyperopt>=0.1.1->flair) (2.5)\n",
            "Requirement already satisfied: pyparsing!=2.0.4,!=2.1.2,!=2.1.6,>=2.0.1 in /usr/local/lib/python3.6/dist-packages (from matplotlib>=2.2.3->flair) (2.4.7)\n",
            "Requirement already satisfied: kiwisolver>=1.0.1 in /usr/local/lib/python3.6/dist-packages (from matplotlib>=2.2.3->flair) (1.3.1)\n",
            "Requirement already satisfied: cycler>=0.10 in /usr/local/lib/python3.6/dist-packages (from matplotlib>=2.2.3->flair) (0.10.0)\n",
            "Requirement already satisfied: smart-open>=1.2.1 in /usr/local/lib/python3.6/dist-packages (from gensim<=3.8.3,>=3.4.0->flair) (4.0.1)\n",
            "Collecting overrides==3.0.0\n",
            "  Downloading https://files.pythonhosted.org/packages/42/8d/caa729f809ecdf8e76fac3c1ff7d3f0b72c398c9dd8a6919927a30a873b3/overrides-3.0.0.tar.gz\n",
            "Requirement already satisfied: wrapt<2,>=1.10 in /usr/local/lib/python3.6/dist-packages (from deprecated>=1.2.4->flair) (1.12.1)\n",
            "Requirement already satisfied: wcwidth in /usr/local/lib/python3.6/dist-packages (from ftfy->flair) (0.2.5)\n",
            "Requirement already satisfied: joblib>=0.11 in /usr/local/lib/python3.6/dist-packages (from scikit-learn>=0.21.3->flair) (0.17.0)\n",
            "Requirement already satisfied: idna<3,>=2.5 in /usr/local/lib/python3.6/dist-packages (from requests->transformers<=3.5.1,>=3.5.0->flair) (2.10)\n",
            "Requirement already satisfied: urllib3!=1.25.0,!=1.25.1,<1.26,>=1.21.1 in /usr/local/lib/python3.6/dist-packages (from requests->transformers<=3.5.1,>=3.5.0->flair) (1.24.3)\n",
            "Requirement already satisfied: chardet<4,>=3.0.2 in /usr/local/lib/python3.6/dist-packages (from requests->transformers<=3.5.1,>=3.5.0->flair) (3.0.4)\n",
            "Requirement already satisfied: certifi>=2017.4.17 in /usr/local/lib/python3.6/dist-packages (from requests->transformers<=3.5.1,>=3.5.0->flair) (2020.12.5)\n",
            "Requirement already satisfied: setuptools in /usr/local/lib/python3.6/dist-packages (from protobuf->transformers<=3.5.1,>=3.5.0->flair) (50.3.2)\n",
            "Requirement already satisfied: click in /usr/local/lib/python3.6/dist-packages (from sacremoses->transformers<=3.5.1,>=3.5.0->flair) (7.1.2)\n",
            "Requirement already satisfied: decorator>=4.3.0 in /usr/local/lib/python3.6/dist-packages (from networkx->hyperopt>=0.1.1->flair) (4.4.2)\n",
            "Building wheels for collected packages: mpld3, langdetect, sqlitedict, ftfy, segtok, sacremoses, overrides\n",
            "  Building wheel for mpld3 (setup.py) ... \u001b[?25l\u001b[?25hdone\n",
            "  Created wheel for mpld3: filename=mpld3-0.3-cp36-none-any.whl size=116679 sha256=27b0db3655ef0e168f39c8a4a2b2c4f82400dafda03165e416198aa5768a6d1b\n",
            "  Stored in directory: /root/.cache/pip/wheels/c0/47/fb/8a64f89aecfe0059830479308ad42d62e898a3e3cefdf6ba28\n",
            "  Building wheel for langdetect (setup.py) ... \u001b[?25l\u001b[?25hdone\n",
            "  Created wheel for langdetect: filename=langdetect-1.0.8-cp36-none-any.whl size=993193 sha256=a1064f315c9c5f7426809185ef0d4d17b6d316cad9f98585b395090f0d323903\n",
            "  Stored in directory: /root/.cache/pip/wheels/8d/b3/aa/6d99de9f3841d7d3d40a60ea06e6d669e8e5012e6c8b947a57\n",
            "  Building wheel for sqlitedict (setup.py) ... \u001b[?25l\u001b[?25hdone\n",
            "  Created wheel for sqlitedict: filename=sqlitedict-1.7.0-cp36-none-any.whl size=14377 sha256=8dac59288d42d00121312a6e3f09a820a095458f8599ba688a71ebbe812cdfee\n",
            "  Stored in directory: /root/.cache/pip/wheels/cf/c6/4f/2c64a43f041415eb8b8740bd80e15e92f0d46c5e464d8e4b9b\n",
            "  Building wheel for ftfy (setup.py) ... \u001b[?25l\u001b[?25hdone\n",
            "  Created wheel for ftfy: filename=ftfy-5.8-cp36-none-any.whl size=45613 sha256=8635e47561c630430bfed728a300222daf850e85f81b9435df10df26f6f470b1\n",
            "  Stored in directory: /root/.cache/pip/wheels/ba/c0/ef/f28c4da5ac84a4e06ac256ca9182fc34fa57fefffdbc68425b\n",
            "  Building wheel for segtok (setup.py) ... \u001b[?25l\u001b[?25hdone\n",
            "  Created wheel for segtok: filename=segtok-1.5.10-cp36-none-any.whl size=25020 sha256=c9aefa22f7a1175a57dc9c9af604c6f765cf892f1c233dba9bc49e537f2146af\n",
            "  Stored in directory: /root/.cache/pip/wheels/b4/39/f6/9ca1c5cabde964d728023b5751c3a206a5c8cc40252321fb6b\n",
            "  Building wheel for sacremoses (setup.py) ... \u001b[?25l\u001b[?25hdone\n",
            "  Created wheel for sacremoses: filename=sacremoses-0.0.43-cp36-none-any.whl size=893261 sha256=f7f86987d9cf8d0eb961280ce2c7e573713e70003f65fa007b1a6399a689a6c6\n",
            "  Stored in directory: /root/.cache/pip/wheels/29/3c/fd/7ce5c3f0666dab31a50123635e6fb5e19ceb42ce38d4e58f45\n",
            "  Building wheel for overrides (setup.py) ... \u001b[?25l\u001b[?25hdone\n",
            "  Created wheel for overrides: filename=overrides-3.0.0-cp36-none-any.whl size=5669 sha256=22b114accd65c5852d6c91a0005871068b7738d525d1e55d81f416925b85e629\n",
            "  Stored in directory: /root/.cache/pip/wheels/6f/1b/ec/6c71a1eb823df7f850d956b2d8c50a6d49c191e1063d73b9be\n",
            "Successfully built mpld3 langdetect sqlitedict ftfy segtok sacremoses overrides\n",
            "Installing collected packages: mpld3, langdetect, tokenizers, sentencepiece, sacremoses, transformers, bpemb, overrides, konoha, deprecated, sqlitedict, ftfy, janome, segtok, flair\n"
          ],
          "name": "stdout"
        }
      ]
    },
    {
      "cell_type": "code",
      "metadata": {
        "id": "RJIXSyfLjret"
      },
      "source": [
        "!python -m spacy download en_core_web_lg"
      ],
      "execution_count": null,
      "outputs": []
    },
    {
      "cell_type": "code",
      "metadata": {
        "id": "X_c6oLD7fR4l"
      },
      "source": [
        "import spacy\n",
        "import nltk\n",
        "from spacy.pipeline import SentenceSegmenter\n",
        "import pandas as pd \n",
        "import numpy as np\n",
        "\n",
        "\n",
        "nlp_md = spacy.load('en_core_web_lg')"
      ],
      "execution_count": null,
      "outputs": []
    },
    {
      "cell_type": "code",
      "metadata": {
        "id": "NPmCF-aXnK1D"
      },
      "source": [
        "book1 = open('/content/New Text Document.txt', 'r').read()"
      ],
      "execution_count": null,
      "outputs": []
    },
    {
      "cell_type": "code",
      "metadata": {
        "id": "4oWrQdY4nsWM"
      },
      "source": [
        "book1"
      ],
      "execution_count": null,
      "outputs": []
    },
    {
      "cell_type": "code",
      "metadata": {
        "id": "lIoFDxdTnN16"
      },
      "source": [
        "book1 = book1.replace(\"\\n\",'')\n"
      ],
      "execution_count": null,
      "outputs": []
    },
    {
      "cell_type": "code",
      "metadata": {
        "id": "dkWMwJUhf17k"
      },
      "source": [
        "book1 = book.replace(\"\\n\",'')\n",
        "sentences  = book1.split('.')\n",
        "\n",
        "df_tokens = pd.DataFrame((np.zeros((100,1550))))\n",
        "for i , t in enumerate(sentences):\n",
        "   doc = nlp_md(t)\n",
        "   df_tokens[i].update(doc)\n"
      ],
      "execution_count": null,
      "outputs": []
    },
    {
      "cell_type": "code",
      "metadata": {
        "id": "zI3PnTiqr2EN"
      },
      "source": [
        ""
      ],
      "execution_count": null,
      "outputs": []
    },
    {
      "cell_type": "code",
      "metadata": {
        "id": "LLBUqq1ntz91"
      },
      "source": [
        "from flair.models import TextClassifier\n",
        "from flair.data import Sentence\n",
        "tagger = TextClassifier.load('sentiment')\n"
      ],
      "execution_count": null,
      "outputs": []
    },
    {
      "cell_type": "code",
      "metadata": {
        "id": "yr618vBn1B1y"
      },
      "source": [
        "df_sentement = pd.DataFrame((np.zeros((100,20000))))\n",
        "for i , t in enumerate(sentences):\n",
        "  s = Sentence(t)\n",
        "  tagger.predict(s)\n",
        "  df_sentement[i].update(s.labels)\n",
        "df_sentement"
      ],
      "execution_count": null,
      "outputs": []
    },
    {
      "cell_type": "code",
      "metadata": {
        "id": "PYvleY0DEmLJ"
      },
      "source": [
        "df_ent = pd.DataFrame((np.zeros((100,20000))))\n",
        "for i , t in enumerate(sentences):\n",
        "  doc = nlp_md(t)\n",
        "  df_ent[i].update(doc.ents)\n",
        "df_ent"
      ],
      "execution_count": null,
      "outputs": []
    },
    {
      "cell_type": "code",
      "metadata": {
        "id": "ykYb4pSeuBtM"
      },
      "source": [
        ""
      ],
      "execution_count": null,
      "outputs": []
    },
    {
      "cell_type": "code",
      "metadata": {
        "id": "lDVnVk29LEYq"
      },
      "source": [
        ""
      ],
      "execution_count": null,
      "outputs": []
    },
    {
      "cell_type": "code",
      "metadata": {
        "id": "a0t-7doILVrh"
      },
      "source": [
        "l = []\n",
        "for i , x in enumerate(df_sentement.iloc[0,:]):\n",
        "  try:\n",
        "    if str(x.value) == 'NEGATIVE':\n",
        "      p = x.score * (-1)\n",
        "    else:\n",
        "      p = x.score\n",
        "    l.append(p)\n",
        "  except:\n",
        "    pass\n",
        "l = pd.DataFrame(l)\n",
        "l['Moving'] = l[0].rolling(20).mean()"
      ],
      "execution_count": null,
      "outputs": []
    },
    {
      "cell_type": "code",
      "metadata": {
        "id": "tqMuuu__VVo9"
      },
      "source": [
        "l"
      ],
      "execution_count": null,
      "outputs": []
    },
    {
      "cell_type": "markdown",
      "metadata": {
        "id": "oN-X3DqgurBS"
      },
      "source": [
        ""
      ]
    },
    {
      "cell_type": "markdown",
      "metadata": {
        "id": "DlW6u-JmjgNk"
      },
      "source": [
        ""
      ]
    },
    {
      "cell_type": "code",
      "metadata": {
        "id": "0wxV454gh7-g"
      },
      "source": [
        "import matplotlib.pyplot as plt\n",
        "\n",
        "\n",
        "plt.figure(figsize = (30,10))\n",
        "plt.style.use(\"seaborn\")\n",
        "plt.plot(l['Moving'])"
      ],
      "execution_count": null,
      "outputs": []
    },
    {
      "cell_type": "code",
      "metadata": {
        "id": "9qYDNUmHr02k"
      },
      "source": [
        "d_ents = df_ent.values.flatten()\n",
        "df_ents = pd.DataFrame(d_ents)\n",
        "\n",
        "df_ents['index'] = (df_ents.index / 100)\n",
        "df_ents['index'] = df_ents['index'].apply(np.floor)\n",
        "indexNames = df_ents[~(df_ents[0] != 0)].index \n",
        "df_ents.drop(indexNames , inplace=True)\n",
        "\n",
        "df_ents['name'] = 0\n",
        "df_ents['type'] = 0"
      ],
      "execution_count": null,
      "outputs": []
    },
    {
      "cell_type": "code",
      "metadata": {
        "id": "eyY4hTPDb9SS"
      },
      "source": [
        "for i , item in enumerate(df_ents.iloc[:,0]):\n",
        "  df_ents['name'].iloc[i] = item.text\n",
        "  df_ents['type'].iloc[i]  = item.label_"
      ],
      "execution_count": null,
      "outputs": []
    },
    {
      "cell_type": "code",
      "metadata": {
        "id": "RjPX6PBAh8vH"
      },
      "source": [
        "indexNames = df_ents[~(df_ents['type'] != 'CARDINAL')].index \n",
        "df_ents.drop(indexNames , inplace=True)"
      ],
      "execution_count": null,
      "outputs": []
    },
    {
      "cell_type": "code",
      "metadata": {
        "id": "dAsDz7zUjTsx"
      },
      "source": [
        "bar = df_ents['type'].value_counts().head(10)\n",
        "plt.figure(figsize= (30,10))\n",
        "plt.bar(bar.index , bar)"
      ],
      "execution_count": null,
      "outputs": []
    },
    {
      "cell_type": "code",
      "metadata": {
        "id": "awvEMKIokoOF"
      },
      "source": [
        "bar = df_ents['name'].value_counts().head(10)\n",
        "plt.figure(figsize= (30,10))\n",
        "plt.bar(bar.index , bar)"
      ],
      "execution_count": null,
      "outputs": []
    },
    {
      "cell_type": "code",
      "metadata": {
        "id": "s8NOdfUwjnEM"
      },
      "source": [
        "v = df_ents['name'].value_counts().head(10).index"
      ],
      "execution_count": null,
      "outputs": []
    },
    {
      "cell_type": "code",
      "metadata": {
        "id": "BZ-m5AX6nM0f"
      },
      "source": [
        "from collections import defaultdict\n",
        "indexes = defaultdict(list)\n",
        "for i , ent in enumerate(df_ents.iloc[:,0]):\n",
        "        indexes[ent.text].append(df_ents['index'].iloc[i])\n",
        "  "
      ],
      "execution_count": null,
      "outputs": []
    },
    {
      "cell_type": "code",
      "metadata": {
        "id": "3-gKzLJUw4CP"
      },
      "source": [
        "  fig, axes = plt.subplots(len(v), sharex=True)\n",
        "for index, name in enumerate(v):\n",
        "    axes[index].eventplot(indexes[name], label=name, color=\"C{}\".format(index))\n",
        "    axes[index].get_yaxis().set_visible(False)\n",
        "fig.legend()\n",
        "plt.plot(l['Moving'])"
      ],
      "execution_count": null,
      "outputs": []
    },
    {
      "cell_type": "code",
      "metadata": {
        "id": "OmzQqc_MxM0r"
      },
      "source": [
        "plt.plot(l['Moving'])"
      ],
      "execution_count": null,
      "outputs": []
    },
    {
      "cell_type": "code",
      "metadata": {
        "id": "KtTgn1c1zHCI"
      },
      "source": [
        "pd.Series(sentences)"
      ],
      "execution_count": null,
      "outputs": []
    },
    {
      "cell_type": "code",
      "metadata": {
        "id": "TL3P3-7swb8g"
      },
      "source": [
        "\n",
        "  \n",
        "\n",
        "\n"
      ],
      "execution_count": null,
      "outputs": []
    },
    {
      "cell_type": "code",
      "metadata": {
        "id": "0MT-ZofG_2DO"
      },
      "source": [
        ""
      ],
      "execution_count": null,
      "outputs": []
    },
    {
      "cell_type": "markdown",
      "metadata": {
        "id": "LTJeKpCS_3Pc"
      },
      "source": [
        "Load Books"
      ]
    },
    {
      "cell_type": "code",
      "metadata": {
        "id": "n30eToEsyTg0"
      },
      "source": [
        "book = open('/content/Beyond good and Evil.txt', 'r').read()"
      ],
      "execution_count": null,
      "outputs": []
    },
    {
      "cell_type": "markdown",
      "metadata": {
        "id": "LobaLCddAHlr"
      },
      "source": [
        "Run Sentimental Analysis "
      ]
    },
    {
      "cell_type": "code",
      "metadata": {
        "id": "apSY8R7cy-Xy"
      },
      "source": [
        "#split book into sentences \n",
        "book = book.replace(\"\\n\",'')\n",
        "sentences  = book.split('.')\n",
        "\n",
        "\n",
        "# Run Sentiment analysis on all sentences\n",
        "from flair.models import TextClassifier\n",
        "from flair.data import Sentence\n",
        "tagger = TextClassifier.load('sentiment')\n",
        "df_sentement = pd.DataFrame((np.zeros((10,1550))))\n",
        "for i , t in enumerate(sentences):\n",
        "  s = Sentence(t)\n",
        "  tagger.predict(s)\n",
        "  df_sentement[i].update(s.labels)\n"
      ],
      "execution_count": null,
      "outputs": []
    },
    {
      "cell_type": "markdown",
      "metadata": {
        "id": "nXO_aolcA3eh"
      },
      "source": [
        "Draw \n"
      ]
    },
    {
      "cell_type": "code",
      "metadata": {
        "id": "DXG-UAK05KwG"
      },
      "source": [
        "\n",
        "\n",
        "\n",
        "l = []\n",
        "for i , x in enumerate(df_sentement.iloc[0,:]):\n",
        "  try:\n",
        "    if str(x.value) == 'NEGATIVE':\n",
        "      p = x.score * (-1)\n",
        "    else:\n",
        "      p = x.score\n",
        "    l.append(p)\n",
        "  except:\n",
        "    pass\n",
        "l = pd.DataFrame(l)\n",
        "l['Major'] = l[0].rolling(40).mean()\n",
        "l['Minor'] = l[0].rolling(10).mean()\n",
        "\n",
        "import matplotlib.pyplot as plt\n",
        "plt.style.use(\"seaborn\")\n",
        "fig, axes = plt.subplots(nrows=2, ncols=1, figsize=(20, 10))\n",
        "axes[0].plot(l['Major'])\n",
        "axes[1].plot(l['Minor'])"
      ],
      "execution_count": null,
      "outputs": []
    },
    {
      "cell_type": "code",
      "metadata": {
        "id": "icFxioqN5MBC"
      },
      "source": [
        "docs = [nlp_md(text) for text in (sentences[:20])]"
      ],
      "execution_count": null,
      "outputs": []
    },
    {
      "cell_type": "code",
      "metadata": {
        "id": "99IUReiD7bYv"
      },
      "source": [
        "from collections import Counter\n",
        "from spacy.lang.en.stop_words import STOP_WORDS\n",
        "def tf(word, doc):\n",
        "    counts = Counter(lemmatize(doc))\n",
        "    return counts[word]\n",
        "\n",
        "\n",
        "def idf(word, docs):\n",
        "    count = 0\n",
        "    for doc in docs:\n",
        "        if word in lemmatize(doc):\n",
        "            count += 1\n",
        "    return count / len(docs)\n",
        "def lemmatize(doc):\n",
        "  return [token.lemma_ for token in doc if not\n",
        "          (token.is_punct or token.is_space or token.lower_ in STOP_WORDS)]\n",
        "\n",
        "\n",
        "\n",
        "def tf_idf(word, doc, docs):\n",
        "    return tf(word, doc) * idf(word, docs)\n",
        "def all_lemmas(docs):\n",
        "    lemmas = set()\n",
        "    for doc in docs:\n",
        "      lemmas.update(lemmatize(doc))\n",
        "    return lemmas\n",
        "def tf_idf_doc(doc, docs):\n",
        "    lemmas = all_lemmas(docs)\n",
        "    res = {}\n",
        "    for lemma in lemmas:\n",
        "        res[lemma] = tf_idf(lemma, doc, docs)\n",
        "    return res\n",
        "\n",
        "    import pandas as pd\n",
        "\n",
        "def tf_idf_scores(docs):\n",
        "    lemmas = all_lemmas(docs)\n",
        "    rows = []\n",
        "    for doc in docs:\n",
        "        rows.append(tf_idf_doc(doc, docs))\n",
        "\n",
        "    return pd.DataFrame(rows)\n",
        "\n",
        "tb = tf_idf_scores(docs)\n",
        "tb / tb.max().max()\n"
      ],
      "execution_count": null,
      "outputs": []
    },
    {
      "cell_type": "code",
      "metadata": {
        "id": "03tG98gnb1xi"
      },
      "source": [
        "book = book.replace(\"\\n\",'')\n",
        "chapter = book.split('CHAPTER')\n",
        "\n",
        "chapters  = [nlp_md(text) for text in (chapter)]"
      ],
      "execution_count": null,
      "outputs": []
    },
    {
      "cell_type": "code",
      "metadata": {
        "id": "WQUq6JJG8EZa"
      },
      "source": [
        "tb = tf_idf_scores(docs)\n",
        "tb / tb.max().max()\n",
        "%matplotlib inline\n",
        "import seaborn as sns\n",
        "plt.figure(figsize=(40, 20))\n",
        "sns.heatmap(tb / tb.max().max(), cmap=\"RdYlGn_r\", annot=False);"
      ],
      "execution_count": null,
      "outputs": []
    },
    {
      "cell_type": "code",
      "metadata": {
        "id": "rHDOndFoaQv4"
      },
      "source": [
        "chapter = book.split('CHAPTER')\n",
        "\n",
        "sentences = chapter[1].split('.')\n",
        "len(sentences)"
      ],
      "execution_count": null,
      "outputs": []
    },
    {
      "cell_type": "code",
      "metadata": {
        "id": "7XPlUajmahlm"
      },
      "source": [
        "sentences  = [nlp_md(text) for text in (sentences)]\n",
        "tb = tf_idf_scores(sentences)"
      ],
      "execution_count": null,
      "outputs": []
    },
    {
      "cell_type": "code",
      "metadata": {
        "id": "x8BP7aAZajO0"
      },
      "source": [
        "tb / tb.max().max()\n",
        "%matplotlib inline\n",
        "import seaborn as sns\n",
        "plt.figure(figsize=(40, 20))\n",
        "sns.heatmap(tb / tb.max().max(), cmap=\"RdYlGn_r\", annot=False);"
      ],
      "execution_count": null,
      "outputs": []
    },
    {
      "cell_type": "code",
      "metadata": {
        "id": "YWKCOEz2iix2"
      },
      "source": [
        "import matplotlib.pyplot as pPlot\n",
        "from wordcloud import WordCloud, STOPWORDS\n",
        "import numpy as npy\n",
        "from PIL import Image\n",
        "dataset = open(\"sampleWords.txt\", \"r\").read()\n",
        "defcreate_word_cloud(string):\n",
        "  maskArray = npy.array(Image.open(\"cloud.png\"))\n",
        "  cloud = WordCloud(background_color = \"white\", max_words = 200, mask = maskArray, stopwords = set(STOPWORDS))\n",
        "  cloud.generate(string)\n",
        "  cloud.to_file(\"wordCloud.png\")\n",
        "dataset = dataset.lower()\n",
        "create_word_cloud(dataset)"
      ],
      "execution_count": null,
      "outputs": []
    },
    {
      "cell_type": "code",
      "metadata": {
        "id": "Lq5dI4rEivBc"
      },
      "source": [
        "import numpy as np\n",
        "import pandas as pd\n",
        "from os import path\n",
        "from PIL import Image\n",
        "from wordcloud import WordCloud, STOPWORDS, ImageColorGenerator\n",
        "\n",
        "import matplotlib.pyplot as plt\n",
        "% matplotlib inline\n",
        "stopwords = set(STOPWORDS)"
      ],
      "execution_count": null,
      "outputs": []
    },
    {
      "cell_type": "code",
      "metadata": {
        "id": "ZgXStS-HyaDT"
      },
      "source": [
        ""
      ],
      "execution_count": null,
      "outputs": []
    },
    {
      "cell_type": "code",
      "metadata": {
        "id": "hJuaXYCpjgAE"
      },
      "source": [
        "for i in range(1,10):\n",
        "  wordcloud = WordCloud(max_words=100 , max_font_size=40 , stopwords = STOP_WORDS).generate(chapter[i])\n",
        "  plt.figure(figsize=(20,10))\n",
        "  plt.imshow(wordcloud)\n",
        "  plt.title(i)\n",
        "  plt.axis(\"off\")\n",
        "  plt.show()"
      ],
      "execution_count": null,
      "outputs": []
    },
    {
      "cell_type": "code",
      "metadata": {
        "id": "x7lQOYKEkI0H"
      },
      "source": [
        "for i , item in enumerate(chapter):\n",
        "  print(item)"
      ],
      "execution_count": null,
      "outputs": []
    },
    {
      "cell_type": "code",
      "metadata": {
        "id": "gE23pcN8wa0s"
      },
      "source": [
        "len(chapter)\r\n"
      ],
      "execution_count": null,
      "outputs": []
    },
    {
      "cell_type": "markdown",
      "metadata": {
        "id": "lVct1gqr_9dW"
      },
      "source": [
        ""
      ]
    },
    {
      "cell_type": "code",
      "metadata": {
        "id": "dAlJMf05zKdH"
      },
      "source": [
        "y_train"
      ],
      "execution_count": null,
      "outputs": []
    },
    {
      "cell_type": "markdown",
      "metadata": {
        "id": "gnVWtSsW_QSE"
      },
      "source": [
        "Detect Emotions\r\n",
        "\r\n"
      ]
    },
    {
      "cell_type": "code",
      "metadata": {
        "colab": {
          "base_uri": "https://localhost:8080/"
        },
        "id": "0nVF-A1V_O1m",
        "outputId": "be06061a-b8de-43da-c53b-8f882a28d112"
      },
      "source": [
        "import pandas as pd \r\n",
        "from sklearn.model_selection import train_test_split\r\n",
        "\r\n",
        "df_train = pd.read_csv('/content/train.txt', header =None, sep =';', names = ['Input','Sentiment'], encoding='utf-8')\r\n",
        "df_test = pd.read_csv('/content/test.txt', header = None, sep =';', names = ['Input','Sentiment'],encoding='utf-8')\r\n",
        "df = pd.concat([df_train,df_test])\r\n",
        "\r\n",
        "\r\n",
        "\r\n",
        "df['Sentiment'].value_counts()\r\n",
        "\r\n",
        "\r\n",
        "\r\n"
      ],
      "execution_count": 101,
      "outputs": [
        {
          "output_type": "execute_result",
          "data": {
            "text/plain": [
              "joy         6057\n",
              "sadness     5247\n",
              "anger       2434\n",
              "fear        2161\n",
              "love        1463\n",
              "surprise     638\n",
              "Name: Sentiment, dtype: int64"
            ]
          },
          "metadata": {
            "tags": []
          },
          "execution_count": 101
        }
      ]
    },
    {
      "cell_type": "code",
      "metadata": {
        "colab": {
          "base_uri": "https://localhost:8080/"
        },
        "id": "iMxiGBWnEq8e",
        "outputId": "8b73aa2a-2a81-4fbb-b4c0-872a9f1969f6"
      },
      "source": [
        "\r\n",
        "X = df['Input']\r\n",
        "ylabels = df['Sentiment']\r\n",
        "X_train, X_test, y_train, y_test = train_test_split(X, ylabels, test_size=0.1, random_state=42)\r\n",
        "\r\n",
        "y_train.value_counts()"
      ],
      "execution_count": 102,
      "outputs": [
        {
          "output_type": "execute_result",
          "data": {
            "text/plain": [
              "joy         5468\n",
              "sadness     4701\n",
              "anger       2184\n",
              "fear        1967\n",
              "love        1308\n",
              "surprise     572\n",
              "Name: Sentiment, dtype: int64"
            ]
          },
          "metadata": {
            "tags": []
          },
          "execution_count": 102
        }
      ]
    },
    {
      "cell_type": "markdown",
      "metadata": {
        "id": "aB2WhQtJBckQ"
      },
      "source": [
        "Clean the test and transform it \r\n"
      ]
    },
    {
      "cell_type": "code",
      "metadata": {
        "id": "0yeyb7qx_d6m"
      },
      "source": [
        "from sklearn.base import TransformerMixin \r\n",
        "\r\n",
        "# This function will clean the text\r\n",
        "def clean_text(text):     \r\n",
        "    return text.strip().lower()\r\n",
        "    \r\n",
        "#Custom transformer using Python standard library (you could use spacy as well)\r\n",
        "class predictors(TransformerMixin):\r\n",
        "\r\n",
        "    def transform(self, X, **transform_params):\r\n",
        "        return [clean_text(text) for text in X]\r\n",
        "\r\n",
        "    def fit(self, X, y=None, **fit_params):\r\n",
        "        return self\r\n",
        "\r\n",
        "    def get_params(self, deep=True):\r\n",
        "        return {}\r\n",
        "import string\r\n",
        "import spacy\r\n",
        "from spacy.lang.en.stop_words import STOP_WORDS\r\n",
        "from spacy.lang.en import English\r\n",
        "\r\n",
        "# Create our list of punctuation marks\r\n",
        "punctuations = string.punctuation\r\n",
        "\r\n",
        "# Create our list of stopwords\r\n",
        "nlp = spacy.load('en')\r\n",
        "stop_words = spacy.lang.en.stop_words.STOP_WORDS\r\n",
        "\r\n",
        "# Load English tokenizer, tagger, parser, NER and word vectors\r\n",
        "parser = English()\r\n",
        "\r\n",
        "# Creating our tokenizer function\r\n",
        "def spacy_tokenizer(sentence):\r\n",
        "    # Creating our token object, which is used to create documents with linguistic annotations.\r\n",
        "    mytokens = parser(sentence)\r\n",
        "\r\n",
        "    # Lemmatizing each token and converting each token into lowercase\r\n",
        "    mytokens = [ word.lemma_.lower().strip() if word.lemma_ != \"-PRON-\" else word.lower_ for word in mytokens ]\r\n",
        "\r\n",
        "    # Removing stop words\r\n",
        "    mytokens = [ word for word in mytokens if word not in stop_words and word not in punctuations ]\r\n",
        "\r\n",
        "    # return preprocessed list of tokens\r\n",
        "    return mytokens"
      ],
      "execution_count": 103,
      "outputs": []
    },
    {
      "cell_type": "code",
      "metadata": {
        "id": "f3ZJ6RUjA_pa"
      },
      "source": [
        "from sklearn.ensemble import RandomForestClassifier\r\n",
        "from sklearn.svm import LinearSVC\r\n",
        "# Logistic Regression Classifier\r\n",
        "from sklearn.linear_model import LogisticRegression\r\n",
        "from sklearn.neural_network import MLPClassifier\r\n",
        "import numpy as np\r\n",
        "clf = MLPClassifier()"
      ],
      "execution_count": 133,
      "outputs": []
    },
    {
      "cell_type": "markdown",
      "metadata": {
        "id": "gwRkTrfHXrWs"
      },
      "source": [
        ""
      ]
    },
    {
      "cell_type": "code",
      "metadata": {
        "id": "TDnyO56nDFGa"
      },
      "source": [
        "from sklearn.feature_extraction.text import CountVectorizer\r\n",
        "\r\n",
        "# We create our bag of words (bow) using our tokenizer and defining an ngram range\r\n",
        "bow = CountVectorizer(tokenizer = spacy_tokenizer, ngram_range=(1,1)) "
      ],
      "execution_count": 134,
      "outputs": []
    },
    {
      "cell_type": "code",
      "metadata": {
        "id": "OdMMABv8CX4R"
      },
      "source": [
        "from sklearn.pipeline import Pipeline\r\n",
        "\r\n",
        "\r\n",
        "\r\n",
        "pipe = Pipeline([(\"cleaner\", predictors()),\r\n",
        "                 ('vectorizer', bow),\r\n",
        "                 ('classifier', clf)], verbose=True)"
      ],
      "execution_count": 135,
      "outputs": []
    },
    {
      "cell_type": "code",
      "metadata": {
        "colab": {
          "base_uri": "https://localhost:8080/"
        },
        "id": "rBt-PffSCkHJ",
        "outputId": "921ffb94-d003-49e0-cc74-d4f6d34c8c22"
      },
      "source": [
        "pipe.fit( X_train , y_train ) "
      ],
      "execution_count": 136,
      "outputs": [
        {
          "output_type": "stream",
          "text": [
            "[Pipeline] ........... (step 1 of 3) Processing cleaner, total=   0.0s\n",
            "[Pipeline] ........ (step 2 of 3) Processing vectorizer, total=   1.8s\n",
            "[Pipeline] ........ (step 3 of 3) Processing classifier, total=  23.4s\n"
          ],
          "name": "stdout"
        },
        {
          "output_type": "stream",
          "text": [
            "/usr/local/lib/python3.6/dist-packages/sklearn/neural_network/_multilayer_perceptron.py:573: UserWarning: Training interrupted by user.\n",
            "  warnings.warn(\"Training interrupted by user.\")\n"
          ],
          "name": "stderr"
        },
        {
          "output_type": "execute_result",
          "data": {
            "text/plain": [
              "Pipeline(memory=None,\n",
              "         steps=[('cleaner', <__main__.predictors object at 0x7f58e28bb6a0>),\n",
              "                ('vectorizer',\n",
              "                 CountVectorizer(analyzer='word', binary=False,\n",
              "                                 decode_error='strict',\n",
              "                                 dtype=<class 'numpy.int64'>, encoding='utf-8',\n",
              "                                 input='content', lowercase=True, max_df=1.0,\n",
              "                                 max_features=None, min_df=1,\n",
              "                                 ngram_range=(1, 1), preprocessor=None,\n",
              "                                 stop_words=None, strip_accents=None,\n",
              "                                 t...\n",
              "                               batch_size='auto', beta_1=0.9, beta_2=0.999,\n",
              "                               early_stopping=False, epsilon=1e-08,\n",
              "                               hidden_layer_sizes=(100,),\n",
              "                               learning_rate='constant',\n",
              "                               learning_rate_init=0.001, max_fun=15000,\n",
              "                               max_iter=200, momentum=0.9, n_iter_no_change=10,\n",
              "                               nesterovs_momentum=True, power_t=0.5,\n",
              "                               random_state=None, shuffle=True, solver='adam',\n",
              "                               tol=0.0001, validation_fraction=0.1,\n",
              "                               verbose=False, warm_start=False))],\n",
              "         verbose=True)"
            ]
          },
          "metadata": {
            "tags": []
          },
          "execution_count": 136
        }
      ]
    },
    {
      "cell_type": "code",
      "metadata": {
        "id": "hpr_EwNZENMV"
      },
      "source": [
        "# Predicting with a test dataset\r\n",
        "sample_prediction = pipe.predict(X_test)"
      ],
      "execution_count": 142,
      "outputs": []
    },
    {
      "cell_type": "code",
      "metadata": {
        "id": "AOM1mMmqFdo4"
      },
      "source": [
        ""
      ],
      "execution_count": 142,
      "outputs": []
    },
    {
      "cell_type": "code",
      "metadata": {
        "colab": {
          "base_uri": "https://localhost:8080/",
          "height": 434
        },
        "id": "n26_ou-VFb2z",
        "outputId": "54674326-adc5-4ab1-8210-bc10c33dad5d"
      },
      "source": [
        "from sklearn import metrics\r\n",
        "import seaborn as sns\r\n",
        "import matplotlib.pyplot as plt\r\n",
        "\r\n",
        "\r\n",
        "# Model Accuracy\r\n",
        "print(\"Accuracy:\",metrics.accuracy_score(y_test, sample_prediction))\r\n",
        "confusion_matrix = pd.crosstab(y_test, sample_prediction, rownames=['Actual'], colnames=['Predicted'])\r\n",
        "print(confusion_matrix)\r\n",
        "sns.heatmap(confusion_matrix)\r\n",
        "plt.show()"
      ],
      "execution_count": 143,
      "outputs": [
        {
          "output_type": "stream",
          "text": [
            "Accuracy: 0.885\n",
            "Predicted  anger  fear  joy  love  sadness  surprise\n",
            "Actual                                              \n",
            "anger        213     7    9     3       18         0\n",
            "fear           9   153    8     3       15         6\n",
            "joy            4     2  543    22       16         2\n",
            "love           1     0   25   123        6         0\n",
            "sadness       11     6   11     3      515         0\n",
            "surprise       0    12    3     1        4        46\n"
          ],
          "name": "stdout"
        },
        {
          "output_type": "display_data",
          "data": {
            "image/png": "[encoded data removed]",
            "text/plain": [
              "<Figure size 432x288 with 2 Axes>"
            ]
          },
          "metadata": {
            "tags": [],
            "needs_background": "light"
          }
        }
      ]
    },
    {
      "cell_type": "code",
      "metadata": {
        "id": "3aFLrlnPFcrZ"
      },
      "source": [
        ""
      ],
      "execution_count": 138,
      "outputs": []
    },
    {
      "cell_type": "markdown",
      "metadata": {
        "id": "I58dZv0AG6w_"
      },
      "source": [
        "Optimize Model "
      ]
    },
    {
      "cell_type": "code",
      "metadata": {
        "id": "YcZSha8uG588"
      },
      "source": [
        "def Optimize_model(i):\r\n",
        "  result = []\r\n",
        "  for i in range(10,i,10):\r\n",
        "\r\n",
        "    clf = RandomForestClassifier(n_estimators=i)\r\n",
        "    pipe = Pipeline([(\"cleaner\", predictors()),\r\n",
        "                 ('vectorizer', bow),\r\n",
        "                 ('classifier', clf)], verbose=True)\r\n",
        "    pipe.fit( X_train , y_train ) \r\n",
        "    sample_prediction = pipe.predict(X_test)\r\n",
        "    accuracy = metrics.accuracy_score(y_test, sample_prediction)\r\n",
        "    result.append([i,accuracy])\r\n",
        "    print('')\r\n",
        "    print('')\r\n",
        "    print('')\r\n",
        "    print(i)\r\n",
        "    print(\"Accuracy:\",metrics.accuracy_score(y_test, sample_prediction))\r\n",
        "    confusion_matrix = pd.crosstab(y_test, sample_prediction, rownames=['Actual'], colnames=['Predicted'])\r\n",
        "    RandomForestClassifier\r\n",
        "\r\n",
        "    print(confusion_matrix)\r\n",
        "    sns.heatmap(confusion_matrix)\r\n",
        "    plt.show()\r\n",
        "  return result\r\n"
      ],
      "execution_count": 139,
      "outputs": []
    },
    {
      "cell_type": "code",
      "metadata": {
        "id": "4fmMQic8ZmtE",
        "outputId": "27837b57-bd56-415d-f70f-6973915c7589",
        "colab": {
          "base_uri": "https://localhost:8080/",
          "height": 1000
        }
      },
      "source": [
        "Optimize_model()"
      ],
      "execution_count": 144,
      "outputs": [
        {
          "output_type": "stream",
          "text": [
            "[Pipeline] ........... (step 1 of 3) Processing cleaner, total=   0.0s\n",
            "[Pipeline] ........ (step 2 of 3) Processing vectorizer, total=   2.0s\n",
            "[Pipeline] ........ (step 3 of 3) Processing classifier, total=   2.3s\n",
            "\n",
            "\n",
            "\n",
            "10\n",
            "Accuracy: 0.865\n",
            "Predicted  anger  fear  joy  love  sadness  surprise\n",
            "Actual                                              \n",
            "anger        224     5    8     2       11         0\n",
            "fear          14   156    2     3       11         8\n",
            "joy            7     5  522    31       22         2\n",
            "love           2     1   29   119        4         0\n",
            "sadness       19     9   17     5      494         2\n",
            "surprise       1    14    5     1        3        42\n"
          ],
          "name": "stdout"
        },
        {
          "output_type": "display_data",
          "data": {
            "image/png": "[encoded data removed]",
            "text/plain": [
              "<Figure size 432x288 with 2 Axes>"
            ]
          },
          "metadata": {
            "tags": [],
            "needs_background": "light"
          }
        },
        {
          "output_type": "stream",
          "text": [
            "[Pipeline] ........... (step 1 of 3) Processing cleaner, total=   0.0s\n",
            "[Pipeline] ........ (step 2 of 3) Processing vectorizer, total=   1.8s\n",
            "[Pipeline] ........ (step 3 of 3) Processing classifier, total=   4.6s\n",
            "\n",
            "\n",
            "\n",
            "20\n",
            "Accuracy: 0.8677777777777778\n",
            "Predicted  anger  fear  joy  love  sadness  surprise\n",
            "Actual                                              \n",
            "anger        226     2   10     2       10         0\n",
            "fear          11   162    0     1       11         9\n",
            "joy            7     7  523    29       20         3\n",
            "love           2     0   32   116        5         0\n",
            "sadness       21    13   16     3      489         4\n",
            "surprise       0    15    3     0        2        46\n"
          ],
          "name": "stdout"
        },
        {
          "output_type": "display_data",
          "data": {
            "image/png": "[encoded data removed]",
            "text/plain": [
              "<Figure size 432x288 with 2 Axes>"
            ]
          },
          "metadata": {
            "tags": [],
            "needs_background": "light"
          }
        },
        {
          "output_type": "stream",
          "text": [
            "[Pipeline] ........... (step 1 of 3) Processing cleaner, total=   0.0s\n",
            "[Pipeline] ........ (step 2 of 3) Processing vectorizer, total=   1.8s\n",
            "[Pipeline] ........ (step 3 of 3) Processing classifier, total=   6.8s\n",
            "\n",
            "\n",
            "\n",
            "30\n",
            "Accuracy: 0.8705555555555555\n",
            "Predicted  anger  fear  joy  love  sadness  surprise\n",
            "Actual                                              \n",
            "anger        223     4   11     2       10         0\n",
            "fear           9   165    5     1       10         4\n",
            "joy            5     7  520    29       25         3\n",
            "love           2     0   31   117        5         0\n",
            "sadness       17    11   10     4      500         4\n",
            "surprise       0    17    4     1        2        42\n"
          ],
          "name": "stdout"
        },
        {
          "output_type": "display_data",
          "data": {
            "image/png": "[encoded data removed]",
            "text/plain": [
              "<Figure size 432x288 with 2 Axes>"
            ]
          },
          "metadata": {
            "tags": [],
            "needs_background": "light"
          }
        },
        {
          "output_type": "stream",
          "text": [
            "[Pipeline] ........... (step 1 of 3) Processing cleaner, total=   0.0s\n",
            "[Pipeline] ........ (step 2 of 3) Processing vectorizer, total=   1.8s\n",
            "[Pipeline] ........ (step 3 of 3) Processing classifier, total=   9.0s\n",
            "\n",
            "\n",
            "\n",
            "40\n",
            "Accuracy: 0.8722222222222222\n",
            "Predicted  anger  fear  joy  love  sadness  surprise\n",
            "Actual                                              \n",
            "anger        225     4   10     1        9         1\n",
            "fear          11   159    2     1       13         8\n",
            "joy            7     7  522    30       20         3\n",
            "love           2     0   25   122        6         0\n",
            "sadness       21    10   10     5      497         3\n",
            "surprise       0    15    3     1        2        45\n"
          ],
          "name": "stdout"
        },
        {
          "output_type": "display_data",
          "data": {
            "image/png": "[encoded data removed]",
            "text/plain": [
              "<Figure size 432x288 with 2 Axes>"
            ]
          },
          "metadata": {
            "tags": [],
            "needs_background": "light"
          }
        },
        {
          "output_type": "stream",
          "text": [
            "[Pipeline] ........... (step 1 of 3) Processing cleaner, total=   0.0s\n",
            "[Pipeline] ........ (step 2 of 3) Processing vectorizer, total=   1.9s\n",
            "[Pipeline] ........ (step 3 of 3) Processing classifier, total=  11.2s\n",
            "\n",
            "\n",
            "\n",
            "50\n",
            "Accuracy: 0.88\n",
            "Predicted  anger  fear  joy  love  sadness  surprise\n",
            "Actual                                              \n",
            "anger        229     4    8     1        7         1\n",
            "fear          11   163    2     2        8         8\n",
            "joy            5     6  525    29       21         3\n",
            "love           2     0   29   118        6         0\n",
            "sadness       22    10    4     3      506         1\n",
            "surprise       0    17    3     1        2        43\n"
          ],
          "name": "stdout"
        },
        {
          "output_type": "display_data",
          "data": {
            "image/png": "[encoded data removed]",
            "text/plain": [
              "<Figure size 432x288 with 2 Axes>"
            ]
          },
          "metadata": {
            "tags": [],
            "needs_background": "light"
          }
        },
        {
          "output_type": "stream",
          "text": [
            "[Pipeline] ........... (step 1 of 3) Processing cleaner, total=   0.0s\n",
            "[Pipeline] ........ (step 2 of 3) Processing vectorizer, total=   1.8s\n",
            "[Pipeline] ........ (step 3 of 3) Processing classifier, total=  13.7s\n",
            "\n",
            "\n",
            "\n",
            "60\n",
            "Accuracy: 0.8733333333333333\n",
            "Predicted  anger  fear  joy  love  sadness  surprise\n",
            "Actual                                              \n",
            "anger        227     4    8     1        9         1\n",
            "fear          10   161    3     1       12         7\n",
            "joy            6     5  524    30       21         3\n",
            "love           2     1   31   116        5         0\n",
            "sadness       20     8   12     4      499         3\n",
            "surprise       0    15    4     1        1        45\n"
          ],
          "name": "stdout"
        },
        {
          "output_type": "display_data",
          "data": {
            "image/png": "[encoded data removed]",
            "text/plain": [
              "<Figure size 432x288 with 2 Axes>"
            ]
          },
          "metadata": {
            "tags": [],
            "needs_background": "light"
          }
        },
        {
          "output_type": "stream",
          "text": [
            "[Pipeline] ........... (step 1 of 3) Processing cleaner, total=   0.0s\n",
            "[Pipeline] ........ (step 2 of 3) Processing vectorizer, total=   1.8s\n",
            "[Pipeline] ........ (step 3 of 3) Processing classifier, total=  15.9s\n",
            "\n",
            "\n",
            "\n",
            "70\n",
            "Accuracy: 0.875\n",
            "Predicted  anger  fear  joy  love  sadness  surprise\n",
            "Actual                                              \n",
            "anger        227     4    7     1       11         0\n",
            "fear          12   164    0     1       11         6\n",
            "joy            6     5  522    31       21         4\n",
            "love           1     2   30   116        6         0\n",
            "sadness       16    11    8     4      503         4\n",
            "surprise       0    17    3     1        2        43\n"
          ],
          "name": "stdout"
        },
        {
          "output_type": "display_data",
          "data": {
            "image/png": "[encoded data removed]",
            "text/plain": [
              "<Figure size 432x288 with 2 Axes>"
            ]
          },
          "metadata": {
            "tags": [],
            "needs_background": "light"
          }
        },
        {
          "output_type": "stream",
          "text": [
            "[Pipeline] ........... (step 1 of 3) Processing cleaner, total=   0.0s\n",
            "[Pipeline] ........ (step 2 of 3) Processing vectorizer, total=   1.8s\n",
            "[Pipeline] ........ (step 3 of 3) Processing classifier, total=  17.9s\n",
            "\n",
            "\n",
            "\n",
            "80\n",
            "Accuracy: 0.8744444444444445\n",
            "Predicted  anger  fear  joy  love  sadness  surprise\n",
            "Actual                                              \n",
            "anger        227     4    8     2        8         1\n",
            "fear          11   160    1     1       12         9\n",
            "joy            6     6  523    28       23         3\n",
            "love           2     0   29   119        5         0\n",
            "sadness       16    11    9     5      502         3\n",
            "surprise       0    17    3     1        2        43\n"
          ],
          "name": "stdout"
        },
        {
          "output_type": "display_data",
          "data": {
            "image/png": "[encoded data removed]",
            "text/plain": [
              "<Figure size 432x288 with 2 Axes>"
            ]
          },
          "metadata": {
            "tags": [],
            "needs_background": "light"
          }
        },
        {
          "output_type": "stream",
          "text": [
            "[Pipeline] ........... (step 1 of 3) Processing cleaner, total=   0.0s\n",
            "[Pipeline] ........ (step 2 of 3) Processing vectorizer, total=   1.8s\n",
            "[Pipeline] ........ (step 3 of 3) Processing classifier, total=  20.3s\n",
            "\n",
            "\n",
            "\n",
            "90\n",
            "Accuracy: 0.8738888888888889\n",
            "Predicted  anger  fear  joy  love  sadness  surprise\n",
            "Actual                                              \n",
            "anger        224     6    9     1        9         1\n",
            "fear           8   164    3     1       11         7\n",
            "joy            6     6  521    32       20         4\n",
            "love           2     0   29   118        6         0\n",
            "sadness       18    11    7     4      502         4\n",
            "surprise       0    16    3     1        2        44\n"
          ],
          "name": "stdout"
        },
        {
          "output_type": "display_data",
          "data": {
            "image/png": "[encoded data removed]",
            "text/plain": [
              "<Figure size 432x288 with 2 Axes>"
            ]
          },
          "metadata": {
            "tags": [],
            "needs_background": "light"
          }
        },
        {
          "output_type": "stream",
          "text": [
            "[Pipeline] ........... (step 1 of 3) Processing cleaner, total=   0.0s\n",
            "[Pipeline] ........ (step 2 of 3) Processing vectorizer, total=   1.8s\n",
            "[Pipeline] ........ (step 3 of 3) Processing classifier, total=  22.5s\n",
            "\n",
            "\n",
            "\n",
            "100\n",
            "Accuracy: 0.8766666666666667\n",
            "Predicted  anger  fear  joy  love  sadness  surprise\n",
            "Actual                                              \n",
            "anger        228     4    8     1        9         0\n",
            "fear          11   161    1     1       12         8\n",
            "joy            6     5  525    30       20         3\n",
            "love           2     0   29   118        6         0\n",
            "sadness       18     8    9     4      502         5\n",
            "surprise       0    16    4     1        1        44\n"
          ],
          "name": "stdout"
        },
        {
          "output_type": "display_data",
          "data": {
            "image/png": "[encoded data removed]",
            "text/plain": [
              "<Figure size 432x288 with 2 Axes>"
            ]
          },
          "metadata": {
            "tags": [],
            "needs_background": "light"
          }
        },
        {
          "output_type": "stream",
          "text": [
            "[Pipeline] ........... (step 1 of 3) Processing cleaner, total=   0.0s\n",
            "[Pipeline] ........ (step 2 of 3) Processing vectorizer, total=   1.8s\n",
            "[Pipeline] ........ (step 3 of 3) Processing classifier, total=  24.7s\n",
            "\n",
            "\n",
            "\n",
            "110\n",
            "Accuracy: 0.8788888888888889\n",
            "Predicted  anger  fear  joy  love  sadness  surprise\n",
            "Actual                                              \n",
            "anger        228     4    9     1        8         0\n",
            "fear          10   163    1     1       10         9\n",
            "joy            6     5  525    28       22         3\n",
            "love           2     0   30   118        5         0\n",
            "sadness       20     9    6     4      503         4\n",
            "surprise       0    16    3     0        2        45\n"
          ],
          "name": "stdout"
        },
        {
          "output_type": "display_data",
          "data": {
            "image/png": "[encoded data removed]",
            "text/plain": [
              "<Figure size 432x288 with 2 Axes>"
            ]
          },
          "metadata": {
            "tags": [],
            "needs_background": "light"
          }
        },
        {
          "output_type": "stream",
          "text": [
            "[Pipeline] ........... (step 1 of 3) Processing cleaner, total=   0.0s\n",
            "[Pipeline] ........ (step 2 of 3) Processing vectorizer, total=   1.8s\n",
            "[Pipeline] ........ (step 3 of 3) Processing classifier, total=  27.1s\n",
            "\n",
            "\n",
            "\n",
            "120\n",
            "Accuracy: 0.8766666666666667\n",
            "Predicted  anger  fear  joy  love  sadness  surprise\n",
            "Actual                                              \n",
            "anger        227     4    9     1        8         1\n",
            "fear          11   165    1     1       10         6\n",
            "joy            6     5  518    33       24         3\n",
            "love           2     0   28   119        6         0\n",
            "sadness       17    12    6     4      504         3\n",
            "surprise       0    15    3     1        2        45\n"
          ],
          "name": "stdout"
        },
        {
          "output_type": "display_data",
          "data": {
            "image/png": "[encoded data removed]",
            "text/plain": [
              "<Figure size 432x288 with 2 Axes>"
            ]
          },
          "metadata": {
            "tags": [],
            "needs_background": "light"
          }
        },
        {
          "output_type": "stream",
          "text": [
            "[Pipeline] ........... (step 1 of 3) Processing cleaner, total=   0.0s\n",
            "[Pipeline] ........ (step 2 of 3) Processing vectorizer, total=   1.9s\n",
            "[Pipeline] ........ (step 3 of 3) Processing classifier, total=  29.1s\n",
            "\n",
            "\n",
            "\n",
            "130\n",
            "Accuracy: 0.8761111111111111\n",
            "Predicted  anger  fear  joy  love  sadness  surprise\n",
            "Actual                                              \n",
            "anger        231     4    7     1        7         0\n",
            "fear          10   162    0     1       11        10\n",
            "joy            6     5  519    31       24         4\n",
            "love           2     0   31   116        6         0\n",
            "sadness       18    10    7     3      504         4\n",
            "surprise       0    15    3     1        2        45\n"
          ],
          "name": "stdout"
        },
        {
          "output_type": "display_data",
          "data": {
            "image/png": "[encoded data removed]",
            "text/plain": [
              "<Figure size 432x288 with 2 Axes>"
            ]
          },
          "metadata": {
            "tags": [],
            "needs_background": "light"
          }
        },
        {
          "output_type": "stream",
          "text": [
            "[Pipeline] ........... (step 1 of 3) Processing cleaner, total=   0.0s\n",
            "[Pipeline] ........ (step 2 of 3) Processing vectorizer, total=   1.8s\n",
            "[Pipeline] ........ (step 3 of 3) Processing classifier, total=  31.6s\n",
            "\n",
            "\n",
            "\n",
            "140\n",
            "Accuracy: 0.8722222222222222\n",
            "Predicted  anger  fear  joy  love  sadness  surprise\n",
            "Actual                                              \n",
            "anger        228     4    9     1        7         1\n",
            "fear          10   161    2     1       12         8\n",
            "joy            6     6  519    32       23         3\n",
            "love           2     0   30   117        6         0\n",
            "sadness       20    10    6     5      501         4\n",
            "surprise       0    16    3     1        2        44\n"
          ],
          "name": "stdout"
        },
        {
          "output_type": "display_data",
          "data": {
            "image/png": "[encoded data removed]",
            "text/plain": [
              "<Figure size 432x288 with 2 Axes>"
            ]
          },
          "metadata": {
            "tags": [],
            "needs_background": "light"
          }
        },
        {
          "output_type": "stream",
          "text": [
            "[Pipeline] ........... (step 1 of 3) Processing cleaner, total=   0.0s\n",
            "[Pipeline] ........ (step 2 of 3) Processing vectorizer, total=   1.8s\n",
            "[Pipeline] ........ (step 3 of 3) Processing classifier, total=  33.7s\n",
            "\n",
            "\n",
            "\n",
            "150\n",
            "Accuracy: 0.8772222222222222\n",
            "Predicted  anger  fear  joy  love  sadness  surprise\n",
            "Actual                                              \n",
            "anger        228     4    7     1        9         1\n",
            "fear          11   165    0     2        8         8\n",
            "joy            7     6  522    31       20         3\n",
            "love           2     0   31   118        4         0\n",
            "sadness       20    12    7     4      501         2\n",
            "surprise       0    15    3     1        2        45\n"
          ],
          "name": "stdout"
        },
        {
          "output_type": "display_data",
          "data": {
            "image/png": "[encoded data removed]",
            "text/plain": [
              "<Figure size 432x288 with 2 Axes>"
            ]
          },
          "metadata": {
            "tags": [],
            "needs_background": "light"
          }
        },
        {
          "output_type": "stream",
          "text": [
            "[Pipeline] ........... (step 1 of 3) Processing cleaner, total=   0.0s\n",
            "[Pipeline] ........ (step 2 of 3) Processing vectorizer, total=   1.9s\n",
            "[Pipeline] ........ (step 3 of 3) Processing classifier, total=  36.1s\n",
            "\n",
            "\n",
            "\n",
            "160\n",
            "Accuracy: 0.8722222222222222\n",
            "Predicted  anger  fear  joy  love  sadness  surprise\n",
            "Actual                                              \n",
            "anger        225     4   11     1        8         1\n",
            "fear           8   164    3     1       11         7\n",
            "joy            6     6  520    31       23         3\n",
            "love           2     1   28   117        7         0\n",
            "sadness       21    11    7     3      500         4\n",
            "surprise       0    16    4     1        1        44\n"
          ],
          "name": "stdout"
        },
        {
          "output_type": "display_data",
          "data": {
            "image/png": "[encoded data removed]",
            "text/plain": [
              "<Figure size 432x288 with 2 Axes>"
            ]
          },
          "metadata": {
            "tags": [],
            "needs_background": "light"
          }
        },
        {
          "output_type": "stream",
          "text": [
            "[Pipeline] ........... (step 1 of 3) Processing cleaner, total=   0.0s\n",
            "[Pipeline] ........ (step 2 of 3) Processing vectorizer, total=   1.8s\n",
            "[Pipeline] ........ (step 3 of 3) Processing classifier, total=  38.3s\n",
            "\n",
            "\n",
            "\n",
            "170\n",
            "Accuracy: 0.8722222222222222\n",
            "Predicted  anger  fear  joy  love  sadness  surprise\n",
            "Actual                                              \n",
            "anger        226     4    9     1       10         0\n",
            "fear          12   159    2     1       10        10\n",
            "joy            6     6  523    30       22         2\n",
            "love           2     0   30   118        5         0\n",
            "sadness       20     9   10     4      500         3\n",
            "surprise       0    16    4     1        1        44\n"
          ],
          "name": "stdout"
        },
        {
          "output_type": "display_data",
          "data": {
            "image/png": "[encoded data removed]",
            "text/plain": [
              "<Figure size 432x288 with 2 Axes>"
            ]
          },
          "metadata": {
            "tags": [],
            "needs_background": "light"
          }
        },
        {
          "output_type": "stream",
          "text": [
            "[Pipeline] ........... (step 1 of 3) Processing cleaner, total=   0.0s\n",
            "[Pipeline] ........ (step 2 of 3) Processing vectorizer, total=   1.9s\n",
            "[Pipeline] ........ (step 3 of 3) Processing classifier, total=  40.8s\n",
            "\n",
            "\n",
            "\n",
            "180\n",
            "Accuracy: 0.8744444444444445\n",
            "Predicted  anger  fear  joy  love  sadness  surprise\n",
            "Actual                                              \n",
            "anger        231     4    6     1        7         1\n",
            "fear          11   158    1     1       13        10\n",
            "joy            6     5  524    29       21         4\n",
            "love           2     0   29   118        6         0\n",
            "sadness       20    11    7     5      499         4\n",
            "surprise       0    16    3     1        2        44\n"
          ],
          "name": "stdout"
        },
        {
          "output_type": "display_data",
          "data": {
            "image/png": "[encoded data removed]",
            "text/plain": [
              "<Figure size 432x288 with 2 Axes>"
            ]
          },
          "metadata": {
            "tags": [],
            "needs_background": "light"
          }
        },
        {
          "output_type": "stream",
          "text": [
            "[Pipeline] ........... (step 1 of 3) Processing cleaner, total=   0.0s\n",
            "[Pipeline] ........ (step 2 of 3) Processing vectorizer, total=   1.8s\n",
            "[Pipeline] ........ (step 3 of 3) Processing classifier, total=  42.5s\n",
            "\n",
            "\n",
            "\n",
            "190\n",
            "Accuracy: 0.8755555555555555\n",
            "Predicted  anger  fear  joy  love  sadness  surprise\n",
            "Actual                                              \n",
            "anger        227     4    9     1        8         1\n",
            "fear          11   161    2     1        9        10\n",
            "joy            6     5  523    29       22         4\n",
            "love           2     0   31   117        5         0\n",
            "sadness       19    11    5     4      504         3\n",
            "surprise       0    16    4     1        1        44\n"
          ],
          "name": "stdout"
        },
        {
          "output_type": "display_data",
          "data": {
            "image/png": "[encoded data removed]",
            "text/plain": [
              "<Figure size 432x288 with 2 Axes>"
            ]
          },
          "metadata": {
            "tags": [],
            "needs_background": "light"
          }
        },
        {
          "output_type": "execute_result",
          "data": {
            "text/plain": [
              "[[10, 0.865],\n",
              " [20, 0.8677777777777778],\n",
              " [30, 0.8705555555555555],\n",
              " [40, 0.8722222222222222],\n",
              " [50, 0.88],\n",
              " [60, 0.8733333333333333],\n",
              " [70, 0.875],\n",
              " [80, 0.8744444444444445],\n",
              " [90, 0.8738888888888889],\n",
              " [100, 0.8766666666666667],\n",
              " [110, 0.8788888888888889],\n",
              " [120, 0.8766666666666667],\n",
              " [130, 0.8761111111111111],\n",
              " [140, 0.8722222222222222],\n",
              " [150, 0.8772222222222222],\n",
              " [160, 0.8722222222222222],\n",
              " [170, 0.8722222222222222],\n",
              " [180, 0.8744444444444445],\n",
              " [190, 0.8755555555555555]]"
            ]
          },
          "metadata": {
            "tags": []
          },
          "execution_count": 144
        }
      ]
    },
    {
      "cell_type": "markdown",
      "metadata": {
        "id": "_x8sUc-CZUvg"
      },
      "source": [
        ""
      ]
    },
    {
      "cell_type": "code",
      "metadata": {
        "id": "cezZSTIfIGBX"
      },
      "source": [
        "def Models_test(model):\r\n",
        "    clf = random\r\n",
        "    pipe = Pipeline([(\"cleaner\", predictors()),\r\n",
        "                 ('vectorizer', bow),\r\n",
        "                 ('classifier', clf)], verbose=True)\r\n",
        "    pipe.fit( X_train , y_train ) \r\n",
        "    sample_prediction = pipe.predict(X_test)\r\n",
        "    accuracy = metrics.accuracy_score(y_test, sample_prediction)\r\n",
        "    result.append([i,accuracy])\r\n",
        "    print('')\r\n",
        "    print('')\r\n",
        "    print('')\r\n",
        "    print(i)\r\n",
        "    print(\"Accuracy:\",metrics.accuracy_score(y_test, sample_prediction))\r\n",
        "    confusion_matrix = pd.crosstab(y_test, sample_prediction, rownames=['Actual'], colnames=['Predicted'])\r\n",
        "    print(confusion_matrix)\r\n",
        "    sns.heatmap(confusion_matrix)\r\n",
        "    plt.show()"
      ],
      "execution_count": 76,
      "outputs": []
    },
    {
      "cell_type": "code",
      "metadata": {
        "id": "798gLH3jITR3"
      },
      "source": [
        "names = [\"Nearest Neighbors\", \"Linear SVM\", \"RBF SVM\", \"Gaussian Process\",\r\n",
        "         \"Decision Tree\", \"Random Forest\", \"Neural Net\", \"AdaBoost\",\r\n",
        "         \"Naive Bayes\", \"QDA\"]\r\n",
        "\r\n",
        "import numpy as np\r\n",
        "import matplotlib.pyplot as plt\r\n",
        "from matplotlib.colors import ListedColormap\r\n",
        "from sklearn.model_selection import train_test_split\r\n",
        "from sklearn.preprocessing import StandardScaler\r\n",
        "from sklearn.datasets import make_moons, make_circles, make_classification\r\n",
        "from sklearn.neural_network import MLPClassifier\r\n",
        "from sklearn.neighbors import KNeighborsClassifier\r\n",
        "from sklearn.svm import SVC\r\n",
        "from sklearn.gaussian_process import GaussianProcessClassifier\r\n",
        "from sklearn.gaussian_process.kernels import RBF\r\n",
        "from sklearn.tree import DecisionTreeClassifier\r\n",
        "from sklearn.ensemble import RandomForestClassifier, AdaBoostClassifier\r\n",
        "from sklearn.naive_bayes import GaussianNB\r\n",
        "from sklearn.discriminant_analysis import QuadraticDiscriminantAnalysis       "
      ],
      "execution_count": 131,
      "outputs": []
    },
    {
      "cell_type": "code",
      "metadata": {
        "id": "OlolXxIxTw6g",
        "outputId": "2bf90312-bd24-4069-b85c-0d05f2290f82",
        "colab": {
          "base_uri": "https://localhost:8080/",
          "height": 428
        }
      },
      "source": [
        "from sklearn.ensemble import RandomForestClassifier\r\n",
        "from sklearn.svm import LinearSVC\r\n",
        "# Logistic Regression Classifier\r\n",
        "from sklearn.linear_model import LogisticRegression\r\n",
        "from sklearn.neural_network import MLPClassifier\r\n",
        "import numpy as np\r\n",
        "clf = MLPClassifier()\r\n",
        "\r\n",
        "Models_test(clf)\r\n"
      ],
      "execution_count": 132,
      "outputs": [
        {
          "output_type": "stream",
          "text": [
            "[Pipeline] ........... (step 1 of 3) Processing cleaner, total=   0.0s\n",
            "[Pipeline] ........ (step 2 of 3) Processing vectorizer, total=   1.9s\n"
          ],
          "name": "stdout"
        },
        {
          "output_type": "stream",
          "text": [
            "/usr/local/lib/python3.6/dist-packages/sklearn/neural_network/_multilayer_perceptron.py:573: UserWarning: Training interrupted by user.\n",
            "  warnings.warn(\"Training interrupted by user.\")\n"
          ],
          "name": "stderr"
        },
        {
          "output_type": "stream",
          "text": [
            "[Pipeline] ........ (step 3 of 3) Processing classifier, total= 6.5min\n"
          ],
          "name": "stdout"
        },
        {
          "output_type": "error",
          "ename": "NameError",
          "evalue": "ignored",
          "traceback": [
            "\u001b[0;31m---------------------------------------------------------------------------\u001b[0m",
            "\u001b[0;31mNameError\u001b[0m                                 Traceback (most recent call last)",
            "\u001b[0;32m<ipython-input-132-69f3d7285fdb>\u001b[0m in \u001b[0;36m<module>\u001b[0;34m()\u001b[0m\n\u001b[1;32m      7\u001b[0m \u001b[0mclf\u001b[0m \u001b[0;34m=\u001b[0m \u001b[0mMLPClassifier\u001b[0m\u001b[0;34m(\u001b[0m\u001b[0;34m)\u001b[0m\u001b[0;34m\u001b[0m\u001b[0;34m\u001b[0m\u001b[0m\n\u001b[1;32m      8\u001b[0m \u001b[0;34m\u001b[0m\u001b[0m\n\u001b[0;32m----> 9\u001b[0;31m \u001b[0mModels_test\u001b[0m\u001b[0;34m(\u001b[0m\u001b[0mclf\u001b[0m\u001b[0;34m)\u001b[0m\u001b[0;34m\u001b[0m\u001b[0;34m\u001b[0m\u001b[0m\n\u001b[0m",
            "\u001b[0;32m<ipython-input-76-1a38a3a296a0>\u001b[0m in \u001b[0;36mModels_test\u001b[0;34m(model)\u001b[0m\n\u001b[1;32m      7\u001b[0m     \u001b[0msample_prediction\u001b[0m \u001b[0;34m=\u001b[0m \u001b[0mpipe\u001b[0m\u001b[0;34m.\u001b[0m\u001b[0mpredict\u001b[0m\u001b[0;34m(\u001b[0m\u001b[0mX_test\u001b[0m\u001b[0;34m)\u001b[0m\u001b[0;34m\u001b[0m\u001b[0;34m\u001b[0m\u001b[0m\n\u001b[1;32m      8\u001b[0m     \u001b[0maccuracy\u001b[0m \u001b[0;34m=\u001b[0m \u001b[0mmetrics\u001b[0m\u001b[0;34m.\u001b[0m\u001b[0maccuracy_score\u001b[0m\u001b[0;34m(\u001b[0m\u001b[0my_test\u001b[0m\u001b[0;34m,\u001b[0m \u001b[0msample_prediction\u001b[0m\u001b[0;34m)\u001b[0m\u001b[0;34m\u001b[0m\u001b[0;34m\u001b[0m\u001b[0m\n\u001b[0;32m----> 9\u001b[0;31m     \u001b[0mresult\u001b[0m\u001b[0;34m.\u001b[0m\u001b[0mappend\u001b[0m\u001b[0;34m(\u001b[0m\u001b[0;34m[\u001b[0m\u001b[0mi\u001b[0m\u001b[0;34m,\u001b[0m\u001b[0maccuracy\u001b[0m\u001b[0;34m]\u001b[0m\u001b[0;34m)\u001b[0m\u001b[0;34m\u001b[0m\u001b[0;34m\u001b[0m\u001b[0m\n\u001b[0m\u001b[1;32m     10\u001b[0m     \u001b[0mprint\u001b[0m\u001b[0;34m(\u001b[0m\u001b[0;34m''\u001b[0m\u001b[0;34m)\u001b[0m\u001b[0;34m\u001b[0m\u001b[0;34m\u001b[0m\u001b[0m\n\u001b[1;32m     11\u001b[0m     \u001b[0mprint\u001b[0m\u001b[0;34m(\u001b[0m\u001b[0;34m''\u001b[0m\u001b[0;34m)\u001b[0m\u001b[0;34m\u001b[0m\u001b[0;34m\u001b[0m\u001b[0m\n",
            "\u001b[0;31mNameError\u001b[0m: name 'result' is not defined"
          ]
        }
      ]
    },
    {
      "cell_type": "code",
      "metadata": {
        "id": "1YEZV8BiX5u_"
      },
      "source": [
        ""
      ],
      "execution_count": null,
      "outputs": []
    }
  ]
}