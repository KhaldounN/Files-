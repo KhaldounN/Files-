{
  "nbformat": 4,
  "nbformat_minor": 0,
  "metadata": {
    "colab": {
      "name": "DSF_FINAL_PROJECT.ipynb",
      "provenance": []
    },
    "kernelspec": {
      "name": "python3",
      "display_name": "Python 3"
    }
  },
  "cells": [
    {
      "cell_type": "markdown",
      "metadata": {
        "id": "tUNzu8pXC5jh"
      },
      "source": [
        "![BTS](https://github.com/vfp1/bts-dsf-2020/blob/main/Logo-BTS.jpg?raw=1)\n",
        "\n",
        "# FINAL PROJECT\n",
        "\n",
        "### Victor F. Pajuelo Madrigal <victor.pajuelo@bts.tech> - Data Science Foundations (2020-10-29)\n",
        "\n",
        "Open this notebook in Google Colaboratory: [![Open in Colab](https://colab.research.google.com/assets/colab-badge.svg)](https://colab.research.google.com/github/vfp1/bts-dsf-2020/blob/main/Final_project/DSF_FINAL_PROJECT.ipynb)"
      ]
    },
    {
      "cell_type": "markdown",
      "metadata": {
        "id": "vM0SM4jCS1bS"
      },
      "source": [
        "# Regarding the final project for the class\n",
        "\n",
        "The final project for the class will need to draw from everything you have covered in class, at least everything relevant for your final project. For that you will need to choose a topic. You will be using **the image and text** datasets that we have seen on our sessions. \n",
        "\n",
        "It doesn't need to be a super revolutionary idea, but at least have in mind the issue of reducing the time between information and action. And you will need to send it to me. \n",
        "\n",
        "The project will need to contain the following steps:\n",
        "\n",
        "1. Ingesting, exploring and cleaning data for your project\n",
        "2. Choosing/testing of algorithm approach\n",
        "3. Visualizing the results\n",
        "4. Packaging the project into a product\n",
        "\n",
        "You will be using code from class to support you on the second, third and forth parts of the project. \n",
        "\n",
        "I am not looking for excellence, and I do not mind that you copy/paste code, but always try to understand why. "
      ]
    },
    {
      "cell_type": "code",
      "metadata": {
        "id": "5qAFxroDTP4J",
        "colab": {
          "base_uri": "https://localhost:8080/"
        },
        "outputId": "12f538ee-cbe5-42bb-8d3d-ac8010c93a8a"
      },
      "source": [
        "!python -m spacy download en_core_web_sm\n",
        "!python -m spacy download en_core_web_md\n"
      ],
      "execution_count": 4,
      "outputs": [
        {
          "output_type": "stream",
          "text": [
            "Requirement already satisfied: en_core_web_sm==2.2.5 from https://github.com/explosion/spacy-models/releases/download/en_core_web_sm-2.2.5/en_core_web_sm-2.2.5.tar.gz#egg=en_core_web_sm==2.2.5 in /usr/local/lib/python3.6/dist-packages (2.2.5)\n",
            "Requirement already satisfied: spacy>=2.2.2 in /usr/local/lib/python3.6/dist-packages (from en_core_web_sm==2.2.5) (2.2.4)\n",
            "Requirement already satisfied: setuptools in /usr/local/lib/python3.6/dist-packages (from spacy>=2.2.2->en_core_web_sm==2.2.5) (50.3.2)\n",
            "Requirement already satisfied: wasabi<1.1.0,>=0.4.0 in /usr/local/lib/python3.6/dist-packages (from spacy>=2.2.2->en_core_web_sm==2.2.5) (0.8.0)\n",
            "Requirement already satisfied: catalogue<1.1.0,>=0.0.7 in /usr/local/lib/python3.6/dist-packages (from spacy>=2.2.2->en_core_web_sm==2.2.5) (1.0.0)\n",
            "Requirement already satisfied: thinc==7.4.0 in /usr/local/lib/python3.6/dist-packages (from spacy>=2.2.2->en_core_web_sm==2.2.5) (7.4.0)\n",
            "Requirement already satisfied: preshed<3.1.0,>=3.0.2 in /usr/local/lib/python3.6/dist-packages (from spacy>=2.2.2->en_core_web_sm==2.2.5) (3.0.4)\n",
            "Requirement already satisfied: plac<1.2.0,>=0.9.6 in /usr/local/lib/python3.6/dist-packages (from spacy>=2.2.2->en_core_web_sm==2.2.5) (1.1.3)\n",
            "Requirement already satisfied: requests<3.0.0,>=2.13.0 in /usr/local/lib/python3.6/dist-packages (from spacy>=2.2.2->en_core_web_sm==2.2.5) (2.23.0)\n",
            "Requirement already satisfied: murmurhash<1.1.0,>=0.28.0 in /usr/local/lib/python3.6/dist-packages (from spacy>=2.2.2->en_core_web_sm==2.2.5) (1.0.4)\n",
            "Requirement already satisfied: tqdm<5.0.0,>=4.38.0 in /usr/local/lib/python3.6/dist-packages (from spacy>=2.2.2->en_core_web_sm==2.2.5) (4.41.1)\n",
            "Requirement already satisfied: srsly<1.1.0,>=1.0.2 in /usr/local/lib/python3.6/dist-packages (from spacy>=2.2.2->en_core_web_sm==2.2.5) (1.0.4)\n",
            "Requirement already satisfied: cymem<2.1.0,>=2.0.2 in /usr/local/lib/python3.6/dist-packages (from spacy>=2.2.2->en_core_web_sm==2.2.5) (2.0.4)\n",
            "Requirement already satisfied: numpy>=1.15.0 in /usr/local/lib/python3.6/dist-packages (from spacy>=2.2.2->en_core_web_sm==2.2.5) (1.18.5)\n",
            "Requirement already satisfied: blis<0.5.0,>=0.4.0 in /usr/local/lib/python3.6/dist-packages (from spacy>=2.2.2->en_core_web_sm==2.2.5) (0.4.1)\n",
            "Requirement already satisfied: importlib-metadata>=0.20; python_version < \"3.8\" in /usr/local/lib/python3.6/dist-packages (from catalogue<1.1.0,>=0.0.7->spacy>=2.2.2->en_core_web_sm==2.2.5) (2.0.0)\n",
            "Requirement already satisfied: idna<3,>=2.5 in /usr/local/lib/python3.6/dist-packages (from requests<3.0.0,>=2.13.0->spacy>=2.2.2->en_core_web_sm==2.2.5) (2.10)\n",
            "Requirement already satisfied: urllib3!=1.25.0,!=1.25.1,<1.26,>=1.21.1 in /usr/local/lib/python3.6/dist-packages (from requests<3.0.0,>=2.13.0->spacy>=2.2.2->en_core_web_sm==2.2.5) (1.24.3)\n",
            "Requirement already satisfied: certifi>=2017.4.17 in /usr/local/lib/python3.6/dist-packages (from requests<3.0.0,>=2.13.0->spacy>=2.2.2->en_core_web_sm==2.2.5) (2020.11.8)\n",
            "Requirement already satisfied: chardet<4,>=3.0.2 in /usr/local/lib/python3.6/dist-packages (from requests<3.0.0,>=2.13.0->spacy>=2.2.2->en_core_web_sm==2.2.5) (3.0.4)\n",
            "Requirement already satisfied: zipp>=0.5 in /usr/local/lib/python3.6/dist-packages (from importlib-metadata>=0.20; python_version < \"3.8\"->catalogue<1.1.0,>=0.0.7->spacy>=2.2.2->en_core_web_sm==2.2.5) (3.4.0)\n",
            "\u001b[38;5;2m✔ Download and installation successful\u001b[0m\n",
            "You can now load the model via spacy.load('en_core_web_sm')\n",
            "Requirement already satisfied: en_core_web_md==2.2.5 from https://github.com/explosion/spacy-models/releases/download/en_core_web_md-2.2.5/en_core_web_md-2.2.5.tar.gz#egg=en_core_web_md==2.2.5 in /usr/local/lib/python3.6/dist-packages (2.2.5)\n",
            "Requirement already satisfied: spacy>=2.2.2 in /usr/local/lib/python3.6/dist-packages (from en_core_web_md==2.2.5) (2.2.4)\n",
            "Requirement already satisfied: srsly<1.1.0,>=1.0.2 in /usr/local/lib/python3.6/dist-packages (from spacy>=2.2.2->en_core_web_md==2.2.5) (1.0.4)\n",
            "Requirement already satisfied: blis<0.5.0,>=0.4.0 in /usr/local/lib/python3.6/dist-packages (from spacy>=2.2.2->en_core_web_md==2.2.5) (0.4.1)\n",
            "Requirement already satisfied: catalogue<1.1.0,>=0.0.7 in /usr/local/lib/python3.6/dist-packages (from spacy>=2.2.2->en_core_web_md==2.2.5) (1.0.0)\n",
            "Requirement already satisfied: numpy>=1.15.0 in /usr/local/lib/python3.6/dist-packages (from spacy>=2.2.2->en_core_web_md==2.2.5) (1.18.5)\n",
            "Requirement already satisfied: preshed<3.1.0,>=3.0.2 in /usr/local/lib/python3.6/dist-packages (from spacy>=2.2.2->en_core_web_md==2.2.5) (3.0.4)\n",
            "Requirement already satisfied: thinc==7.4.0 in /usr/local/lib/python3.6/dist-packages (from spacy>=2.2.2->en_core_web_md==2.2.5) (7.4.0)\n",
            "Requirement already satisfied: wasabi<1.1.0,>=0.4.0 in /usr/local/lib/python3.6/dist-packages (from spacy>=2.2.2->en_core_web_md==2.2.5) (0.8.0)\n",
            "Requirement already satisfied: plac<1.2.0,>=0.9.6 in /usr/local/lib/python3.6/dist-packages (from spacy>=2.2.2->en_core_web_md==2.2.5) (1.1.3)\n",
            "Requirement already satisfied: tqdm<5.0.0,>=4.38.0 in /usr/local/lib/python3.6/dist-packages (from spacy>=2.2.2->en_core_web_md==2.2.5) (4.41.1)\n",
            "Requirement already satisfied: requests<3.0.0,>=2.13.0 in /usr/local/lib/python3.6/dist-packages (from spacy>=2.2.2->en_core_web_md==2.2.5) (2.23.0)\n",
            "Requirement already satisfied: setuptools in /usr/local/lib/python3.6/dist-packages (from spacy>=2.2.2->en_core_web_md==2.2.5) (50.3.2)\n",
            "Requirement already satisfied: cymem<2.1.0,>=2.0.2 in /usr/local/lib/python3.6/dist-packages (from spacy>=2.2.2->en_core_web_md==2.2.5) (2.0.4)\n",
            "Requirement already satisfied: murmurhash<1.1.0,>=0.28.0 in /usr/local/lib/python3.6/dist-packages (from spacy>=2.2.2->en_core_web_md==2.2.5) (1.0.4)\n",
            "Requirement already satisfied: importlib-metadata>=0.20; python_version < \"3.8\" in /usr/local/lib/python3.6/dist-packages (from catalogue<1.1.0,>=0.0.7->spacy>=2.2.2->en_core_web_md==2.2.5) (2.0.0)\n",
            "Requirement already satisfied: certifi>=2017.4.17 in /usr/local/lib/python3.6/dist-packages (from requests<3.0.0,>=2.13.0->spacy>=2.2.2->en_core_web_md==2.2.5) (2020.11.8)\n",
            "Requirement already satisfied: urllib3!=1.25.0,!=1.25.1,<1.26,>=1.21.1 in /usr/local/lib/python3.6/dist-packages (from requests<3.0.0,>=2.13.0->spacy>=2.2.2->en_core_web_md==2.2.5) (1.24.3)\n",
            "Requirement already satisfied: idna<3,>=2.5 in /usr/local/lib/python3.6/dist-packages (from requests<3.0.0,>=2.13.0->spacy>=2.2.2->en_core_web_md==2.2.5) (2.10)\n",
            "Requirement already satisfied: chardet<4,>=3.0.2 in /usr/local/lib/python3.6/dist-packages (from requests<3.0.0,>=2.13.0->spacy>=2.2.2->en_core_web_md==2.2.5) (3.0.4)\n",
            "Requirement already satisfied: zipp>=0.5 in /usr/local/lib/python3.6/dist-packages (from importlib-metadata>=0.20; python_version < \"3.8\"->catalogue<1.1.0,>=0.0.7->spacy>=2.2.2->en_core_web_md==2.2.5) (3.4.0)\n",
            "\u001b[38;5;2m✔ Download and installation successful\u001b[0m\n",
            "You can now load the model via spacy.load('en_core_web_md')\n"
          ],
          "name": "stdout"
        }
      ]
    },
    {
      "cell_type": "code",
      "metadata": {
        "colab": {
          "base_uri": "https://localhost:8080/"
        },
        "id": "RJIXSyfLjret",
        "outputId": "f9bf4b24-5d36-4cd9-8b0f-200d810017aa"
      },
      "source": [
        "!python -m spacy download en_core_web_lg"
      ],
      "execution_count": 21,
      "outputs": [
        {
          "output_type": "stream",
          "text": [
            "Collecting en_core_web_lg==2.2.5\n",
            "\u001b[?25l  Downloading https://github.com/explosion/spacy-models/releases/download/en_core_web_lg-2.2.5/en_core_web_lg-2.2.5.tar.gz (827.9MB)\n",
            "\u001b[K     |████████████████████████████████| 827.9MB 1.1MB/s \n",
            "\u001b[?25hRequirement already satisfied: spacy>=2.2.2 in /usr/local/lib/python3.6/dist-packages (from en_core_web_lg==2.2.5) (2.2.4)\n",
            "Requirement already satisfied: setuptools in /usr/local/lib/python3.6/dist-packages (from spacy>=2.2.2->en_core_web_lg==2.2.5) (50.3.2)\n",
            "Requirement already satisfied: catalogue<1.1.0,>=0.0.7 in /usr/local/lib/python3.6/dist-packages (from spacy>=2.2.2->en_core_web_lg==2.2.5) (1.0.0)\n",
            "Requirement already satisfied: thinc==7.4.0 in /usr/local/lib/python3.6/dist-packages (from spacy>=2.2.2->en_core_web_lg==2.2.5) (7.4.0)\n",
            "Requirement already satisfied: cymem<2.1.0,>=2.0.2 in /usr/local/lib/python3.6/dist-packages (from spacy>=2.2.2->en_core_web_lg==2.2.5) (2.0.4)\n",
            "Requirement already satisfied: blis<0.5.0,>=0.4.0 in /usr/local/lib/python3.6/dist-packages (from spacy>=2.2.2->en_core_web_lg==2.2.5) (0.4.1)\n",
            "Requirement already satisfied: tqdm<5.0.0,>=4.38.0 in /usr/local/lib/python3.6/dist-packages (from spacy>=2.2.2->en_core_web_lg==2.2.5) (4.41.1)\n",
            "Requirement already satisfied: murmurhash<1.1.0,>=0.28.0 in /usr/local/lib/python3.6/dist-packages (from spacy>=2.2.2->en_core_web_lg==2.2.5) (1.0.4)\n",
            "Requirement already satisfied: requests<3.0.0,>=2.13.0 in /usr/local/lib/python3.6/dist-packages (from spacy>=2.2.2->en_core_web_lg==2.2.5) (2.23.0)\n",
            "Requirement already satisfied: numpy>=1.15.0 in /usr/local/lib/python3.6/dist-packages (from spacy>=2.2.2->en_core_web_lg==2.2.5) (1.18.5)\n",
            "Requirement already satisfied: wasabi<1.1.0,>=0.4.0 in /usr/local/lib/python3.6/dist-packages (from spacy>=2.2.2->en_core_web_lg==2.2.5) (0.8.0)\n",
            "Requirement already satisfied: srsly<1.1.0,>=1.0.2 in /usr/local/lib/python3.6/dist-packages (from spacy>=2.2.2->en_core_web_lg==2.2.5) (1.0.4)\n",
            "Requirement already satisfied: preshed<3.1.0,>=3.0.2 in /usr/local/lib/python3.6/dist-packages (from spacy>=2.2.2->en_core_web_lg==2.2.5) (3.0.4)\n",
            "Requirement already satisfied: plac<1.2.0,>=0.9.6 in /usr/local/lib/python3.6/dist-packages (from spacy>=2.2.2->en_core_web_lg==2.2.5) (1.1.3)\n",
            "Requirement already satisfied: importlib-metadata>=0.20; python_version < \"3.8\" in /usr/local/lib/python3.6/dist-packages (from catalogue<1.1.0,>=0.0.7->spacy>=2.2.2->en_core_web_lg==2.2.5) (2.0.0)\n",
            "Requirement already satisfied: certifi>=2017.4.17 in /usr/local/lib/python3.6/dist-packages (from requests<3.0.0,>=2.13.0->spacy>=2.2.2->en_core_web_lg==2.2.5) (2020.11.8)\n",
            "Requirement already satisfied: chardet<4,>=3.0.2 in /usr/local/lib/python3.6/dist-packages (from requests<3.0.0,>=2.13.0->spacy>=2.2.2->en_core_web_lg==2.2.5) (3.0.4)\n",
            "Requirement already satisfied: idna<3,>=2.5 in /usr/local/lib/python3.6/dist-packages (from requests<3.0.0,>=2.13.0->spacy>=2.2.2->en_core_web_lg==2.2.5) (2.10)\n",
            "Requirement already satisfied: urllib3!=1.25.0,!=1.25.1,<1.26,>=1.21.1 in /usr/local/lib/python3.6/dist-packages (from requests<3.0.0,>=2.13.0->spacy>=2.2.2->en_core_web_lg==2.2.5) (1.24.3)\n",
            "Requirement already satisfied: zipp>=0.5 in /usr/local/lib/python3.6/dist-packages (from importlib-metadata>=0.20; python_version < \"3.8\"->catalogue<1.1.0,>=0.0.7->spacy>=2.2.2->en_core_web_lg==2.2.5) (3.4.0)\n",
            "Building wheels for collected packages: en-core-web-lg\n",
            "  Building wheel for en-core-web-lg (setup.py) ... \u001b[?25l\u001b[?25hdone\n",
            "  Created wheel for en-core-web-lg: filename=en_core_web_lg-2.2.5-cp36-none-any.whl size=829180944 sha256=6bf1d53275cd6ebb171c74b6d9fe10ea196550ce5472297878d88a78cea6ea7a\n",
            "  Stored in directory: /tmp/pip-ephem-wheel-cache-6cd2lvd4/wheels/2a/c1/a6/fc7a877b1efca9bc6a089d6f506f16d3868408f9ff89f8dbfc\n",
            "Successfully built en-core-web-lg\n",
            "Installing collected packages: en-core-web-lg\n",
            "Successfully installed en-core-web-lg-2.2.5\n",
            "\u001b[38;5;2m✔ Download and installation successful\u001b[0m\n",
            "You can now load the model via spacy.load('en_core_web_lg')\n"
          ],
          "name": "stdout"
        }
      ]
    },
    {
      "cell_type": "code",
      "metadata": {
        "id": "X_c6oLD7fR4l"
      },
      "source": [
        "import spacy\n",
        "import nltk\n",
        "nlp = spacy.load(\"en_core_web_md\")\n",
        "\n",
        "setence = ' there is a country called Jordan and the basketball player name was Jordan'"
      ],
      "execution_count": 44,
      "outputs": []
    },
    {
      "cell_type": "code",
      "metadata": {
        "id": "NPmCF-aXnK1D"
      },
      "source": [
        "book1 = open('/content/Beyond good and Evil.txt', 'r').read()"
      ],
      "execution_count": 45,
      "outputs": []
    },
    {
      "cell_type": "code",
      "metadata": {
        "id": "lIoFDxdTnN16"
      },
      "source": [
        "book1 = book1.replace(\"\\n\",\" \")"
      ],
      "execution_count": 46,
      "outputs": []
    },
    {
      "cell_type": "code",
      "metadata": {
        "id": "dkWMwJUhf17k"
      },
      "source": [
        "sentences  = book1.split('.')\n",
        "docs = nlp(book1)"
      ],
      "execution_count": 48,
      "outputs": []
    },
    {
      "cell_type": "code",
      "metadata": {
        "id": "zI3PnTiqr2EN"
      },
      "source": [
        "import pandas as pd \n",
        "\n",
        "df = pd.DataFrame()"
      ],
      "execution_count": 120,
      "outputs": []
    },
    {
      "cell_type": "markdown",
      "metadata": {
        "id": "oN-X3DqgurBS"
      },
      "source": [
        ""
      ]
    },
    {
      "cell_type": "markdown",
      "metadata": {
        "id": "DlW6u-JmjgNk"
      },
      "source": [
        ""
      ]
    },
    {
      "cell_type": "code",
      "metadata": {
        "id": "0wxV454gh7-g"
      },
      "source": [
        "for index , ent in enumerate(docs.ents):\n",
        "  if ent.label_ in [\"NORP\",\"GPE\" , 'WORK_OF_ART']:\n",
        "    df[ent.text] = (ent.start_char, ent.end_char, ent.label, index)"
      ],
      "execution_count": 121,
      "outputs": []
    },
    {
      "cell_type": "code",
      "metadata": {
        "id": "9qYDNUmHr02k"
      },
      "source": [
        "df = df.T\n",
        "\n",
        "df['ent'] = df.index"
      ],
      "execution_count": 122,
      "outputs": []
    },
    {
      "cell_type": "code",
      "metadata": {
        "colab": {
          "base_uri": "https://localhost:8080/"
        },
        "id": "RjPX6PBAh8vH",
        "outputId": "dbf62e7e-df6a-4bc7-f2f4-abfcfb4e1790"
      },
      "source": [
        "df['ent'].value_counts().sort_values()\n"
      ],
      "execution_count": 124,
      "outputs": [
        {
          "output_type": "execute_result",
          "data": {
            "text/plain": [
              "France       1\n",
              "Frederick    1\n",
              "Dans le      1\n",
              "Venice       1\n",
              "VOILA UN     1\n",
              "            ..\n",
              "Bible        1\n",
              "European     1\n",
              "Horace       1\n",
              "Latin        1\n",
              "Oriental     1\n",
              "Name: ent, Length: 199, dtype: int64"
            ]
          },
          "metadata": {
            "tags": []
          },
          "execution_count": 124
        }
      ]
    },
    {
      "cell_type": "code",
      "metadata": {
        "colab": {
          "base_uri": "https://localhost:8080/"
        },
        "id": "s8NOdfUwjnEM",
        "outputId": "af2d4185-8245-4b3a-afd5-9645f7ec181e"
      },
      "source": [
        "!pip3 install flair\n",
        "import flair\n",
        "flair_sentiment = flair.models.TextClassifier.load('en-sentiment')"
      ],
      "execution_count": 126,
      "outputs": [
        {
          "output_type": "stream",
          "text": [
            "Requirement already satisfied: flair in /usr/local/lib/python3.6/dist-packages (0.7)\n",
            "Requirement already satisfied: sqlitedict>=1.6.0 in /usr/local/lib/python3.6/dist-packages (from flair) (1.7.0)\n",
            "Requirement already satisfied: ftfy in /usr/local/lib/python3.6/dist-packages (from flair) (5.8)\n",
            "Requirement already satisfied: segtok>=1.5.7 in /usr/local/lib/python3.6/dist-packages (from flair) (1.5.10)\n",
            "Requirement already satisfied: gensim<=3.8.3,>=3.4.0 in /usr/local/lib/python3.6/dist-packages (from flair) (3.6.0)\n",
            "Requirement already satisfied: langdetect in /usr/local/lib/python3.6/dist-packages (from flair) (1.0.8)\n",
            "Requirement already satisfied: bpemb>=0.3.2 in /usr/local/lib/python3.6/dist-packages (from flair) (0.3.2)\n",
            "Requirement already satisfied: janome in /usr/local/lib/python3.6/dist-packages (from flair) (0.4.1)\n",
            "Requirement already satisfied: mpld3==0.3 in /usr/local/lib/python3.6/dist-packages (from flair) (0.3)\n",
            "Requirement already satisfied: konoha<5.0.0,>=4.0.0 in /usr/local/lib/python3.6/dist-packages (from flair) (4.6.2)\n",
            "Requirement already satisfied: python-dateutil>=2.6.1 in /usr/local/lib/python3.6/dist-packages (from flair) (2.8.1)\n",
            "Requirement already satisfied: sentencepiece<=0.1.91 in /usr/local/lib/python3.6/dist-packages (from flair) (0.1.91)\n",
            "Requirement already satisfied: torch>=1.1.0 in /usr/local/lib/python3.6/dist-packages (from flair) (1.7.0+cu101)\n",
            "Requirement already satisfied: lxml in /usr/local/lib/python3.6/dist-packages (from flair) (4.2.6)\n",
            "Requirement already satisfied: scikit-learn>=0.21.3 in /usr/local/lib/python3.6/dist-packages (from flair) (0.22.2.post1)\n",
            "Requirement already satisfied: tabulate in /usr/local/lib/python3.6/dist-packages (from flair) (0.8.7)\n",
            "Requirement already satisfied: transformers<=3.5.1,>=3.5.0 in /usr/local/lib/python3.6/dist-packages (from flair) (3.5.1)\n",
            "Requirement already satisfied: gdown in /usr/local/lib/python3.6/dist-packages (from flair) (3.6.4)\n",
            "Requirement already satisfied: regex in /usr/local/lib/python3.6/dist-packages (from flair) (2019.12.20)\n",
            "Requirement already satisfied: deprecated>=1.2.4 in /usr/local/lib/python3.6/dist-packages (from flair) (1.2.10)\n",
            "Requirement already satisfied: hyperopt>=0.1.1 in /usr/local/lib/python3.6/dist-packages (from flair) (0.1.2)\n",
            "Requirement already satisfied: tqdm>=4.26.0 in /usr/local/lib/python3.6/dist-packages (from flair) (4.41.1)\n",
            "Requirement already satisfied: matplotlib>=2.2.3 in /usr/local/lib/python3.6/dist-packages (from flair) (3.2.2)\n",
            "Requirement already satisfied: wcwidth in /usr/local/lib/python3.6/dist-packages (from ftfy->flair) (0.2.5)\n",
            "Requirement already satisfied: smart-open>=1.2.1 in /usr/local/lib/python3.6/dist-packages (from gensim<=3.8.3,>=3.4.0->flair) (3.0.0)\n",
            "Requirement already satisfied: numpy>=1.11.3 in /usr/local/lib/python3.6/dist-packages (from gensim<=3.8.3,>=3.4.0->flair) (1.18.5)\n",
            "Requirement already satisfied: scipy>=0.18.1 in /usr/local/lib/python3.6/dist-packages (from gensim<=3.8.3,>=3.4.0->flair) (1.4.1)\n",
            "Requirement already satisfied: six>=1.5.0 in /usr/local/lib/python3.6/dist-packages (from gensim<=3.8.3,>=3.4.0->flair) (1.15.0)\n",
            "Requirement already satisfied: requests in /usr/local/lib/python3.6/dist-packages (from bpemb>=0.3.2->flair) (2.23.0)\n",
            "Requirement already satisfied: overrides==3.0.0 in /usr/local/lib/python3.6/dist-packages (from konoha<5.0.0,>=4.0.0->flair) (3.0.0)\n",
            "Requirement already satisfied: future in /usr/local/lib/python3.6/dist-packages (from torch>=1.1.0->flair) (0.16.0)\n",
            "Requirement already satisfied: typing-extensions in /usr/local/lib/python3.6/dist-packages (from torch>=1.1.0->flair) (3.7.4.3)\n",
            "Requirement already satisfied: dataclasses in /usr/local/lib/python3.6/dist-packages (from torch>=1.1.0->flair) (0.8)\n",
            "Requirement already satisfied: joblib>=0.11 in /usr/local/lib/python3.6/dist-packages (from scikit-learn>=0.21.3->flair) (0.17.0)\n",
            "Requirement already satisfied: protobuf in /usr/local/lib/python3.6/dist-packages (from transformers<=3.5.1,>=3.5.0->flair) (3.12.4)\n",
            "Requirement already satisfied: sacremoses in /usr/local/lib/python3.6/dist-packages (from transformers<=3.5.1,>=3.5.0->flair) (0.0.43)\n",
            "Requirement already satisfied: tokenizers==0.9.3 in /usr/local/lib/python3.6/dist-packages (from transformers<=3.5.1,>=3.5.0->flair) (0.9.3)\n",
            "Requirement already satisfied: packaging in /usr/local/lib/python3.6/dist-packages (from transformers<=3.5.1,>=3.5.0->flair) (20.4)\n",
            "Requirement already satisfied: filelock in /usr/local/lib/python3.6/dist-packages (from transformers<=3.5.1,>=3.5.0->flair) (3.0.12)\n",
            "Requirement already satisfied: wrapt<2,>=1.10 in /usr/local/lib/python3.6/dist-packages (from deprecated>=1.2.4->flair) (1.12.1)\n",
            "Requirement already satisfied: pymongo in /usr/local/lib/python3.6/dist-packages (from hyperopt>=0.1.1->flair) (3.11.1)\n",
            "Requirement already satisfied: networkx in /usr/local/lib/python3.6/dist-packages (from hyperopt>=0.1.1->flair) (2.5)\n",
            "Requirement already satisfied: kiwisolver>=1.0.1 in /usr/local/lib/python3.6/dist-packages (from matplotlib>=2.2.3->flair) (1.3.1)\n",
            "Requirement already satisfied: cycler>=0.10 in /usr/local/lib/python3.6/dist-packages (from matplotlib>=2.2.3->flair) (0.10.0)\n",
            "Requirement already satisfied: pyparsing!=2.0.4,!=2.1.2,!=2.1.6,>=2.0.1 in /usr/local/lib/python3.6/dist-packages (from matplotlib>=2.2.3->flair) (2.4.7)\n",
            "Requirement already satisfied: certifi>=2017.4.17 in /usr/local/lib/python3.6/dist-packages (from requests->bpemb>=0.3.2->flair) (2020.11.8)\n",
            "Requirement already satisfied: chardet<4,>=3.0.2 in /usr/local/lib/python3.6/dist-packages (from requests->bpemb>=0.3.2->flair) (3.0.4)\n",
            "Requirement already satisfied: urllib3!=1.25.0,!=1.25.1,<1.26,>=1.21.1 in /usr/local/lib/python3.6/dist-packages (from requests->bpemb>=0.3.2->flair) (1.24.3)\n",
            "Requirement already satisfied: idna<3,>=2.5 in /usr/local/lib/python3.6/dist-packages (from requests->bpemb>=0.3.2->flair) (2.10)\n",
            "Requirement already satisfied: setuptools in /usr/local/lib/python3.6/dist-packages (from protobuf->transformers<=3.5.1,>=3.5.0->flair) (50.3.2)\n",
            "Requirement already satisfied: click in /usr/local/lib/python3.6/dist-packages (from sacremoses->transformers<=3.5.1,>=3.5.0->flair) (7.1.2)\n",
            "Requirement already satisfied: decorator>=4.3.0 in /usr/local/lib/python3.6/dist-packages (from networkx->hyperopt>=0.1.1->flair) (4.4.2)\n",
            "2020-12-06 20:34:09,863 loading file /root/.flair/models/sentiment-en-mix-distillbert_3.1.pt\n"
          ],
          "name": "stdout"
        }
      ]
    },
    {
      "cell_type": "code",
      "metadata": {
        "colab": {
          "base_uri": "https://localhost:8080/"
        },
        "id": "BZ-m5AX6nM0f",
        "outputId": "ab5e1726-58bf-44c7-8e97-b674caaf357f"
      },
      "source": [
        "#s = flair.data.Sentence(sentences)"
      ],
      "execution_count": 138,
      "outputs": [
        {
          "output_type": "execute_result",
          "data": {
            "text/plain": [
              "1473"
            ]
          },
          "metadata": {
            "tags": []
          },
          "execution_count": 138
        }
      ]
    },
    {
      "cell_type": "code",
      "metadata": {
        "colab": {
          "base_uri": "https://localhost:8080/",
          "height": 1000
        },
        "id": "3-gKzLJUw4CP",
        "outputId": "791113da-50b7-42c0-8261-bd2949472882"
      },
      "source": [
        "for i in sentences:\n",
        "  s = flair.data.Sentence(i)\n",
        "  flair_sentiment.predict(s)\n",
        "  total_sentiment = s.labels\n",
        "  print(s,total_sentiment)"
      ],
      "execution_count": 141,
      "outputs": [
        {
          "output_type": "stream",
          "text": [
            "Sentence: \"It may be looked upon as the result of an extraordinary atavism , that the ordinary man , even at present , is still always WAITING for an opinion about himself , and then instinctively submitting himself to it ; yet by no means only to a \" good \" opinion , but also to a bad and unjust one ( think , for instance , of the greater part of the self-appreciations and self-depreciations which believing women learn from their confessors , and which in general the believing Christian learns from his Church )\"   [− Tokens: 95  − Sentence-Labels: {'label': [NEGATIVE (0.945)]}] [NEGATIVE (0.945)]\n",
            "Sentence: \"In fact , conformably to the slow rise of the democratic social order ( and its cause , the blending of the blood of masters and slaves ) , the originally noble and rare impulse of the masters to assign a value to themselves and to \" think well \" of themselves , will now be more and more encouraged and extended ; but it has at all times an older , ampler , and more radically ingrained propensity opposed to it -- and in the phenomenon of \" vanity \" this older propensity overmasters the younger\"   [− Tokens: 97  − Sentence-Labels: {'label': [POSITIVE (0.6421)]}] [POSITIVE (0.6421)]\n",
            "Sentence: \"The vain person rejoices over EVERY good opinion which he hears about himself ( quite apart from the point of view of its usefulness , and equally regardless of its truth or falsehood ) , just as he suffers from every bad opinion : for he subjects himself to both , he feels himself subjected to both , by that oldest instinct of subjection which breaks forth in him\"   [− Tokens: 69  − Sentence-Labels: {'label': [NEGATIVE (0.9995)]}] [NEGATIVE (0.9995)]\n",
            "Sentence: \"-- It is \" the slave \" in the vain man 's blood , the remains of the slave 's craftiness -- and how much of the \" slave \" is still left in woman , for instance !-- which seeks to SEDUCE to good opinions of itself ; it is the slave , too , who immediately afterwards falls prostrate himself before these opinions , as though he had not called them forth\"   [− Tokens: 74  − Sentence-Labels: {'label': [NEGATIVE (0.9881)]}] [NEGATIVE (0.9881)]\n",
            "Sentence: \"-- And to repeat it again : vanity is an atavism\"   [− Tokens: 11  − Sentence-Labels: {'label': [NEGATIVE (0.9975)]}] [NEGATIVE (0.9975)]\n",
            "Sentence: \"262\"   [− Tokens: 1  − Sentence-Labels: {'label': [NEGATIVE (0.7154)]}] [NEGATIVE (0.7154)]\n",
            "Sentence: \"A SPECIES originates , and a type becomes established and strong in the long struggle with essentially constant UNFAVOURABLE conditions\"   [− Tokens: 20  − Sentence-Labels: {'label': [POSITIVE (0.9962)]}] [POSITIVE (0.9962)]\n",
            "Sentence: \"On the other hand , it is known by the experience of breeders that species which receive super-abundant nourishment , and in general a surplus of protection and care , immediately tend in the most marked way to develop variations , and are fertile in prodigies and monstrosities ( also in monstrous vices )\"   [− Tokens: 54  − Sentence-Labels: {'label': [POSITIVE (0.9941)]}] [POSITIVE (0.9941)]\n",
            "Sentence: \"Now look at an aristocratic commonwealth , say an ancient Greek polis , or Venice , as a voluntary or involuntary contrivance for the purpose of REARING human beings ; there are there men beside one another , thrown upon their own resources , who want to make their species prevail , chiefly because they MUST prevail , or else run the terrible danger of being exterminated\"   [− Tokens: 67  − Sentence-Labels: {'label': [NEGATIVE (0.9191)]}] [NEGATIVE (0.9191)]\n",
            "Sentence: \"The favour , the super-abundance , the protection are there lacking under which variations are fostered ; the species needs itself as species , as something which , precisely by virtue of its hardness , its uniformity , and simplicity of structure , can in general prevail and make itself permanent in constant struggle with its neighbours , or with rebellious or rebellion-threatening vassals\"   [− Tokens: 64  − Sentence-Labels: {'label': [POSITIVE (0.9936)]}] [POSITIVE (0.9936)]\n",
            "Sentence: \"The most varied experience teaches it what are the qualities to which it principally owes the fact that it still exists , in spite of all Gods and men , and has hitherto been victorious : these qualities it calls virtues , and these virtues alone it develops to maturity\"   [− Tokens: 50  − Sentence-Labels: {'label': [POSITIVE (0.9985)]}] [POSITIVE (0.9985)]\n",
            "Sentence: \"It does so with severity , indeed it desires severity ; every aristocratic morality is intolerant in the education of youth , in the control of women , in the marriage customs , in the relations of old and young , in the penal laws ( which have an eye only for the degenerating ) : it counts intolerance itself among the virtues , under the name of \" justice\"   [− Tokens: 70  − Sentence-Labels: {'label': [POSITIVE (0.8273)]}] [POSITIVE (0.8273)]\n",
            "Sentence: \"\" A type with few , but very marked features , a species of severe , warlike , wisely silent , reserved , and reticent men ( and as such , with the most delicate sensibility for the charm and nuances of society ) is thus established , unaffected by the vicissitudes of generations ; the constant struggle with uniform UNFAVOURABLE conditions is , as already remarked , the cause of a type becoming stable and hard\"   [− Tokens: 77  − Sentence-Labels: {'label': [POSITIVE (0.9993)]}] [POSITIVE (0.9993)]\n",
            "Sentence: \"Finally , however , a happy state of things results , the enormous tension is relaxed ; there are perhaps no more enemies among the neighbouring peoples , and the means of life , even of the enjoyment of life , are present in superabundance\"   [− Tokens: 45  − Sentence-Labels: {'label': [POSITIVE (0.9788)]}] [POSITIVE (0.9788)]\n",
            "Sentence: \"With one stroke the bond and constraint of the old discipline severs : it is no longer regarded as necessary , as a condition of existence -- if it would continue , it can only do so as a form of LUXURY , as an archaizing TASTE\"   [− Tokens: 47  − Sentence-Labels: {'label': [POSITIVE (0.6758)]}] [POSITIVE (0.6758)]\n",
            "Sentence: \"Variations , whether they be deviations ( into the higher , finer , and rarer ) , or deteriorations and monstrosities , appear suddenly on the scene in the greatest exuberance and splendour ; the individual dares to be individual and detach himself\"   [− Tokens: 43  − Sentence-Labels: {'label': [POSITIVE (0.9994)]}] [POSITIVE (0.9994)]\n",
            "Sentence: \"At this turning-point of history there manifest themselves , side by side , and often mixed and entangled together , a magnificent , manifold , virgin-forest-like up-growth and up-striving , a kind of TROPICAL TEMPO in the rivalry of growth , and an extraordinary decay and self-destruction , owing to the savagely opposing and seemingly exploding egoisms , which strive with one another \" for sun and light ,\" and can no longer assign any limit , restraint , or forbearance for themselves by means of the hitherto existing morality\"   [− Tokens: 90  − Sentence-Labels: {'label': [POSITIVE (0.906)]}] [POSITIVE (0.906)]\n",
            "Sentence: \"It was this morality itself which piled up the strength so enormously , which bent the bow in so threatening a manner :-- it is now \" out of date ,\" it is getting \" out of date\"   [− Tokens: 38  − Sentence-Labels: {'label': [NEGATIVE (0.9996)]}] [NEGATIVE (0.9996)]\n",
            "Sentence: \"\" The dangerous and disquieting point has been reached when the greater , more manifold , more comprehensive life IS LIVED BEYOND the old morality ; the \" individual \" stands out , and is obliged to have recourse to his own law-giving , his own arts and artifices for self-preservation , self-elevation , and self-deliverance\"   [− Tokens: 56  − Sentence-Labels: {'label': [POSITIVE (0.9858)]}] [POSITIVE (0.9858)]\n",
            "Sentence: \"Nothing but new \" Whys ,\" nothing but new \" Hows ,\" no common formulas any longer , misunderstanding and disregard in league with each other , decay , deterioration , and the loftiest desires frightfully entangled , the genius of the race overflowing from all the cornucopias of good and bad , a portentous simultaneousness of Spring and Autumn , full of new charms and mysteries peculiar to the fresh , still inexhausted , still unwearied corruption\"   [− Tokens: 78  − Sentence-Labels: {'label': [POSITIVE (0.7404)]}] [POSITIVE (0.7404)]\n",
            "Sentence: \"Danger is again present , the mother of morality , great danger ; this time shifted into the individual , into the neighbour and friend , into the street , into their own child , into their own heart , into all the most personal and secret recesses of their desires and volitions\"   [− Tokens: 53  − Sentence-Labels: {'label': [POSITIVE (0.9931)]}] [POSITIVE (0.9931)]\n",
            "Sentence: \"What will the moral philosophers who appear at this time have to preach ? They discover , these sharp onlookers and loafers , that the end is quickly approaching , that everything around them decays and produces decay , that nothing will endure until the day after tomorrow , except one species of man , the incurably MEDIOCRE\"   [− Tokens: 58  − Sentence-Labels: {'label': [NEGATIVE (1.0)]}] [NEGATIVE (1.0)]\n",
            "Sentence: \"The mediocre alone have a prospect of continuing and propagating themselves -- they will be the men of the future , the sole survivors ; \" be like them ! become mediocre !\" is now the only morality which has still a significance , which still obtains a hearing\"   [− Tokens: 49  − Sentence-Labels: {'label': [NEGATIVE (0.9994)]}] [NEGATIVE (0.9994)]\n",
            "Sentence: \"-- But it is difficult to preach this morality of mediocrity ! it can never avow what it is and what it desires ! it has to talk of moderation and dignity and duty and brotherly love -- it will have difficulty IN CONCEALING ITS IRONY ! 263\"   [− Tokens: 48  − Sentence-Labels: {'label': [NEGATIVE (0.997)]}] [NEGATIVE (0.997)]\n",
            "Sentence: \"There is an INSTINCT FOR RANK , which more than anything else is already the sign of a HIGH rank ; there is a DELIGHT in the NUANCES of reverence which leads one to infer noble origin and habits\"   [− Tokens: 39  − Sentence-Labels: {'label': [POSITIVE (0.9994)]}] [POSITIVE (0.9994)]\n",
            "Sentence: \"The refinement , goodness , and loftiness of a soul are put to a perilous test when something passes by that is of the highest rank , but is not yet protected by the awe of authority from obtrusive touches and incivilities : something that goes its way like a living touchstone , undistinguished , undiscovered , and tentative , perhaps voluntarily veiled and disguised\"   [− Tokens: 65  − Sentence-Labels: {'label': [POSITIVE (0.5098)]}] [POSITIVE (0.5098)]\n",
            "Sentence: \"He whose task and practice it is to investigate souls , will avail himself of many varieties of this very art to determine the ultimate value of a soul , the unalterable , innate order of rank to which it belongs : he will test it by its INSTINCT FOR REVERENCE\"   [− Tokens: 51  − Sentence-Labels: {'label': [POSITIVE (0.9996)]}] [POSITIVE (0.9996)]\n",
            "Sentence: \"DIFFERENCE ENGENDRE HAINE : the vulgarity of many a nature spurts up suddenly like dirty water , when any holy vessel , any jewel from closed shrines , any book bearing the marks of great destiny , is brought before it ; while on the other hand , there is an involuntary silence , a hesitation of the eye , a cessation of all gestures , by which it is indicated that a soul FEELS the nearness of what is worthiest of respect\"   [− Tokens: 83  − Sentence-Labels: {'label': [POSITIVE (0.7754)]}] [POSITIVE (0.7754)]\n",
            "Sentence: \"The way in which , on the whole , the reverence for the BIBLE has hitherto been maintained in Europe , is perhaps the best example of discipline and refinement of manners which Europe owes to Christianity : books of such profoundness and supreme significance require for their protection an external tyranny of authority , in order to acquire the PERIOD of thousands of years which is necessary to exhaust and unriddle them\"   [− Tokens: 73  − Sentence-Labels: {'label': [POSITIVE (0.9998)]}] [POSITIVE (0.9998)]\n",
            "Sentence: \"Much has been achieved when the sentiment has been at last instilled into the masses ( the shallow-pates and the boobies of every kind ) that they are not allowed to touch everything , that there are holy experiences before which they must take off their shoes and keep away the unclean hand -- it is almost their highest advance towards humanity\"   [− Tokens: 62  − Sentence-Labels: {'label': [NEGATIVE (0.6675)]}] [NEGATIVE (0.6675)]\n",
            "Sentence: \"On the contrary , in the so-called cultured classes , the believers in \" modern ideas ,\" nothing is perhaps so repulsive as their lack of shame , the easy insolence of eye and hand with which they touch , taste , and finger everything ; and it is possible that even yet there is more RELATIVE nobility of taste , and more tact for reverence among the people , among the lower classes of the people , especially among peasants , than among the newspaper-reading DEMIMONDE of intellect , the cultured class\"   [− Tokens: 93  − Sentence-Labels: {'label': [POSITIVE (0.5751)]}] [POSITIVE (0.5751)]\n",
            "Sentence: \"264\"   [− Tokens: 1  − Sentence-Labels: {'label': [POSITIVE (0.8098)]}] [POSITIVE (0.8098)]\n",
            "Sentence: \"It cannot be effaced from a man 's soul what his ancestors have preferably and most constantly done : whether they were perhaps diligent economizers attached to a desk and a cash-box , modest and citizen-like in their desires , modest also in their virtues ; or whether they were accustomed to commanding from morning till night , fond of rude pleasures and probably of still ruder duties and responsibilities ; or whether , finally , at one time or another , they have sacrificed old privileges of birth and possession , in order to live wholly for their faith -- for their \" God ,\"-- as men of an inexorable and sensitive conscience , which blushes at every compromise\"   [− Tokens: 120  − Sentence-Labels: {'label': [NEGATIVE (0.9783)]}] [NEGATIVE (0.9783)]\n",
            "Sentence: \"It is quite impossible for a man NOT to have the qualities and predilections of his parents and ancestors in his constitution , whatever appearances may suggest to the contrary\"   [− Tokens: 30  − Sentence-Labels: {'label': [POSITIVE (0.9101)]}] [POSITIVE (0.9101)]\n",
            "Sentence: \"This is the problem of race\"   [− Tokens: 6  − Sentence-Labels: {'label': [NEGATIVE (0.9904)]}] [NEGATIVE (0.9904)]\n",
            "Sentence: \"Granted that one knows something of the parents , it is admissible to draw a conclusion about the child : any kind of offensive incontinence , any kind of sordid envy , or of clumsy self-vaunting -- the three things which together have constituted the genuine plebeian type in all times -- such must pass over to the child , as surely as bad blood ; and with the help of the best education and culture one will only succeed in DECEIVING with regard to such heredity\"   [− Tokens: 87  − Sentence-Labels: {'label': [NEGATIVE (0.9997)]}] [NEGATIVE (0.9997)]\n",
            "Sentence: \"-- And what else does education and culture try to do nowadays ! In our very democratic , or rather , very plebeian age , \" education \" and \" culture \" MUST be essentially the art of deceiving -- deceiving with regard to origin , with regard to the inherited plebeianism in body and soul\"   [− Tokens: 56  − Sentence-Labels: {'label': [NEGATIVE (0.9917)]}] [NEGATIVE (0.9917)]\n",
            "Sentence: \"An educator who nowadays preached truthfulness above everything else , and called out constantly to his pupils : \" Be true ! Be natural ! Show yourselves as you are !\"-- even such a virtuous and sincere ass would learn in a short time to have recourse to the FURCA of Horace , NATURAM EXPELLERE : with what results ? \" Plebeianism \" USQUE RECURRET\"   [− Tokens: 65  − Sentence-Labels: {'label': [POSITIVE (0.8576)]}] [POSITIVE (0.8576)]\n",
            "Sentence: \"[ FOOTNOTE : Horace 's \" Epistles ,\" I\"   [− Tokens: 9  − Sentence-Labels: {'label': [POSITIVE (0.7339)]}] [POSITIVE (0.7339)]\n",
            "Sentence: \"x\"   [− Tokens: 1  − Sentence-Labels: {'label': [POSITIVE (0.6904)]}] [POSITIVE (0.6904)]\n",
            "Sentence: \"24\"   [− Tokens: 1  − Sentence-Labels: {'label': [POSITIVE (0.9633)]}] [POSITIVE (0.9633)]\n",
            "Sentence: \"] 265\"   [− Tokens: 2  − Sentence-Labels: {'label': [POSITIVE (0.8944)]}] [POSITIVE (0.8944)]\n",
            "Sentence: \"At the risk of displeasing innocent ears , I submit that egoism belongs to the essence of a noble soul , I mean the unalterable belief that to a being such as \" we ,\" other beings must naturally be in subjection , and have to sacrifice themselves\"   [− Tokens: 48  − Sentence-Labels: {'label': [NEGATIVE (0.8896)]}] [NEGATIVE (0.8896)]\n",
            "Sentence: \"The noble soul accepts the fact of his egoism without question , and also without consciousness of harshness , constraint , or arbitrariness therein , but rather as something that may have its basis in the primary law of things :-- if he sought a designation for it he would say : \" It is justice itself\"   [− Tokens: 57  − Sentence-Labels: {'label': [POSITIVE (0.9966)]}] [POSITIVE (0.9966)]\n",
            "Sentence: \"\" He acknowledges under certain circumstances , which made him hesitate at first , that there are other equally privileged ones ; as soon as he has settled this question of rank , he moves among those equals and equally privileged ones with the same assurance , as regards modesty and delicate respect , which he enjoys in intercourse with himself -- in accordance with an innate heavenly mechanism which all the stars understand\"   [− Tokens: 74  − Sentence-Labels: {'label': [POSITIVE (0.9998)]}] [POSITIVE (0.9998)]\n",
            "Sentence: \"It is an ADDITIONAL instance of his egoism , this artfulness and self-limitation in intercourse with his equals -- every star is a similar egoist ; he honours HIMSELF in them , and in the rights which he concedes to them , he has no doubt that the exchange of honours and rights , as the ESSENCE of all intercourse , belongs also to the natural condition of things\"   [− Tokens: 69  − Sentence-Labels: {'label': [POSITIVE (0.9925)]}] [POSITIVE (0.9925)]\n",
            "Sentence: \"The noble soul gives as he takes , prompted by the passionate and sensitive instinct of requital , which is at the root of his nature\"   [− Tokens: 26  − Sentence-Labels: {'label': [POSITIVE (0.9996)]}] [POSITIVE (0.9996)]\n",
            "Sentence: \"The notion of \" favour \" has , INTER PARES , neither significance nor good repute ; there may be a sublime way of letting gifts as it were light upon one from above , and of drinking them thirstily like dew-drops ; but for those arts and displays the noble soul has no aptitude\"   [− Tokens: 55  − Sentence-Labels: {'label': [NEGATIVE (0.9645)]}] [NEGATIVE (0.9645)]\n",
            "Sentence: \"His egoism hinders him here : in general , he looks \" aloft \" unwillingly -- he looks either FORWARD , horizontally and deliberately , or downwards -- HE KNOWS THAT HE IS ON A HEIGHT\"   [− Tokens: 36  − Sentence-Labels: {'label': [NEGATIVE (0.9477)]}] [NEGATIVE (0.9477)]\n",
            "Sentence: \"266\"   [− Tokens: 1  − Sentence-Labels: {'label': [NEGATIVE (0.8735)]}] [NEGATIVE (0.8735)]\n",
            "Sentence: \"\" One can only truly esteem him who does not LOOK OUT FOR himself\"   [− Tokens: 14  − Sentence-Labels: {'label': [POSITIVE (0.8721)]}] [POSITIVE (0.8721)]\n",
            "Sentence: \"\"-- Goethe to Rath Schlosser\"   [− Tokens: 5  − Sentence-Labels: {'label': [POSITIVE (0.9728)]}] [POSITIVE (0.9728)]\n",
            "Sentence: \"267\"   [− Tokens: 1  − Sentence-Labels: {'label': [POSITIVE (0.661)]}] [POSITIVE (0.661)]\n",
            "Sentence: \"The Chinese have a proverb which mothers even teach their children : \" SIAO-SIN \" (\" MAKE THY HEART SMALL \")\"   [− Tokens: 21  − Sentence-Labels: {'label': [NEGATIVE (0.6041)]}] [NEGATIVE (0.6041)]\n",
            "Sentence: \"This is the essentially fundamental tendency in latter-day civilizations\"   [− Tokens: 9  − Sentence-Labels: {'label': [POSITIVE (0.9983)]}] [POSITIVE (0.9983)]\n",
            "Sentence: \"I have no doubt that an ancient Greek , also , would first of all remark the self-dwarfing in us Europeans of today -- in this respect alone we should immediately be \" distasteful \" to him\"   [− Tokens: 37  − Sentence-Labels: {'label': [NEGATIVE (0.9999)]}] [NEGATIVE (0.9999)]\n",
            "Sentence: \"268\"   [− Tokens: 1  − Sentence-Labels: {'label': [NEGATIVE (0.8126)]}] [NEGATIVE (0.8126)]\n",
            "Sentence: \"What , after all , is ignobleness ?-- Words are vocal symbols for ideas ; ideas , however , are more or less definite mental symbols for frequently returning and concurring sensations , for groups of sensations\"   [− Tokens: 37  − Sentence-Labels: {'label': [NEGATIVE (0.9775)]}] [NEGATIVE (0.9775)]\n",
            "Sentence: \"It is not sufficient to use the same words in order to understand one another : we must also employ the same words for the same kind of internal experiences , we must in the end have experiences IN COMMON\"   [− Tokens: 40  − Sentence-Labels: {'label': [NEGATIVE (0.9997)]}] [NEGATIVE (0.9997)]\n",
            "Sentence: \"On this account the people of one nation understand one another better than those belonging to different nations , even when they use the same language ; or rather , when people have lived long together under similar conditions ( of climate , soil , danger , requirement , toil ) there ORIGINATES therefrom an entity that \" understands itself \"-- namely , a nation\"   [− Tokens: 65  − Sentence-Labels: {'label': [POSITIVE (0.5397)]}] [POSITIVE (0.5397)]\n",
            "Sentence: \"In all souls a like number of frequently recurring experiences have gained the upper hand over those occurring more rarely : about these matters people understand one another rapidly and always more rapidly -- the history of language is the history of a process of abbreviation ; on the basis of this quick comprehension people always unite closer and closer\"   [− Tokens: 60  − Sentence-Labels: {'label': [POSITIVE (0.9998)]}] [POSITIVE (0.9998)]\n",
            "Sentence: \"The greater the danger , the greater is the need of agreeing quickly and readily about what is necessary ; not to misunderstand one another in danger -- that is what cannot at all be dispensed with in intercourse\"   [− Tokens: 39  − Sentence-Labels: {'label': [POSITIVE (0.978)]}] [POSITIVE (0.978)]\n",
            "Sentence: \"Also in all loves and friendships one has the experience that nothing of the kind continues when the discovery has been made that in using the same words , one of the two parties has feelings , thoughts , intuitions , wishes , or fears different from those of the other\"   [− Tokens: 51  − Sentence-Labels: {'label': [POSITIVE (0.9991)]}] [POSITIVE (0.9991)]\n",
            "Sentence: \"( The fear of the \" eternal misunderstanding \" : that is the good genius which so often keeps persons of different sexes from too hasty attachments , to which sense and heart prompt them -- and NOT some Schopenhauerian \" genius of the species \"!) Whichever groups of sensations within a soul awaken most readily , begin to speak , and give the word of command -- these decide as to the general order of rank of its values , and determine ultimately its list of desirable things\"   [− Tokens: 89  − Sentence-Labels: {'label': [POSITIVE (0.9978)]}] [POSITIVE (0.9978)]\n",
            "Sentence: \"A man 's estimates of value betray something of the STRUCTURE of his soul , and wherein it sees its conditions of life , its intrinsic needs\"   [− Tokens: 27  − Sentence-Labels: {'label': [POSITIVE (0.979)]}] [POSITIVE (0.979)]\n",
            "Sentence: \"Supposing now that necessity has from all time drawn together only such men as could express similar requirements and similar experiences by similar symbols , it results on the whole that the easy COMMUNICABILITY of need , which implies ultimately the undergoing only of average and COMMON experiences , must have been the most potent of all the forces which have hitherto operated upon mankind\"   [− Tokens: 65  − Sentence-Labels: {'label': [POSITIVE (0.9989)]}] [POSITIVE (0.9989)]\n",
            "Sentence: \"The more similar , the more ordinary people , have always had and are still having the advantage ; the more select , more refined , more unique , and difficultly comprehensible , are liable to stand alone ; they succumb to accidents in their isolation , and seldom propagate themselves\"   [− Tokens: 51  − Sentence-Labels: {'label': [POSITIVE (0.7313)]}] [POSITIVE (0.7313)]\n",
            "Sentence: \"One must appeal to immense opposing forces , in order to thwart this natural , all-too-natural PROGRESSUS IN SIMILE , the evolution of man to the similar , the ordinary , the average , the gregarious -- to the IGNOBLE -- ! 269\"   [− Tokens: 43  − Sentence-Labels: {'label': [NEGATIVE (0.8617)]}] [NEGATIVE (0.8617)]\n",
            "Sentence: \"The more a psychologist -- a born , an unavoidable psychologist and soul-diviner -- turns his attention to the more select cases and individuals , the greater is his danger of being suffocated by sympathy : he NEEDS sternness and cheerfulness more than any other man\"   [− Tokens: 46  − Sentence-Labels: {'label': [NEGATIVE (0.5325)]}] [NEGATIVE (0.5325)]\n",
            "Sentence: \"For the corruption , the ruination of higher men , of the more unusually constituted souls , is in fact , the rule : it is dreadful to have such a rule always before one 's eyes\"   [− Tokens: 37  − Sentence-Labels: {'label': [NEGATIVE (0.9977)]}] [NEGATIVE (0.9977)]\n",
            "Sentence: \"The manifold torment of the psychologist who has discovered this ruination , who discovers once , and then discovers ALMOST repeatedly throughout all history , this universal inner \" desperateness \" of higher men , this eternal \" too late !\" in every sense -- may perhaps one day be the cause of his turning with bitterness against his own lot , and of his making an attempt at self-destruction -- of his \" going to ruin \" himself\"   [− Tokens: 79  − Sentence-Labels: {'label': [NEGATIVE (0.9997)]}] [NEGATIVE (0.9997)]\n",
            "Sentence: \"One may perceive in almost every psychologist a tell-tale inclination for delightful intercourse with commonplace and well-ordered men ; the fact is thereby disclosed that he always requires healing , that he needs a sort of flight and forgetfulness , away from what his insight and incisiveness -- from what his \" business \"-- has laid upon his conscience\"   [− Tokens: 59  − Sentence-Labels: {'label': [POSITIVE (0.9215)]}] [POSITIVE (0.9215)]\n",
            "Sentence: \"The fear of his memory is peculiar to him\"   [− Tokens: 9  − Sentence-Labels: {'label': [NEGATIVE (0.9985)]}] [NEGATIVE (0.9985)]\n",
            "Sentence: \"He is easily silenced by the judgment of others ; he hears with unmoved countenance how people honour , admire , love , and glorify , where he has PERCEIVED -- or he even conceals his silence by expressly assenting to some plausible opinion\"   [− Tokens: 44  − Sentence-Labels: {'label': [NEGATIVE (0.7398)]}] [NEGATIVE (0.7398)]\n",
            "Sentence: \"Perhaps the paradox of his situation becomes so dreadful that , precisely where he has learnt GREAT SYMPATHY , together with great CONTEMPT , the multitude , the educated , and the visionaries , have on their part learnt great reverence -- reverence for \" great men \" and marvelous animals , for the sake of whom one blesses and honours the fatherland , the earth , the dignity of mankind , and one 's own self , to whom one points the young , and in view of whom one educates them\"   [− Tokens: 93  − Sentence-Labels: {'label': [NEGATIVE (0.9986)]}] [NEGATIVE (0.9986)]\n",
            "Sentence: \"And who knows but in all great instances hitherto just the same happened : that the multitude worshipped a God , and that the \" God \" was only a poor sacrificial animal ! SUCCESS has always been the greatest liar -- and the \" work \" itself is a success ; the great statesman , the conqueror , the discoverer , are disguised in their creations until they are unrecognizable ; the \" work \" of the artist , of the philosopher , only invents him who has created it , is REPUTED to have created it ; the \" great men ,\" as they are reverenced , are poor little fictions composed afterwards ; in the world of historical values spurious coinage PREVAILS\"   [− Tokens: 125  − Sentence-Labels: {'label': [NEGATIVE (0.9981)]}] [NEGATIVE (0.9981)]\n",
            "Sentence: \"Those great poets , for example , such as Byron , Musset , Poe , Leopardi , Kleist , Gogol ( I do not venture to mention much greater names , but I have them in my mind ) , as they now appear , and were perhaps obliged to be : men of the moment , enthusiastic , sensuous , and childish , light-minded and impulsive in their trust and distrust ; with souls in which usually some flaw has to be concealed ; often taking revenge with their works for an internal defilement , often seeking forgetfulness in their soaring from a too true memory , often lost in the mud and almost in love with it , until they become like the Will-o '- the-Wisps around the swamps , and PRETEND TO BE stars -- the people then call them idealists ,-- often struggling with protracted disgust , with an ever-reappearing phantom of disbelief , which makes them cold , and obliges them to languish for GLORIA and devour \" faith as it is \" out of the hands of intoxicated adulators :-- what a TORMENT these great artists are and the so-called higher men in general , to him who has once found them out ! It is thus conceivable that it is just from woman -- who is clairvoyant in the world of suffering , and also unfortunately eager to help and save to an extent far beyond her powers -- that THEY have learnt so readily those outbreaks of boundless devoted SYMPATHY , which the multitude , above all the reverent multitude , do not understand , and overwhelm with prying and self-gratifying interpretations\"   [− Tokens: 280  − Sentence-Labels: {'label': [NEGATIVE (0.9231)]}] [NEGATIVE (0.9231)]\n",
            "Sentence: \"This sympathizing invariably deceives itself as to its power ; woman would like to believe that love can do EVERYTHING -- it is the SUPERSTITION peculiar to her\"   [− Tokens: 28  − Sentence-Labels: {'label': [NEGATIVE (0.9859)]}] [NEGATIVE (0.9859)]\n",
            "Sentence: \"Alas , he who knows the heart finds out how poor , helpless , pretentious , and blundering even the best and deepest love is -- he finds that it rather DESTROYS than saves !-- It is possible that under the holy fable and travesty of the life of Jesus there is hidden one of the most painful cases of the martyrdom of KNOWLEDGE ABOUT LOVE : the martyrdom of the most innocent and most craving heart , that never had enough of any human love , that DEMANDED love , that demanded inexorably and frantically to be loved and nothing else , with terrible outbursts against those who refused him their love ; the story of a poor soul insatiated and insatiable in love , that had to invent hell to send thither those who WOULD NOT love him -- and that at last , enlightened about human love , had to invent a God who is entire love , entire CAPACITY for love -- who takes pity on human love , because it is so paltry , so ignorant ! He who has such sentiments , he who has such KNOWLEDGE about love -- SEEKS for death !-- But why should one deal with such painful matters ? Provided , of course , that one is not obliged to do so\"   [− Tokens: 223  − Sentence-Labels: {'label': [NEGATIVE (0.9989)]}] [NEGATIVE (0.9989)]\n",
            "Sentence: \"270\"   [− Tokens: 1  − Sentence-Labels: {'label': [NEGATIVE (0.7915)]}] [NEGATIVE (0.7915)]\n",
            "Sentence: \"The intellectual haughtiness and loathing of every man who has suffered deeply -- it almost determines the order of rank HOW deeply men can suffer -- the chilling certainty , with which he is thoroughly imbued and coloured , that by virtue of his suffering he KNOWS MORE than the shrewdest and wisest can ever know , that he has been familiar with , and \" at home \" in , many distant , dreadful worlds of which \" YOU know nothing \"!-- this silent intellectual haughtiness of the sufferer , this pride of the elect of knowledge , of the \" initiated ,\" of the almost sacrificed , finds all forms of disguise necessary to protect itself from contact with officious and sympathizing hands , and in general from all that is not its equal in suffering\"   [− Tokens: 138  − Sentence-Labels: {'label': [NEGATIVE (0.9612)]}] [NEGATIVE (0.9612)]\n",
            "Sentence: \"Profound suffering makes noble : it separates\"   [− Tokens: 7  − Sentence-Labels: {'label': [NEGATIVE (0.7835)]}] [NEGATIVE (0.7835)]\n",
            "Sentence: \"-- One of the most refined forms of disguise is Epicurism , along with a certain ostentatious boldness of taste , which takes suffering lightly , and puts itself on the defensive against all that is sorrowful and profound\"   [− Tokens: 39  − Sentence-Labels: {'label': [POSITIVE (0.9974)]}] [POSITIVE (0.9974)]\n",
            "Sentence: \"They are \" gay men \" who make use of gaiety , because they are misunderstood on account of it -- they WISH to be misunderstood\"   [− Tokens: 26  − Sentence-Labels: {'label': [NEGATIVE (0.9977)]}] [NEGATIVE (0.9977)]\n",
            "Sentence: \"There are \" scientific minds \" who make use of science , because it gives a gay appearance , and because scientificness leads to the conclusion that a person is superficial -- they WISH to mislead to a false conclusion\"   [− Tokens: 40  − Sentence-Labels: {'label': [NEGATIVE (0.9976)]}] [NEGATIVE (0.9976)]\n",
            "Sentence: \"There are free insolent minds which would fain conceal and deny that they are broken , proud , incurable hearts ( the cynicism of Hamlet -- the case of Galiani ) ; and occasionally folly itself is the mask of an unfortunate OVER-ASSURED knowledge\"   [− Tokens: 44  − Sentence-Labels: {'label': [NEGATIVE (0.992)]}] [NEGATIVE (0.992)]\n",
            "Sentence: \"-- From which it follows that it is the part of a more refined humanity to have reverence \" for the mask ,\" and not to make use of psychology and curiosity in the wrong place\"   [− Tokens: 36  − Sentence-Labels: {'label': [POSITIVE (0.9987)]}] [POSITIVE (0.9987)]\n",
            "Sentence: \"271\"   [− Tokens: 1  − Sentence-Labels: {'label': [NEGATIVE (0.958)]}] [NEGATIVE (0.958)]\n",
            "Sentence: \"That which separates two men most profoundly is a different sense and grade of purity\"   [− Tokens: 15  − Sentence-Labels: {'label': [POSITIVE (0.9995)]}] [POSITIVE (0.9995)]\n"
          ],
          "name": "stdout"
        },
        {
          "output_type": "error",
          "ename": "KeyboardInterrupt",
          "evalue": "ignored",
          "traceback": [
            "\u001b[0;31m---------------------------------------------------------------------------\u001b[0m",
            "\u001b[0;31mKeyboardInterrupt\u001b[0m                         Traceback (most recent call last)",
            "\u001b[0;32m<ipython-input-141-b17330c3de85>\u001b[0m in \u001b[0;36m<module>\u001b[0;34m()\u001b[0m\n\u001b[1;32m      1\u001b[0m \u001b[0;32mfor\u001b[0m \u001b[0mi\u001b[0m \u001b[0;32min\u001b[0m \u001b[0msentences\u001b[0m\u001b[0;34m:\u001b[0m\u001b[0;34m\u001b[0m\u001b[0;34m\u001b[0m\u001b[0m\n\u001b[1;32m      2\u001b[0m   \u001b[0ms\u001b[0m \u001b[0;34m=\u001b[0m \u001b[0mflair\u001b[0m\u001b[0;34m.\u001b[0m\u001b[0mdata\u001b[0m\u001b[0;34m.\u001b[0m\u001b[0mSentence\u001b[0m\u001b[0;34m(\u001b[0m\u001b[0mi\u001b[0m\u001b[0;34m)\u001b[0m\u001b[0;34m\u001b[0m\u001b[0;34m\u001b[0m\u001b[0m\n\u001b[0;32m----> 3\u001b[0;31m   \u001b[0mflair_sentiment\u001b[0m\u001b[0;34m.\u001b[0m\u001b[0mpredict\u001b[0m\u001b[0;34m(\u001b[0m\u001b[0ms\u001b[0m\u001b[0;34m)\u001b[0m\u001b[0;34m\u001b[0m\u001b[0;34m\u001b[0m\u001b[0m\n\u001b[0m\u001b[1;32m      4\u001b[0m   \u001b[0mtotal_sentiment\u001b[0m \u001b[0;34m=\u001b[0m \u001b[0ms\u001b[0m\u001b[0;34m.\u001b[0m\u001b[0mlabels\u001b[0m\u001b[0;34m\u001b[0m\u001b[0;34m\u001b[0m\u001b[0m\n\u001b[1;32m      5\u001b[0m   \u001b[0mprint\u001b[0m\u001b[0;34m(\u001b[0m\u001b[0ms\u001b[0m\u001b[0;34m,\u001b[0m\u001b[0mtotal_sentiment\u001b[0m\u001b[0;34m)\u001b[0m\u001b[0;34m\u001b[0m\u001b[0;34m\u001b[0m\u001b[0m\n",
            "\u001b[0;32m/usr/local/lib/python3.6/dist-packages/flair/models/text_classification_model.py\u001b[0m in \u001b[0;36mpredict\u001b[0;34m(self, sentences, mini_batch_size, multi_class_prob, verbose, label_name, return_loss, embedding_storage_mode)\u001b[0m\n\u001b[1;32m    229\u001b[0m                     \u001b[0;32mcontinue\u001b[0m\u001b[0;34m\u001b[0m\u001b[0;34m\u001b[0m\u001b[0m\n\u001b[1;32m    230\u001b[0m \u001b[0;34m\u001b[0m\u001b[0m\n\u001b[0;32m--> 231\u001b[0;31m                 \u001b[0mscores\u001b[0m\u001b[0;34m,\u001b[0m \u001b[0mloss\u001b[0m \u001b[0;34m=\u001b[0m \u001b[0mself\u001b[0m\u001b[0;34m.\u001b[0m\u001b[0m_forward_scores_and_loss\u001b[0m\u001b[0;34m(\u001b[0m\u001b[0mbatch\u001b[0m\u001b[0;34m,\u001b[0m \u001b[0mreturn_loss\u001b[0m\u001b[0;34m)\u001b[0m\u001b[0;34m\u001b[0m\u001b[0;34m\u001b[0m\u001b[0m\n\u001b[0m\u001b[1;32m    232\u001b[0m \u001b[0;34m\u001b[0m\u001b[0m\n\u001b[1;32m    233\u001b[0m                 \u001b[0;32mif\u001b[0m \u001b[0mreturn_loss\u001b[0m\u001b[0;34m:\u001b[0m\u001b[0;34m\u001b[0m\u001b[0;34m\u001b[0m\u001b[0m\n",
            "\u001b[0;32m/usr/local/lib/python3.6/dist-packages/flair/models/text_classification_model.py\u001b[0m in \u001b[0;36m_forward_scores_and_loss\u001b[0;34m(self, data_points, return_loss)\u001b[0m\n\u001b[1;32m    155\u001b[0m     def _forward_scores_and_loss(\n\u001b[1;32m    156\u001b[0m             self, data_points: Union[List[Sentence], Sentence], return_loss=False):\n\u001b[0;32m--> 157\u001b[0;31m         \u001b[0mscores\u001b[0m \u001b[0;34m=\u001b[0m \u001b[0mself\u001b[0m\u001b[0;34m.\u001b[0m\u001b[0mforward\u001b[0m\u001b[0;34m(\u001b[0m\u001b[0mdata_points\u001b[0m\u001b[0;34m)\u001b[0m\u001b[0;34m\u001b[0m\u001b[0;34m\u001b[0m\u001b[0m\n\u001b[0m\u001b[1;32m    158\u001b[0m \u001b[0;34m\u001b[0m\u001b[0m\n\u001b[1;32m    159\u001b[0m         \u001b[0mloss\u001b[0m \u001b[0;34m=\u001b[0m \u001b[0;32mNone\u001b[0m\u001b[0;34m\u001b[0m\u001b[0;34m\u001b[0m\u001b[0m\n",
            "\u001b[0;32m/usr/local/lib/python3.6/dist-packages/flair/models/text_classification_model.py\u001b[0m in \u001b[0;36mforward\u001b[0;34m(self, sentences)\u001b[0m\n\u001b[1;32m     95\u001b[0m     \u001b[0;32mdef\u001b[0m \u001b[0mforward\u001b[0m\u001b[0;34m(\u001b[0m\u001b[0mself\u001b[0m\u001b[0;34m,\u001b[0m \u001b[0msentences\u001b[0m\u001b[0;34m)\u001b[0m\u001b[0;34m:\u001b[0m\u001b[0;34m\u001b[0m\u001b[0;34m\u001b[0m\u001b[0m\n\u001b[1;32m     96\u001b[0m \u001b[0;34m\u001b[0m\u001b[0m\n\u001b[0;32m---> 97\u001b[0;31m         \u001b[0mself\u001b[0m\u001b[0;34m.\u001b[0m\u001b[0mdocument_embeddings\u001b[0m\u001b[0;34m.\u001b[0m\u001b[0membed\u001b[0m\u001b[0;34m(\u001b[0m\u001b[0msentences\u001b[0m\u001b[0;34m)\u001b[0m\u001b[0;34m\u001b[0m\u001b[0;34m\u001b[0m\u001b[0m\n\u001b[0m\u001b[1;32m     98\u001b[0m \u001b[0;34m\u001b[0m\u001b[0m\n\u001b[1;32m     99\u001b[0m         \u001b[0membedding_names\u001b[0m \u001b[0;34m=\u001b[0m \u001b[0mself\u001b[0m\u001b[0;34m.\u001b[0m\u001b[0mdocument_embeddings\u001b[0m\u001b[0;34m.\u001b[0m\u001b[0mget_names\u001b[0m\u001b[0;34m(\u001b[0m\u001b[0;34m)\u001b[0m\u001b[0;34m\u001b[0m\u001b[0;34m\u001b[0m\u001b[0m\n",
            "\u001b[0;32m/usr/local/lib/python3.6/dist-packages/flair/embeddings/base.py\u001b[0m in \u001b[0;36membed\u001b[0;34m(self, sentences)\u001b[0m\n\u001b[1;32m     58\u001b[0m \u001b[0;34m\u001b[0m\u001b[0m\n\u001b[1;32m     59\u001b[0m         \u001b[0;32mif\u001b[0m \u001b[0;32mnot\u001b[0m \u001b[0meverything_embedded\u001b[0m \u001b[0;32mor\u001b[0m \u001b[0;32mnot\u001b[0m \u001b[0mself\u001b[0m\u001b[0;34m.\u001b[0m\u001b[0mstatic_embeddings\u001b[0m\u001b[0;34m:\u001b[0m\u001b[0;34m\u001b[0m\u001b[0;34m\u001b[0m\u001b[0m\n\u001b[0;32m---> 60\u001b[0;31m             \u001b[0mself\u001b[0m\u001b[0;34m.\u001b[0m\u001b[0m_add_embeddings_internal\u001b[0m\u001b[0;34m(\u001b[0m\u001b[0msentences\u001b[0m\u001b[0;34m)\u001b[0m\u001b[0;34m\u001b[0m\u001b[0;34m\u001b[0m\u001b[0m\n\u001b[0m\u001b[1;32m     61\u001b[0m \u001b[0;34m\u001b[0m\u001b[0m\n\u001b[1;32m     62\u001b[0m         \u001b[0;32mreturn\u001b[0m \u001b[0msentences\u001b[0m\u001b[0;34m\u001b[0m\u001b[0;34m\u001b[0m\u001b[0m\n",
            "\u001b[0;32m/usr/local/lib/python3.6/dist-packages/flair/embeddings/document.py\u001b[0m in \u001b[0;36m_add_embeddings_internal\u001b[0;34m(self, sentences)\u001b[0m\n\u001b[1;32m     94\u001b[0m \u001b[0;34m\u001b[0m\u001b[0m\n\u001b[1;32m     95\u001b[0m         \u001b[0;32mfor\u001b[0m \u001b[0mbatch\u001b[0m \u001b[0;32min\u001b[0m \u001b[0msentence_batches\u001b[0m\u001b[0;34m:\u001b[0m\u001b[0;34m\u001b[0m\u001b[0;34m\u001b[0m\u001b[0m\n\u001b[0;32m---> 96\u001b[0;31m             \u001b[0mself\u001b[0m\u001b[0;34m.\u001b[0m\u001b[0m_add_embeddings_to_sentences\u001b[0m\u001b[0;34m(\u001b[0m\u001b[0mbatch\u001b[0m\u001b[0;34m)\u001b[0m\u001b[0;34m\u001b[0m\u001b[0;34m\u001b[0m\u001b[0m\n\u001b[0m\u001b[1;32m     97\u001b[0m \u001b[0;34m\u001b[0m\u001b[0m\n\u001b[1;32m     98\u001b[0m         \u001b[0;32mreturn\u001b[0m \u001b[0msentences\u001b[0m\u001b[0;34m\u001b[0m\u001b[0;34m\u001b[0m\u001b[0m\n",
            "\u001b[0;32m/usr/local/lib/python3.6/dist-packages/flair/embeddings/document.py\u001b[0m in \u001b[0;36m_add_embeddings_to_sentences\u001b[0;34m(self, sentences)\u001b[0m\n\u001b[1;32m    143\u001b[0m             \u001b[0;31m# put encoded batch through transformer model to get all hidden states of all encoder layers\u001b[0m\u001b[0;34m\u001b[0m\u001b[0;34m\u001b[0m\u001b[0;34m\u001b[0m\u001b[0m\n\u001b[1;32m    144\u001b[0m             \u001b[0mhidden_states\u001b[0m \u001b[0;34m=\u001b[0m \u001b[0mself\u001b[0m\u001b[0;34m.\u001b[0m\u001b[0mmodel\u001b[0m\u001b[0;34m(\u001b[0m\u001b[0minput_ids\u001b[0m\u001b[0;34m,\u001b[0m \u001b[0mattention_mask\u001b[0m\u001b[0;34m=\u001b[0m\u001b[0mmask\u001b[0m\u001b[0;34m)\u001b[0m\u001b[0;34m[\u001b[0m\u001b[0;34m-\u001b[0m\u001b[0;36m1\u001b[0m\u001b[0;34m]\u001b[0m \u001b[0;32mif\u001b[0m \u001b[0mlen\u001b[0m\u001b[0;34m(\u001b[0m\u001b[0msentences\u001b[0m\u001b[0;34m)\u001b[0m \u001b[0;34m>\u001b[0m \u001b[0;36m1\u001b[0m\u001b[0;31m \u001b[0m\u001b[0;31m\\\u001b[0m\u001b[0;34m\u001b[0m\u001b[0;34m\u001b[0m\u001b[0m\n\u001b[0;32m--> 145\u001b[0;31m                 \u001b[0;32melse\u001b[0m \u001b[0mself\u001b[0m\u001b[0;34m.\u001b[0m\u001b[0mmodel\u001b[0m\u001b[0;34m(\u001b[0m\u001b[0minput_ids\u001b[0m\u001b[0;34m)\u001b[0m\u001b[0;34m[\u001b[0m\u001b[0;34m-\u001b[0m\u001b[0;36m1\u001b[0m\u001b[0;34m]\u001b[0m\u001b[0;34m\u001b[0m\u001b[0;34m\u001b[0m\u001b[0m\n\u001b[0m\u001b[1;32m    146\u001b[0m \u001b[0;34m\u001b[0m\u001b[0m\n\u001b[1;32m    147\u001b[0m             \u001b[0;31m# iterate over all subtokenized sentences\u001b[0m\u001b[0;34m\u001b[0m\u001b[0;34m\u001b[0m\u001b[0;34m\u001b[0m\u001b[0m\n",
            "\u001b[0;32m/usr/local/lib/python3.6/dist-packages/torch/nn/modules/module.py\u001b[0m in \u001b[0;36m_call_impl\u001b[0;34m(self, *input, **kwargs)\u001b[0m\n\u001b[1;32m    725\u001b[0m             \u001b[0mresult\u001b[0m \u001b[0;34m=\u001b[0m \u001b[0mself\u001b[0m\u001b[0;34m.\u001b[0m\u001b[0m_slow_forward\u001b[0m\u001b[0;34m(\u001b[0m\u001b[0;34m*\u001b[0m\u001b[0minput\u001b[0m\u001b[0;34m,\u001b[0m \u001b[0;34m**\u001b[0m\u001b[0mkwargs\u001b[0m\u001b[0;34m)\u001b[0m\u001b[0;34m\u001b[0m\u001b[0;34m\u001b[0m\u001b[0m\n\u001b[1;32m    726\u001b[0m         \u001b[0;32melse\u001b[0m\u001b[0;34m:\u001b[0m\u001b[0;34m\u001b[0m\u001b[0;34m\u001b[0m\u001b[0m\n\u001b[0;32m--> 727\u001b[0;31m             \u001b[0mresult\u001b[0m \u001b[0;34m=\u001b[0m \u001b[0mself\u001b[0m\u001b[0;34m.\u001b[0m\u001b[0mforward\u001b[0m\u001b[0;34m(\u001b[0m\u001b[0;34m*\u001b[0m\u001b[0minput\u001b[0m\u001b[0;34m,\u001b[0m \u001b[0;34m**\u001b[0m\u001b[0mkwargs\u001b[0m\u001b[0;34m)\u001b[0m\u001b[0;34m\u001b[0m\u001b[0;34m\u001b[0m\u001b[0m\n\u001b[0m\u001b[1;32m    728\u001b[0m         for hook in itertools.chain(\n\u001b[1;32m    729\u001b[0m                 \u001b[0m_global_forward_hooks\u001b[0m\u001b[0;34m.\u001b[0m\u001b[0mvalues\u001b[0m\u001b[0;34m(\u001b[0m\u001b[0;34m)\u001b[0m\u001b[0;34m,\u001b[0m\u001b[0;34m\u001b[0m\u001b[0;34m\u001b[0m\u001b[0m\n",
            "\u001b[0;32m/usr/local/lib/python3.6/dist-packages/transformers/modeling_distilbert.py\u001b[0m in \u001b[0;36mforward\u001b[0;34m(self, input_ids, attention_mask, head_mask, inputs_embeds, output_attentions, output_hidden_states, return_dict)\u001b[0m\n\u001b[1;32m    486\u001b[0m             \u001b[0moutput_attentions\u001b[0m\u001b[0;34m=\u001b[0m\u001b[0moutput_attentions\u001b[0m\u001b[0;34m,\u001b[0m\u001b[0;34m\u001b[0m\u001b[0;34m\u001b[0m\u001b[0m\n\u001b[1;32m    487\u001b[0m             \u001b[0moutput_hidden_states\u001b[0m\u001b[0;34m=\u001b[0m\u001b[0moutput_hidden_states\u001b[0m\u001b[0;34m,\u001b[0m\u001b[0;34m\u001b[0m\u001b[0;34m\u001b[0m\u001b[0m\n\u001b[0;32m--> 488\u001b[0;31m             \u001b[0mreturn_dict\u001b[0m\u001b[0;34m=\u001b[0m\u001b[0mreturn_dict\u001b[0m\u001b[0;34m,\u001b[0m\u001b[0;34m\u001b[0m\u001b[0;34m\u001b[0m\u001b[0m\n\u001b[0m\u001b[1;32m    489\u001b[0m         )\n\u001b[1;32m    490\u001b[0m \u001b[0;34m\u001b[0m\u001b[0m\n",
            "\u001b[0;32m/usr/local/lib/python3.6/dist-packages/torch/nn/modules/module.py\u001b[0m in \u001b[0;36m_call_impl\u001b[0;34m(self, *input, **kwargs)\u001b[0m\n\u001b[1;32m    725\u001b[0m             \u001b[0mresult\u001b[0m \u001b[0;34m=\u001b[0m \u001b[0mself\u001b[0m\u001b[0;34m.\u001b[0m\u001b[0m_slow_forward\u001b[0m\u001b[0;34m(\u001b[0m\u001b[0;34m*\u001b[0m\u001b[0minput\u001b[0m\u001b[0;34m,\u001b[0m \u001b[0;34m**\u001b[0m\u001b[0mkwargs\u001b[0m\u001b[0;34m)\u001b[0m\u001b[0;34m\u001b[0m\u001b[0;34m\u001b[0m\u001b[0m\n\u001b[1;32m    726\u001b[0m         \u001b[0;32melse\u001b[0m\u001b[0;34m:\u001b[0m\u001b[0;34m\u001b[0m\u001b[0;34m\u001b[0m\u001b[0m\n\u001b[0;32m--> 727\u001b[0;31m             \u001b[0mresult\u001b[0m \u001b[0;34m=\u001b[0m \u001b[0mself\u001b[0m\u001b[0;34m.\u001b[0m\u001b[0mforward\u001b[0m\u001b[0;34m(\u001b[0m\u001b[0;34m*\u001b[0m\u001b[0minput\u001b[0m\u001b[0;34m,\u001b[0m \u001b[0;34m**\u001b[0m\u001b[0mkwargs\u001b[0m\u001b[0;34m)\u001b[0m\u001b[0;34m\u001b[0m\u001b[0;34m\u001b[0m\u001b[0m\n\u001b[0m\u001b[1;32m    728\u001b[0m         for hook in itertools.chain(\n\u001b[1;32m    729\u001b[0m                 \u001b[0m_global_forward_hooks\u001b[0m\u001b[0;34m.\u001b[0m\u001b[0mvalues\u001b[0m\u001b[0;34m(\u001b[0m\u001b[0;34m)\u001b[0m\u001b[0;34m,\u001b[0m\u001b[0;34m\u001b[0m\u001b[0;34m\u001b[0m\u001b[0m\n",
            "\u001b[0;32m/usr/local/lib/python3.6/dist-packages/transformers/modeling_distilbert.py\u001b[0m in \u001b[0;36mforward\u001b[0;34m(self, x, attn_mask, head_mask, output_attentions, output_hidden_states, return_dict)\u001b[0m\n\u001b[1;32m    308\u001b[0m \u001b[0;34m\u001b[0m\u001b[0m\n\u001b[1;32m    309\u001b[0m             layer_outputs = layer_module(\n\u001b[0;32m--> 310\u001b[0;31m                 \u001b[0mx\u001b[0m\u001b[0;34m=\u001b[0m\u001b[0mhidden_state\u001b[0m\u001b[0;34m,\u001b[0m \u001b[0mattn_mask\u001b[0m\u001b[0;34m=\u001b[0m\u001b[0mattn_mask\u001b[0m\u001b[0;34m,\u001b[0m \u001b[0mhead_mask\u001b[0m\u001b[0;34m=\u001b[0m\u001b[0mhead_mask\u001b[0m\u001b[0;34m[\u001b[0m\u001b[0mi\u001b[0m\u001b[0;34m]\u001b[0m\u001b[0;34m,\u001b[0m \u001b[0moutput_attentions\u001b[0m\u001b[0;34m=\u001b[0m\u001b[0moutput_attentions\u001b[0m\u001b[0;34m\u001b[0m\u001b[0;34m\u001b[0m\u001b[0m\n\u001b[0m\u001b[1;32m    311\u001b[0m             )\n\u001b[1;32m    312\u001b[0m             \u001b[0mhidden_state\u001b[0m \u001b[0;34m=\u001b[0m \u001b[0mlayer_outputs\u001b[0m\u001b[0;34m[\u001b[0m\u001b[0;34m-\u001b[0m\u001b[0;36m1\u001b[0m\u001b[0;34m]\u001b[0m\u001b[0;34m\u001b[0m\u001b[0;34m\u001b[0m\u001b[0m\n",
            "\u001b[0;32m/usr/local/lib/python3.6/dist-packages/torch/nn/modules/module.py\u001b[0m in \u001b[0;36m_call_impl\u001b[0;34m(self, *input, **kwargs)\u001b[0m\n\u001b[1;32m    725\u001b[0m             \u001b[0mresult\u001b[0m \u001b[0;34m=\u001b[0m \u001b[0mself\u001b[0m\u001b[0;34m.\u001b[0m\u001b[0m_slow_forward\u001b[0m\u001b[0;34m(\u001b[0m\u001b[0;34m*\u001b[0m\u001b[0minput\u001b[0m\u001b[0;34m,\u001b[0m \u001b[0;34m**\u001b[0m\u001b[0mkwargs\u001b[0m\u001b[0;34m)\u001b[0m\u001b[0;34m\u001b[0m\u001b[0;34m\u001b[0m\u001b[0m\n\u001b[1;32m    726\u001b[0m         \u001b[0;32melse\u001b[0m\u001b[0;34m:\u001b[0m\u001b[0;34m\u001b[0m\u001b[0;34m\u001b[0m\u001b[0m\n\u001b[0;32m--> 727\u001b[0;31m             \u001b[0mresult\u001b[0m \u001b[0;34m=\u001b[0m \u001b[0mself\u001b[0m\u001b[0;34m.\u001b[0m\u001b[0mforward\u001b[0m\u001b[0;34m(\u001b[0m\u001b[0;34m*\u001b[0m\u001b[0minput\u001b[0m\u001b[0;34m,\u001b[0m \u001b[0;34m**\u001b[0m\u001b[0mkwargs\u001b[0m\u001b[0;34m)\u001b[0m\u001b[0;34m\u001b[0m\u001b[0;34m\u001b[0m\u001b[0m\n\u001b[0m\u001b[1;32m    728\u001b[0m         for hook in itertools.chain(\n\u001b[1;32m    729\u001b[0m                 \u001b[0m_global_forward_hooks\u001b[0m\u001b[0;34m.\u001b[0m\u001b[0mvalues\u001b[0m\u001b[0;34m(\u001b[0m\u001b[0;34m)\u001b[0m\u001b[0;34m,\u001b[0m\u001b[0;34m\u001b[0m\u001b[0;34m\u001b[0m\u001b[0m\n",
            "\u001b[0;32m/usr/local/lib/python3.6/dist-packages/transformers/modeling_distilbert.py\u001b[0m in \u001b[0;36mforward\u001b[0;34m(self, x, attn_mask, head_mask, output_attentions)\u001b[0m\n\u001b[1;32m    265\u001b[0m \u001b[0;34m\u001b[0m\u001b[0m\n\u001b[1;32m    266\u001b[0m         \u001b[0;31m# Feed Forward Network\u001b[0m\u001b[0;34m\u001b[0m\u001b[0;34m\u001b[0m\u001b[0;34m\u001b[0m\u001b[0m\n\u001b[0;32m--> 267\u001b[0;31m         \u001b[0mffn_output\u001b[0m \u001b[0;34m=\u001b[0m \u001b[0mself\u001b[0m\u001b[0;34m.\u001b[0m\u001b[0mffn\u001b[0m\u001b[0;34m(\u001b[0m\u001b[0msa_output\u001b[0m\u001b[0;34m)\u001b[0m  \u001b[0;31m# (bs, seq_length, dim)\u001b[0m\u001b[0;34m\u001b[0m\u001b[0;34m\u001b[0m\u001b[0m\n\u001b[0m\u001b[1;32m    268\u001b[0m         \u001b[0mffn_output\u001b[0m \u001b[0;34m=\u001b[0m \u001b[0mself\u001b[0m\u001b[0;34m.\u001b[0m\u001b[0moutput_layer_norm\u001b[0m\u001b[0;34m(\u001b[0m\u001b[0mffn_output\u001b[0m \u001b[0;34m+\u001b[0m \u001b[0msa_output\u001b[0m\u001b[0;34m)\u001b[0m  \u001b[0;31m# (bs, seq_length, dim)\u001b[0m\u001b[0;34m\u001b[0m\u001b[0;34m\u001b[0m\u001b[0m\n\u001b[1;32m    269\u001b[0m \u001b[0;34m\u001b[0m\u001b[0m\n",
            "\u001b[0;32m/usr/local/lib/python3.6/dist-packages/torch/nn/modules/module.py\u001b[0m in \u001b[0;36m_call_impl\u001b[0;34m(self, *input, **kwargs)\u001b[0m\n\u001b[1;32m    725\u001b[0m             \u001b[0mresult\u001b[0m \u001b[0;34m=\u001b[0m \u001b[0mself\u001b[0m\u001b[0;34m.\u001b[0m\u001b[0m_slow_forward\u001b[0m\u001b[0;34m(\u001b[0m\u001b[0;34m*\u001b[0m\u001b[0minput\u001b[0m\u001b[0;34m,\u001b[0m \u001b[0;34m**\u001b[0m\u001b[0mkwargs\u001b[0m\u001b[0;34m)\u001b[0m\u001b[0;34m\u001b[0m\u001b[0;34m\u001b[0m\u001b[0m\n\u001b[1;32m    726\u001b[0m         \u001b[0;32melse\u001b[0m\u001b[0;34m:\u001b[0m\u001b[0;34m\u001b[0m\u001b[0;34m\u001b[0m\u001b[0m\n\u001b[0;32m--> 727\u001b[0;31m             \u001b[0mresult\u001b[0m \u001b[0;34m=\u001b[0m \u001b[0mself\u001b[0m\u001b[0;34m.\u001b[0m\u001b[0mforward\u001b[0m\u001b[0;34m(\u001b[0m\u001b[0;34m*\u001b[0m\u001b[0minput\u001b[0m\u001b[0;34m,\u001b[0m \u001b[0;34m**\u001b[0m\u001b[0mkwargs\u001b[0m\u001b[0;34m)\u001b[0m\u001b[0;34m\u001b[0m\u001b[0;34m\u001b[0m\u001b[0m\n\u001b[0m\u001b[1;32m    728\u001b[0m         for hook in itertools.chain(\n\u001b[1;32m    729\u001b[0m                 \u001b[0m_global_forward_hooks\u001b[0m\u001b[0;34m.\u001b[0m\u001b[0mvalues\u001b[0m\u001b[0;34m(\u001b[0m\u001b[0;34m)\u001b[0m\u001b[0;34m,\u001b[0m\u001b[0;34m\u001b[0m\u001b[0;34m\u001b[0m\u001b[0m\n",
            "\u001b[0;32m/usr/local/lib/python3.6/dist-packages/transformers/modeling_distilbert.py\u001b[0m in \u001b[0;36mforward\u001b[0;34m(self, input)\u001b[0m\n\u001b[1;32m    216\u001b[0m \u001b[0;34m\u001b[0m\u001b[0m\n\u001b[1;32m    217\u001b[0m     \u001b[0;32mdef\u001b[0m \u001b[0mforward\u001b[0m\u001b[0;34m(\u001b[0m\u001b[0mself\u001b[0m\u001b[0;34m,\u001b[0m \u001b[0minput\u001b[0m\u001b[0;34m)\u001b[0m\u001b[0;34m:\u001b[0m\u001b[0;34m\u001b[0m\u001b[0;34m\u001b[0m\u001b[0m\n\u001b[0;32m--> 218\u001b[0;31m         \u001b[0;32mreturn\u001b[0m \u001b[0mapply_chunking_to_forward\u001b[0m\u001b[0;34m(\u001b[0m\u001b[0mself\u001b[0m\u001b[0;34m.\u001b[0m\u001b[0mff_chunk\u001b[0m\u001b[0;34m,\u001b[0m \u001b[0mself\u001b[0m\u001b[0;34m.\u001b[0m\u001b[0mchunk_size_feed_forward\u001b[0m\u001b[0;34m,\u001b[0m \u001b[0mself\u001b[0m\u001b[0;34m.\u001b[0m\u001b[0mseq_len_dim\u001b[0m\u001b[0;34m,\u001b[0m \u001b[0minput\u001b[0m\u001b[0;34m)\u001b[0m\u001b[0;34m\u001b[0m\u001b[0;34m\u001b[0m\u001b[0m\n\u001b[0m\u001b[1;32m    219\u001b[0m \u001b[0;34m\u001b[0m\u001b[0m\n\u001b[1;32m    220\u001b[0m     \u001b[0;32mdef\u001b[0m \u001b[0mff_chunk\u001b[0m\u001b[0;34m(\u001b[0m\u001b[0mself\u001b[0m\u001b[0;34m,\u001b[0m \u001b[0minput\u001b[0m\u001b[0;34m)\u001b[0m\u001b[0;34m:\u001b[0m\u001b[0;34m\u001b[0m\u001b[0;34m\u001b[0m\u001b[0m\n",
            "\u001b[0;32m/usr/local/lib/python3.6/dist-packages/transformers/modeling_utils.py\u001b[0m in \u001b[0;36mapply_chunking_to_forward\u001b[0;34m(forward_fn, chunk_size, chunk_dim, *input_tensors)\u001b[0m\n\u001b[1;32m   1698\u001b[0m         \u001b[0;32mreturn\u001b[0m \u001b[0mtorch\u001b[0m\u001b[0;34m.\u001b[0m\u001b[0mcat\u001b[0m\u001b[0;34m(\u001b[0m\u001b[0moutput_chunks\u001b[0m\u001b[0;34m,\u001b[0m \u001b[0mdim\u001b[0m\u001b[0;34m=\u001b[0m\u001b[0mchunk_dim\u001b[0m\u001b[0;34m)\u001b[0m\u001b[0;34m\u001b[0m\u001b[0;34m\u001b[0m\u001b[0m\n\u001b[1;32m   1699\u001b[0m \u001b[0;34m\u001b[0m\u001b[0m\n\u001b[0;32m-> 1700\u001b[0;31m     \u001b[0;32mreturn\u001b[0m \u001b[0mforward_fn\u001b[0m\u001b[0;34m(\u001b[0m\u001b[0;34m*\u001b[0m\u001b[0minput_tensors\u001b[0m\u001b[0;34m)\u001b[0m\u001b[0;34m\u001b[0m\u001b[0;34m\u001b[0m\u001b[0m\n\u001b[0m",
            "\u001b[0;32m/usr/local/lib/python3.6/dist-packages/transformers/modeling_distilbert.py\u001b[0m in \u001b[0;36mff_chunk\u001b[0;34m(self, input)\u001b[0m\n\u001b[1;32m    219\u001b[0m \u001b[0;34m\u001b[0m\u001b[0m\n\u001b[1;32m    220\u001b[0m     \u001b[0;32mdef\u001b[0m \u001b[0mff_chunk\u001b[0m\u001b[0;34m(\u001b[0m\u001b[0mself\u001b[0m\u001b[0;34m,\u001b[0m \u001b[0minput\u001b[0m\u001b[0;34m)\u001b[0m\u001b[0;34m:\u001b[0m\u001b[0;34m\u001b[0m\u001b[0;34m\u001b[0m\u001b[0m\n\u001b[0;32m--> 221\u001b[0;31m         \u001b[0mx\u001b[0m \u001b[0;34m=\u001b[0m \u001b[0mself\u001b[0m\u001b[0;34m.\u001b[0m\u001b[0mlin1\u001b[0m\u001b[0;34m(\u001b[0m\u001b[0minput\u001b[0m\u001b[0;34m)\u001b[0m\u001b[0;34m\u001b[0m\u001b[0;34m\u001b[0m\u001b[0m\n\u001b[0m\u001b[1;32m    222\u001b[0m         \u001b[0mx\u001b[0m \u001b[0;34m=\u001b[0m \u001b[0mself\u001b[0m\u001b[0;34m.\u001b[0m\u001b[0mactivation\u001b[0m\u001b[0;34m(\u001b[0m\u001b[0mx\u001b[0m\u001b[0;34m)\u001b[0m\u001b[0;34m\u001b[0m\u001b[0;34m\u001b[0m\u001b[0m\n\u001b[1;32m    223\u001b[0m         \u001b[0mx\u001b[0m \u001b[0;34m=\u001b[0m \u001b[0mself\u001b[0m\u001b[0;34m.\u001b[0m\u001b[0mlin2\u001b[0m\u001b[0;34m(\u001b[0m\u001b[0mx\u001b[0m\u001b[0;34m)\u001b[0m\u001b[0;34m\u001b[0m\u001b[0;34m\u001b[0m\u001b[0m\n",
            "\u001b[0;32m/usr/local/lib/python3.6/dist-packages/torch/nn/modules/module.py\u001b[0m in \u001b[0;36m_call_impl\u001b[0;34m(self, *input, **kwargs)\u001b[0m\n\u001b[1;32m    725\u001b[0m             \u001b[0mresult\u001b[0m \u001b[0;34m=\u001b[0m \u001b[0mself\u001b[0m\u001b[0;34m.\u001b[0m\u001b[0m_slow_forward\u001b[0m\u001b[0;34m(\u001b[0m\u001b[0;34m*\u001b[0m\u001b[0minput\u001b[0m\u001b[0;34m,\u001b[0m \u001b[0;34m**\u001b[0m\u001b[0mkwargs\u001b[0m\u001b[0;34m)\u001b[0m\u001b[0;34m\u001b[0m\u001b[0;34m\u001b[0m\u001b[0m\n\u001b[1;32m    726\u001b[0m         \u001b[0;32melse\u001b[0m\u001b[0;34m:\u001b[0m\u001b[0;34m\u001b[0m\u001b[0;34m\u001b[0m\u001b[0m\n\u001b[0;32m--> 727\u001b[0;31m             \u001b[0mresult\u001b[0m \u001b[0;34m=\u001b[0m \u001b[0mself\u001b[0m\u001b[0;34m.\u001b[0m\u001b[0mforward\u001b[0m\u001b[0;34m(\u001b[0m\u001b[0;34m*\u001b[0m\u001b[0minput\u001b[0m\u001b[0;34m,\u001b[0m \u001b[0;34m**\u001b[0m\u001b[0mkwargs\u001b[0m\u001b[0;34m)\u001b[0m\u001b[0;34m\u001b[0m\u001b[0;34m\u001b[0m\u001b[0m\n\u001b[0m\u001b[1;32m    728\u001b[0m         for hook in itertools.chain(\n\u001b[1;32m    729\u001b[0m                 \u001b[0m_global_forward_hooks\u001b[0m\u001b[0;34m.\u001b[0m\u001b[0mvalues\u001b[0m\u001b[0;34m(\u001b[0m\u001b[0;34m)\u001b[0m\u001b[0;34m,\u001b[0m\u001b[0;34m\u001b[0m\u001b[0;34m\u001b[0m\u001b[0m\n",
            "\u001b[0;32m/usr/local/lib/python3.6/dist-packages/torch/nn/modules/linear.py\u001b[0m in \u001b[0;36mforward\u001b[0;34m(self, input)\u001b[0m\n\u001b[1;32m     91\u001b[0m \u001b[0;34m\u001b[0m\u001b[0m\n\u001b[1;32m     92\u001b[0m     \u001b[0;32mdef\u001b[0m \u001b[0mforward\u001b[0m\u001b[0;34m(\u001b[0m\u001b[0mself\u001b[0m\u001b[0;34m,\u001b[0m \u001b[0minput\u001b[0m\u001b[0;34m:\u001b[0m \u001b[0mTensor\u001b[0m\u001b[0;34m)\u001b[0m \u001b[0;34m->\u001b[0m \u001b[0mTensor\u001b[0m\u001b[0;34m:\u001b[0m\u001b[0;34m\u001b[0m\u001b[0;34m\u001b[0m\u001b[0m\n\u001b[0;32m---> 93\u001b[0;31m         \u001b[0;32mreturn\u001b[0m \u001b[0mF\u001b[0m\u001b[0;34m.\u001b[0m\u001b[0mlinear\u001b[0m\u001b[0;34m(\u001b[0m\u001b[0minput\u001b[0m\u001b[0;34m,\u001b[0m \u001b[0mself\u001b[0m\u001b[0;34m.\u001b[0m\u001b[0mweight\u001b[0m\u001b[0;34m,\u001b[0m \u001b[0mself\u001b[0m\u001b[0;34m.\u001b[0m\u001b[0mbias\u001b[0m\u001b[0;34m)\u001b[0m\u001b[0;34m\u001b[0m\u001b[0;34m\u001b[0m\u001b[0m\n\u001b[0m\u001b[1;32m     94\u001b[0m \u001b[0;34m\u001b[0m\u001b[0m\n\u001b[1;32m     95\u001b[0m     \u001b[0;32mdef\u001b[0m \u001b[0mextra_repr\u001b[0m\u001b[0;34m(\u001b[0m\u001b[0mself\u001b[0m\u001b[0;34m)\u001b[0m \u001b[0;34m->\u001b[0m \u001b[0mstr\u001b[0m\u001b[0;34m:\u001b[0m\u001b[0;34m\u001b[0m\u001b[0;34m\u001b[0m\u001b[0m\n",
            "\u001b[0;32m/usr/local/lib/python3.6/dist-packages/torch/nn/functional.py\u001b[0m in \u001b[0;36mlinear\u001b[0;34m(input, weight, bias)\u001b[0m\n\u001b[1;32m   1690\u001b[0m         \u001b[0mret\u001b[0m \u001b[0;34m=\u001b[0m \u001b[0mtorch\u001b[0m\u001b[0;34m.\u001b[0m\u001b[0maddmm\u001b[0m\u001b[0;34m(\u001b[0m\u001b[0mbias\u001b[0m\u001b[0;34m,\u001b[0m \u001b[0minput\u001b[0m\u001b[0;34m,\u001b[0m \u001b[0mweight\u001b[0m\u001b[0;34m.\u001b[0m\u001b[0mt\u001b[0m\u001b[0;34m(\u001b[0m\u001b[0;34m)\u001b[0m\u001b[0;34m)\u001b[0m\u001b[0;34m\u001b[0m\u001b[0;34m\u001b[0m\u001b[0m\n\u001b[1;32m   1691\u001b[0m     \u001b[0;32melse\u001b[0m\u001b[0;34m:\u001b[0m\u001b[0;34m\u001b[0m\u001b[0;34m\u001b[0m\u001b[0m\n\u001b[0;32m-> 1692\u001b[0;31m         \u001b[0moutput\u001b[0m \u001b[0;34m=\u001b[0m \u001b[0minput\u001b[0m\u001b[0;34m.\u001b[0m\u001b[0mmatmul\u001b[0m\u001b[0;34m(\u001b[0m\u001b[0mweight\u001b[0m\u001b[0;34m.\u001b[0m\u001b[0mt\u001b[0m\u001b[0;34m(\u001b[0m\u001b[0;34m)\u001b[0m\u001b[0;34m)\u001b[0m\u001b[0;34m\u001b[0m\u001b[0;34m\u001b[0m\u001b[0m\n\u001b[0m\u001b[1;32m   1693\u001b[0m         \u001b[0;32mif\u001b[0m \u001b[0mbias\u001b[0m \u001b[0;32mis\u001b[0m \u001b[0;32mnot\u001b[0m \u001b[0;32mNone\u001b[0m\u001b[0;34m:\u001b[0m\u001b[0;34m\u001b[0m\u001b[0;34m\u001b[0m\u001b[0m\n\u001b[1;32m   1694\u001b[0m             \u001b[0moutput\u001b[0m \u001b[0;34m+=\u001b[0m \u001b[0mbias\u001b[0m\u001b[0;34m\u001b[0m\u001b[0;34m\u001b[0m\u001b[0m\n",
            "\u001b[0;31mKeyboardInterrupt\u001b[0m: "
          ]
        }
      ]
    },
    {
      "cell_type": "code",
      "metadata": {
        "colab": {
          "base_uri": "https://localhost:8080/"
        },
        "id": "OmzQqc_MxM0r",
        "outputId": "29760849-60d4-4955-d2ce-e21b374c773a"
      },
      "source": [
        "s = ['I enjoy cold weather , and today was kinda cold which is okay for me','I like cold weather and its hot','I dont really like him','I adore yasmina','its not really as good as I thought ','he made me feel like a whore','sex was meh']\n",
        "\n",
        "for i in s:\n",
        "  s = flair.data.Sentence(i)\n",
        "  flair_sentiment.predict(s)\n",
        "  total_sentiment = s.labels\n",
        "  total_sentiment\n",
        "  print(s , '===')"
      ],
      "execution_count": 162,
      "outputs": [
        {
          "output_type": "stream",
          "text": [
            "Sentence: \"allah akbar\"   [− Tokens: 2  − Sentence-Labels: {'label': [NEGATIVE (0.8464)]}] ===\n",
            "Sentence: \"the sun is shinning\"   [− Tokens: 4  − Sentence-Labels: {'label': [POSITIVE (0.9904)]}] ===\n",
            "Sentence: \"I like cold weather and its hot\"   [− Tokens: 7  − Sentence-Labels: {'label': [POSITIVE (0.9554)]}] ===\n",
            "Sentence: \"I dont really like him\"   [− Tokens: 5  − Sentence-Labels: {'label': [NEGATIVE (1.0)]}] ===\n",
            "Sentence: \"I adore yasmina\"   [− Tokens: 3  − Sentence-Labels: {'label': [POSITIVE (0.997)]}] ===\n",
            "Sentence: \"its not really as good as I thought\"   [− Tokens: 8  − Sentence-Labels: {'label': [NEGATIVE (0.9998)]}] ===\n",
            "Sentence: \"he made me feel like a whore\"   [− Tokens: 7  − Sentence-Labels: {'label': [NEGATIVE (0.9998)]}] ===\n",
            "Sentence: \"sex was meh\"   [− Tokens: 3  − Sentence-Labels: {'label': [NEGATIVE (0.9931)]}] ===\n"
          ],
          "name": "stdout"
        }
      ]
    },
    {
      "cell_type": "code",
      "metadata": {
        "id": "KtTgn1c1zHCI"
      },
      "source": [
        ""
      ],
      "execution_count": null,
      "outputs": []
    }
  ]
}