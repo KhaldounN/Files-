{
  "nbformat": 4,
  "nbformat_minor": 0,
  "metadata": {
    "colab": {
      "name": "Session_2_Logistic_Regression_EXERCISE",
      "provenance": [],
      "collapsed_sections": []
    },
    "kernelspec": {
      "name": "python3",
      "display_name": "Python 3"
    }
  },
  "cells": [
    {
      "cell_type": "markdown",
      "metadata": {
        "id": "FGwd_FaSM139"
      },
      "source": [
        "![BTS](https://github.com/vfp1/bts-dsf-2020/raw/main/Logo-BTS.jpg)\n",
        "\n",
        "# Session 2: Logistic Regression EXERCISE\n",
        "\n",
        "### Victor F. Pajuelo Madrigal <victor.pajuelo@bts.tech> - Classical Data Analysis\n",
        "\n",
        "Open this notebook in Google Colaboratory: [![Open in Colab](https://colab.research.google.com/assets/colab-badge.svg)](https://colab.research.google.com/github/vfp1/bts-cda-2020/blob/main/Session_2/Session_2_Logistic_Regression_EXERCISE.ipynb)\n",
        "\n",
        "**Resources:**\n",
        "* Sklearn documentation"
      ]
    },
    {
      "cell_type": "code",
      "metadata": {
        "id": "t-c9fPxuM02Q"
      },
      "source": [
        ""
      ],
      "execution_count": null,
      "outputs": []
    },
    {
      "cell_type": "markdown",
      "metadata": {
        "id": "qhbbL6bgLU_R"
      },
      "source": [
        "# Logistic Regression Assignment"
      ]
    },
    {
      "cell_type": "markdown",
      "metadata": {
        "id": "3n-19MN2LU_T"
      },
      "source": [
        "We are given a dataset of  direct marketing campaigns of a credit institution. **Our goal is to implement a model to predict whether the client will subscribe to a term deposit.**\n",
        "\n",
        "**When working on the assignment there could be multiple ways to explore data or implement specific analysis. Choose that one you retain more appropriate but always justify every choice you make (e.g., why you choose some variables), comment your code, describe the plots and results you obtain.**\n",
        "\n",
        "\n",
        "### Enjoy!"
      ]
    },
    {
      "cell_type": "markdown",
      "metadata": {
        "id": "qLiDiMlzLU_U"
      },
      "source": [
        "DATASET DESCRIPTION\n",
        "\n",
        "- age (numeric)\n",
        "- job : type of job \n",
        "- marital : marital status\n",
        "- education \n",
        "- default: has credit in default? \n",
        "- housing: has housing loan? \n",
        "- loan: has personal loan? \n",
        "- contact: contact communication type \n",
        "- month: last contact month of year \n",
        "- day_of_week: last contact day of the week \n",
        "- duration: last contact duration, in seconds (numeric). Important note: this attribute highly affects the output target (e.g., if duration=0 then y=’no’). The duration is not known before a call is performed, also, after the end of the call, y is obviously known. Thus, this input should only be included for benchmark purposes and should be discarded if the intention is to have a realistic predictive model\n",
        "- campaign: number of contacts performed during this campaign and for this client \n",
        "- pdays: number of days that passed by after the client was last contacted from a previous campaign (999 means client was not previously contacted)\n",
        "- previous: number of contacts performed before this campaign and for this client (numeric)\n",
        "- poutcome: outcome of the previous marketing campaign \n",
        "- emp.var.rate: employment variation rate \n",
        "- cons.price.idx: consumer price index \n",
        "- cons.conf.idx: consumer confidence index \n",
        "- euribor3m: euribor 3 month rate \n",
        "- nr.employed: number of employees \n",
        "- y — Target variable: has the client subscribed a term deposit? "
      ]
    },
    {
      "cell_type": "markdown",
      "metadata": {
        "id": "36LYnxuALU_V"
      },
      "source": [
        "##### Import libraries"
      ]
    },
    {
      "cell_type": "code",
      "metadata": {
        "id": "MGWs5Jw-LU_V"
      },
      "source": [
        "import pandas as pd\n",
        "import numpy as np\n",
        "from sklearn import preprocessing\n",
        "import matplotlib.pyplot as plt \n",
        "plt.rc(\"font\", size=18)\n",
        "from sklearn.linear_model import LogisticRegression\n",
        "from sklearn.model_selection import train_test_split\n",
        "import seaborn as sns\n",
        "\n",
        "sns.set(style=\"white\")\n",
        "sns.set(style=\"whitegrid\", color_codes=True)"
      ],
      "execution_count": 1,
      "outputs": []
    },
    {
      "cell_type": "code",
      "metadata": {
        "id": "WYykgapRLU_W",
        "colab": {
          "base_uri": "https://localhost:8080/",
          "height": 161
        },
        "outputId": "3d940916-546f-4e2b-fc62-850a256eeffd"
      },
      "source": [
        "data = pd.read_csv('banking.csv')\n",
        "data.head(3)"
      ],
      "execution_count": 2,
      "outputs": [
        {
          "output_type": "execute_result",
          "data": {
            "text/html": [
              "<div>\n",
              "<style scoped>\n",
              "    .dataframe tbody tr th:only-of-type {\n",
              "        vertical-align: middle;\n",
              "    }\n",
              "\n",
              "    .dataframe tbody tr th {\n",
              "        vertical-align: top;\n",
              "    }\n",
              "\n",
              "    .dataframe thead th {\n",
              "        text-align: right;\n",
              "    }\n",
              "</style>\n",
              "<table border=\"1\" class=\"dataframe\">\n",
              "  <thead>\n",
              "    <tr style=\"text-align: right;\">\n",
              "      <th></th>\n",
              "      <th>age</th>\n",
              "      <th>job</th>\n",
              "      <th>marital</th>\n",
              "      <th>education</th>\n",
              "      <th>default</th>\n",
              "      <th>housing</th>\n",
              "      <th>loan</th>\n",
              "      <th>contact</th>\n",
              "      <th>month</th>\n",
              "      <th>day_of_week</th>\n",
              "      <th>duration</th>\n",
              "      <th>campaign</th>\n",
              "      <th>pdays</th>\n",
              "      <th>previous</th>\n",
              "      <th>poutcome</th>\n",
              "      <th>emp_var_rate</th>\n",
              "      <th>cons_price_idx</th>\n",
              "      <th>cons_conf_idx</th>\n",
              "      <th>euribor3m</th>\n",
              "      <th>nr_employed</th>\n",
              "      <th>y</th>\n",
              "    </tr>\n",
              "  </thead>\n",
              "  <tbody>\n",
              "    <tr>\n",
              "      <th>0</th>\n",
              "      <td>44</td>\n",
              "      <td>blue-collar</td>\n",
              "      <td>married</td>\n",
              "      <td>basic.4y</td>\n",
              "      <td>unknown</td>\n",
              "      <td>yes</td>\n",
              "      <td>no</td>\n",
              "      <td>cellular</td>\n",
              "      <td>aug</td>\n",
              "      <td>thu</td>\n",
              "      <td>210</td>\n",
              "      <td>1</td>\n",
              "      <td>999</td>\n",
              "      <td>0</td>\n",
              "      <td>nonexistent</td>\n",
              "      <td>1.4</td>\n",
              "      <td>93.444</td>\n",
              "      <td>-36.1</td>\n",
              "      <td>4.963</td>\n",
              "      <td>5228.1</td>\n",
              "      <td>0</td>\n",
              "    </tr>\n",
              "    <tr>\n",
              "      <th>1</th>\n",
              "      <td>53</td>\n",
              "      <td>technician</td>\n",
              "      <td>married</td>\n",
              "      <td>unknown</td>\n",
              "      <td>no</td>\n",
              "      <td>no</td>\n",
              "      <td>no</td>\n",
              "      <td>cellular</td>\n",
              "      <td>nov</td>\n",
              "      <td>fri</td>\n",
              "      <td>138</td>\n",
              "      <td>1</td>\n",
              "      <td>999</td>\n",
              "      <td>0</td>\n",
              "      <td>nonexistent</td>\n",
              "      <td>-0.1</td>\n",
              "      <td>93.200</td>\n",
              "      <td>-42.0</td>\n",
              "      <td>4.021</td>\n",
              "      <td>5195.8</td>\n",
              "      <td>0</td>\n",
              "    </tr>\n",
              "    <tr>\n",
              "      <th>2</th>\n",
              "      <td>28</td>\n",
              "      <td>management</td>\n",
              "      <td>single</td>\n",
              "      <td>university.degree</td>\n",
              "      <td>no</td>\n",
              "      <td>yes</td>\n",
              "      <td>no</td>\n",
              "      <td>cellular</td>\n",
              "      <td>jun</td>\n",
              "      <td>thu</td>\n",
              "      <td>339</td>\n",
              "      <td>3</td>\n",
              "      <td>6</td>\n",
              "      <td>2</td>\n",
              "      <td>success</td>\n",
              "      <td>-1.7</td>\n",
              "      <td>94.055</td>\n",
              "      <td>-39.8</td>\n",
              "      <td>0.729</td>\n",
              "      <td>4991.6</td>\n",
              "      <td>1</td>\n",
              "    </tr>\n",
              "  </tbody>\n",
              "</table>\n",
              "</div>"
            ],
            "text/plain": [
              "   age          job  marital  ... euribor3m nr_employed  y\n",
              "0   44  blue-collar  married  ...     4.963      5228.1  0\n",
              "1   53   technician  married  ...     4.021      5195.8  0\n",
              "2   28   management   single  ...     0.729      4991.6  1\n",
              "\n",
              "[3 rows x 21 columns]"
            ]
          },
          "metadata": {
            "tags": []
          },
          "execution_count": 2
        }
      ]
    },
    {
      "cell_type": "code",
      "metadata": {
        "id": "iKObpqA-LU_X",
        "colab": {
          "base_uri": "https://localhost:8080/"
        },
        "outputId": "4fe05a0a-f731-4efd-e86c-d1c106c0946a"
      },
      "source": [
        "data.shape"
      ],
      "execution_count": 3,
      "outputs": [
        {
          "output_type": "execute_result",
          "data": {
            "text/plain": [
              "(41188, 21)"
            ]
          },
          "metadata": {
            "tags": []
          },
          "execution_count": 3
        }
      ]
    },
    {
      "cell_type": "code",
      "metadata": {
        "colab": {
          "base_uri": "https://localhost:8080/",
          "height": 222
        },
        "id": "JJFMFmVBZgCr",
        "outputId": "d8071ab0-30b9-4140-d250-c11210d4e3da"
      },
      "source": [
        "data.drop(columns='duration')\r\n",
        "data.head()"
      ],
      "execution_count": 14,
      "outputs": [
        {
          "output_type": "execute_result",
          "data": {
            "text/html": [
              "<div>\n",
              "<style scoped>\n",
              "    .dataframe tbody tr th:only-of-type {\n",
              "        vertical-align: middle;\n",
              "    }\n",
              "\n",
              "    .dataframe tbody tr th {\n",
              "        vertical-align: top;\n",
              "    }\n",
              "\n",
              "    .dataframe thead th {\n",
              "        text-align: right;\n",
              "    }\n",
              "</style>\n",
              "<table border=\"1\" class=\"dataframe\">\n",
              "  <thead>\n",
              "    <tr style=\"text-align: right;\">\n",
              "      <th></th>\n",
              "      <th>age</th>\n",
              "      <th>job</th>\n",
              "      <th>marital</th>\n",
              "      <th>education</th>\n",
              "      <th>default</th>\n",
              "      <th>housing</th>\n",
              "      <th>loan</th>\n",
              "      <th>contact</th>\n",
              "      <th>month</th>\n",
              "      <th>day_of_week</th>\n",
              "      <th>duration</th>\n",
              "      <th>campaign</th>\n",
              "      <th>pdays</th>\n",
              "      <th>previous</th>\n",
              "      <th>poutcome</th>\n",
              "      <th>emp_var_rate</th>\n",
              "      <th>cons_price_idx</th>\n",
              "      <th>cons_conf_idx</th>\n",
              "      <th>euribor3m</th>\n",
              "      <th>nr_employed</th>\n",
              "      <th>y</th>\n",
              "    </tr>\n",
              "  </thead>\n",
              "  <tbody>\n",
              "    <tr>\n",
              "      <th>0</th>\n",
              "      <td>44</td>\n",
              "      <td>blue-collar</td>\n",
              "      <td>married</td>\n",
              "      <td>basic</td>\n",
              "      <td>unknown</td>\n",
              "      <td>yes</td>\n",
              "      <td>no</td>\n",
              "      <td>cellular</td>\n",
              "      <td>aug</td>\n",
              "      <td>thu</td>\n",
              "      <td>210</td>\n",
              "      <td>1</td>\n",
              "      <td>999</td>\n",
              "      <td>0</td>\n",
              "      <td>nonexistent</td>\n",
              "      <td>1.4</td>\n",
              "      <td>93.444</td>\n",
              "      <td>-36.1</td>\n",
              "      <td>4.963</td>\n",
              "      <td>5228.1</td>\n",
              "      <td>0</td>\n",
              "    </tr>\n",
              "    <tr>\n",
              "      <th>1</th>\n",
              "      <td>53</td>\n",
              "      <td>technician</td>\n",
              "      <td>married</td>\n",
              "      <td>unknown</td>\n",
              "      <td>no</td>\n",
              "      <td>no</td>\n",
              "      <td>no</td>\n",
              "      <td>cellular</td>\n",
              "      <td>nov</td>\n",
              "      <td>fri</td>\n",
              "      <td>138</td>\n",
              "      <td>1</td>\n",
              "      <td>999</td>\n",
              "      <td>0</td>\n",
              "      <td>nonexistent</td>\n",
              "      <td>-0.1</td>\n",
              "      <td>93.200</td>\n",
              "      <td>-42.0</td>\n",
              "      <td>4.021</td>\n",
              "      <td>5195.8</td>\n",
              "      <td>0</td>\n",
              "    </tr>\n",
              "    <tr>\n",
              "      <th>2</th>\n",
              "      <td>28</td>\n",
              "      <td>management</td>\n",
              "      <td>single</td>\n",
              "      <td>university.degree</td>\n",
              "      <td>no</td>\n",
              "      <td>yes</td>\n",
              "      <td>no</td>\n",
              "      <td>cellular</td>\n",
              "      <td>jun</td>\n",
              "      <td>thu</td>\n",
              "      <td>339</td>\n",
              "      <td>3</td>\n",
              "      <td>6</td>\n",
              "      <td>2</td>\n",
              "      <td>success</td>\n",
              "      <td>-1.7</td>\n",
              "      <td>94.055</td>\n",
              "      <td>-39.8</td>\n",
              "      <td>0.729</td>\n",
              "      <td>4991.6</td>\n",
              "      <td>1</td>\n",
              "    </tr>\n",
              "    <tr>\n",
              "      <th>3</th>\n",
              "      <td>39</td>\n",
              "      <td>services</td>\n",
              "      <td>married</td>\n",
              "      <td>high.school</td>\n",
              "      <td>no</td>\n",
              "      <td>no</td>\n",
              "      <td>no</td>\n",
              "      <td>cellular</td>\n",
              "      <td>apr</td>\n",
              "      <td>fri</td>\n",
              "      <td>185</td>\n",
              "      <td>2</td>\n",
              "      <td>999</td>\n",
              "      <td>0</td>\n",
              "      <td>nonexistent</td>\n",
              "      <td>-1.8</td>\n",
              "      <td>93.075</td>\n",
              "      <td>-47.1</td>\n",
              "      <td>1.405</td>\n",
              "      <td>5099.1</td>\n",
              "      <td>0</td>\n",
              "    </tr>\n",
              "    <tr>\n",
              "      <th>4</th>\n",
              "      <td>55</td>\n",
              "      <td>retired</td>\n",
              "      <td>married</td>\n",
              "      <td>basic</td>\n",
              "      <td>no</td>\n",
              "      <td>yes</td>\n",
              "      <td>no</td>\n",
              "      <td>cellular</td>\n",
              "      <td>aug</td>\n",
              "      <td>fri</td>\n",
              "      <td>137</td>\n",
              "      <td>1</td>\n",
              "      <td>3</td>\n",
              "      <td>1</td>\n",
              "      <td>success</td>\n",
              "      <td>-2.9</td>\n",
              "      <td>92.201</td>\n",
              "      <td>-31.4</td>\n",
              "      <td>0.869</td>\n",
              "      <td>5076.2</td>\n",
              "      <td>1</td>\n",
              "    </tr>\n",
              "  </tbody>\n",
              "</table>\n",
              "</div>"
            ],
            "text/plain": [
              "   age          job  marital  ... euribor3m nr_employed  y\n",
              "0   44  blue-collar  married  ...     4.963      5228.1  0\n",
              "1   53   technician  married  ...     4.021      5195.8  0\n",
              "2   28   management   single  ...     0.729      4991.6  1\n",
              "3   39     services  married  ...     1.405      5099.1  0\n",
              "4   55      retired  married  ...     0.869      5076.2  1\n",
              "\n",
              "[5 rows x 21 columns]"
            ]
          },
          "metadata": {
            "tags": []
          },
          "execution_count": 14
        }
      ]
    },
    {
      "cell_type": "markdown",
      "metadata": {
        "id": "aqpbWf5ZLU_Y"
      },
      "source": [
        "## EDA and Feature Engineering \n",
        "\n",
        "An important requirement for Logistic Regression to function properly is Feature Engineering as it helps to identify independent variables. Without proper identification of independent variables Logistic Regression fails to perform correctly."
      ]
    },
    {
      "cell_type": "markdown",
      "metadata": {
        "id": "BXv9wgqILU_Y"
      },
      "source": [
        "One disadvantage of logistic regression is that it doesn’t handle large number of categorical variables well.\n",
        "\n",
        "```education``` column has many categories, try to reduce the categories for a better modelling. The education column has the following categories.\n"
      ]
    },
    {
      "cell_type": "code",
      "metadata": {
        "id": "DdkrF0WrLU_Y",
        "colab": {
          "base_uri": "https://localhost:8080/"
        },
        "outputId": "d804a250-16da-402f-bce7-86cb69a39218"
      },
      "source": [
        "data.education.unique()"
      ],
      "execution_count": 15,
      "outputs": [
        {
          "output_type": "execute_result",
          "data": {
            "text/plain": [
              "array(['basic', 'unknown', 'university.degree', 'high.school',\n",
              "       'professional.course', 'illiterate'], dtype=object)"
            ]
          },
          "metadata": {
            "tags": []
          },
          "execution_count": 15
        }
      ]
    },
    {
      "cell_type": "markdown",
      "metadata": {
        "id": "NXYm8tJZLU_Z"
      },
      "source": [
        "We will group all ```basic.XX``` in a unique value ```basic```"
      ]
    },
    {
      "cell_type": "code",
      "metadata": {
        "colab": {
          "base_uri": "https://localhost:8080/",
          "height": 462
        },
        "id": "owZPtvJP_DVw",
        "outputId": "b4478f80-6d30-4e15-a9e1-8701ad232e07"
      },
      "source": [
        "# replace strings that begin with \"basic\" with a string \"basic\"\r\n",
        "data.education[data.education.str.contains('basic')] = 'basic'\r\n",
        "\r\n",
        "data.head(10)"
      ],
      "execution_count": 16,
      "outputs": [
        {
          "output_type": "stream",
          "text": [
            "/usr/local/lib/python3.6/dist-packages/ipykernel_launcher.py:2: SettingWithCopyWarning: \n",
            "A value is trying to be set on a copy of a slice from a DataFrame\n",
            "\n",
            "See the caveats in the documentation: https://pandas.pydata.org/pandas-docs/stable/user_guide/indexing.html#returning-a-view-versus-a-copy\n",
            "  \n"
          ],
          "name": "stderr"
        },
        {
          "output_type": "execute_result",
          "data": {
            "text/html": [
              "<div>\n",
              "<style scoped>\n",
              "    .dataframe tbody tr th:only-of-type {\n",
              "        vertical-align: middle;\n",
              "    }\n",
              "\n",
              "    .dataframe tbody tr th {\n",
              "        vertical-align: top;\n",
              "    }\n",
              "\n",
              "    .dataframe thead th {\n",
              "        text-align: right;\n",
              "    }\n",
              "</style>\n",
              "<table border=\"1\" class=\"dataframe\">\n",
              "  <thead>\n",
              "    <tr style=\"text-align: right;\">\n",
              "      <th></th>\n",
              "      <th>age</th>\n",
              "      <th>job</th>\n",
              "      <th>marital</th>\n",
              "      <th>education</th>\n",
              "      <th>default</th>\n",
              "      <th>housing</th>\n",
              "      <th>loan</th>\n",
              "      <th>contact</th>\n",
              "      <th>month</th>\n",
              "      <th>day_of_week</th>\n",
              "      <th>duration</th>\n",
              "      <th>campaign</th>\n",
              "      <th>pdays</th>\n",
              "      <th>previous</th>\n",
              "      <th>poutcome</th>\n",
              "      <th>emp_var_rate</th>\n",
              "      <th>cons_price_idx</th>\n",
              "      <th>cons_conf_idx</th>\n",
              "      <th>euribor3m</th>\n",
              "      <th>nr_employed</th>\n",
              "      <th>y</th>\n",
              "    </tr>\n",
              "  </thead>\n",
              "  <tbody>\n",
              "    <tr>\n",
              "      <th>0</th>\n",
              "      <td>44</td>\n",
              "      <td>blue-collar</td>\n",
              "      <td>married</td>\n",
              "      <td>basic</td>\n",
              "      <td>unknown</td>\n",
              "      <td>yes</td>\n",
              "      <td>no</td>\n",
              "      <td>cellular</td>\n",
              "      <td>aug</td>\n",
              "      <td>thu</td>\n",
              "      <td>210</td>\n",
              "      <td>1</td>\n",
              "      <td>999</td>\n",
              "      <td>0</td>\n",
              "      <td>nonexistent</td>\n",
              "      <td>1.4</td>\n",
              "      <td>93.444</td>\n",
              "      <td>-36.1</td>\n",
              "      <td>4.963</td>\n",
              "      <td>5228.1</td>\n",
              "      <td>0</td>\n",
              "    </tr>\n",
              "    <tr>\n",
              "      <th>1</th>\n",
              "      <td>53</td>\n",
              "      <td>technician</td>\n",
              "      <td>married</td>\n",
              "      <td>unknown</td>\n",
              "      <td>no</td>\n",
              "      <td>no</td>\n",
              "      <td>no</td>\n",
              "      <td>cellular</td>\n",
              "      <td>nov</td>\n",
              "      <td>fri</td>\n",
              "      <td>138</td>\n",
              "      <td>1</td>\n",
              "      <td>999</td>\n",
              "      <td>0</td>\n",
              "      <td>nonexistent</td>\n",
              "      <td>-0.1</td>\n",
              "      <td>93.200</td>\n",
              "      <td>-42.0</td>\n",
              "      <td>4.021</td>\n",
              "      <td>5195.8</td>\n",
              "      <td>0</td>\n",
              "    </tr>\n",
              "    <tr>\n",
              "      <th>2</th>\n",
              "      <td>28</td>\n",
              "      <td>management</td>\n",
              "      <td>single</td>\n",
              "      <td>university.degree</td>\n",
              "      <td>no</td>\n",
              "      <td>yes</td>\n",
              "      <td>no</td>\n",
              "      <td>cellular</td>\n",
              "      <td>jun</td>\n",
              "      <td>thu</td>\n",
              "      <td>339</td>\n",
              "      <td>3</td>\n",
              "      <td>6</td>\n",
              "      <td>2</td>\n",
              "      <td>success</td>\n",
              "      <td>-1.7</td>\n",
              "      <td>94.055</td>\n",
              "      <td>-39.8</td>\n",
              "      <td>0.729</td>\n",
              "      <td>4991.6</td>\n",
              "      <td>1</td>\n",
              "    </tr>\n",
              "    <tr>\n",
              "      <th>3</th>\n",
              "      <td>39</td>\n",
              "      <td>services</td>\n",
              "      <td>married</td>\n",
              "      <td>high.school</td>\n",
              "      <td>no</td>\n",
              "      <td>no</td>\n",
              "      <td>no</td>\n",
              "      <td>cellular</td>\n",
              "      <td>apr</td>\n",
              "      <td>fri</td>\n",
              "      <td>185</td>\n",
              "      <td>2</td>\n",
              "      <td>999</td>\n",
              "      <td>0</td>\n",
              "      <td>nonexistent</td>\n",
              "      <td>-1.8</td>\n",
              "      <td>93.075</td>\n",
              "      <td>-47.1</td>\n",
              "      <td>1.405</td>\n",
              "      <td>5099.1</td>\n",
              "      <td>0</td>\n",
              "    </tr>\n",
              "    <tr>\n",
              "      <th>4</th>\n",
              "      <td>55</td>\n",
              "      <td>retired</td>\n",
              "      <td>married</td>\n",
              "      <td>basic</td>\n",
              "      <td>no</td>\n",
              "      <td>yes</td>\n",
              "      <td>no</td>\n",
              "      <td>cellular</td>\n",
              "      <td>aug</td>\n",
              "      <td>fri</td>\n",
              "      <td>137</td>\n",
              "      <td>1</td>\n",
              "      <td>3</td>\n",
              "      <td>1</td>\n",
              "      <td>success</td>\n",
              "      <td>-2.9</td>\n",
              "      <td>92.201</td>\n",
              "      <td>-31.4</td>\n",
              "      <td>0.869</td>\n",
              "      <td>5076.2</td>\n",
              "      <td>1</td>\n",
              "    </tr>\n",
              "    <tr>\n",
              "      <th>5</th>\n",
              "      <td>30</td>\n",
              "      <td>management</td>\n",
              "      <td>divorced</td>\n",
              "      <td>basic</td>\n",
              "      <td>no</td>\n",
              "      <td>yes</td>\n",
              "      <td>no</td>\n",
              "      <td>cellular</td>\n",
              "      <td>jul</td>\n",
              "      <td>tue</td>\n",
              "      <td>68</td>\n",
              "      <td>8</td>\n",
              "      <td>999</td>\n",
              "      <td>0</td>\n",
              "      <td>nonexistent</td>\n",
              "      <td>1.4</td>\n",
              "      <td>93.918</td>\n",
              "      <td>-42.7</td>\n",
              "      <td>4.961</td>\n",
              "      <td>5228.1</td>\n",
              "      <td>0</td>\n",
              "    </tr>\n",
              "    <tr>\n",
              "      <th>6</th>\n",
              "      <td>37</td>\n",
              "      <td>blue-collar</td>\n",
              "      <td>married</td>\n",
              "      <td>basic</td>\n",
              "      <td>no</td>\n",
              "      <td>yes</td>\n",
              "      <td>no</td>\n",
              "      <td>cellular</td>\n",
              "      <td>may</td>\n",
              "      <td>thu</td>\n",
              "      <td>204</td>\n",
              "      <td>1</td>\n",
              "      <td>999</td>\n",
              "      <td>0</td>\n",
              "      <td>nonexistent</td>\n",
              "      <td>-1.8</td>\n",
              "      <td>92.893</td>\n",
              "      <td>-46.2</td>\n",
              "      <td>1.327</td>\n",
              "      <td>5099.1</td>\n",
              "      <td>0</td>\n",
              "    </tr>\n",
              "    <tr>\n",
              "      <th>7</th>\n",
              "      <td>39</td>\n",
              "      <td>blue-collar</td>\n",
              "      <td>divorced</td>\n",
              "      <td>basic</td>\n",
              "      <td>no</td>\n",
              "      <td>yes</td>\n",
              "      <td>no</td>\n",
              "      <td>cellular</td>\n",
              "      <td>may</td>\n",
              "      <td>fri</td>\n",
              "      <td>191</td>\n",
              "      <td>1</td>\n",
              "      <td>999</td>\n",
              "      <td>0</td>\n",
              "      <td>nonexistent</td>\n",
              "      <td>-1.8</td>\n",
              "      <td>92.893</td>\n",
              "      <td>-46.2</td>\n",
              "      <td>1.313</td>\n",
              "      <td>5099.1</td>\n",
              "      <td>0</td>\n",
              "    </tr>\n",
              "    <tr>\n",
              "      <th>8</th>\n",
              "      <td>36</td>\n",
              "      <td>admin.</td>\n",
              "      <td>married</td>\n",
              "      <td>university.degree</td>\n",
              "      <td>no</td>\n",
              "      <td>no</td>\n",
              "      <td>no</td>\n",
              "      <td>cellular</td>\n",
              "      <td>jun</td>\n",
              "      <td>mon</td>\n",
              "      <td>174</td>\n",
              "      <td>1</td>\n",
              "      <td>3</td>\n",
              "      <td>1</td>\n",
              "      <td>success</td>\n",
              "      <td>-2.9</td>\n",
              "      <td>92.963</td>\n",
              "      <td>-40.8</td>\n",
              "      <td>1.266</td>\n",
              "      <td>5076.2</td>\n",
              "      <td>1</td>\n",
              "    </tr>\n",
              "    <tr>\n",
              "      <th>9</th>\n",
              "      <td>27</td>\n",
              "      <td>blue-collar</td>\n",
              "      <td>single</td>\n",
              "      <td>basic</td>\n",
              "      <td>no</td>\n",
              "      <td>yes</td>\n",
              "      <td>no</td>\n",
              "      <td>cellular</td>\n",
              "      <td>apr</td>\n",
              "      <td>thu</td>\n",
              "      <td>191</td>\n",
              "      <td>2</td>\n",
              "      <td>999</td>\n",
              "      <td>1</td>\n",
              "      <td>failure</td>\n",
              "      <td>-1.8</td>\n",
              "      <td>93.075</td>\n",
              "      <td>-47.1</td>\n",
              "      <td>1.410</td>\n",
              "      <td>5099.1</td>\n",
              "      <td>0</td>\n",
              "    </tr>\n",
              "  </tbody>\n",
              "</table>\n",
              "</div>"
            ],
            "text/plain": [
              "   age          job   marital  ... euribor3m nr_employed  y\n",
              "0   44  blue-collar   married  ...     4.963      5228.1  0\n",
              "1   53   technician   married  ...     4.021      5195.8  0\n",
              "2   28   management    single  ...     0.729      4991.6  1\n",
              "3   39     services   married  ...     1.405      5099.1  0\n",
              "4   55      retired   married  ...     0.869      5076.2  1\n",
              "5   30   management  divorced  ...     4.961      5228.1  0\n",
              "6   37  blue-collar   married  ...     1.327      5099.1  0\n",
              "7   39  blue-collar  divorced  ...     1.313      5099.1  0\n",
              "8   36       admin.   married  ...     1.266      5076.2  1\n",
              "9   27  blue-collar    single  ...     1.410      5099.1  0\n",
              "\n",
              "[10 rows x 21 columns]"
            ]
          },
          "metadata": {
            "tags": []
          },
          "execution_count": 16
        }
      ]
    },
    {
      "cell_type": "markdown",
      "metadata": {
        "id": "wY3up1slLU_Z"
      },
      "source": [
        "##### Analyse the distribution of the target variable"
      ]
    },
    {
      "cell_type": "code",
      "metadata": {
        "colab": {
          "base_uri": "https://localhost:8080/",
          "height": 283
        },
        "id": "rXk2kSYfDAUI",
        "outputId": "ab6d383b-6c43-4859-e1d0-ceace8583a2a"
      },
      "source": [
        "data.y.value_counts().plot(kind = 'bar')"
      ],
      "execution_count": 17,
      "outputs": [
        {
          "output_type": "execute_result",
          "data": {
            "text/plain": [
              "<matplotlib.axes._subplots.AxesSubplot at 0x7f6833165710>"
            ]
          },
          "metadata": {
            "tags": []
          },
          "execution_count": 17
        },
        {
          "output_type": "display_data",
          "data": {
            "image/png": "[encoded data removed]",
            "text/plain": [
              "<Figure size 432x288 with 1 Axes>"
            ]
          },
          "metadata": {
            "tags": [],
            "needs_background": "light"
          }
        }
      ]
    },
    {
      "cell_type": "code",
      "metadata": {
        "colab": {
          "base_uri": "https://localhost:8080/"
        },
        "id": "5e2652z9DVcy",
        "outputId": "0d9b3d6b-b9b6-456f-a203-a6cc87f48ca2"
      },
      "source": [
        "data.y.value_counts()"
      ],
      "execution_count": 18,
      "outputs": [
        {
          "output_type": "execute_result",
          "data": {
            "text/plain": [
              "0    36548\n",
              "1     4640\n",
              "Name: y, dtype: int64"
            ]
          },
          "metadata": {
            "tags": []
          },
          "execution_count": 18
        }
      ]
    },
    {
      "cell_type": "markdown",
      "metadata": {
        "id": "04i5deoGLU_a"
      },
      "source": [
        "##### What can we observe about the distribution of the target variable"
      ]
    },
    {
      "cell_type": "markdown",
      "metadata": {
        "id": "qR4mRdKrLU_b"
      },
      "source": [
        "unbalancecd! . biased towrads target label 0"
      ]
    },
    {
      "cell_type": "markdown",
      "metadata": {
        "id": "ScidMCiJLU_b"
      },
      "source": [
        "##### Observe how the different numeric variables behave for the 2 classes"
      ]
    },
    {
      "cell_type": "code",
      "metadata": {
        "colab": {
          "base_uri": "https://localhost:8080/",
          "height": 161
        },
        "id": "Z5Gw7CLCDpQ-",
        "outputId": "234a9192-8ac2-48ca-c67d-3b31790d12e8"
      },
      "source": [
        "data.groupby(by='y').mean()"
      ],
      "execution_count": 19,
      "outputs": [
        {
          "output_type": "execute_result",
          "data": {
            "text/html": [
              "<div>\n",
              "<style scoped>\n",
              "    .dataframe tbody tr th:only-of-type {\n",
              "        vertical-align: middle;\n",
              "    }\n",
              "\n",
              "    .dataframe tbody tr th {\n",
              "        vertical-align: top;\n",
              "    }\n",
              "\n",
              "    .dataframe thead th {\n",
              "        text-align: right;\n",
              "    }\n",
              "</style>\n",
              "<table border=\"1\" class=\"dataframe\">\n",
              "  <thead>\n",
              "    <tr style=\"text-align: right;\">\n",
              "      <th></th>\n",
              "      <th>age</th>\n",
              "      <th>duration</th>\n",
              "      <th>campaign</th>\n",
              "      <th>pdays</th>\n",
              "      <th>previous</th>\n",
              "      <th>emp_var_rate</th>\n",
              "      <th>cons_price_idx</th>\n",
              "      <th>cons_conf_idx</th>\n",
              "      <th>euribor3m</th>\n",
              "      <th>nr_employed</th>\n",
              "    </tr>\n",
              "    <tr>\n",
              "      <th>y</th>\n",
              "      <th></th>\n",
              "      <th></th>\n",
              "      <th></th>\n",
              "      <th></th>\n",
              "      <th></th>\n",
              "      <th></th>\n",
              "      <th></th>\n",
              "      <th></th>\n",
              "      <th></th>\n",
              "      <th></th>\n",
              "    </tr>\n",
              "  </thead>\n",
              "  <tbody>\n",
              "    <tr>\n",
              "      <th>0</th>\n",
              "      <td>39.911185</td>\n",
              "      <td>220.844807</td>\n",
              "      <td>2.633085</td>\n",
              "      <td>984.113878</td>\n",
              "      <td>0.132374</td>\n",
              "      <td>0.248875</td>\n",
              "      <td>93.603757</td>\n",
              "      <td>-40.593097</td>\n",
              "      <td>3.811491</td>\n",
              "      <td>5176.166600</td>\n",
              "    </tr>\n",
              "    <tr>\n",
              "      <th>1</th>\n",
              "      <td>40.913147</td>\n",
              "      <td>553.191164</td>\n",
              "      <td>2.051724</td>\n",
              "      <td>792.035560</td>\n",
              "      <td>0.492672</td>\n",
              "      <td>-1.233448</td>\n",
              "      <td>93.354386</td>\n",
              "      <td>-39.789784</td>\n",
              "      <td>2.123135</td>\n",
              "      <td>5095.115991</td>\n",
              "    </tr>\n",
              "  </tbody>\n",
              "</table>\n",
              "</div>"
            ],
            "text/plain": [
              "         age    duration  campaign  ...  cons_conf_idx  euribor3m  nr_employed\n",
              "y                                   ...                                       \n",
              "0  39.911185  220.844807  2.633085  ...     -40.593097   3.811491  5176.166600\n",
              "1  40.913147  553.191164  2.051724  ...     -39.789784   2.123135  5095.115991\n",
              "\n",
              "[2 rows x 10 columns]"
            ]
          },
          "metadata": {
            "tags": []
          },
          "execution_count": 19
        }
      ]
    },
    {
      "cell_type": "code",
      "metadata": {
        "colab": {
          "base_uri": "https://localhost:8080/",
          "height": 161
        },
        "id": "tPeWUuvtDugy",
        "outputId": "1cc67ae3-6413-4723-b388-514ec1822b44"
      },
      "source": [
        "data.groupby(by='y').var()"
      ],
      "execution_count": 20,
      "outputs": [
        {
          "output_type": "execute_result",
          "data": {
            "text/html": [
              "<div>\n",
              "<style scoped>\n",
              "    .dataframe tbody tr th:only-of-type {\n",
              "        vertical-align: middle;\n",
              "    }\n",
              "\n",
              "    .dataframe tbody tr th {\n",
              "        vertical-align: top;\n",
              "    }\n",
              "\n",
              "    .dataframe thead th {\n",
              "        text-align: right;\n",
              "    }\n",
              "</style>\n",
              "<table border=\"1\" class=\"dataframe\">\n",
              "  <thead>\n",
              "    <tr style=\"text-align: right;\">\n",
              "      <th></th>\n",
              "      <th>age</th>\n",
              "      <th>duration</th>\n",
              "      <th>campaign</th>\n",
              "      <th>pdays</th>\n",
              "      <th>previous</th>\n",
              "      <th>emp_var_rate</th>\n",
              "      <th>cons_price_idx</th>\n",
              "      <th>cons_conf_idx</th>\n",
              "      <th>euribor3m</th>\n",
              "      <th>nr_employed</th>\n",
              "    </tr>\n",
              "    <tr>\n",
              "      <th>y</th>\n",
              "      <th></th>\n",
              "      <th></th>\n",
              "      <th></th>\n",
              "      <th></th>\n",
              "      <th></th>\n",
              "      <th></th>\n",
              "      <th></th>\n",
              "      <th></th>\n",
              "      <th></th>\n",
              "      <th></th>\n",
              "    </tr>\n",
              "  </thead>\n",
              "  <tbody>\n",
              "    <tr>\n",
              "      <th>0</th>\n",
              "      <td>97.973013</td>\n",
              "      <td>42888.874702</td>\n",
              "      <td>8.256647</td>\n",
              "      <td>14558.079734</td>\n",
              "      <td>0.167444</td>\n",
              "      <td>2.199086</td>\n",
              "      <td>0.312473</td>\n",
              "      <td>19.282238</td>\n",
              "      <td>2.683658</td>\n",
              "      <td>4169.540468</td>\n",
              "    </tr>\n",
              "    <tr>\n",
              "      <th>1</th>\n",
              "      <td>191.475749</td>\n",
              "      <td>160938.869894</td>\n",
              "      <td>2.776371</td>\n",
              "      <td>162737.353553</td>\n",
              "      <td>0.740192</td>\n",
              "      <td>2.636161</td>\n",
              "      <td>0.457847</td>\n",
              "      <td>37.695520</td>\n",
              "      <td>3.036648</td>\n",
              "      <td>7668.967371</td>\n",
              "    </tr>\n",
              "  </tbody>\n",
              "</table>\n",
              "</div>"
            ],
            "text/plain": [
              "          age       duration  campaign  ...  cons_conf_idx  euribor3m  nr_employed\n",
              "y                                       ...                                       \n",
              "0   97.973013   42888.874702  8.256647  ...      19.282238   2.683658  4169.540468\n",
              "1  191.475749  160938.869894  2.776371  ...      37.695520   3.036648  7668.967371\n",
              "\n",
              "[2 rows x 10 columns]"
            ]
          },
          "metadata": {
            "tags": []
          },
          "execution_count": 20
        }
      ]
    },
    {
      "cell_type": "markdown",
      "metadata": {
        "id": "-X1VvXz7LU_b"
      },
      "source": [
        "Observations:\n",
        "- duration is higher on average with 1 label\n",
        "- emp_var rate is lower on average for 0 label . noting that variance is consistant amoung the two labels which indicate that this is a real difference "
      ]
    },
    {
      "cell_type": "markdown",
      "metadata": {
        "id": "EAnRy0CvLU_c"
      },
      "source": [
        "##### Analyse other variables - Make some plots and discuss them"
      ]
    },
    {
      "cell_type": "markdown",
      "metadata": {
        "id": "hPoBECggLU_c"
      },
      "source": [
        "- **Job title**"
      ]
    },
    {
      "cell_type": "code",
      "metadata": {
        "colab": {
          "base_uri": "https://localhost:8080/",
          "height": 303
        },
        "id": "cLQu3uT5EQnN",
        "outputId": "4651cc7e-a5e7-4efd-b34c-8d5b98d589dc"
      },
      "source": [
        "import seaborn as sns\r\n",
        "\r\n",
        "plt.figure()\r\n",
        "sns.countplot(y='job', hue = 'y', data = data)\r\n"
      ],
      "execution_count": 21,
      "outputs": [
        {
          "output_type": "execute_result",
          "data": {
            "text/plain": [
              "<matplotlib.axes._subplots.AxesSubplot at 0x7f683b63ee48>"
            ]
          },
          "metadata": {
            "tags": []
          },
          "execution_count": 21
        },
        {
          "output_type": "display_data",
          "data": {
            "image/png": "[encoded data removed]",
            "text/plain": [
              "<Figure size 432x288 with 1 Axes>"
            ]
          },
          "metadata": {
            "tags": [],
            "needs_background": "light"
          }
        }
      ]
    },
    {
      "cell_type": "markdown",
      "metadata": {
        "id": "6tdEsmKELU_d"
      },
      "source": [
        "- Comment the plots"
      ]
    },
    {
      "cell_type": "markdown",
      "metadata": {
        "id": "LQTy4Oc7LU_d"
      },
      "source": [
        "- **Marital status**"
      ]
    },
    {
      "cell_type": "code",
      "metadata": {
        "colab": {
          "base_uri": "https://localhost:8080/",
          "height": 303
        },
        "id": "XfYZhaKsFihu",
        "outputId": "9c072fb3-5192-40b6-c444-64f676be034b"
      },
      "source": [
        "\r\n",
        "plt.figure()\r\n",
        "sns.countplot(y='marital', hue = 'y', data = data)\r\n"
      ],
      "execution_count": 22,
      "outputs": [
        {
          "output_type": "execute_result",
          "data": {
            "text/plain": [
              "<matplotlib.axes._subplots.AxesSubplot at 0x7f683af77160>"
            ]
          },
          "metadata": {
            "tags": []
          },
          "execution_count": 22
        },
        {
          "output_type": "display_data",
          "data": {
            "image/png": "[encoded data removed]",
            "text/plain": [
              "<Figure size 432x288 with 1 Axes>"
            ]
          },
          "metadata": {
            "tags": [],
            "needs_background": "light"
          }
        }
      ]
    },
    {
      "cell_type": "markdown",
      "metadata": {
        "id": "giant_HZLU_d"
      },
      "source": [
        "- Comment the plots"
      ]
    },
    {
      "cell_type": "markdown",
      "metadata": {
        "id": "KVqKM9E4LU_e"
      },
      "source": [
        "- **Education**"
      ]
    },
    {
      "cell_type": "code",
      "metadata": {
        "id": "CqiO45CALU_e",
        "colab": {
          "base_uri": "https://localhost:8080/",
          "height": 303
        },
        "outputId": "f6de6152-ee34-4af6-b967-7ce0f84c5546"
      },
      "source": [
        "\r\n",
        "plt.figure()\r\n",
        "sns.countplot(y='education', hue = 'y', data = data)"
      ],
      "execution_count": 23,
      "outputs": [
        {
          "output_type": "execute_result",
          "data": {
            "text/plain": [
              "<matplotlib.axes._subplots.AxesSubplot at 0x7f683af57e48>"
            ]
          },
          "metadata": {
            "tags": []
          },
          "execution_count": 23
        },
        {
          "output_type": "display_data",
          "data": {
            "image/png": "[encoded data removed]",
            "text/plain": [
              "<Figure size 432x288 with 1 Axes>"
            ]
          },
          "metadata": {
            "tags": [],
            "needs_background": "light"
          }
        }
      ]
    },
    {
      "cell_type": "markdown",
      "metadata": {
        "id": "ff_FIEFOLU_e"
      },
      "source": [
        "- Comment the plots"
      ]
    },
    {
      "cell_type": "markdown",
      "metadata": {
        "id": "FerTcHjzLU_e"
      },
      "source": [
        "- **Day of Week**"
      ]
    },
    {
      "cell_type": "code",
      "metadata": {
        "colab": {
          "base_uri": "https://localhost:8080/",
          "height": 303
        },
        "id": "bW6Zl3KOGLIF",
        "outputId": "073cc446-b0ae-4eda-c73d-009a39b3730e"
      },
      "source": [
        "\r\n",
        "plt.figure()\r\n",
        "sns.countplot(y='day_of_week', hue = 'y', data = data)"
      ],
      "execution_count": 24,
      "outputs": [
        {
          "output_type": "execute_result",
          "data": {
            "text/plain": [
              "<matplotlib.axes._subplots.AxesSubplot at 0x7f6833165e80>"
            ]
          },
          "metadata": {
            "tags": []
          },
          "execution_count": 24
        },
        {
          "output_type": "display_data",
          "data": {
            "image/png": "[encoded data removed]",
            "text/plain": [
              "<Figure size 432x288 with 1 Axes>"
            ]
          },
          "metadata": {
            "tags": [],
            "needs_background": "light"
          }
        }
      ]
    },
    {
      "cell_type": "markdown",
      "metadata": {
        "id": "4ka5wZrwLU_f"
      },
      "source": [
        "- Comment the plots"
      ]
    },
    {
      "cell_type": "markdown",
      "metadata": {
        "id": "JPtwRD0gLU_f"
      },
      "source": [
        "- **Month**"
      ]
    },
    {
      "cell_type": "code",
      "metadata": {
        "id": "WEp09bF7LU_f",
        "colab": {
          "base_uri": "https://localhost:8080/",
          "height": 303
        },
        "outputId": "e7bc9d2d-53b4-472c-f0da-dd3448ab9019"
      },
      "source": [
        "\n",
        "plt.figure()\n",
        "sns.countplot(y='month', hue = 'y', data = data)"
      ],
      "execution_count": 25,
      "outputs": [
        {
          "output_type": "execute_result",
          "data": {
            "text/plain": [
              "<matplotlib.axes._subplots.AxesSubplot at 0x7f68331547f0>"
            ]
          },
          "metadata": {
            "tags": []
          },
          "execution_count": 25
        },
        {
          "output_type": "display_data",
          "data": {
            "image/png": "[encoded data removed]",
            "text/plain": [
              "<Figure size 432x288 with 1 Axes>"
            ]
          },
          "metadata": {
            "tags": [],
            "needs_background": "light"
          }
        }
      ]
    },
    {
      "cell_type": "markdown",
      "metadata": {
        "id": "tiE35FEVLU_f"
      },
      "source": [
        "- Comment the plots"
      ]
    },
    {
      "cell_type": "markdown",
      "metadata": {
        "id": "MkYKh1AtLU_g"
      },
      "source": [
        "- **poutcome**"
      ]
    },
    {
      "cell_type": "code",
      "metadata": {
        "id": "oITPBVzILU_g",
        "colab": {
          "base_uri": "https://localhost:8080/",
          "height": 303
        },
        "outputId": "5820e94e-6a6e-4acd-bb80-d97311008271"
      },
      "source": [
        "\r\n",
        "plt.figure()\r\n",
        "sns.countplot(y='poutcome', hue = 'y', data = data)"
      ],
      "execution_count": 26,
      "outputs": [
        {
          "output_type": "execute_result",
          "data": {
            "text/plain": [
              "<matplotlib.axes._subplots.AxesSubplot at 0x7f6832464ef0>"
            ]
          },
          "metadata": {
            "tags": []
          },
          "execution_count": 26
        },
        {
          "output_type": "display_data",
          "data": {
            "image/png": "[encoded data removed]",
            "text/plain": [
              "<Figure size 432x288 with 1 Axes>"
            ]
          },
          "metadata": {
            "tags": [],
            "needs_background": "light"
          }
        }
      ]
    },
    {
      "cell_type": "markdown",
      "metadata": {
        "id": "kMBQWpvQLU_g"
      },
      "source": [
        "- Comment the plots"
      ]
    },
    {
      "cell_type": "markdown",
      "metadata": {
        "id": "amfENYJPLU_g"
      },
      "source": [
        "### Create dummy variables"
      ]
    },
    {
      "cell_type": "code",
      "metadata": {
        "id": "opagatuMLU_g"
      },
      "source": [
        "df = pd.get_dummies(data)"
      ],
      "execution_count": 27,
      "outputs": []
    },
    {
      "cell_type": "code",
      "metadata": {
        "colab": {
          "base_uri": "https://localhost:8080/",
          "height": 222
        },
        "id": "okoZH4YxHrFz",
        "outputId": "b53de81c-f65f-4497-ebb0-218bdc28fb0d"
      },
      "source": [
        "data.head()"
      ],
      "execution_count": 28,
      "outputs": [
        {
          "output_type": "execute_result",
          "data": {
            "text/html": [
              "<div>\n",
              "<style scoped>\n",
              "    .dataframe tbody tr th:only-of-type {\n",
              "        vertical-align: middle;\n",
              "    }\n",
              "\n",
              "    .dataframe tbody tr th {\n",
              "        vertical-align: top;\n",
              "    }\n",
              "\n",
              "    .dataframe thead th {\n",
              "        text-align: right;\n",
              "    }\n",
              "</style>\n",
              "<table border=\"1\" class=\"dataframe\">\n",
              "  <thead>\n",
              "    <tr style=\"text-align: right;\">\n",
              "      <th></th>\n",
              "      <th>age</th>\n",
              "      <th>job</th>\n",
              "      <th>marital</th>\n",
              "      <th>education</th>\n",
              "      <th>default</th>\n",
              "      <th>housing</th>\n",
              "      <th>loan</th>\n",
              "      <th>contact</th>\n",
              "      <th>month</th>\n",
              "      <th>day_of_week</th>\n",
              "      <th>duration</th>\n",
              "      <th>campaign</th>\n",
              "      <th>pdays</th>\n",
              "      <th>previous</th>\n",
              "      <th>poutcome</th>\n",
              "      <th>emp_var_rate</th>\n",
              "      <th>cons_price_idx</th>\n",
              "      <th>cons_conf_idx</th>\n",
              "      <th>euribor3m</th>\n",
              "      <th>nr_employed</th>\n",
              "      <th>y</th>\n",
              "    </tr>\n",
              "  </thead>\n",
              "  <tbody>\n",
              "    <tr>\n",
              "      <th>0</th>\n",
              "      <td>44</td>\n",
              "      <td>blue-collar</td>\n",
              "      <td>married</td>\n",
              "      <td>basic</td>\n",
              "      <td>unknown</td>\n",
              "      <td>yes</td>\n",
              "      <td>no</td>\n",
              "      <td>cellular</td>\n",
              "      <td>aug</td>\n",
              "      <td>thu</td>\n",
              "      <td>210</td>\n",
              "      <td>1</td>\n",
              "      <td>999</td>\n",
              "      <td>0</td>\n",
              "      <td>nonexistent</td>\n",
              "      <td>1.4</td>\n",
              "      <td>93.444</td>\n",
              "      <td>-36.1</td>\n",
              "      <td>4.963</td>\n",
              "      <td>5228.1</td>\n",
              "      <td>0</td>\n",
              "    </tr>\n",
              "    <tr>\n",
              "      <th>1</th>\n",
              "      <td>53</td>\n",
              "      <td>technician</td>\n",
              "      <td>married</td>\n",
              "      <td>unknown</td>\n",
              "      <td>no</td>\n",
              "      <td>no</td>\n",
              "      <td>no</td>\n",
              "      <td>cellular</td>\n",
              "      <td>nov</td>\n",
              "      <td>fri</td>\n",
              "      <td>138</td>\n",
              "      <td>1</td>\n",
              "      <td>999</td>\n",
              "      <td>0</td>\n",
              "      <td>nonexistent</td>\n",
              "      <td>-0.1</td>\n",
              "      <td>93.200</td>\n",
              "      <td>-42.0</td>\n",
              "      <td>4.021</td>\n",
              "      <td>5195.8</td>\n",
              "      <td>0</td>\n",
              "    </tr>\n",
              "    <tr>\n",
              "      <th>2</th>\n",
              "      <td>28</td>\n",
              "      <td>management</td>\n",
              "      <td>single</td>\n",
              "      <td>university.degree</td>\n",
              "      <td>no</td>\n",
              "      <td>yes</td>\n",
              "      <td>no</td>\n",
              "      <td>cellular</td>\n",
              "      <td>jun</td>\n",
              "      <td>thu</td>\n",
              "      <td>339</td>\n",
              "      <td>3</td>\n",
              "      <td>6</td>\n",
              "      <td>2</td>\n",
              "      <td>success</td>\n",
              "      <td>-1.7</td>\n",
              "      <td>94.055</td>\n",
              "      <td>-39.8</td>\n",
              "      <td>0.729</td>\n",
              "      <td>4991.6</td>\n",
              "      <td>1</td>\n",
              "    </tr>\n",
              "    <tr>\n",
              "      <th>3</th>\n",
              "      <td>39</td>\n",
              "      <td>services</td>\n",
              "      <td>married</td>\n",
              "      <td>high.school</td>\n",
              "      <td>no</td>\n",
              "      <td>no</td>\n",
              "      <td>no</td>\n",
              "      <td>cellular</td>\n",
              "      <td>apr</td>\n",
              "      <td>fri</td>\n",
              "      <td>185</td>\n",
              "      <td>2</td>\n",
              "      <td>999</td>\n",
              "      <td>0</td>\n",
              "      <td>nonexistent</td>\n",
              "      <td>-1.8</td>\n",
              "      <td>93.075</td>\n",
              "      <td>-47.1</td>\n",
              "      <td>1.405</td>\n",
              "      <td>5099.1</td>\n",
              "      <td>0</td>\n",
              "    </tr>\n",
              "    <tr>\n",
              "      <th>4</th>\n",
              "      <td>55</td>\n",
              "      <td>retired</td>\n",
              "      <td>married</td>\n",
              "      <td>basic</td>\n",
              "      <td>no</td>\n",
              "      <td>yes</td>\n",
              "      <td>no</td>\n",
              "      <td>cellular</td>\n",
              "      <td>aug</td>\n",
              "      <td>fri</td>\n",
              "      <td>137</td>\n",
              "      <td>1</td>\n",
              "      <td>3</td>\n",
              "      <td>1</td>\n",
              "      <td>success</td>\n",
              "      <td>-2.9</td>\n",
              "      <td>92.201</td>\n",
              "      <td>-31.4</td>\n",
              "      <td>0.869</td>\n",
              "      <td>5076.2</td>\n",
              "      <td>1</td>\n",
              "    </tr>\n",
              "  </tbody>\n",
              "</table>\n",
              "</div>"
            ],
            "text/plain": [
              "   age          job  marital  ... euribor3m nr_employed  y\n",
              "0   44  blue-collar  married  ...     4.963      5228.1  0\n",
              "1   53   technician  married  ...     4.021      5195.8  0\n",
              "2   28   management   single  ...     0.729      4991.6  1\n",
              "3   39     services  married  ...     1.405      5099.1  0\n",
              "4   55      retired  married  ...     0.869      5076.2  1\n",
              "\n",
              "[5 rows x 21 columns]"
            ]
          },
          "metadata": {
            "tags": []
          },
          "execution_count": 28
        }
      ]
    },
    {
      "cell_type": "markdown",
      "metadata": {
        "id": "dJEn6OPkLU_h"
      },
      "source": [
        "### Implement the Logistic Regression Model"
      ]
    },
    {
      "cell_type": "code",
      "metadata": {
        "id": "ubSP1-1tLU_h"
      },
      "source": [
        "from sklearn.linear_model import LogisticRegression\n",
        "from sklearn import metrics\n"
      ],
      "execution_count": 29,
      "outputs": []
    },
    {
      "cell_type": "markdown",
      "metadata": {
        "id": "LR9CdWKPLU_h"
      },
      "source": [
        "##### Prepare the dataset for training"
      ]
    },
    {
      "cell_type": "code",
      "metadata": {
        "id": "Ee33s_YGLU_h",
        "colab": {
          "base_uri": "https://localhost:8080/"
        },
        "outputId": "f62e73d4-0355-4bad-9d4d-4c968cbca327"
      },
      "source": [
        "from sklearn.model_selection import train_test_split\n",
        "\n",
        "\n",
        "X =  df.drop('y', 1)\n",
        "y = df.y\n",
        "\n",
        "# Split training and test - test size: 30% random state = 0\n",
        "X_train, X_test, y_train, y_test = train_test_split(X, y, test_size=0.33, random_state=42)\n",
        "\n",
        "# Create an instance of the model \n",
        " \n",
        "ml = LogisticRegression()\n",
        "\n",
        "#Fit the model\n",
        "\n",
        "ml.fit(X,y)"
      ],
      "execution_count": 30,
      "outputs": [
        {
          "output_type": "stream",
          "text": [
            "/usr/local/lib/python3.6/dist-packages/sklearn/linear_model/_logistic.py:940: ConvergenceWarning: lbfgs failed to converge (status=1):\n",
            "STOP: TOTAL NO. of ITERATIONS REACHED LIMIT.\n",
            "\n",
            "Increase the number of iterations (max_iter) or scale the data as shown in:\n",
            "    https://scikit-learn.org/stable/modules/preprocessing.html\n",
            "Please also refer to the documentation for alternative solver options:\n",
            "    https://scikit-learn.org/stable/modules/linear_model.html#logistic-regression\n",
            "  extra_warning_msg=_LOGISTIC_SOLVER_CONVERGENCE_MSG)\n"
          ],
          "name": "stderr"
        },
        {
          "output_type": "execute_result",
          "data": {
            "text/plain": [
              "LogisticRegression(C=1.0, class_weight=None, dual=False, fit_intercept=True,\n",
              "                   intercept_scaling=1, l1_ratio=None, max_iter=100,\n",
              "                   multi_class='auto', n_jobs=None, penalty='l2',\n",
              "                   random_state=None, solver='lbfgs', tol=0.0001, verbose=0,\n",
              "                   warm_start=False)"
            ]
          },
          "metadata": {
            "tags": []
          },
          "execution_count": 30
        }
      ]
    },
    {
      "cell_type": "markdown",
      "metadata": {
        "id": "_Fszc4z0LU_h"
      },
      "source": [
        "##### Compute predictions and accuracy using the accuracy score provided by the sklearn library"
      ]
    },
    {
      "cell_type": "code",
      "metadata": {
        "id": "qi97iSBGLU_i",
        "colab": {
          "base_uri": "https://localhost:8080/"
        },
        "outputId": "35413d28-3677-4e8f-ebf6-282ef77c8b04"
      },
      "source": [
        "y_pred = ml.predict(X_test)\n",
        "print('Accuracy of logistic regression classifier on test set: {:.2f}' , ml.score(X_test,y_test))"
      ],
      "execution_count": 31,
      "outputs": [
        {
          "output_type": "stream",
          "text": [
            "Accuracy of logistic regression classifier on test set: {:.2f} 0.9056131832560876\n"
          ],
          "name": "stdout"
        }
      ]
    },
    {
      "cell_type": "code",
      "metadata": {
        "colab": {
          "base_uri": "https://localhost:8080/",
          "height": 320
        },
        "id": "oyiocVj-PxVM",
        "outputId": "2259ab06-b9a7-486d-b7ab-2363dedae95c"
      },
      "source": [
        "from sklearn.metrics import confusion_matrix\r\n",
        "from sklearn.metrics import plot_confusion_matrix\r\n",
        "print(confusion_matrix(y_test, y_pred))\r\n",
        "plot_confusion_matrix(ml, X_test, y_test , include_values=True , values_format='2g')\r\n",
        "plt.show()  "
      ],
      "execution_count": 32,
      "outputs": [
        {
          "output_type": "stream",
          "text": [
            "[[11672   362]\n",
            " [  921   638]]\n"
          ],
          "name": "stdout"
        },
        {
          "output_type": "display_data",
          "data": {
            "image/png": "[encoded data removed]",
            "text/plain": [
              "<Figure size 432x288 with 2 Axes>"
            ]
          },
          "metadata": {
            "tags": [],
            "needs_background": "light"
          }
        }
      ]
    },
    {
      "cell_type": "markdown",
      "metadata": {
        "id": "RhYjoyANLU_i"
      },
      "source": [
        "##### An accuracy of **91%** looks quite a good result, but have a look more in detail observing the confusion matrix and other metrics you consider interesting.\n",
        "\n",
        "\n",
        "##### Question : EXPLAIN WHY ACCURACY IS NOT ENOUGH TO EVALUATE THE PERFORMANCE OF A CLASSIFIER AND WHY IT MIGHT FAIL IN CASE OF IMBALANCED DATASET\n"
      ]
    },
    {
      "cell_type": "markdown",
      "metadata": {
        "id": "gOyza8U9LU_i"
      },
      "source": [
        "Answer : the model is biased toward label 0 because of imbalanced data. which is the reason why accuracy appears high. \n",
        "\n",
        "if we take a closer look at label 1, we can see that the majority of the predictions were wrong.\n",
        "\n",
        "\n",
        "\n",
        "\n",
        "\n"
      ]
    },
    {
      "cell_type": "markdown",
      "metadata": {
        "id": "9LyjcIJWLU_i"
      },
      "source": [
        "The confusion matrics gives an interesting overview of how well a model is doing and it is a great starting point for any classification model evaluation.\n",
        "\n",
        "![](https://skappal7.files.wordpress.com/2018/08/confusion-matrix.jpg?w=748)"
      ]
    },
    {
      "cell_type": "markdown",
      "metadata": {
        "id": "83E3eSOELU_j"
      },
      "source": [
        "**Is our model obtaining good results or is it failing in some specific case?**"
      ]
    },
    {
      "cell_type": "markdown",
      "metadata": {
        "id": "MsLAYc3KLU_j"
      },
      "source": [
        "our model fails in predicting 1 label most of the time. \n",
        "\n",
        "high type 2 error\n",
        "\n",
        "\n",
        "\n"
      ]
    },
    {
      "cell_type": "markdown",
      "metadata": {
        "id": "BaH6pLMqLU_j"
      },
      "source": [
        "##### Compute other metrics using classification report"
      ]
    },
    {
      "cell_type": "code",
      "metadata": {
        "colab": {
          "base_uri": "https://localhost:8080/"
        },
        "id": "tc_CA07XTNw4",
        "outputId": "f6db1eea-c2a8-4478-c542-e5129ac8b35d"
      },
      "source": [
        "print(\"Classification report for classifier %s:\\n%s\\n\"\r\n",
        "      % (ml, metrics.classification_report(y_test, y_pred)))\r\n",
        "print(\"Confusion matrix:\\n%s\" % metrics.confusion_matrix(y_test, y_pred))"
      ],
      "execution_count": 33,
      "outputs": [
        {
          "output_type": "stream",
          "text": [
            "Classification report for classifier LogisticRegression(C=1.0, class_weight=None, dual=False, fit_intercept=True,\n",
            "                   intercept_scaling=1, l1_ratio=None, max_iter=100,\n",
            "                   multi_class='auto', n_jobs=None, penalty='l2',\n",
            "                   random_state=None, solver='lbfgs', tol=0.0001, verbose=0,\n",
            "                   warm_start=False):\n",
            "              precision    recall  f1-score   support\n",
            "\n",
            "           0       0.93      0.97      0.95     12034\n",
            "           1       0.64      0.41      0.50      1559\n",
            "\n",
            "    accuracy                           0.91     13593\n",
            "   macro avg       0.78      0.69      0.72     13593\n",
            "weighted avg       0.89      0.91      0.90     13593\n",
            "\n",
            "\n",
            "Confusion matrix:\n",
            "[[11672   362]\n",
            " [  921   638]]\n"
          ],
          "name": "stdout"
        }
      ]
    },
    {
      "cell_type": "markdown",
      "metadata": {
        "id": "nLACLe5xLU_k"
      },
      "source": [
        "#### Remember:\n",
        "    \n",
        "**Precision:** percentage of your results which are relevant. Among all the elements that your model classify as positive, how many are really positive examples?\n",
        "\n",
        "$\\frac{TP}{TP+FP}$\n",
        "                                            \n",
        "\n",
        "**Recall:** percentage of total relevant results correctly classified by your algorithm.\n",
        "\n",
        "$\\frac{TP}{TP+FN}$                                            "
      ]
    },
    {
      "cell_type": "code",
      "metadata": {
        "id": "_cXY_dVqLU_k",
        "colab": {
          "base_uri": "https://localhost:8080/"
        },
        "outputId": "27186e7d-e814-4613-d838-8c432ed43f9e"
      },
      "source": [
        "565/(565+263) #Precision@1"
      ],
      "execution_count": 34,
      "outputs": [
        {
          "output_type": "execute_result",
          "data": {
            "text/plain": [
              "0.6823671497584541"
            ]
          },
          "metadata": {
            "tags": []
          },
          "execution_count": 34
        }
      ]
    },
    {
      "cell_type": "code",
      "metadata": {
        "id": "wnbMGrKALU_k",
        "colab": {
          "base_uri": "https://localhost:8080/"
        },
        "outputId": "65e77ad9-7be7-4fe3-905b-74e7fe9c69d0"
      },
      "source": [
        "565/(811+565) #Recall@1"
      ],
      "execution_count": 35,
      "outputs": [
        {
          "output_type": "execute_result",
          "data": {
            "text/plain": [
              "0.4106104651162791"
            ]
          },
          "metadata": {
            "tags": []
          },
          "execution_count": 35
        }
      ]
    },
    {
      "cell_type": "markdown",
      "metadata": {
        "id": "uBE-2GcmLU_l"
      },
      "source": [
        "## Imbalanced Classes\n",
        "\n",
        "Imbalanced data typically refers to a problem with classification problems where the classes are not represented equally.\n",
        "\n",
        "\n",
        "##### Explain why imbalanced data can be a problem "
      ]
    },
    {
      "cell_type": "markdown",
      "metadata": {
        "id": "Ua1gGuA1LU_l"
      },
      "source": [
        "imbalance data make the model bias toward the overrepresented samples.\n"
      ]
    },
    {
      "cell_type": "markdown",
      "metadata": {
        "id": "qxZGpzNKLU_l"
      },
      "source": [
        "##### SMOTE\n",
        "\n",
        "During the exploratory data analysis we have seen that we have **Imbalanced Classes**, i.e.,the percentage of negative examples is much higher with respect to the percentage of positiv examples. Indeed, observing the confusion matrix we saw that the implmented model face some problem in predict the positive examples (if a client will subscribe a term deposit).\n",
        "\n",
        "\n",
        "To face this problem we will apply an over-sampling technique trying to balance our dataset generating **Synthetic Samples:** it consists in creating new synthetic points from the minority class to increase its cardinality.\n",
        "\n",
        "we will use the **SMOTE** Algorithm [see here for more details](https://arxiv.org/pdf/1106.1813.pdf)."
      ]
    },
    {
      "cell_type": "markdown",
      "metadata": {
        "id": "OTsHhZRsLU_m"
      },
      "source": [
        "In order to apply SMOTE **install the imblearn python library** (if you already have it you do not need to reinstall):\n",
        "\n",
        "[Follow this instructions](https://imbalanced-learn.readthedocs.io/en/stable/install.html)\n"
      ]
    },
    {
      "cell_type": "markdown",
      "metadata": {
        "id": "eyLx8ndgLU_m"
      },
      "source": [
        "### Now implent again the model following all the steps\n",
        "\n",
        "Prepare the data"
      ]
    },
    {
      "cell_type": "code",
      "metadata": {
        "id": "bK67DZkiLU_m"
      },
      "source": [
        "X = df.loc[:, df.columns != 'y']\n",
        "y = df.loc[:, df.columns == 'y']"
      ],
      "execution_count": 36,
      "outputs": []
    },
    {
      "cell_type": "code",
      "metadata": {
        "id": "I7QMwIcsXnWI",
        "colab": {
          "base_uri": "https://localhost:8080/",
          "height": 311
        },
        "outputId": "c1cee062-88e0-49a7-fd12-db91cbc81e32"
      },
      "source": [
        "y.value_counts().plot(kind = 'bar')"
      ],
      "execution_count": 37,
      "outputs": [
        {
          "output_type": "execute_result",
          "data": {
            "text/plain": [
              "<matplotlib.axes._subplots.AxesSubplot at 0x7f6829ac10b8>"
            ]
          },
          "metadata": {
            "tags": []
          },
          "execution_count": 37
        },
        {
          "output_type": "display_data",
          "data": {
            "image/png": "[encoded data removed]",
            "text/plain": [
              "<Figure size 432x288 with 1 Axes>"
            ]
          },
          "metadata": {
            "tags": [],
            "needs_background": "light"
          }
        }
      ]
    },
    {
      "cell_type": "markdown",
      "metadata": {
        "id": "r0bHTAJgLU_m"
      },
      "source": [
        "##### Apply SMOTE to generate synthetic data"
      ]
    },
    {
      "cell_type": "code",
      "metadata": {
        "id": "CmR5djAbX__x",
        "colab": {
          "base_uri": "https://localhost:8080/"
        },
        "outputId": "e5b1a35c-e0d2-489f-e4d6-810e38316bc1"
      },
      "source": [
        "print(y_train.value_counts())\r\n",
        "len(X_train)"
      ],
      "execution_count": 38,
      "outputs": [
        {
          "output_type": "stream",
          "text": [
            "0    24514\n",
            "1     3081\n",
            "Name: y, dtype: int64\n"
          ],
          "name": "stdout"
        },
        {
          "output_type": "execute_result",
          "data": {
            "text/plain": [
              "27595"
            ]
          },
          "metadata": {
            "tags": []
          },
          "execution_count": 38
        }
      ]
    },
    {
      "cell_type": "code",
      "metadata": {
        "id": "6a7sAfH9XCqg",
        "colab": {
          "base_uri": "https://localhost:8080/"
        },
        "outputId": "e9ad993f-c773-4ee6-b97f-44d80f5489a9"
      },
      "source": [
        "from imblearn.over_sampling import SMOTE\r\n",
        "\r\n",
        "os = SMOTE(random_state=0)\r\n",
        "\r\n",
        "# Create training and test set - test size:30% random_state=0\r\n",
        "X_train, X_test, y_train, y_test = train_test_split(X, y, test_size=0.3, random_state=0)\r\n",
        "\r\n",
        "columns = X_train.columns\r\n",
        "\r\n",
        "# Apply oversampling ONLY ON training data\r\n",
        "os_data_X,os_data_y= os.fit_resample(X_train, y_train)\r\n",
        "\r\n",
        "\r\n",
        "# we can Check the numbers of our data\r\n",
        "print(\"length of oversampled data is \",len(os_data_X))\r\n",
        "print(\"Number of no subscription in oversampled data\",len(os_data_y[os_data_y==0]))\r\n",
        "print(\"Number of subscription\",len(os_data_y[os_data_y==1]))\r\n",
        "print(\"Proportion of no subscription data in oversampled data is \",len(os_data_y[os_data_y==0])/len(os_data_X))\r\n",
        "print(\"Proportion of subscription data in oversampled data is \",len(os_data_y[os_data_y==1])/len(os_data_X))"
      ],
      "execution_count": 39,
      "outputs": [
        {
          "output_type": "stream",
          "text": [
            "/usr/local/lib/python3.6/dist-packages/sklearn/externals/six.py:31: FutureWarning: The module is deprecated in version 0.21 and will be removed in version 0.23 since we've dropped support for Python 2.7. Please rely on the official version of six (https://pypi.org/project/six/).\n",
            "  \"(https://pypi.org/project/six/).\", FutureWarning)\n",
            "/usr/local/lib/python3.6/dist-packages/sklearn/utils/deprecation.py:144: FutureWarning: The sklearn.neighbors.base module is  deprecated in version 0.22 and will be removed in version 0.24. The corresponding classes / functions should instead be imported from sklearn.neighbors. Anything that cannot be imported from sklearn.neighbors is now part of the private API.\n",
            "  warnings.warn(message, FutureWarning)\n",
            "/usr/local/lib/python3.6/dist-packages/sklearn/utils/validation.py:760: DataConversionWarning: A column-vector y was passed when a 1d array was expected. Please change the shape of y to (n_samples, ), for example using ravel().\n",
            "  y = column_or_1d(y, warn=True)\n",
            "/usr/local/lib/python3.6/dist-packages/sklearn/utils/deprecation.py:87: FutureWarning: Function safe_indexing is deprecated; safe_indexing is deprecated in version 0.22 and will be removed in version 0.24.\n",
            "  warnings.warn(msg, category=FutureWarning)\n"
          ],
          "name": "stderr"
        },
        {
          "output_type": "stream",
          "text": [
            "length of oversampled data is  51134\n",
            "Number of no subscription in oversampled data 25567\n",
            "Number of subscription 25567\n",
            "Proportion of no subscription data in oversampled data is  0.5\n",
            "Proportion of subscription data in oversampled data is  0.5\n"
          ],
          "name": "stdout"
        }
      ]
    },
    {
      "cell_type": "markdown",
      "metadata": {
        "id": "bvOQCbn5LU_n"
      },
      "source": [
        "**Notice that we over-sampled only on the training data**"
      ]
    },
    {
      "cell_type": "markdown",
      "metadata": {
        "id": "ldI7OWYULU_o"
      },
      "source": [
        "##### Check if the classes in the dataset now are balanced"
      ]
    },
    {
      "cell_type": "code",
      "metadata": {
        "id": "pk8mez0P6NeN"
      },
      "source": [
        "(pd.DataFrame(os_data_y)).value_counts()\r\n",
        "X = os_data_X\r\n",
        "y = os_data_y\r\n"
      ],
      "execution_count": 40,
      "outputs": []
    },
    {
      "cell_type": "code",
      "metadata": {
        "id": "9y98ipbSMwgu",
        "colab": {
          "base_uri": "https://localhost:8080/",
          "height": 311
        },
        "outputId": "250407c6-c3e3-4bf7-b628-a69f18c78229"
      },
      "source": [
        "pd.DataFrame(y).value_counts().plot(kind = 'bar')"
      ],
      "execution_count": 41,
      "outputs": [
        {
          "output_type": "execute_result",
          "data": {
            "text/plain": [
              "<matplotlib.axes._subplots.AxesSubplot at 0x7f6829a4b748>"
            ]
          },
          "metadata": {
            "tags": []
          },
          "execution_count": 41
        },
        {
          "output_type": "display_data",
          "data": {
            "image/png": "[encoded data removed]",
            "text/plain": [
              "<Figure size 432x288 with 1 Axes>"
            ]
          },
          "metadata": {
            "tags": [],
            "needs_background": "light"
          }
        }
      ]
    },
    {
      "cell_type": "markdown",
      "metadata": {
        "id": "_oZ6JA2-LU_o"
      },
      "source": [
        "They are prefectly distributed!!"
      ]
    },
    {
      "cell_type": "markdown",
      "metadata": {
        "id": "LdRfnfcNLU_o"
      },
      "source": [
        "##### Implement the model"
      ]
    },
    {
      "cell_type": "code",
      "metadata": {
        "id": "kUcjm-vwLU_o",
        "colab": {
          "base_uri": "https://localhost:8080/"
        },
        "outputId": "aa74aed1-f85d-427c-8e45-b3fad9b3a170"
      },
      "source": [
        "# Prepare the data with the oversampled dataset for all the data ( not just the train)\n",
        "\n",
        "os_data_X,os_data_y= os.fit_resample(X, y)\n",
        "X = os_data_X\n",
        "y = os_data_y\n",
        "\n",
        "# Create training and test\n",
        "X_train, X_test, y_train, y_test = train_test_split(X, y, test_size=0.3, random_state=0)\n",
        "\n",
        "# Create an instance of the logistic regression model\n",
        "logreg = LogisticRegression()\n",
        "\n",
        "\n",
        "#Fit the model\n",
        "logreg.fit(X,y)"
      ],
      "execution_count": 42,
      "outputs": [
        {
          "output_type": "stream",
          "text": [
            "/usr/local/lib/python3.6/dist-packages/sklearn/linear_model/_logistic.py:940: ConvergenceWarning: lbfgs failed to converge (status=1):\n",
            "STOP: TOTAL NO. of ITERATIONS REACHED LIMIT.\n",
            "\n",
            "Increase the number of iterations (max_iter) or scale the data as shown in:\n",
            "    https://scikit-learn.org/stable/modules/preprocessing.html\n",
            "Please also refer to the documentation for alternative solver options:\n",
            "    https://scikit-learn.org/stable/modules/linear_model.html#logistic-regression\n",
            "  extra_warning_msg=_LOGISTIC_SOLVER_CONVERGENCE_MSG)\n"
          ],
          "name": "stderr"
        },
        {
          "output_type": "execute_result",
          "data": {
            "text/plain": [
              "LogisticRegression(C=1.0, class_weight=None, dual=False, fit_intercept=True,\n",
              "                   intercept_scaling=1, l1_ratio=None, max_iter=100,\n",
              "                   multi_class='auto', n_jobs=None, penalty='l2',\n",
              "                   random_state=None, solver='lbfgs', tol=0.0001, verbose=0,\n",
              "                   warm_start=False)"
            ]
          },
          "metadata": {
            "tags": []
          },
          "execution_count": 42
        }
      ]
    },
    {
      "cell_type": "markdown",
      "metadata": {
        "id": "AGn8UB5uLU_p"
      },
      "source": [
        "#### Model Evaluation: evaluate the model and compare with previous implmentation/evaluation"
      ]
    },
    {
      "cell_type": "code",
      "metadata": {
        "id": "4hmr2PtOLU_p",
        "colab": {
          "base_uri": "https://localhost:8080/"
        },
        "outputId": "e757ab81-73e3-4d6f-850f-d519282b5599"
      },
      "source": [
        "#Compute predictions\n",
        "y_pred = logreg.predict(X_test)\n",
        "\n",
        "# score returns the mean accuracy on the given test data and labels.\n",
        "print('Accuracy of logistic regression classifier on test set: {:.2f}'.format(logreg.score(X_test, y_test)))"
      ],
      "execution_count": 43,
      "outputs": [
        {
          "output_type": "stream",
          "text": [
            "Accuracy of logistic regression classifier on test set: 0.85\n"
          ],
          "name": "stdout"
        }
      ]
    },
    {
      "cell_type": "code",
      "metadata": {
        "id": "OtFyVfB18CcO",
        "colab": {
          "base_uri": "https://localhost:8080/",
          "height": 320
        },
        "outputId": "99782b11-43f2-49d6-8836-95be7e6348e1"
      },
      "source": [
        "print(confusion_matrix(y_test, y_pred))\r\n",
        "plot_confusion_matrix(logreg, X_test, y_test , include_values=True , values_format='2g')\r\n",
        "plt.show()  "
      ],
      "execution_count": 44,
      "outputs": [
        {
          "output_type": "stream",
          "text": [
            "[[6452 1214]\n",
            " [1072 6603]]\n"
          ],
          "name": "stdout"
        },
        {
          "output_type": "display_data",
          "data": {
            "image/png": "[encoded data removed]",
            "text/plain": [
              "<Figure size 432x288 with 2 Axes>"
            ]
          },
          "metadata": {
            "tags": [],
            "needs_background": "light"
          }
        }
      ]
    },
    {
      "cell_type": "markdown",
      "metadata": {
        "id": "ONQdjT7qLU_q"
      },
      "source": [
        "Analysing the confusion matriix we can observe that now our model is able to predict quite weel both positive and negative examples!! Let's see if this is also confirmed looking at precision and recall"
      ]
    },
    {
      "cell_type": "code",
      "metadata": {
        "id": "RWl8ILWALU_q",
        "colab": {
          "base_uri": "https://localhost:8080/"
        },
        "outputId": "668860de-eb86-406c-85f9-c95b1593cfca"
      },
      "source": [
        "print(\"Classification report for classifier %s:\\n%s\\n\"\r\n",
        "      % (ml, metrics.classification_report(y_test, y_pred)))\r\n",
        "print(\"Confusion matrix:\\n%s\" % metrics.confusion_matrix(y_test, y_pred))"
      ],
      "execution_count": 45,
      "outputs": [
        {
          "output_type": "stream",
          "text": [
            "Classification report for classifier LogisticRegression(C=1.0, class_weight=None, dual=False, fit_intercept=True,\n",
            "                   intercept_scaling=1, l1_ratio=None, max_iter=100,\n",
            "                   multi_class='auto', n_jobs=None, penalty='l2',\n",
            "                   random_state=None, solver='lbfgs', tol=0.0001, verbose=0,\n",
            "                   warm_start=False):\n",
            "              precision    recall  f1-score   support\n",
            "\n",
            "           0       0.86      0.84      0.85      7666\n",
            "           1       0.84      0.86      0.85      7675\n",
            "\n",
            "    accuracy                           0.85     15341\n",
            "   macro avg       0.85      0.85      0.85     15341\n",
            "weighted avg       0.85      0.85      0.85     15341\n",
            "\n",
            "\n",
            "Confusion matrix:\n",
            "[[6452 1214]\n",
            " [1072 6603]]\n"
          ],
          "name": "stdout"
        }
      ]
    },
    {
      "cell_type": "code",
      "metadata": {
        "id": "H9pYP-7yNorM"
      },
      "source": [
        ""
      ],
      "execution_count": 45,
      "outputs": []
    }
  ]
}