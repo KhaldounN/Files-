{
  "nbformat": 4,
  "nbformat_minor": 0,
  "metadata": {
    "colab": {
      "name": "Session_3_Regularization_and_Poly_regression_EXERCISE.ipynb",
      "provenance": [],
      "include_colab_link": true
    },
    "kernelspec": {
      "name": "python3",
      "display_name": "Python 3"
    }
  },
  "cells": [
    {
      "cell_type": "markdown",
      "metadata": {
        "id": "view-in-github",
        "colab_type": "text"
      },
      "source": [
        "<a href=\"https://colab.research.google.com/github/KhaldounN/Files-/blob/master/Session_3_Regularization_and_Poly_regression_EXERCISE.ipynb\" target=\"_parent\"><img src=\"https://colab.research.google.com/assets/colab-badge.svg\" alt=\"Open In Colab\"/></a>"
      ]
    },
    {
      "cell_type": "markdown",
      "metadata": {
        "id": "T_U6YCp9QD33"
      },
      "source": [
        "\n",
        "![BTS](https://github.com/vfp1/bts-dsf-2020/raw/main/Logo-BTS.jpg)\n",
        "\n",
        "# Session 3: Logistic Regression EXERCISE\n",
        "\n",
        "### Victor F. Pajuelo Madrigal <victor.pajuelo@bts.tech> - Classical Data Analysis (2020-12-21)\n",
        "\n",
        "Open this notebook in Google Colaboratory: [![Open in Colab](https://colab.research.google.com/assets/colab-badge.svg)](https://colab.research.google.com/github/vfp1/bts-cda-2020/blob/main/Session_3/Session_3_Regularization_and_Poly_regression_EXERCISE.ipynb)\n",
        "\n",
        "**Resources:**\n",
        "* Auréliene Géron, Hands On ML with SKlearn, Keras and TF"
      ]
    },
    {
      "cell_type": "markdown",
      "metadata": {
        "id": "47cNdF6xP5eF"
      },
      "source": [
        "# Regression with regularization"
      ]
    },
    {
      "cell_type": "markdown",
      "metadata": {
        "id": "I-2OcibZP5eH"
      },
      "source": [
        "#### We will using the Boston Housing Dataset available in sklearn and we will extend it with  5 additional features of random noise to test each algorithm’s ability to filter out irrelevant information:\n",
        "\n",
        "- **Examine the results of applying Linear Regression, Lasso Regression, Ridge Regression and Elastic Net on the features scores**\n",
        "- **Try to modify the hyperparameters lambda and describe how it affects the parmeter scores**\n",
        "\n",
        "This is the very same exercise that we did in class, try to go in depth into the tradeoffs of lambda (alpha) and others"
      ]
    },
    {
      "cell_type": "markdown",
      "metadata": {
        "id": "oGLVXZSyP5eH"
      },
      "source": [
        "### Import libraries and dataset from sklearn"
      ]
    },
    {
      "cell_type": "code",
      "metadata": {
        "id": "YfgiMb3fP5eI",
        "colab": {
          "base_uri": "https://localhost:8080/",
          "height": 195
        },
        "outputId": "02739a48-12bc-40b1-9501-a2aa85e82b7d"
      },
      "source": [
        "import matplotlib.pyplot as plt\n",
        "import numpy as np \n",
        "import pandas as pd\n",
        "import matplotlib\n",
        "matplotlib.rcParams.update({'font.size': 12})\n",
        "from sklearn.datasets import load_boston\n",
        "from sklearn.model_selection import train_test_split\n",
        "from sklearn.linear_model import LinearRegression\n",
        "from sklearn.linear_model import Ridge\n",
        "from sklearn import metrics\n",
        "from sklearn.metrics import mean_squared_error\n",
        "import seaborn as sns\n",
        "\n",
        "\n",
        "boston=load_boston()\n",
        "boston_df=pd.DataFrame(boston.data,columns=boston.feature_names)\n",
        "\n",
        "boston_df.head()"
      ],
      "execution_count": null,
      "outputs": [
        {
          "output_type": "execute_result",
          "data": {
            "text/html": [
              "<div>\n",
              "<style scoped>\n",
              "    .dataframe tbody tr th:only-of-type {\n",
              "        vertical-align: middle;\n",
              "    }\n",
              "\n",
              "    .dataframe tbody tr th {\n",
              "        vertical-align: top;\n",
              "    }\n",
              "\n",
              "    .dataframe thead th {\n",
              "        text-align: right;\n",
              "    }\n",
              "</style>\n",
              "<table border=\"1\" class=\"dataframe\">\n",
              "  <thead>\n",
              "    <tr style=\"text-align: right;\">\n",
              "      <th></th>\n",
              "      <th>CRIM</th>\n",
              "      <th>ZN</th>\n",
              "      <th>INDUS</th>\n",
              "      <th>CHAS</th>\n",
              "      <th>NOX</th>\n",
              "      <th>RM</th>\n",
              "      <th>AGE</th>\n",
              "      <th>DIS</th>\n",
              "      <th>RAD</th>\n",
              "      <th>TAX</th>\n",
              "      <th>PTRATIO</th>\n",
              "      <th>B</th>\n",
              "      <th>LSTAT</th>\n",
              "    </tr>\n",
              "  </thead>\n",
              "  <tbody>\n",
              "    <tr>\n",
              "      <th>0</th>\n",
              "      <td>0.00632</td>\n",
              "      <td>18.0</td>\n",
              "      <td>2.31</td>\n",
              "      <td>0.0</td>\n",
              "      <td>0.538</td>\n",
              "      <td>6.575</td>\n",
              "      <td>65.2</td>\n",
              "      <td>4.0900</td>\n",
              "      <td>1.0</td>\n",
              "      <td>296.0</td>\n",
              "      <td>15.3</td>\n",
              "      <td>396.90</td>\n",
              "      <td>4.98</td>\n",
              "    </tr>\n",
              "    <tr>\n",
              "      <th>1</th>\n",
              "      <td>0.02731</td>\n",
              "      <td>0.0</td>\n",
              "      <td>7.07</td>\n",
              "      <td>0.0</td>\n",
              "      <td>0.469</td>\n",
              "      <td>6.421</td>\n",
              "      <td>78.9</td>\n",
              "      <td>4.9671</td>\n",
              "      <td>2.0</td>\n",
              "      <td>242.0</td>\n",
              "      <td>17.8</td>\n",
              "      <td>396.90</td>\n",
              "      <td>9.14</td>\n",
              "    </tr>\n",
              "    <tr>\n",
              "      <th>2</th>\n",
              "      <td>0.02729</td>\n",
              "      <td>0.0</td>\n",
              "      <td>7.07</td>\n",
              "      <td>0.0</td>\n",
              "      <td>0.469</td>\n",
              "      <td>7.185</td>\n",
              "      <td>61.1</td>\n",
              "      <td>4.9671</td>\n",
              "      <td>2.0</td>\n",
              "      <td>242.0</td>\n",
              "      <td>17.8</td>\n",
              "      <td>392.83</td>\n",
              "      <td>4.03</td>\n",
              "    </tr>\n",
              "    <tr>\n",
              "      <th>3</th>\n",
              "      <td>0.03237</td>\n",
              "      <td>0.0</td>\n",
              "      <td>2.18</td>\n",
              "      <td>0.0</td>\n",
              "      <td>0.458</td>\n",
              "      <td>6.998</td>\n",
              "      <td>45.8</td>\n",
              "      <td>6.0622</td>\n",
              "      <td>3.0</td>\n",
              "      <td>222.0</td>\n",
              "      <td>18.7</td>\n",
              "      <td>394.63</td>\n",
              "      <td>2.94</td>\n",
              "    </tr>\n",
              "    <tr>\n",
              "      <th>4</th>\n",
              "      <td>0.06905</td>\n",
              "      <td>0.0</td>\n",
              "      <td>2.18</td>\n",
              "      <td>0.0</td>\n",
              "      <td>0.458</td>\n",
              "      <td>7.147</td>\n",
              "      <td>54.2</td>\n",
              "      <td>6.0622</td>\n",
              "      <td>3.0</td>\n",
              "      <td>222.0</td>\n",
              "      <td>18.7</td>\n",
              "      <td>396.90</td>\n",
              "      <td>5.33</td>\n",
              "    </tr>\n",
              "  </tbody>\n",
              "</table>\n",
              "</div>"
            ],
            "text/plain": [
              "      CRIM    ZN  INDUS  CHAS    NOX  ...  RAD    TAX  PTRATIO       B  LSTAT\n",
              "0  0.00632  18.0   2.31   0.0  0.538  ...  1.0  296.0     15.3  396.90   4.98\n",
              "1  0.02731   0.0   7.07   0.0  0.469  ...  2.0  242.0     17.8  396.90   9.14\n",
              "2  0.02729   0.0   7.07   0.0  0.469  ...  2.0  242.0     17.8  392.83   4.03\n",
              "3  0.03237   0.0   2.18   0.0  0.458  ...  3.0  222.0     18.7  394.63   2.94\n",
              "4  0.06905   0.0   2.18   0.0  0.458  ...  3.0  222.0     18.7  396.90   5.33\n",
              "\n",
              "[5 rows x 13 columns]"
            ]
          },
          "metadata": {
            "tags": []
          },
          "execution_count": 44
        }
      ]
    },
    {
      "cell_type": "code",
      "metadata": {
        "id": "kAFzeugPP5eJ"
      },
      "source": [
        ""
      ],
      "execution_count": null,
      "outputs": []
    },
    {
      "cell_type": "markdown",
      "metadata": {
        "id": "W7fJX1LuP5eK"
      },
      "source": [
        "### Add Noise to original dataset"
      ]
    },
    {
      "cell_type": "code",
      "metadata": {
        "id": "kOCkhsAZP5eK"
      },
      "source": [
        "n_houses = boston_df.shape[0]\n",
        "rand_noise = np.random.rand(n_houses, 5)\n",
        "\n",
        "rand_noise_df = pd.DataFrame(data=rand_noise, columns=['Noise_1', 'Noise_2', 'Noise_3', 'Noise_4', 'Noise_5'])\n",
        "X = pd.concat([boston_df, rand_noise_df], axis=1)\n",
        "y = boston['target']\n"
      ],
      "execution_count": null,
      "outputs": []
    },
    {
      "cell_type": "code",
      "metadata": {
        "id": "cG1PjrYhP5eK",
        "colab": {
          "base_uri": "https://localhost:8080/",
          "height": 195
        },
        "outputId": "1a9f1722-c361-4085-b337-7718429be83f"
      },
      "source": [
        "X.head()"
      ],
      "execution_count": null,
      "outputs": [
        {
          "output_type": "execute_result",
          "data": {
            "text/html": [
              "<div>\n",
              "<style scoped>\n",
              "    .dataframe tbody tr th:only-of-type {\n",
              "        vertical-align: middle;\n",
              "    }\n",
              "\n",
              "    .dataframe tbody tr th {\n",
              "        vertical-align: top;\n",
              "    }\n",
              "\n",
              "    .dataframe thead th {\n",
              "        text-align: right;\n",
              "    }\n",
              "</style>\n",
              "<table border=\"1\" class=\"dataframe\">\n",
              "  <thead>\n",
              "    <tr style=\"text-align: right;\">\n",
              "      <th></th>\n",
              "      <th>CRIM</th>\n",
              "      <th>ZN</th>\n",
              "      <th>INDUS</th>\n",
              "      <th>CHAS</th>\n",
              "      <th>NOX</th>\n",
              "      <th>RM</th>\n",
              "      <th>AGE</th>\n",
              "      <th>DIS</th>\n",
              "      <th>RAD</th>\n",
              "      <th>TAX</th>\n",
              "      <th>PTRATIO</th>\n",
              "      <th>B</th>\n",
              "      <th>LSTAT</th>\n",
              "      <th>Noise_1</th>\n",
              "      <th>Noise_2</th>\n",
              "      <th>Noise_3</th>\n",
              "      <th>Noise_4</th>\n",
              "      <th>Noise_5</th>\n",
              "    </tr>\n",
              "  </thead>\n",
              "  <tbody>\n",
              "    <tr>\n",
              "      <th>0</th>\n",
              "      <td>0.00632</td>\n",
              "      <td>18.0</td>\n",
              "      <td>2.31</td>\n",
              "      <td>0.0</td>\n",
              "      <td>0.538</td>\n",
              "      <td>6.575</td>\n",
              "      <td>65.2</td>\n",
              "      <td>4.0900</td>\n",
              "      <td>1.0</td>\n",
              "      <td>296.0</td>\n",
              "      <td>15.3</td>\n",
              "      <td>396.90</td>\n",
              "      <td>4.98</td>\n",
              "      <td>0.013471</td>\n",
              "      <td>0.435446</td>\n",
              "      <td>0.470931</td>\n",
              "      <td>0.278069</td>\n",
              "      <td>0.155623</td>\n",
              "    </tr>\n",
              "    <tr>\n",
              "      <th>1</th>\n",
              "      <td>0.02731</td>\n",
              "      <td>0.0</td>\n",
              "      <td>7.07</td>\n",
              "      <td>0.0</td>\n",
              "      <td>0.469</td>\n",
              "      <td>6.421</td>\n",
              "      <td>78.9</td>\n",
              "      <td>4.9671</td>\n",
              "      <td>2.0</td>\n",
              "      <td>242.0</td>\n",
              "      <td>17.8</td>\n",
              "      <td>396.90</td>\n",
              "      <td>9.14</td>\n",
              "      <td>0.335067</td>\n",
              "      <td>0.359080</td>\n",
              "      <td>0.681986</td>\n",
              "      <td>0.436993</td>\n",
              "      <td>0.403513</td>\n",
              "    </tr>\n",
              "    <tr>\n",
              "      <th>2</th>\n",
              "      <td>0.02729</td>\n",
              "      <td>0.0</td>\n",
              "      <td>7.07</td>\n",
              "      <td>0.0</td>\n",
              "      <td>0.469</td>\n",
              "      <td>7.185</td>\n",
              "      <td>61.1</td>\n",
              "      <td>4.9671</td>\n",
              "      <td>2.0</td>\n",
              "      <td>242.0</td>\n",
              "      <td>17.8</td>\n",
              "      <td>392.83</td>\n",
              "      <td>4.03</td>\n",
              "      <td>0.603963</td>\n",
              "      <td>0.351676</td>\n",
              "      <td>0.528160</td>\n",
              "      <td>0.204084</td>\n",
              "      <td>0.878036</td>\n",
              "    </tr>\n",
              "    <tr>\n",
              "      <th>3</th>\n",
              "      <td>0.03237</td>\n",
              "      <td>0.0</td>\n",
              "      <td>2.18</td>\n",
              "      <td>0.0</td>\n",
              "      <td>0.458</td>\n",
              "      <td>6.998</td>\n",
              "      <td>45.8</td>\n",
              "      <td>6.0622</td>\n",
              "      <td>3.0</td>\n",
              "      <td>222.0</td>\n",
              "      <td>18.7</td>\n",
              "      <td>394.63</td>\n",
              "      <td>2.94</td>\n",
              "      <td>0.281675</td>\n",
              "      <td>0.131847</td>\n",
              "      <td>0.326330</td>\n",
              "      <td>0.959090</td>\n",
              "      <td>0.727651</td>\n",
              "    </tr>\n",
              "    <tr>\n",
              "      <th>4</th>\n",
              "      <td>0.06905</td>\n",
              "      <td>0.0</td>\n",
              "      <td>2.18</td>\n",
              "      <td>0.0</td>\n",
              "      <td>0.458</td>\n",
              "      <td>7.147</td>\n",
              "      <td>54.2</td>\n",
              "      <td>6.0622</td>\n",
              "      <td>3.0</td>\n",
              "      <td>222.0</td>\n",
              "      <td>18.7</td>\n",
              "      <td>396.90</td>\n",
              "      <td>5.33</td>\n",
              "      <td>0.398594</td>\n",
              "      <td>0.883303</td>\n",
              "      <td>0.167445</td>\n",
              "      <td>0.448884</td>\n",
              "      <td>0.330360</td>\n",
              "    </tr>\n",
              "  </tbody>\n",
              "</table>\n",
              "</div>"
            ],
            "text/plain": [
              "      CRIM    ZN  INDUS  CHAS  ...   Noise_2   Noise_3   Noise_4   Noise_5\n",
              "0  0.00632  18.0   2.31   0.0  ...  0.435446  0.470931  0.278069  0.155623\n",
              "1  0.02731   0.0   7.07   0.0  ...  0.359080  0.681986  0.436993  0.403513\n",
              "2  0.02729   0.0   7.07   0.0  ...  0.351676  0.528160  0.204084  0.878036\n",
              "3  0.03237   0.0   2.18   0.0  ...  0.131847  0.326330  0.959090  0.727651\n",
              "4  0.06905   0.0   2.18   0.0  ...  0.883303  0.167445  0.448884  0.330360\n",
              "\n",
              "[5 rows x 18 columns]"
            ]
          },
          "metadata": {
            "tags": []
          },
          "execution_count": 46
        }
      ]
    },
    {
      "cell_type": "code",
      "metadata": {
        "id": "wfKjAvf4P5eL",
        "colab": {
          "base_uri": "https://localhost:8080/"
        },
        "outputId": "3101602e-2c81-4fcd-e3c7-81a8dade96b0"
      },
      "source": [
        "y[0:5]"
      ],
      "execution_count": null,
      "outputs": [
        {
          "output_type": "execute_result",
          "data": {
            "text/plain": [
              "array([24. , 21.6, 34.7, 33.4, 36.2])"
            ]
          },
          "metadata": {
            "tags": []
          },
          "execution_count": 47
        }
      ]
    },
    {
      "cell_type": "markdown",
      "metadata": {
        "id": "hx6KUx1kP5eL"
      },
      "source": [
        "### Implement classical linear regression, Lasso, Ridge and ElasticNet (use the default parameter of sklearn) and describe how the scores of the features change"
      ]
    },
    {
      "cell_type": "code",
      "metadata": {
        "id": "YWVwV1sHP5eM"
      },
      "source": [
        "from sklearn.linear_model import LinearRegression, Lasso, Ridge, ElasticNet\n",
        "\n",
        "# CREATE MODEL INSTANCES\n",
        "\n",
        "LinearRegression = LinearRegression()\n",
        "\n",
        "Lasso = Lasso()\n",
        "\n",
        "Ridge = Ridge()\n",
        "\n",
        "ElasticNet = ElasticNet()"
      ],
      "execution_count": null,
      "outputs": []
    },
    {
      "cell_type": "markdown",
      "metadata": {
        "id": "Vp3_wR5CP5eM"
      },
      "source": [
        "##### NORMALIZE DATA USING THE ```StandardScaler``` PROVIDED BY sklearn"
      ]
    },
    {
      "cell_type": "code",
      "metadata": {
        "id": "Ftfk1EaAP5eM"
      },
      "source": [
        "from sklearn.preprocessing import StandardScaler\n",
        "\n",
        "boston_ss = StandardScaler()\n",
        "X_scaled = boston_ss.fit_transform(X=X)\n",
        "\n",
        "X_train, X_test, y_train, y_test = train_test_split(X_scaled, y, test_size=0.25, random_state=235)"
      ],
      "execution_count": null,
      "outputs": []
    },
    {
      "cell_type": "code",
      "metadata": {
        "id": "51K7i1d9q57V"
      },
      "source": [
        "Models = [ LinearRegression , Lasso , Ridge , ElasticNet]"
      ],
      "execution_count": null,
      "outputs": []
    },
    {
      "cell_type": "code",
      "metadata": {
        "colab": {
          "base_uri": "https://localhost:8080/",
          "height": 1000
        },
        "id": "jQjxvuu7rKO_",
        "outputId": "0ea65065-9e45-44c7-d9cc-c1ba8677fb2f"
      },
      "source": [
        "df = pd.DataFrame()\n",
        "\n",
        "df['Features'] = X.columns\n",
        "for idx , item  in enumerate(Models):\n",
        "  ml = item.fit(X_train , y_train)\n",
        "  plt.barh( X.columns , ml.coef_)\n",
        "  plt.title(type(ml).__name__)\n",
        "  plt.show()\n",
        "  df[str(type(ml).__name__)] = ml.coef_\n",
        "\n",
        "\n",
        "df"
      ],
      "execution_count": null,
      "outputs": [
        {
          "output_type": "display_data",
          "data": {
            "image/png": "[encoded data removed]",
            "text/plain": [
              "<Figure size 432x288 with 1 Axes>"
            ]
          },
          "metadata": {
            "tags": [],
            "needs_background": "light"
          }
        },
        {
          "output_type": "display_data",
          "data": {
            "image/png": "[encoded data removed]",
            "text/plain": [
              "<Figure size 432x288 with 1 Axes>"
            ]
          },
          "metadata": {
            "tags": [],
            "needs_background": "light"
          }
        },
        {
          "output_type": "display_data",
          "data": {
            "image/png": "[encoded data removed]",
            "text/plain": [
              "<Figure size 432x288 with 1 Axes>"
            ]
          },
          "metadata": {
            "tags": [],
            "needs_background": "light"
          }
        },
        {
          "output_type": "display_data",
          "data": {
            "image/png": "[encoded data removed]",
            "text/plain": [
              "<Figure size 432x288 with 1 Axes>"
            ]
          },
          "metadata": {
            "tags": [],
            "needs_background": "light"
          }
        },
        {
          "output_type": "execute_result",
          "data": {
            "text/html": [
              "<div>\n",
              "<style scoped>\n",
              "    .dataframe tbody tr th:only-of-type {\n",
              "        vertical-align: middle;\n",
              "    }\n",
              "\n",
              "    .dataframe tbody tr th {\n",
              "        vertical-align: top;\n",
              "    }\n",
              "\n",
              "    .dataframe thead th {\n",
              "        text-align: right;\n",
              "    }\n",
              "</style>\n",
              "<table border=\"1\" class=\"dataframe\">\n",
              "  <thead>\n",
              "    <tr style=\"text-align: right;\">\n",
              "      <th></th>\n",
              "      <th>Features</th>\n",
              "      <th>LinearRegression</th>\n",
              "      <th>Lasso</th>\n",
              "      <th>Ridge</th>\n",
              "      <th>ElasticNet</th>\n",
              "    </tr>\n",
              "  </thead>\n",
              "  <tbody>\n",
              "    <tr>\n",
              "      <th>0</th>\n",
              "      <td>CRIM</td>\n",
              "      <td>-0.201700</td>\n",
              "      <td>-0.000000</td>\n",
              "      <td>-0.193506</td>\n",
              "      <td>-0.000000</td>\n",
              "    </tr>\n",
              "    <tr>\n",
              "      <th>1</th>\n",
              "      <td>ZN</td>\n",
              "      <td>0.752061</td>\n",
              "      <td>0.000000</td>\n",
              "      <td>0.736618</td>\n",
              "      <td>0.000000</td>\n",
              "    </tr>\n",
              "    <tr>\n",
              "      <th>2</th>\n",
              "      <td>INDUS</td>\n",
              "      <td>0.266700</td>\n",
              "      <td>-0.000000</td>\n",
              "      <td>0.242370</td>\n",
              "      <td>-0.111791</td>\n",
              "    </tr>\n",
              "    <tr>\n",
              "      <th>3</th>\n",
              "      <td>CHAS</td>\n",
              "      <td>1.072690</td>\n",
              "      <td>0.340719</td>\n",
              "      <td>1.075879</td>\n",
              "      <td>0.637001</td>\n",
              "    </tr>\n",
              "    <tr>\n",
              "      <th>4</th>\n",
              "      <td>NOX</td>\n",
              "      <td>-2.016616</td>\n",
              "      <td>-0.000000</td>\n",
              "      <td>-1.977906</td>\n",
              "      <td>-0.201282</td>\n",
              "    </tr>\n",
              "    <tr>\n",
              "      <th>5</th>\n",
              "      <td>RM</td>\n",
              "      <td>3.057964</td>\n",
              "      <td>3.075163</td>\n",
              "      <td>3.069306</td>\n",
              "      <td>2.619702</td>\n",
              "    </tr>\n",
              "    <tr>\n",
              "      <th>6</th>\n",
              "      <td>AGE</td>\n",
              "      <td>0.199545</td>\n",
              "      <td>-0.000000</td>\n",
              "      <td>0.186665</td>\n",
              "      <td>-0.000000</td>\n",
              "    </tr>\n",
              "    <tr>\n",
              "      <th>7</th>\n",
              "      <td>DIS</td>\n",
              "      <td>-2.789701</td>\n",
              "      <td>-0.000000</td>\n",
              "      <td>-2.758947</td>\n",
              "      <td>-0.012158</td>\n",
              "    </tr>\n",
              "    <tr>\n",
              "      <th>8</th>\n",
              "      <td>RAD</td>\n",
              "      <td>2.227078</td>\n",
              "      <td>-0.000000</td>\n",
              "      <td>2.150426</td>\n",
              "      <td>-0.000000</td>\n",
              "    </tr>\n",
              "    <tr>\n",
              "      <th>9</th>\n",
              "      <td>TAX</td>\n",
              "      <td>-1.552622</td>\n",
              "      <td>-0.000000</td>\n",
              "      <td>-1.486215</td>\n",
              "      <td>-0.223345</td>\n",
              "    </tr>\n",
              "    <tr>\n",
              "      <th>10</th>\n",
              "      <td>PTRATIO</td>\n",
              "      <td>-2.205453</td>\n",
              "      <td>-1.231897</td>\n",
              "      <td>-2.193913</td>\n",
              "      <td>-1.334380</td>\n",
              "    </tr>\n",
              "    <tr>\n",
              "      <th>11</th>\n",
              "      <td>B</td>\n",
              "      <td>1.114206</td>\n",
              "      <td>0.172007</td>\n",
              "      <td>1.114153</td>\n",
              "      <td>0.591859</td>\n",
              "    </tr>\n",
              "    <tr>\n",
              "      <th>12</th>\n",
              "      <td>LSTAT</td>\n",
              "      <td>-3.964136</td>\n",
              "      <td>-3.480674</td>\n",
              "      <td>-3.945300</td>\n",
              "      <td>-2.494913</td>\n",
              "    </tr>\n",
              "    <tr>\n",
              "      <th>13</th>\n",
              "      <td>Noise_1</td>\n",
              "      <td>-0.189131</td>\n",
              "      <td>-0.000000</td>\n",
              "      <td>-0.186476</td>\n",
              "      <td>-0.000000</td>\n",
              "    </tr>\n",
              "    <tr>\n",
              "      <th>14</th>\n",
              "      <td>Noise_2</td>\n",
              "      <td>-0.443467</td>\n",
              "      <td>-0.000000</td>\n",
              "      <td>-0.445737</td>\n",
              "      <td>-0.027881</td>\n",
              "    </tr>\n",
              "    <tr>\n",
              "      <th>15</th>\n",
              "      <td>Noise_3</td>\n",
              "      <td>-0.213432</td>\n",
              "      <td>-0.000000</td>\n",
              "      <td>-0.213689</td>\n",
              "      <td>-0.000000</td>\n",
              "    </tr>\n",
              "    <tr>\n",
              "      <th>16</th>\n",
              "      <td>Noise_4</td>\n",
              "      <td>-0.157455</td>\n",
              "      <td>0.000000</td>\n",
              "      <td>-0.155150</td>\n",
              "      <td>-0.000000</td>\n",
              "    </tr>\n",
              "    <tr>\n",
              "      <th>17</th>\n",
              "      <td>Noise_5</td>\n",
              "      <td>0.303345</td>\n",
              "      <td>0.000000</td>\n",
              "      <td>0.301246</td>\n",
              "      <td>0.000000</td>\n",
              "    </tr>\n",
              "  </tbody>\n",
              "</table>\n",
              "</div>"
            ],
            "text/plain": [
              "   Features  LinearRegression     Lasso     Ridge  ElasticNet\n",
              "0      CRIM         -0.201700 -0.000000 -0.193506   -0.000000\n",
              "1        ZN          0.752061  0.000000  0.736618    0.000000\n",
              "2     INDUS          0.266700 -0.000000  0.242370   -0.111791\n",
              "3      CHAS          1.072690  0.340719  1.075879    0.637001\n",
              "4       NOX         -2.016616 -0.000000 -1.977906   -0.201282\n",
              "5        RM          3.057964  3.075163  3.069306    2.619702\n",
              "6       AGE          0.199545 -0.000000  0.186665   -0.000000\n",
              "7       DIS         -2.789701 -0.000000 -2.758947   -0.012158\n",
              "8       RAD          2.227078 -0.000000  2.150426   -0.000000\n",
              "9       TAX         -1.552622 -0.000000 -1.486215   -0.223345\n",
              "10  PTRATIO         -2.205453 -1.231897 -2.193913   -1.334380\n",
              "11        B          1.114206  0.172007  1.114153    0.591859\n",
              "12    LSTAT         -3.964136 -3.480674 -3.945300   -2.494913\n",
              "13  Noise_1         -0.189131 -0.000000 -0.186476   -0.000000\n",
              "14  Noise_2         -0.443467 -0.000000 -0.445737   -0.027881\n",
              "15  Noise_3         -0.213432 -0.000000 -0.213689   -0.000000\n",
              "16  Noise_4         -0.157455  0.000000 -0.155150   -0.000000\n",
              "17  Noise_5          0.303345  0.000000  0.301246    0.000000"
            ]
          },
          "metadata": {
            "tags": []
          },
          "execution_count": 51
        }
      ]
    },
    {
      "cell_type": "code",
      "metadata": {
        "colab": {
          "base_uri": "https://localhost:8080/",
          "height": 648
        },
        "id": "74NUtjM7ux3V",
        "outputId": "497c15fd-9a9e-401a-e50d-a7213a3b2910"
      },
      "source": [
        "plt.figure(figsize=(15,10))\n",
        "df.index = df['Features']\n",
        "ax = sns.heatmap(df.loc[:, df.columns != 'Features'].T , annot=True , cmap=\"YlOrBr\")\n",
        "plt.show()\n"
      ],
      "execution_count": null,
      "outputs": [
        {
          "output_type": "display_data",
          "data": {
            "image/png": "[encoded data removed]",
            "text/plain": [
              "<Figure size 1080x720 with 2 Axes>"
            ]
          },
          "metadata": {
            "tags": [],
            "needs_background": "light"
          }
        }
      ]
    },
    {
      "cell_type": "markdown",
      "metadata": {
        "id": "vCaYnamIP5eN"
      },
      "source": [
        "#### Decribe the results"
      ]
    },
    {
      "cell_type": "markdown",
      "metadata": {
        "id": "BJRGjHfBP5eN"
      },
      "source": [
        "- We can see that linear regression assigned non-zero values to all 5 of our noise features, despite none of them having any predictive power. Interestingly, these noise features have coefficients with magnitudes similar to some of the real features in the dataset.\n",
        "- As we hoped, Lasso did a good job of reducing all 5 of our noise features to 0, as well as many of the real features from the dataset. This is indeed a much simpler model than given by linear regression\n",
        "- Ridge Regression makes a similar mistake that unregularized linear regression, assigning coefficient values to our noise features. We also see some features have very small coefficients.\n",
        "- Much like Lasso, Elastic Net makes the coefficients of several features 0. It however does not make as many coefficients 0 as Lasso does."
      ]
    },
    {
      "cell_type": "markdown",
      "metadata": {
        "id": "68pMwN4BP5eO"
      },
      "source": [
        "### Compute the Model Scores"
      ]
    },
    {
      "cell_type": "code",
      "metadata": {
        "id": "1b310Fv7P5eO",
        "outputId": "95720c5f-4b94-4203-bc74-a0dfaeedb56f"
      },
      "source": [
        "# PUT YOUR CODE HERE"
      ],
      "execution_count": null,
      "outputs": [
        {
          "output_type": "stream",
          "text": [
            "Mean Squared Error of Linear Regression: 23.91\n",
            "Mean Squared Error of Lasso: 24.91\n",
            "Mean Squared Error of Ridge Regression: 23.91\n",
            "Mean Squared Error of Elastic Net: 24.63\n"
          ],
          "name": "stdout"
        }
      ]
    },
    {
      "cell_type": "markdown",
      "metadata": {
        "id": "komlDuMgP5eO"
      },
      "source": [
        "This might seem counter-intuitive, but it is important to remember the ridge regression model traded some variance for bias, which ultimately lead to an overall smaller error. The Lasso and Elastic Net models traded a significant amount of variance for bias, and we see that our error has increased.\n",
        "Interestingly, Lasso and Elastic Net had a higher MSE than Linear Regression. But does that mean that these models are unequivocally worse? I would argue not, as the Lasso and Elastic Net models also performed feature selection, which gives us better interpretability of the models. Coefficients are interpreted as the change in dependent variable with a one unit increase in predictor value, with all other predictors held constant. In the case of complex models, the assumption of holding all other predictors constant cannot reasonably be met."
      ]
    },
    {
      "cell_type": "markdown",
      "metadata": {
        "id": "uGEyFZxRP5eP"
      },
      "source": [
        "### Alpha parameter:  Apply Lasso with different values of alpha and describe how the parameters scores change\n",
        "\n",
        "\n",
        "- Complete the function and apply it to the following values: [0, .0001, .5, 10]\n",
        "- Describe the results"
      ]
    },
    {
      "cell_type": "code",
      "metadata": {
        "id": "3d3m1027P5eP"
      },
      "source": [
        "names = names = X.columns\n",
        "\n",
        "# Create a function called lasso,\n",
        "def lasso(alphas):\n",
        "    '''\n",
        "    Takes in a list of alphas. Outputs a dataframe containing the coefficients of lasso regressions from each alpha.\n",
        "    '''\n",
        "    # Create an empty data frame\n",
        "    df = pd.DataFrame()\n",
        "    \n",
        "    # Create a column of feature names\n",
        "    df['Feature Name'] = names\n",
        "    \n",
        "    # For each alpha value in the list of alpha values,\n",
        "    for alpha in alphas:\n",
        "        # Create a lasso regression with that alpha value,\n",
        "\n",
        "        # ********************************************************\n",
        "        lasso = # PUT YOUR CODE HERE  ********************************************************\n",
        "        # ********************************************************\n",
        "        \n",
        "        # Fit the lasso regression\n",
        "        lasso.fit(X_scaled, y)\n",
        "        \n",
        "        # Create a column name for that alpha value\n",
        "        column_name = 'Alpha = %f' % alpha\n",
        "\n",
        "        # Create a column of coefficient values\n",
        "        df[column_name] = lasso.coef_\n",
        "        \n",
        "    # Return the dataframe  \n",
        "    return df"
      ],
      "execution_count": null,
      "outputs": []
    },
    {
      "cell_type": "code",
      "metadata": {
        "id": "BJPHSvw9P5eQ",
        "outputId": "91c7e70e-429b-431d-bf84-9679d6fd6eff"
      },
      "source": [
        "lasso([0, .0001, .5, 10])"
      ],
      "execution_count": null,
      "outputs": [
        {
          "output_type": "stream",
          "text": [
            "/opt/anaconda3/lib/python3.7/site-packages/ipykernel_launcher.py:20: UserWarning: With alpha=0, this algorithm does not converge well. You are advised to use the LinearRegression estimator\n",
            "/opt/anaconda3/lib/python3.7/site-packages/sklearn/linear_model/coordinate_descent.py:475: UserWarning: Coordinate descent with no regularization may lead to unexpected results and is discouraged.\n",
            "  positive)\n",
            "/opt/anaconda3/lib/python3.7/site-packages/sklearn/linear_model/coordinate_descent.py:475: ConvergenceWarning: Objective did not converge. You might want to increase the number of iterations. Duality gap: 5486.794509882186, tolerance: 4.2716295415019765\n",
            "  positive)\n"
          ],
          "name": "stderr"
        },
        {
          "output_type": "execute_result",
          "data": {
            "text/html": [
              "<div>\n",
              "<style scoped>\n",
              "    .dataframe tbody tr th:only-of-type {\n",
              "        vertical-align: middle;\n",
              "    }\n",
              "\n",
              "    .dataframe tbody tr th {\n",
              "        vertical-align: top;\n",
              "    }\n",
              "\n",
              "    .dataframe thead th {\n",
              "        text-align: right;\n",
              "    }\n",
              "</style>\n",
              "<table border=\"1\" class=\"dataframe\">\n",
              "  <thead>\n",
              "    <tr style=\"text-align: right;\">\n",
              "      <th></th>\n",
              "      <th>Feature Name</th>\n",
              "      <th>Alpha = 0.000000</th>\n",
              "      <th>Alpha = 0.000100</th>\n",
              "      <th>Alpha = 0.500000</th>\n",
              "      <th>Alpha = 10.000000</th>\n",
              "    </tr>\n",
              "  </thead>\n",
              "  <tbody>\n",
              "    <tr>\n",
              "      <td>0</td>\n",
              "      <td>CRIM</td>\n",
              "      <td>-0.994599</td>\n",
              "      <td>-0.994272</td>\n",
              "      <td>-0.115265</td>\n",
              "      <td>-0.0</td>\n",
              "    </tr>\n",
              "    <tr>\n",
              "      <td>1</td>\n",
              "      <td>ZN</td>\n",
              "      <td>1.082065</td>\n",
              "      <td>1.081592</td>\n",
              "      <td>0.000000</td>\n",
              "      <td>0.0</td>\n",
              "    </tr>\n",
              "    <tr>\n",
              "      <td>2</td>\n",
              "      <td>INDUS</td>\n",
              "      <td>0.194093</td>\n",
              "      <td>0.193121</td>\n",
              "      <td>-0.000000</td>\n",
              "      <td>-0.0</td>\n",
              "    </tr>\n",
              "    <tr>\n",
              "      <td>3</td>\n",
              "      <td>CHAS</td>\n",
              "      <td>0.703614</td>\n",
              "      <td>0.703631</td>\n",
              "      <td>0.397079</td>\n",
              "      <td>0.0</td>\n",
              "    </tr>\n",
              "    <tr>\n",
              "      <td>4</td>\n",
              "      <td>NOX</td>\n",
              "      <td>-2.163796</td>\n",
              "      <td>-2.162887</td>\n",
              "      <td>-0.000000</td>\n",
              "      <td>-0.0</td>\n",
              "    </tr>\n",
              "    <tr>\n",
              "      <td>5</td>\n",
              "      <td>RM</td>\n",
              "      <td>2.681363</td>\n",
              "      <td>2.681531</td>\n",
              "      <td>2.974259</td>\n",
              "      <td>0.0</td>\n",
              "    </tr>\n",
              "    <tr>\n",
              "      <td>6</td>\n",
              "      <td>AGE</td>\n",
              "      <td>0.032287</td>\n",
              "      <td>0.031849</td>\n",
              "      <td>-0.000000</td>\n",
              "      <td>-0.0</td>\n",
              "    </tr>\n",
              "    <tr>\n",
              "      <td>7</td>\n",
              "      <td>DIS</td>\n",
              "      <td>-3.132136</td>\n",
              "      <td>-3.131740</td>\n",
              "      <td>-0.170569</td>\n",
              "      <td>0.0</td>\n",
              "    </tr>\n",
              "    <tr>\n",
              "      <td>8</td>\n",
              "      <td>RAD</td>\n",
              "      <td>2.661499</td>\n",
              "      <td>2.659652</td>\n",
              "      <td>-0.000000</td>\n",
              "      <td>-0.0</td>\n",
              "    </tr>\n",
              "    <tr>\n",
              "      <td>9</td>\n",
              "      <td>TAX</td>\n",
              "      <td>-2.067622</td>\n",
              "      <td>-2.065835</td>\n",
              "      <td>-0.000000</td>\n",
              "      <td>-0.0</td>\n",
              "    </tr>\n",
              "    <tr>\n",
              "      <td>10</td>\n",
              "      <td>PTRATIO</td>\n",
              "      <td>-2.076429</td>\n",
              "      <td>-2.076179</td>\n",
              "      <td>-1.598449</td>\n",
              "      <td>-0.0</td>\n",
              "    </tr>\n",
              "    <tr>\n",
              "      <td>11</td>\n",
              "      <td>B</td>\n",
              "      <td>0.802240</td>\n",
              "      <td>0.802187</td>\n",
              "      <td>0.543139</td>\n",
              "      <td>0.0</td>\n",
              "    </tr>\n",
              "    <tr>\n",
              "      <td>12</td>\n",
              "      <td>LSTAT</td>\n",
              "      <td>-3.702547</td>\n",
              "      <td>-3.702360</td>\n",
              "      <td>-3.666144</td>\n",
              "      <td>-0.0</td>\n",
              "    </tr>\n",
              "    <tr>\n",
              "      <td>13</td>\n",
              "      <td>Noise_1</td>\n",
              "      <td>-0.266382</td>\n",
              "      <td>-0.266274</td>\n",
              "      <td>-0.000000</td>\n",
              "      <td>0.0</td>\n",
              "    </tr>\n",
              "    <tr>\n",
              "      <td>14</td>\n",
              "      <td>Noise_2</td>\n",
              "      <td>0.308055</td>\n",
              "      <td>0.307860</td>\n",
              "      <td>0.000000</td>\n",
              "      <td>0.0</td>\n",
              "    </tr>\n",
              "    <tr>\n",
              "      <td>15</td>\n",
              "      <td>Noise_3</td>\n",
              "      <td>0.027327</td>\n",
              "      <td>0.027205</td>\n",
              "      <td>-0.000000</td>\n",
              "      <td>-0.0</td>\n",
              "    </tr>\n",
              "    <tr>\n",
              "      <td>16</td>\n",
              "      <td>Noise_4</td>\n",
              "      <td>0.199046</td>\n",
              "      <td>0.198960</td>\n",
              "      <td>0.000000</td>\n",
              "      <td>0.0</td>\n",
              "    </tr>\n",
              "    <tr>\n",
              "      <td>17</td>\n",
              "      <td>Noise_5</td>\n",
              "      <td>-0.059597</td>\n",
              "      <td>-0.059466</td>\n",
              "      <td>-0.000000</td>\n",
              "      <td>0.0</td>\n",
              "    </tr>\n",
              "  </tbody>\n",
              "</table>\n",
              "</div>"
            ],
            "text/plain": [
              "   Feature Name  Alpha = 0.000000  Alpha = 0.000100  Alpha = 0.500000  \\\n",
              "0          CRIM         -0.994599         -0.994272         -0.115265   \n",
              "1            ZN          1.082065          1.081592          0.000000   \n",
              "2         INDUS          0.194093          0.193121         -0.000000   \n",
              "3          CHAS          0.703614          0.703631          0.397079   \n",
              "4           NOX         -2.163796         -2.162887         -0.000000   \n",
              "5            RM          2.681363          2.681531          2.974259   \n",
              "6           AGE          0.032287          0.031849         -0.000000   \n",
              "7           DIS         -3.132136         -3.131740         -0.170569   \n",
              "8           RAD          2.661499          2.659652         -0.000000   \n",
              "9           TAX         -2.067622         -2.065835         -0.000000   \n",
              "10      PTRATIO         -2.076429         -2.076179         -1.598449   \n",
              "11            B          0.802240          0.802187          0.543139   \n",
              "12        LSTAT         -3.702547         -3.702360         -3.666144   \n",
              "13      Noise_1         -0.266382         -0.266274         -0.000000   \n",
              "14      Noise_2          0.308055          0.307860          0.000000   \n",
              "15      Noise_3          0.027327          0.027205         -0.000000   \n",
              "16      Noise_4          0.199046          0.198960          0.000000   \n",
              "17      Noise_5         -0.059597         -0.059466         -0.000000   \n",
              "\n",
              "    Alpha = 10.000000  \n",
              "0                -0.0  \n",
              "1                 0.0  \n",
              "2                -0.0  \n",
              "3                 0.0  \n",
              "4                -0.0  \n",
              "5                 0.0  \n",
              "6                -0.0  \n",
              "7                 0.0  \n",
              "8                -0.0  \n",
              "9                -0.0  \n",
              "10               -0.0  \n",
              "11                0.0  \n",
              "12               -0.0  \n",
              "13                0.0  \n",
              "14                0.0  \n",
              "15               -0.0  \n",
              "16                0.0  \n",
              "17                0.0  "
            ]
          },
          "metadata": {
            "tags": []
          },
          "execution_count": 10
        }
      ]
    },
    {
      "cell_type": "markdown",
      "metadata": {
        "id": "f9mjD2LBP5eQ"
      },
      "source": [
        "#### Describe the above results"
      ]
    },
    {
      "cell_type": "code",
      "metadata": {
        "id": "DEEFJ9gAP5eQ"
      },
      "source": [
        ""
      ],
      "execution_count": null,
      "outputs": []
    },
    {
      "cell_type": "code",
      "metadata": {
        "id": "gRsNPiFhP5eQ"
      },
      "source": [
        ""
      ],
      "execution_count": null,
      "outputs": []
    },
    {
      "cell_type": "markdown",
      "metadata": {
        "id": "D3dtgTMjP5eR"
      },
      "source": [
        "### Apply Ridge with different values of alpha and describe how the parameters scores change\n",
        "- Complete the function and apply it to the following values: [0, .0001, .5, 10]\n",
        "- Describe the results"
      ]
    },
    {
      "cell_type": "code",
      "metadata": {
        "id": "BycXXJZoP5eR"
      },
      "source": [
        "names = names = X.columns\n",
        "\n",
        "# Create a function called lasso,\n",
        "def ridge(alphas):\n",
        "    '''\n",
        "    Takes in a list of alphas. Outputs a dataframe containing the coefficients of ridge regressions from each alpha.\n",
        "    '''\n",
        "    # Create an empty data frame\n",
        "    df = pd.DataFrame()\n",
        "    \n",
        "    # Create a column of feature names\n",
        "    df['Feature Name'] = names\n",
        "    \n",
        "    # For each alpha value in the list of alpha values,\n",
        "    for alpha in alphas:\n",
        "        # Create a Ridge regression with that alpha value,\n",
        "        \n",
        "        #********************************************************\n",
        "        ridge = # PUT YOUR CODE HERE  ********************************************************\n",
        "        #********************************************************\n",
        "        \n",
        "        # Fit the lasso regression\n",
        "        ridge.fit(X_scaled, y)\n",
        "        \n",
        "        # Create a column name for that alpha value\n",
        "        column_name = 'Alpha = %f' % alpha\n",
        "\n",
        "        # Create a column of coefficient values\n",
        "        df[column_name] = ridge.coef_\n",
        "        \n",
        "    # Return the dataframe  \n",
        "    return df"
      ],
      "execution_count": null,
      "outputs": []
    },
    {
      "cell_type": "code",
      "metadata": {
        "id": "3XXSdX92P5eR",
        "outputId": "83a16f20-b338-4bba-c4ec-c4915ddd4117"
      },
      "source": [
        "ridge([0, .00001, .5, 10])"
      ],
      "execution_count": null,
      "outputs": [
        {
          "output_type": "execute_result",
          "data": {
            "text/html": [
              "<div>\n",
              "<style scoped>\n",
              "    .dataframe tbody tr th:only-of-type {\n",
              "        vertical-align: middle;\n",
              "    }\n",
              "\n",
              "    .dataframe tbody tr th {\n",
              "        vertical-align: top;\n",
              "    }\n",
              "\n",
              "    .dataframe thead th {\n",
              "        text-align: right;\n",
              "    }\n",
              "</style>\n",
              "<table border=\"1\" class=\"dataframe\">\n",
              "  <thead>\n",
              "    <tr style=\"text-align: right;\">\n",
              "      <th></th>\n",
              "      <th>Feature Name</th>\n",
              "      <th>Alpha = 0.000000</th>\n",
              "      <th>Alpha = 0.000010</th>\n",
              "      <th>Alpha = 0.500000</th>\n",
              "      <th>Alpha = 10.000000</th>\n",
              "    </tr>\n",
              "  </thead>\n",
              "  <tbody>\n",
              "    <tr>\n",
              "      <td>0</td>\n",
              "      <td>CRIM</td>\n",
              "      <td>-0.994599</td>\n",
              "      <td>-0.994599</td>\n",
              "      <td>-0.989897</td>\n",
              "      <td>-0.916786</td>\n",
              "    </tr>\n",
              "    <tr>\n",
              "      <td>1</td>\n",
              "      <td>ZN</td>\n",
              "      <td>1.082065</td>\n",
              "      <td>1.082064</td>\n",
              "      <td>1.074406</td>\n",
              "      <td>0.955335</td>\n",
              "    </tr>\n",
              "    <tr>\n",
              "      <td>2</td>\n",
              "      <td>INDUS</td>\n",
              "      <td>0.194093</td>\n",
              "      <td>0.194093</td>\n",
              "      <td>0.181704</td>\n",
              "      <td>0.004660</td>\n",
              "    </tr>\n",
              "    <tr>\n",
              "      <td>3</td>\n",
              "      <td>CHAS</td>\n",
              "      <td>0.703614</td>\n",
              "      <td>0.703614</td>\n",
              "      <td>0.705335</td>\n",
              "      <td>0.729298</td>\n",
              "    </tr>\n",
              "    <tr>\n",
              "      <td>4</td>\n",
              "      <td>NOX</td>\n",
              "      <td>-2.163796</td>\n",
              "      <td>-2.163795</td>\n",
              "      <td>-2.148827</td>\n",
              "      <td>-1.902499</td>\n",
              "    </tr>\n",
              "    <tr>\n",
              "      <td>5</td>\n",
              "      <td>RM</td>\n",
              "      <td>2.681363</td>\n",
              "      <td>2.681363</td>\n",
              "      <td>2.685717</td>\n",
              "      <td>2.749827</td>\n",
              "    </tr>\n",
              "    <tr>\n",
              "      <td>6</td>\n",
              "      <td>AGE</td>\n",
              "      <td>0.032287</td>\n",
              "      <td>0.032287</td>\n",
              "      <td>0.029008</td>\n",
              "      <td>-0.021010</td>\n",
              "    </tr>\n",
              "    <tr>\n",
              "      <td>7</td>\n",
              "      <td>DIS</td>\n",
              "      <td>-3.132136</td>\n",
              "      <td>-3.132136</td>\n",
              "      <td>-3.118357</td>\n",
              "      <td>-2.878709</td>\n",
              "    </tr>\n",
              "    <tr>\n",
              "      <td>8</td>\n",
              "      <td>RAD</td>\n",
              "      <td>2.661499</td>\n",
              "      <td>2.661498</td>\n",
              "      <td>2.625118</td>\n",
              "      <td>2.090145</td>\n",
              "    </tr>\n",
              "    <tr>\n",
              "      <td>9</td>\n",
              "      <td>TAX</td>\n",
              "      <td>-2.067622</td>\n",
              "      <td>-2.067621</td>\n",
              "      <td>-2.033730</td>\n",
              "      <td>-1.554169</td>\n",
              "    </tr>\n",
              "    <tr>\n",
              "      <td>10</td>\n",
              "      <td>PTRATIO</td>\n",
              "      <td>-2.076429</td>\n",
              "      <td>-2.076429</td>\n",
              "      <td>-2.072041</td>\n",
              "      <td>-1.999475</td>\n",
              "    </tr>\n",
              "    <tr>\n",
              "      <td>11</td>\n",
              "      <td>B</td>\n",
              "      <td>0.802240</td>\n",
              "      <td>0.802240</td>\n",
              "      <td>0.802220</td>\n",
              "      <td>0.801233</td>\n",
              "    </tr>\n",
              "    <tr>\n",
              "      <td>12</td>\n",
              "      <td>LSTAT</td>\n",
              "      <td>-3.702547</td>\n",
              "      <td>-3.702547</td>\n",
              "      <td>-3.696269</td>\n",
              "      <td>-3.586839</td>\n",
              "    </tr>\n",
              "    <tr>\n",
              "      <td>13</td>\n",
              "      <td>Noise_1</td>\n",
              "      <td>-0.266382</td>\n",
              "      <td>-0.266382</td>\n",
              "      <td>-0.266403</td>\n",
              "      <td>-0.264182</td>\n",
              "    </tr>\n",
              "    <tr>\n",
              "      <td>14</td>\n",
              "      <td>Noise_2</td>\n",
              "      <td>0.308055</td>\n",
              "      <td>0.308055</td>\n",
              "      <td>0.306265</td>\n",
              "      <td>0.278583</td>\n",
              "    </tr>\n",
              "    <tr>\n",
              "      <td>15</td>\n",
              "      <td>Noise_3</td>\n",
              "      <td>0.027327</td>\n",
              "      <td>0.027327</td>\n",
              "      <td>0.026894</td>\n",
              "      <td>0.019436</td>\n",
              "    </tr>\n",
              "    <tr>\n",
              "      <td>16</td>\n",
              "      <td>Noise_4</td>\n",
              "      <td>0.199046</td>\n",
              "      <td>0.199046</td>\n",
              "      <td>0.199496</td>\n",
              "      <td>0.206449</td>\n",
              "    </tr>\n",
              "    <tr>\n",
              "      <td>17</td>\n",
              "      <td>Noise_5</td>\n",
              "      <td>-0.059597</td>\n",
              "      <td>-0.059597</td>\n",
              "      <td>-0.059669</td>\n",
              "      <td>-0.059907</td>\n",
              "    </tr>\n",
              "  </tbody>\n",
              "</table>\n",
              "</div>"
            ],
            "text/plain": [
              "   Feature Name  Alpha = 0.000000  Alpha = 0.000010  Alpha = 0.500000  \\\n",
              "0          CRIM         -0.994599         -0.994599         -0.989897   \n",
              "1            ZN          1.082065          1.082064          1.074406   \n",
              "2         INDUS          0.194093          0.194093          0.181704   \n",
              "3          CHAS          0.703614          0.703614          0.705335   \n",
              "4           NOX         -2.163796         -2.163795         -2.148827   \n",
              "5            RM          2.681363          2.681363          2.685717   \n",
              "6           AGE          0.032287          0.032287          0.029008   \n",
              "7           DIS         -3.132136         -3.132136         -3.118357   \n",
              "8           RAD          2.661499          2.661498          2.625118   \n",
              "9           TAX         -2.067622         -2.067621         -2.033730   \n",
              "10      PTRATIO         -2.076429         -2.076429         -2.072041   \n",
              "11            B          0.802240          0.802240          0.802220   \n",
              "12        LSTAT         -3.702547         -3.702547         -3.696269   \n",
              "13      Noise_1         -0.266382         -0.266382         -0.266403   \n",
              "14      Noise_2          0.308055          0.308055          0.306265   \n",
              "15      Noise_3          0.027327          0.027327          0.026894   \n",
              "16      Noise_4          0.199046          0.199046          0.199496   \n",
              "17      Noise_5         -0.059597         -0.059597         -0.059669   \n",
              "\n",
              "    Alpha = 10.000000  \n",
              "0           -0.916786  \n",
              "1            0.955335  \n",
              "2            0.004660  \n",
              "3            0.729298  \n",
              "4           -1.902499  \n",
              "5            2.749827  \n",
              "6           -0.021010  \n",
              "7           -2.878709  \n",
              "8            2.090145  \n",
              "9           -1.554169  \n",
              "10          -1.999475  \n",
              "11           0.801233  \n",
              "12          -3.586839  \n",
              "13          -0.264182  \n",
              "14           0.278583  \n",
              "15           0.019436  \n",
              "16           0.206449  \n",
              "17          -0.059907  "
            ]
          },
          "metadata": {
            "tags": []
          },
          "execution_count": 12
        }
      ]
    },
    {
      "cell_type": "markdown",
      "metadata": {
        "id": "htviX3D9P5eS"
      },
      "source": [
        "In practice, we will not manually look for the best alpha coefficient. Both in Lasso and ridge regression, the alpha is a hyperparameter. Therefore, we will find the best one via crossvalidation. Fortunately, sklearn has a function that performs CV to find the optimal alpha automatically. "
      ]
    },
    {
      "cell_type": "code",
      "metadata": {
        "id": "uRFc3rLAP5eT",
        "outputId": "06a2e667-b1a2-4fce-aef6-b6d190df74d2"
      },
      "source": [
        "from sklearn.linear_model import LassoCV\n",
        "\n",
        "reg = LassoCV(max_iter = 5000, cv = 20, normalize=True).fit(X_train, y_train)\n",
        "reg.alpha_"
      ],
      "execution_count": null,
      "outputs": [
        {
          "output_type": "execute_result",
          "data": {
            "text/plain": [
              "0.0035711824561926626"
            ]
          },
          "metadata": {
            "tags": []
          },
          "execution_count": 13
        }
      ]
    },
    {
      "cell_type": "code",
      "metadata": {
        "id": "B9iMJpLBP5eT"
      },
      "source": [
        ""
      ],
      "execution_count": null,
      "outputs": []
    }
  ]
}