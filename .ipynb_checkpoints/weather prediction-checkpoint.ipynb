{
 "cells": [
  {
   "cell_type": "code",
   "execution_count": 492,
   "metadata": {},
   "outputs": [],
   "source": [
    "import numpy as np\n",
    "import pandas as pd\n",
    "from sklearn.neighbors import KNeighborsClassifier\n",
    "data = pd.read_csv('dataexport_20200921T130310.csv')\n",
    "\n"
   ]
  },
  {
   "cell_type": "code",
   "execution_count": 493,
   "metadata": {
    "scrolled": true
   },
   "outputs": [],
   "source": [
    "def load_file():\n",
    "    date = []\n",
    "    for i,d in enumerate((data[\"location\"])):\n",
    "        if d.startswith(\"2015\") or d.startswith(\"2016\") or d.startswith(\"2017\") or d.startswith(\"2018\") or d.startswith(\"2019\"):\n",
    "            date.append([d[:-5],float(data[\"Basel.9\"][i]),float(data[\"Basel.10\"][i]),float(data[\"Basel.2\"][i]),float(data[\"Basel.14\"][i])]) # to remove T0000 things [:-5]\n",
    "\n",
    "def create_predictive_model():\n",
    "    temp_data = []\n",
    "    rain_data = []\n",
    "    claud_data = []\n",
    "    l_temp = []\n",
    "    l_rain = []\n",
    "    l_claud = []\n",
    "    for i in range(int(len(date)-8)):\n",
    "        for j in range(8):\n",
    "            l_temp.append(int((date[i+j][3])))\n",
    "            l_rain.append(int((date[i+j][1])))\n",
    "            l_claud.append(int((date[i+j][4])))\n",
    "        temp_data.insert(i,l_temp)\n",
    "        rain_data.insert(i,l_rain)\n",
    "        claud_data.insert(i,l_claud)\n",
    "        l_temp = []\n",
    "        l_rain = []\n",
    "        l_claud = []\n",
    "    temp_final = np.array(temp_data)\n",
    "    rain_final = np.array(rain_data)\n",
    "    claud_final = np.array(claud_data)\n",
    "    \n",
    "    temp_results = temp_final[:,-1]\n",
    "    temp_desc = temp_final[:,0:-1]\n",
    "    \n",
    "    rain_results = rain_final[:,-1]\n",
    "    rain_desc = rain_final[:,0:-1]\n",
    "    \n",
    "    claud_results = claud_final[:,-1]\n",
    "    claud_desc = claud_final[:,0:-1]\n",
    "    \n",
    "    temp_KNN, rain_KNN, claud_KNN  = KNeighborsClassifier(n_neighbors=1,p=7) ,KNeighborsClassifier(n_neighbors=1,p=7),KNeighborsClassifier(n_neighbors=1,p=7)\n",
    "    temp_KNN.fit(temp_desc, temp_results)\n",
    "    rain_KNN.fit(rain_desc, rain_results)\n",
    "    claud_KNN.fit(claud_desc, claud_results)\n",
    "    \n",
    "    retunr(temp_KNN , rain_KNN , claud_KNN)\n",
    "\n"
   ]
  },
  {
   "cell_type": "code",
   "execution_count": 494,
   "metadata": {},
   "outputs": [],
   "source": [
    "class Weather_prediction():\n",
    "    def __init__(self,ai_temp,ai_rain,ai_claud):\n",
    "        self.ai_temp = ai_temp\n",
    "        self.ai_rain = ai_rain       \n",
    "        self.ai_claud = ai_claud    \n",
    "    def get_weather_7days(self,time):\n",
    "        Local_holder = 0 \n",
    "        seven_days_temp = []\n",
    "        seven_days_rain = []\n",
    "        seven_days_claud = []\n",
    "        for i in range(int(len(date))):\n",
    "            if time == date[i][0]:\n",
    "                Local_holder = i \n",
    "        for k in reversed(range(1,8)):\n",
    "            seven_days_temp.append(date[Local_holder - k][3])\n",
    "            seven_days_rain.append(date[Local_holder - k][1])\n",
    "            seven_days_claud.append(date[Local_holder - k][4])\n",
    "        return seven_days_temp , seven_days_rain , seven_days_claud\n",
    "    def predict_weather_for(self,time):\n",
    "        temp , rain , claud = self.get_weather_7days(time)\n",
    "        return [self.ai_temp.predict([temp])],[self.ai_rain.predict([rain])],[self.ai_claud.predict([claud])]\n",
    "        \n",
    "            \n",
    "            \n",
    "        "
   ]
  },
  {
   "cell_type": "code",
   "execution_count": 495,
   "metadata": {},
   "outputs": [],
   "source": [
    "AX = Weather_prediction(temp_KNN , rain_KNN , claud_KNN)\n"
   ]
  },
  {
   "cell_type": "code",
   "execution_count": 500,
   "metadata": {},
   "outputs": [
    {
     "data": {
      "text/plain": [
       "([array([16])], [array([0])], [array([33])])"
      ]
     },
     "execution_count": 500,
     "metadata": {},
     "output_type": "execute_result"
    }
   ],
   "source": [
    "AX.predict_weather_for('20170926')"
   ]
  },
  {
   "cell_type": "code",
   "execution_count": null,
   "metadata": {},
   "outputs": [],
   "source": []
  },
  {
   "cell_type": "code",
   "execution_count": null,
   "metadata": {},
   "outputs": [],
   "source": []
  },
  {
   "cell_type": "code",
   "execution_count": null,
   "metadata": {},
   "outputs": [],
   "source": []
  },
  {
   "cell_type": "code",
   "execution_count": null,
   "metadata": {},
   "outputs": [],
   "source": []
  },
  {
   "cell_type": "code",
   "execution_count": null,
   "metadata": {},
   "outputs": [],
   "source": []
  },
  {
   "cell_type": "code",
   "execution_count": null,
   "metadata": {},
   "outputs": [],
   "source": []
  },
  {
   "cell_type": "code",
   "execution_count": null,
   "metadata": {},
   "outputs": [],
   "source": []
  },
  {
   "cell_type": "code",
   "execution_count": null,
   "metadata": {},
   "outputs": [],
   "source": [
    "\n"
   ]
  }
 ],
 "metadata": {
  "kernelspec": {
   "display_name": "Python 3",
   "language": "python",
   "name": "python3"
  },
  "language_info": {
   "codemirror_mode": {
    "name": "ipython",
    "version": 3
   },
   "file_extension": ".py",
   "mimetype": "text/x-python",
   "name": "python",
   "nbconvert_exporter": "python",
   "pygments_lexer": "ipython3",
   "version": "3.8.3"
  }
 },
 "nbformat": 4,
 "nbformat_minor": 4
}
