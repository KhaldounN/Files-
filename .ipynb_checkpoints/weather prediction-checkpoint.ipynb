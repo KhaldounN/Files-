{
 "cells": [
  {
   "cell_type": "code",
   "execution_count": 330,
   "metadata": {},
   "outputs": [],
   "source": [
    "import numpy as np\n",
    "import pandas as pd\n",
    "from sklearn.neighbors import KNeighborsClassifier\n",
    "data = pd.read_csv('dataexport_20200921T130310.csv')\n",
    "\n"
   ]
  },
  {
   "cell_type": "code",
   "execution_count": 331,
   "metadata": {},
   "outputs": [
    {
     "data": {
      "text/plain": [
       "KNeighborsClassifier(n_neighbors=1, p=7)"
      ]
     },
     "execution_count": 331,
     "metadata": {},
     "output_type": "execute_result"
    }
   ],
   "source": [
    "date = []\n",
    "\n",
    "#data -> Raining & Snow & Basel Temperature [2 m elevation corrected] mean & cloud_cover_low\n",
    "    \n",
    "for i,d in enumerate((data[\"location\"])):\n",
    "    \n",
    "    if d.startswith(\"2015\") or d.startswith(\"2016\") or d.startswith(\"2017\") or d.startswith(\"2018\") or d.startswith(\"2019\"):\n",
    "        date.append([d[:-5],float(data[\"Basel.9\"][i]),float(data[\"Basel.10\"][i]),float(data[\"Basel.2\"][i]),float(data[\"Basel.14\"][i])]) # to remove T0000 things [:-5]\n",
    "        \n",
    "       # in this part I will organize the data data in a way that each raw has the temprature of the day in addtion to the temprature of the 8 days before it.\n",
    "# the result will be a list of lists ( each list have 8 items)\n",
    "rain_data = []\n",
    "l= []\n",
    "\n",
    "for i in range(int(len(date)-8)):\n",
    "    for j in range(8):\n",
    "        l.append(int((date[i+j][3])))\n",
    "    rain_data.insert(i,l)\n",
    "    l=[]\n",
    "         \n",
    "rain_final = np.array(rain_data)\n",
    "\n",
    "# Covert list to an array for easy manipulation \n",
    "rain_final = np.array(rain_data)\n",
    "\n",
    "# in this part I will split the data into training data and results data. the result will be the last day and the training will be the 7 days before\n",
    "results = rain_final[:,-1]\n",
    "desc = rain_final[:,0:-1]\n",
    "\n",
    "\n",
    "# intiate the AI \n",
    "KNN = KNeighborsClassifier(n_neighbors=1,p=7)\n",
    "\n",
    "# train the AI \n",
    "\n",
    "KNN.fit(desc, results)\n",
    "\n",
    "# now I need to learn how use the AI XD "
   ]
  },
  {
   "cell_type": "code",
   "execution_count": 380,
   "metadata": {},
   "outputs": [],
   "source": [
    "class Weather_prediction():\n",
    "    def __init__(self,ai):\n",
    "        self.ai = ai \n",
    "    def get_weather_7days(self,time):\n",
    "        Local_holder = 0 \n",
    "        seven_days = []\n",
    "        for i in range(int(len(date))):\n",
    "            if time == date[i][0]:\n",
    "                Local_holder = i \n",
    "        for k in reversed(range(1,8)):\n",
    "            seven_days.append(date[Local_holder - k][3])\n",
    "        return seven_days \n",
    "    def predict_weather_for(self,time):\n",
    "        inp = self.get_weather_7days(time)\n",
    "        print(len(inp))\n",
    "        print(inp)\n",
    "        return(self.ai.predict([inp]))\n",
    "            \n",
    "            \n",
    "        "
   ]
  },
  {
   "cell_type": "code",
   "execution_count": 381,
   "metadata": {},
   "outputs": [
    {
     "data": {
      "text/plain": [
       "['20151028', 9.6, 0.0, 14.146362, 42.833332]"
      ]
     },
     "execution_count": 381,
     "metadata": {},
     "output_type": "execute_result"
    }
   ],
   "source": [
    "x1 = Weather_prediction(KNN)\n",
    "date[300]"
   ]
  },
  {
   "cell_type": "code",
   "execution_count": 382,
   "metadata": {},
   "outputs": [
    {
     "name": "stdout",
     "output_type": "stream",
     "text": [
      "7\n",
      "[9.856363, 9.81303, 11.847611, 12.970944, 14.635112, 12.473443, 12.588448]\n"
     ]
    },
    {
     "data": {
      "text/plain": [
       "array([14])"
      ]
     },
     "execution_count": 382,
     "metadata": {},
     "output_type": "execute_result"
    }
   ],
   "source": [
    "x1.predict_weather_for('20151028')"
   ]
  },
  {
   "cell_type": "code",
   "execution_count": null,
   "metadata": {},
   "outputs": [],
   "source": [
    "\n"
   ]
  },
  {
   "cell_type": "code",
   "execution_count": null,
   "metadata": {},
   "outputs": [],
   "source": []
  },
  {
   "cell_type": "code",
   "execution_count": null,
   "metadata": {},
   "outputs": [],
   "source": []
  },
  {
   "cell_type": "code",
   "execution_count": null,
   "metadata": {},
   "outputs": [],
   "source": []
  },
  {
   "cell_type": "code",
   "execution_count": null,
   "metadata": {},
   "outputs": [],
   "source": []
  },
  {
   "cell_type": "code",
   "execution_count": null,
   "metadata": {},
   "outputs": [],
   "source": []
  },
  {
   "cell_type": "code",
   "execution_count": null,
   "metadata": {},
   "outputs": [],
   "source": []
  },
  {
   "cell_type": "code",
   "execution_count": null,
   "metadata": {},
   "outputs": [],
   "source": []
  }
 ],
 "metadata": {
  "kernelspec": {
   "display_name": "Python 3",
   "language": "python",
   "name": "python3"
  },
  "language_info": {
   "codemirror_mode": {
    "name": "ipython",
    "version": 3
   },
   "file_extension": ".py",
   "mimetype": "text/x-python",
   "name": "python",
   "nbconvert_exporter": "python",
   "pygments_lexer": "ipython3",
   "version": "3.8.3"
  }
 },
 "nbformat": 4,
 "nbformat_minor": 4
}
