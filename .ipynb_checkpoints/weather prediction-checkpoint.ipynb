{
 "cells": [
  {
   "cell_type": "code",
   "execution_count": 113,
   "metadata": {},
   "outputs": [],
   "source": [
    "import numpy as np\n",
    "import pandas as pd\n",
    "from sklearn.neighbors import KNeighborsClassifier\n",
    "df = pd.read_csv (r'C:\\Users\\khaldoun\\Desktop\\Data 2015 to 2019.csv')\n",
    "\n"
   ]
  },
  {
   "cell_type": "code",
   "execution_count": 114,
   "metadata": {},
   "outputs": [],
   "source": [
    "#  load data \n",
    "df = pd.read_csv (r'C:\\Users\\khaldoun\\Desktop\\Data 2015 to 2019.csv')\n",
    "\n",
    "#converdata to dataframe \n",
    "data = np.array(df)\n"
   ]
  },
  {
   "cell_type": "code",
   "execution_count": 115,
   "metadata": {},
   "outputs": [],
   "source": [
    "# in this part I will organize the data data in a way that each raw has the temprature of the day in addtion to the temprature of the 8 days before it.\n",
    "# the result will be a list of lists ( each list have 8 items)\n",
    "training_data = []\n",
    "l= []\n",
    "for i in range(1085):\n",
    "    for j in range(8):\n",
    "        l.append(int(data[i+j][1]))\n",
    "    training_data.insert(i,l)\n",
    "    l=[]\n",
    "        \n",
    "   "
   ]
  },
  {
   "cell_type": "code",
   "execution_count": 116,
   "metadata": {},
   "outputs": [],
   "source": [
    "# Covert list to an array for easy manipulation \n",
    "\n",
    "final_data = np.array(training_data)\n"
   ]
  },
  {
   "cell_type": "code",
   "execution_count": null,
   "metadata": {},
   "outputs": [],
   "source": []
  },
  {
   "cell_type": "code",
   "execution_count": 117,
   "metadata": {},
   "outputs": [],
   "source": [
    "# in this part I will split the data into training data and results data. the result will be the last day and the training will be the 7 days before\n",
    "results = final_data[:,-1]\n",
    "desc = final_data[:,0:-1]"
   ]
  },
  {
   "cell_type": "code",
   "execution_count": 118,
   "metadata": {},
   "outputs": [
    {
     "data": {
      "text/plain": [
       "KNeighborsClassifier(n_neighbors=3, p=7)"
      ]
     },
     "execution_count": 118,
     "metadata": {},
     "output_type": "execute_result"
    }
   ],
   "source": [
    "# in this part I prepare the data in a matrix to feed it to the predictive AI . \n",
    "\n",
    "#results = results.reshape(-1,1)\n",
    "#desc = desc.reshape(1085,7)\n",
    "\n",
    "results = pd.Series(np.array(results))\n",
    "# intiate the AI \n",
    "neigh = KNeighborsClassifier(n_neighbors=3, p = 7)\n",
    "\n",
    "# train the AI \n",
    "\n",
    "neigh.fit(desc, results)"
   ]
  },
  {
   "cell_type": "code",
   "execution_count": null,
   "metadata": {},
   "outputs": [],
   "source": [
    "\n"
   ]
  },
  {
   "cell_type": "code",
   "execution_count": null,
   "metadata": {},
   "outputs": [],
   "source": []
  },
  {
   "cell_type": "code",
   "execution_count": null,
   "metadata": {},
   "outputs": [],
   "source": []
  },
  {
   "cell_type": "code",
   "execution_count": null,
   "metadata": {},
   "outputs": [],
   "source": []
  },
  {
   "cell_type": "code",
   "execution_count": null,
   "metadata": {},
   "outputs": [],
   "source": []
  }
 ],
 "metadata": {
  "kernelspec": {
   "display_name": "Python 3",
   "language": "python",
   "name": "python3"
  },
  "language_info": {
   "codemirror_mode": {
    "name": "ipython",
    "version": 3
   },
   "file_extension": ".py",
   "mimetype": "text/x-python",
   "name": "python",
   "nbconvert_exporter": "python",
   "pygments_lexer": "ipython3",
   "version": "3.8.3"
  }
 },
 "nbformat": 4,
 "nbformat_minor": 4
}
