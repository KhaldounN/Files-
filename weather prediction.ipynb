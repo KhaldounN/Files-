{
 "cells": [
  {
   "cell_type": "code",
   "execution_count": 123,
   "metadata": {},
   "outputs": [],
   "source": [
    "import numpy as np\n",
    "import pandas as pd\n",
    "from sklearn.neighbors import KNeighborsClassifier\n",
    "data = pd.read_csv('dataexport_20200921T130310.csv')\n",
    "\n"
   ]
  },
  {
   "cell_type": "code",
   "execution_count": 204,
   "metadata": {},
   "outputs": [
    {
     "data": {
      "text/plain": [
       "KNeighborsClassifier(n_neighbors=1, p=7)"
      ]
     },
     "execution_count": 204,
     "metadata": {},
     "output_type": "execute_result"
    }
   ],
   "source": [
    "date = []\n",
    "\n",
    "#data -> Raining & Snow & Basel Temperature [2 m elevation corrected] mean & cloud_cover_low\n",
    "    \n",
    "for i,d in enumerate((data[\"location\"])):\n",
    "    \n",
    "    if d.startswith(\"2015\") or d.startswith(\"2016\") or d.startswith(\"2017\") or d.startswith(\"2018\") or d.startswith(\"2019\"):\n",
    "        date.append([d[:-5],float(data[\"Basel.9\"][i]),float(data[\"Basel.10\"][i]),float(data[\"Basel.2\"][i]),float(data[\"Basel.14\"][i])]) # to remove T0000 things [:-5]\n",
    "        \n",
    "       # in this part I will organize the data data in a way that each raw has the temprature of the day in addtion to the temprature of the 8 days before it.\n",
    "# the result will be a list of lists ( each list have 8 items)\n",
    "rain_data = []\n",
    "l= []\n",
    "\n",
    "for i in range(int(len(date)-8)):\n",
    "    for j in range(8):\n",
    "        l.append(int((date[i+j][3])))\n",
    "    rain_data.insert(i,l)\n",
    "    l=[]\n",
    "         \n",
    "rain_final = np.array(rain_data)\n",
    "\n",
    "# Covert list to an array for easy manipulation \n",
    "rain_final = np.array(rain_data)\n",
    "\n",
    "# in this part I will split the data into training data and results data. the result will be the last day and the training will be the 7 days before\n",
    "results = rain_final[:,-1]\n",
    "desc = rain_final[:,0:-1]\n",
    "\n",
    "\n",
    "# intiate the AI \n",
    "neigh = KNeighborsClassifier(n_neighbors=1,p=7)\n",
    "\n",
    "# train the AI \n",
    "\n",
    "neigh.fit(desc, results)\n",
    "\n",
    "# now I need to learn how use the AI XD "
   ]
  },
  {
   "cell_type": "code",
   "execution_count": 225,
   "metadata": {},
   "outputs": [],
   "source": [
    "class Weather_prediction():\n",
    "    def __init__(self,time):\n",
    "        self.time = self\n",
    "        self.input = self.get_weather_7days(time)\n",
    "    def get_weather_7days(self,time):\n",
    "        time = 0 \n",
    "        seven_days = []\n",
    "        for i in range(int(len(date))):\n",
    "            if i == date[i][1]:\n",
    "                time = i \n",
    "        print(time)\n",
    "        for k in reversed(range(8)):\n",
    "            seven_days.append(date[time - k][3])\n",
    "        return seven_days\n",
    "    def predict_weather_for(time):\n",
    "        return(neigh.predict(get_weather_7days(time)))\n",
    "            \n",
    "            \n",
    "        "
   ]
  },
  {
   "cell_type": "code",
   "execution_count": 226,
   "metadata": {},
   "outputs": [
    {
     "name": "stdout",
     "output_type": "stream",
     "text": [
      "0\n"
     ]
    }
   ],
   "source": [
    "a2 = Weather_prediction(20150630)"
   ]
  },
  {
   "cell_type": "code",
   "execution_count": 227,
   "metadata": {},
   "outputs": [
    {
     "data": {
      "text/plain": [
       "[6.964695,\n",
       " 5.244695,\n",
       " 7.720112,\n",
       " 4.553861,\n",
       " 1.3801118,\n",
       " 3.3171952,\n",
       " 5.3063617,\n",
       " 0.37136194]"
      ]
     },
     "execution_count": 227,
     "metadata": {},
     "output_type": "execute_result"
    }
   ],
   "source": [
    "a2.input"
   ]
  },
  {
   "cell_type": "code",
   "execution_count": 216,
   "metadata": {},
   "outputs": [
    {
     "data": {
      "text/plain": [
       "['20150630', 0.0, 0.0, 24.318445, 0.0]"
      ]
     },
     "execution_count": 216,
     "metadata": {},
     "output_type": "execute_result"
    }
   ],
   "source": [
    "date[180]"
   ]
  },
  {
   "cell_type": "code",
   "execution_count": 217,
   "metadata": {},
   "outputs": [
    {
     "name": "stdout",
     "output_type": "stream",
     "text": [
      "14.926362\n",
      "16.340946\n",
      "19.583447\n",
      "21.575111\n",
      "21.702196\n",
      "20.259695\n",
      "23.037195\n",
      "24.318445\n"
     ]
    }
   ],
   "source": [
    "for i in reversed(range(8)):\n",
    "    print(date[180 - i ][3])\n"
   ]
  },
  {
   "cell_type": "code",
   "execution_count": 176,
   "metadata": {},
   "outputs": [
    {
     "data": {
      "text/plain": [
       "array([9])"
      ]
     },
     "execution_count": 176,
     "metadata": {},
     "output_type": "execute_result"
    }
   ],
   "source": []
  },
  {
   "cell_type": "code",
   "execution_count": null,
   "metadata": {},
   "outputs": [],
   "source": []
  },
  {
   "cell_type": "code",
   "execution_count": null,
   "metadata": {},
   "outputs": [],
   "source": []
  }
 ],
 "metadata": {
  "kernelspec": {
   "display_name": "Python 3",
   "language": "python",
   "name": "python3"
  },
  "language_info": {
   "codemirror_mode": {
    "name": "ipython",
    "version": 3
   },
   "file_extension": ".py",
   "mimetype": "text/x-python",
   "name": "python",
   "nbconvert_exporter": "python",
   "pygments_lexer": "ipython3",
   "version": "3.8.3"
  }
 },
 "nbformat": 4,
 "nbformat_minor": 4
}
