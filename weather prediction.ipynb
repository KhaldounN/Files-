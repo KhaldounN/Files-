{
 "cells": [
  {
   "cell_type": "code",
   "execution_count": 123,
   "metadata": {},
   "outputs": [],
   "source": [
    "import numpy as np\n",
    "import pandas as pd\n",
    "from sklearn.neighbors import KNeighborsClassifier\n",
    "data = pd.read_csv('dataexport_20200921T130310.csv')\n",
    "\n"
   ]
  },
  {
   "cell_type": "code",
   "execution_count": 177,
   "metadata": {},
   "outputs": [
    {
     "data": {
      "text/plain": [
       "KNeighborsClassifier(n_neighbors=1, p=7)"
      ]
     },
     "execution_count": 177,
     "metadata": {},
     "output_type": "execute_result"
    }
   ],
   "source": [
    "date = []\n",
    "\n",
    "#data -> Raining & Snow & Basel Temperature [2 m elevation corrected] mean & cloud_cover_low\n",
    "    \n",
    "for i,d in enumerate((data[\"location\"])):\n",
    "    \n",
    "    if d.startswith(\"2015\") or d.startswith(\"2016\") or d.startswith(\"2017\") or d.startswith(\"2018\") or d.startswith(\"2019\"):\n",
    "        date.append([d[:-5],float(data[\"Basel.9\"][i]),float(data[\"Basel.10\"][i]),float(data[\"Basel.2\"][i]),float(data[\"Basel.14\"][i])]) # to remove T0000 things [:-5]\n",
    "        \n",
    "       # in this part I will organize the data data in a way that each raw has the temprature of the day in addtion to the temprature of the 8 days before it.\n",
    "# the result will be a list of lists ( each list have 8 items)\n",
    "rain_data = []\n",
    "l= []\n",
    "\n",
    "for i in range(int(len(date)-8)):\n",
    "    for j in range(8):\n",
    "        l.append(int((date[i+j][3])))\n",
    "    rain_data.insert(i,l)\n",
    "    l=[]\n",
    "         \n",
    "rain_final = np.array(rain_data)\n",
    "\n",
    "# Covert list to an array for easy manipulation \n",
    "rain_final = np.array(rain_data)\n",
    "\n",
    "# in this part I will split the data into training data and results data. the result will be the last day and the training will be the 7 days before\n",
    "results = rain_final[:,-1]\n",
    "desc = rain_final[:,0:-1]\n",
    "\n",
    "\n",
    "# intiate the AI \n",
    "neigh = KNeighborsClassifier(n_neighbors=1,p=7)\n",
    "\n",
    "# train the AI \n",
    "\n",
    "neigh.fit(desc, results)\n",
    "\n",
    "# now I need to learn how use the AI XD "
   ]
  },
  {
   "cell_type": "code",
   "execution_count": 164,
   "metadata": {},
   "outputs": [],
   "source": []
  },
  {
   "cell_type": "code",
   "execution_count": 166,
   "metadata": {},
   "outputs": [],
   "source": []
  },
  {
   "cell_type": "code",
   "execution_count": 167,
   "metadata": {},
   "outputs": [],
   "source": []
  },
  {
   "cell_type": "code",
   "execution_count": 168,
   "metadata": {},
   "outputs": [],
   "source": []
  },
  {
   "cell_type": "code",
   "execution_count": 169,
   "metadata": {},
   "outputs": [
    {
     "data": {
      "text/plain": [
       "KNeighborsClassifier(n_neighbors=1, p=7)"
      ]
     },
     "execution_count": 169,
     "metadata": {},
     "output_type": "execute_result"
    }
   ],
   "source": [
    "\n"
   ]
  },
  {
   "cell_type": "code",
   "execution_count": 176,
   "metadata": {},
   "outputs": [
    {
     "data": {
      "text/plain": [
       "array([9])"
      ]
     },
     "execution_count": 176,
     "metadata": {},
     "output_type": "execute_result"
    }
   ],
   "source": [
    "neigh.predict([[2, 3 ,5,6, 9, 11,12]])"
   ]
  },
  {
   "cell_type": "code",
   "execution_count": null,
   "metadata": {},
   "outputs": [],
   "source": []
  },
  {
   "cell_type": "code",
   "execution_count": null,
   "metadata": {},
   "outputs": [],
   "source": []
  }
 ],
 "metadata": {
  "kernelspec": {
   "display_name": "Python 3",
   "language": "python",
   "name": "python3"
  },
  "language_info": {
   "codemirror_mode": {
    "name": "ipython",
    "version": 3
   },
   "file_extension": ".py",
   "mimetype": "text/x-python",
   "name": "python",
   "nbconvert_exporter": "python",
   "pygments_lexer": "ipython3",
   "version": "3.8.3"
  }
 },
 "nbformat": 4,
 "nbformat_minor": 4
}
