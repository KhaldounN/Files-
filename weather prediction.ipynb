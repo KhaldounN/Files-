{
 "cells": [
  {
   "cell_type": "code",
   "execution_count": 172,
   "metadata": {},
   "outputs": [],
   "source": [
    "import numpy as np\n",
    "import pandas as pd\n",
    "df = pd.read_csv (r'C:\\Users\\khaldoun\\Desktop\\Data 2015 to 2019.csv')\n",
    "my_dic = df\n",
    "from sklearn.neighbors import KNeighborsClassifier\n",
    "import tkinter as tk\n",
    "import xlsxwriter\n",
    "\n",
    "import tkinter as tk\n",
    "from tkinter import filedialog\n",
    "from pandas import DataFrame"
   ]
  },
  {
   "cell_type": "code",
   "execution_count": 175,
   "metadata": {},
   "outputs": [
    {
     "data": {
      "text/plain": [
       "1095"
      ]
     },
     "execution_count": 175,
     "metadata": {},
     "output_type": "execute_result"
    }
   ],
   "source": [
    "data = np.array(df)\n",
    "\n",
    "len(data)"
   ]
  },
  {
   "cell_type": "code",
   "execution_count": 181,
   "metadata": {},
   "outputs": [],
   "source": [
    "tdata = []\n",
    "l= []\n",
    "for i in range(1085):\n",
    "    for j in range(8):\n",
    "        l.append(data[i+j][1])\n",
    "    tdata.insert(i,l)\n",
    "    l=[]\n",
    "        \n",
    "\n",
    "    "
   ]
  },
  {
   "cell_type": "code",
   "execution_count": 157,
   "metadata": {},
   "outputs": [],
   "source": [
    "final_data = np.array(tdata)\n"
   ]
  },
  {
   "cell_type": "code",
   "execution_count": 204,
   "metadata": {},
   "outputs": [
    {
     "name": "stdout",
     "output_type": "stream",
     "text": [
      "0.31094524\n"
     ]
    }
   ],
   "source": [
    "final_data = np.reshape(final_data ,(1000,8))\n",
    "print(final_data[0][7])"
   ]
  },
  {
   "cell_type": "code",
   "execution_count": 207,
   "metadata": {},
   "outputs": [],
   "source": [
    "results = final_data[:,-1]"
   ]
  },
  {
   "cell_type": "code",
   "execution_count": 210,
   "metadata": {},
   "outputs": [],
   "source": [
    "desc = final_data[:,0:-1]"
   ]
  },
  {
   "cell_type": "code",
   "execution_count": 211,
   "metadata": {},
   "outputs": [
    {
     "data": {
      "text/plain": [
       "array([[ 3.5134451 ,  2.1226118 ,  0.19927861, ..., -0.25197133,\n",
       "        -3.1298878 , -2.8848884 ],\n",
       "       [ 2.1226118 ,  0.19927861,  1.7384453 , ..., -3.1298878 ,\n",
       "        -2.8848884 ,  0.31094524],\n",
       "       [ 0.19927861,  1.7384453 , -0.25197133, ..., -2.8848884 ,\n",
       "         0.31094524,  0.14427866],\n",
       "       ...,\n",
       "       [15.985947  , 17.627197  , 17.360945  , ..., 18.237196  ,\n",
       "        17.027193  , 17.619698  ],\n",
       "       [17.627197  , 17.360945  , 16.030113  , ..., 17.027193  ,\n",
       "        17.619698  , 13.94678   ],\n",
       "       [17.360945  , 16.030113  , 18.237196  , ..., 17.619698  ,\n",
       "        13.94678   , 10.299695  ]])"
      ]
     },
     "execution_count": 211,
     "metadata": {},
     "output_type": "execute_result"
    }
   ],
   "source": []
  },
  {
   "cell_type": "code",
   "execution_count": null,
   "metadata": {},
   "outputs": [],
   "source": []
  }
 ],
 "metadata": {
  "kernelspec": {
   "display_name": "Python 3",
   "language": "python",
   "name": "python3"
  },
  "language_info": {
   "codemirror_mode": {
    "name": "ipython",
    "version": 3
   },
   "file_extension": ".py",
   "mimetype": "text/x-python",
   "name": "python",
   "nbconvert_exporter": "python",
   "pygments_lexer": "ipython3",
   "version": "3.8.3"
  }
 },
 "nbformat": 4,
 "nbformat_minor": 4
}
