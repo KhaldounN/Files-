{
 "cells": [
  {
   "cell_type": "code",
   "execution_count": 132,
   "metadata": {},
   "outputs": [],
   "source": [
    "import numpy as np\n",
    "import pandas as pd\n",
    "from sklearn.neighbors import KNeighborsClassifier\n",
    "data = pd.read_csv('dataexport_20200921T130310.csv')\n",
    "import math\n"
   ]
  },
  {
   "cell_type": "code",
   "execution_count": 133,
   "metadata": {
    "scrolled": true
   },
   "outputs": [],
   "source": [
    "\n",
    "date = []\n",
    "for i,d in enumerate((data[\"location\"])):\n",
    "    if d.startswith(\"2015\") or d.startswith(\"2016\") or d.startswith(\"2017\") or d.startswith(\"2018\") or d.startswith(\"2019\"):\n",
    "        date.append([d[:-5],float(data[\"Basel.9\"][i]),float(data[\"Basel.10\"][i]),float(data[\"Basel.2\"][i]),float(data[\"Basel.14\"][i])]) # to remove T0000 things [:-5]\n",
    "temp_data = []\n",
    "rain_data = []\n",
    "claud_data = []\n",
    "l_temp = []\n",
    "l_rain = []\n",
    "l_claud = []\n",
    "for i in range(int(len(date)-8)):\n",
    "    for j in range(8):\n",
    "        l_temp.append(int((date[i+j][3])))\n",
    "        l_rain.append(int((date[i+j][1])))\n",
    "        l_claud.append(int((date[i+j][4])))\n",
    "    temp_data.insert(i,l_temp)\n",
    "    rain_data.insert(i,l_rain)\n",
    "    claud_data.insert(i,l_claud)\n",
    "    l_temp = []\n",
    "    l_rain = []\n",
    "    l_claud = []\n",
    "    temp_final = np.array(temp_data)\n",
    "    rain_final = np.array(rain_data)\n",
    "    claud_final = np.array(claud_data)\n",
    "    \n",
    "    temp_results = temp_final[:1700,-1]\n",
    "    temp_desc = temp_final[:1700,0:-1]\n",
    "    \n",
    "    rain_results = rain_final[:1700,-1]\n",
    "    rain_desc = rain_final[:1700,0:-1]\n",
    "    \n",
    "    claud_results = claud_final[:1700,-1]\n",
    "    claud_desc = claud_final[:1700,0:-1]\n",
    "    \n",
    "    temp_KNN, rain_KNN, claud_KNN  = KNeighborsClassifier(n_neighbors=10,p=7) ,KNeighborsClassifier(n_neighbors=10,p=7),KNeighborsClassifier(n_neighbors=10,p=7)\n",
    "    temp_KNN.fit(temp_desc, temp_results)\n",
    "    rain_KNN.fit(rain_desc, rain_results)\n",
    "    claud_KNN.fit(claud_desc, claud_results)\n",
    "\n"
   ]
  },
  {
   "cell_type": "code",
   "execution_count": 134,
   "metadata": {},
   "outputs": [],
   "source": [
    "class Weather_prediction():\n",
    "    def __init__(self,ai_temp,ai_rain,ai_claud):\n",
    "        self.ai_temp = ai_temp\n",
    "        self.ai_rain = ai_rain       \n",
    "        self.ai_claud = ai_claud    \n",
    "    def get_weather_7days(self,time):\n",
    "        Local_holder = 0 \n",
    "        seven_days_temp = []\n",
    "        seven_days_rain = []\n",
    "        seven_days_claud = []\n",
    "        for i in range(int(len(date))):\n",
    "            if time == date[i][0]:\n",
    "                Local_holder = i \n",
    "        for k in reversed(range(1,8)):\n",
    "            seven_days_temp.append(date[Local_holder - k][3])\n",
    "            seven_days_rain.append(date[Local_holder - k][1])\n",
    "            seven_days_claud.append(date[Local_holder - k][4])\n",
    "        return seven_days_temp , seven_days_rain , seven_days_claud\n",
    "    def predict_weather_for(self,time):\n",
    "        temp , rain , claud = self.get_weather_7days(time)\n",
    "        return [self.ai_temp.predict([temp])],[self.ai_rain.predict([rain])],[self.ai_claud.predict([claud])]\n",
    "        \n",
    "            \n",
    "            \n",
    "        "
   ]
  },
  {
   "cell_type": "code",
   "execution_count": 135,
   "metadata": {},
   "outputs": [],
   "source": [
    "data = pd.read_csv('dataexport_20200921T130310.csv')\n",
    "\n",
    "AX = Weather_prediction( temp_KNN , rain_KNN , claud_KNN)\n"
   ]
  },
  {
   "cell_type": "code",
   "execution_count": 136,
   "metadata": {},
   "outputs": [
    {
     "data": {
      "text/plain": [
       "([array([6])], [array([0])], [array([71])])"
      ]
     },
     "execution_count": 136,
     "metadata": {},
     "output_type": "execute_result"
    }
   ],
   "source": [
    "AX.predict_weather_for('20150110')"
   ]
  },
  {
   "cell_type": "code",
   "execution_count": 137,
   "metadata": {},
   "outputs": [
    {
     "data": {
      "text/plain": [
       "['20150110', 0.0, 0.0, 13.345113, 44.958332]"
      ]
     },
     "execution_count": 137,
     "metadata": {},
     "output_type": "execute_result"
    }
   ],
   "source": [
    "date[9]"
   ]
  },
  {
   "cell_type": "code",
   "execution_count": 164,
   "metadata": {},
   "outputs": [],
   "source": [
    "temp_results = temp_final[1700:,-1]\n",
    "temp_desc = temp_final[1700:,0:-1]\n",
    "\n",
    "rain_results = rain_final[1700:,-1]\n",
    "rain_desc = rain_final[1700:,0:-1]\n",
    "    \n",
    "claud_results = claud_final[1700:,-1]\n",
    "claud_desc = claud_final[1700:,0:-1]\n",
    "\n",
    "temp_pred = (temp_KNN.predict(temp_desc))\n",
    "rain_pred = (rain_KNN.predict(rain_desc))\n",
    "claud_pred = claud_KNN.predict(claud_desc)"
   ]
  },
  {
   "cell_type": "code",
   "execution_count": 178,
   "metadata": {},
   "outputs": [
    {
     "name": "stdout",
     "output_type": "stream",
     "text": [
      "1\n",
      "0.5677966101694916\n",
      "2\n",
      "0.6864406779661016\n",
      "3\n",
      "0.7033898305084746\n",
      "4\n",
      "0.711864406779661\n",
      "5\n",
      "0.711864406779661\n",
      "6\n",
      "0.711864406779661\n",
      "7\n",
      "0.711864406779661\n",
      "8\n",
      "0.711864406779661\n",
      "9\n",
      "0.711864406779661\n",
      "10\n",
      "0.711864406779661\n",
      "11\n",
      "0.711864406779661\n",
      "12\n",
      "0.711864406779661\n",
      "13\n",
      "0.711864406779661\n",
      "14\n",
      "0.7203389830508474\n",
      "15\n",
      "0.711864406779661\n",
      "16\n",
      "0.711864406779661\n",
      "17\n",
      "0.711864406779661\n",
      "18\n",
      "0.711864406779661\n",
      "19\n",
      "0.711864406779661\n",
      "20\n",
      "0.711864406779661\n",
      "21\n",
      "0.711864406779661\n",
      "22\n",
      "0.711864406779661\n",
      "23\n",
      "0.711864406779661\n",
      "24\n",
      "0.711864406779661\n",
      "25\n",
      "0.711864406779661\n",
      "26\n",
      "0.711864406779661\n",
      "27\n",
      "0.711864406779661\n",
      "28\n",
      "0.711864406779661\n",
      "29\n",
      "0.711864406779661\n"
     ]
    }
   ],
   "source": [
    "for i in range(1,30):\n",
    "    temp_results = temp_final[:1700,-1]\n",
    "    temp_desc = temp_final[:1700,0:-1]\n",
    "    \n",
    "    rain_results = rain_final[:1700,-1]\n",
    "    rain_desc = rain_final[:1700,0:-1]\n",
    "    \n",
    "    claud_results = claud_final[:1700,-1]\n",
    "    claud_desc = claud_final[:1700,0:-1]\n",
    "    \n",
    "    temp_KNN, rain_KNN, claud_KNN  = KNeighborsClassifier(n_neighbors=i,p=7) ,KNeighborsClassifier(n_neighbors=i,p=7),KNeighborsClassifier(n_neighbors=i,p=7)\n",
    "    temp_KNN.fit(temp_desc, temp_results)\n",
    "    rain_KNN.fit(rain_desc, rain_results)\n",
    "    claud_KNN.fit(claud_desc, claud_results)\n",
    "    temp_tresults = temp_final[1700:,-1]\n",
    "    temp_tdesc = temp_final[1700:,0:-1]\n",
    "    rain_tresults = rain_final[1700:,-1]\n",
    "    rain_tdesc = rain_final[1700:,0:-1]\n",
    "    claud_tresults = claud_final[1700:,-1]\n",
    "    claud_tdesc = claud_final[1700:,0:-1]\n",
    "    print(i)\n",
    "    #print(temp_KNN.score(temp_tdesc, temp_tresults))\n",
    "    print(rain_KNN.score(rain_tdesc , rain_tresults))\n",
    "    #print(claud_KNN.score(claud_tdesc , claud_tresults))\n",
    "    "
   ]
  },
  {
   "cell_type": "code",
   "execution_count": null,
   "metadata": {},
   "outputs": [],
   "source": [
    "x = ro.round((temp_results,1)"
   ]
  },
  {
   "cell_type": "markdown",
   "metadata": {},
   "source": [
    "temp_results"
   ]
  },
  {
   "cell_type": "code",
   "execution_count": null,
   "metadata": {},
   "outputs": [],
   "source": []
  },
  {
   "cell_type": "code",
   "execution_count": null,
   "metadata": {},
   "outputs": [],
   "source": [
    "round.temp_results/10"
   ]
  },
  {
   "cell_type": "code",
   "execution_count": null,
   "metadata": {},
   "outputs": [],
   "source": [
    "\n",
    "x = math.round()"
   ]
  },
  {
   "cell_type": "code",
   "execution_count": 172,
   "metadata": {},
   "outputs": [
    {
     "name": "stdout",
     "output_type": "stream",
     "text": [
      "[18 21 19 17 14 14 15 14 14 16 16 18 23 23 17 15 15 15 14 18 16 18 16 16\n",
      " 19 19 16 16 17 16 14 11 13 13  9 13 12 12 10 16 16 18 16 16 14 14 14 16\n",
      " 17 13 14 14 14 14 14 11 11  9  9 13 13 13 11 11  9  9  9  8  6  6  5  5\n",
      "  5  8  4  5  4  3  4  4  4  3  8  9 10  9 10  8  7  6  1  1  3  3  4  6\n",
      "  8  8  3  5  6  2  4 11  8  6  9  8  7  5  6  6  5  5  5  8  5  2]\n",
      "118\n"
     ]
    }
   ],
   "source": [
    "print(temp_pred)\n",
    "print(len(temp_results))"
   ]
  },
  {
   "cell_type": "code",
   "execution_count": 177,
   "metadata": {},
   "outputs": [
    {
     "data": {
      "text/plain": [
       "35.91525423728814"
      ]
     },
     "execution_count": 177,
     "metadata": {},
     "output_type": "execute_result"
    }
   ],
   "source": [
    "sum(abs(claud_pred - claud_results))/(len(temp_results))\n"
   ]
  },
  {
   "cell_type": "code",
   "execution_count": null,
   "metadata": {},
   "outputs": [],
   "source": [
    "\n"
   ]
  },
  {
   "cell_type": "code",
   "execution_count": null,
   "metadata": {},
   "outputs": [],
   "source": []
  },
  {
   "cell_type": "code",
   "execution_count": null,
   "metadata": {},
   "outputs": [],
   "source": []
  },
  {
   "cell_type": "code",
   "execution_count": null,
   "metadata": {},
   "outputs": [],
   "source": []
  },
  {
   "cell_type": "code",
   "execution_count": null,
   "metadata": {},
   "outputs": [],
   "source": []
  }
 ],
 "metadata": {
  "kernelspec": {
   "display_name": "Python 3",
   "language": "python",
   "name": "python3"
  },
  "language_info": {
   "codemirror_mode": {
    "name": "ipython",
    "version": 3
   },
   "file_extension": ".py",
   "mimetype": "text/x-python",
   "name": "python",
   "nbconvert_exporter": "python",
   "pygments_lexer": "ipython3",
   "version": "3.8.3"
  }
 },
 "nbformat": 4,
 "nbformat_minor": 4
}
