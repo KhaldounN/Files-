{
 "cells": [
  {
   "cell_type": "code",
   "execution_count": 444,
   "metadata": {},
   "outputs": [],
   "source": [
    "import numpy as np\n",
    "import pandas as pd\n",
    "from sklearn.neighbors import KNeighborsClassifier\n",
    "data = pd.read_csv('dataexport_20200921T130310.csv')\n",
    "\n"
   ]
  },
  {
   "cell_type": "code",
   "execution_count": 459,
   "metadata": {
    "scrolled": true
   },
   "outputs": [
    {
     "data": {
      "text/plain": [
       "KNeighborsClassifier(n_neighbors=1, p=7)"
      ]
     },
     "execution_count": 459,
     "metadata": {},
     "output_type": "execute_result"
    }
   ],
   "source": [
    "\n",
    "\n",
    "###################Train AI for Temprature predicition########################################################################\n",
    "##############################################################################################################################\n",
    "date = []\n",
    "\n",
    "#data -> Raining & Snow & Basel Temperature [2 m elevation corrected] mean & cloud_cover_low  \n",
    "for i,d in enumerate((data[\"location\"])):   \n",
    "    if d.startswith(\"2015\") or d.startswith(\"2016\") or d.startswith(\"2017\") or d.startswith(\"2018\") or d.startswith(\"2019\"):\n",
    "        date.append([d[:-5],float(data[\"Basel.9\"][i]),float(data[\"Basel.10\"][i]),float(data[\"Basel.2\"][i]),float(data[\"Basel.14\"][i])]) # to remove T0000 things [:-5]\n",
    "        \n",
    "       # in this part I will organize the data data in a way that each raw has the temprature of the day in addtion to the temprature of the 8 days before it.\n",
    "# the result will be a list of lists ( each list have 8 items)\n",
    "temp_data = []\n",
    "l= []\n",
    "\n",
    "for i in range(int(len(date)-8)):\n",
    "    for j in range(8):\n",
    "        l.append(int((date[i+j][3])))\n",
    "    temp_data.insert(i,l)\n",
    "    l=[]\n",
    "       \n",
    "temp_final = np.array(temp_data)\n",
    "\n",
    "# in this part I will split the data into training data and results data. the result will be the last day and the training will be the 7 days before\n",
    "temp_results = temp_final[:,-1]\n",
    "temp_desc = temp_final[:,0:-1]\n",
    "# intiate the AI \n",
    "temp_KNN = KNeighborsClassifier(n_neighbors=1,p=7)\n",
    "# train the AI \n",
    "temp_KNN.fit(temp_desc, temp_results)\n",
    "\n",
    "\n",
    "###################Train AI for Rain predicition########################################################################\n",
    "##############################################################################################################################\n",
    "\n",
    "# in this part I will organize the data data in a way that each raw has the temprature of the day in addtion to the temprature of the 8 days before it.\n",
    "# the result will be a list of lists ( each list have 8 items)\n",
    "rain_data = []\n",
    "l= []\n",
    "\n",
    "for i in range(int(len(date)-8)):\n",
    "    for j in range(8):\n",
    "        l.append(int((date[i+j][1])))\n",
    "    rain_data.insert(i,l)\n",
    "    l=[]\n",
    "       \n",
    "rain_final = np.array(rain_data)\n",
    "# Covert list to an array for easy manipulation \n",
    "rain_final = np.array(rain_data)\n",
    "# in this part I will split the data into training data and results data. the result will be the last day and the training will be the 7 days before\n",
    "rain_results = rain_final[:,-1]\n",
    "rain_desc = rain_final[:,0:-1]\n",
    "# intiate the AI \n",
    "rain_KNN = KNeighborsClassifier(n_neighbors=1,p=7)\n",
    "# train the AI \n",
    "rain_KNN.fit(rain_desc, rain_results)\n",
    "\n",
    "\n",
    "###################Train AI for Rain predicition########################################################################\n",
    "##############################################################################################################################\n",
    "\n",
    "# in this part I will organize the data data in a way that each raw has the temprature of the day in addtion to the temprature of the 8 days before it.\n",
    "# the result will be a list of lists ( each list have 8 items)\n",
    "claud_data = []\n",
    "l= []\n",
    "\n",
    "for i in range(int(len(date)-8)):\n",
    "    for j in range(8):\n",
    "        l.append(int((date[i+j][4])))\n",
    "    claud_data.insert(i,l)\n",
    "    l=[]\n",
    "       \n",
    "claud_final = np.array(claud_data)\n",
    "# Covert list to an array for easy manipulation \n",
    "claud_final = np.array(claud_data)\n",
    "# in this part I will split the data into training data and results data. the result will be the last day and the training will be the 7 days before\n",
    "claud_results = claud_final[:,-1]\n",
    "claud_desc = claud_final[:,0:-1]\n",
    "# intiate the AI \n",
    "claud_KNN = KNeighborsClassifier(n_neighbors=1,p=7)\n",
    "# train the AI \n",
    "claud_KNN.fit(claud_desc, claud_results)\n",
    "\n"
   ]
  },
  {
   "cell_type": "code",
   "execution_count": 460,
   "metadata": {},
   "outputs": [],
   "source": [
    "class Weather_prediction():\n",
    "    def __init__(self,ai_temp,ai_rain,ai_claud):\n",
    "        self.ai_temp = ai_temp\n",
    "        self.ai_rain = ai_rain       \n",
    "        self.ai_claud = ai_claud    \n",
    "    def get_weather_7days(self,time):\n",
    "        Local_holder = 0 \n",
    "        seven_days_temp = []\n",
    "        seven_days_rain = []\n",
    "        seven_days_claud = []\n",
    "        for i in range(int(len(date))):\n",
    "            if time == date[i][0]:\n",
    "                Local_holder = i \n",
    "        for k in reversed(range(1,8)):\n",
    "            seven_days_temp.append(date[Local_holder - k][3])\n",
    "            seven_days_rain.append(date[Local_holder - k][1])\n",
    "            seven_days_claud.append(date[Local_holder - k][4])\n",
    "        return seven_days_temp , seven_days_rain , seven_days_claud\n",
    "    def predict_weather_for(self,time):\n",
    "        temp , rain , claud = self.get_weather_7days(time)\n",
    "        return [self.ai_temp.predict([temp])],[self.ai_rain.predict([rain])],[self.ai_claud.predict([claud])]\n",
    "        \n",
    "            \n",
    "            \n",
    "        "
   ]
  },
  {
   "cell_type": "code",
   "execution_count": 461,
   "metadata": {},
   "outputs": [],
   "source": [
    "AX = Weather_prediction(temp_KNN , rain_KNN , claud_KNN)\n"
   ]
  },
  {
   "cell_type": "code",
   "execution_count": 462,
   "metadata": {},
   "outputs": [
    {
     "data": {
      "text/plain": [
       "([array([15])], [array([0])], [array([29])])"
      ]
     },
     "execution_count": 462,
     "metadata": {},
     "output_type": "execute_result"
    }
   ],
   "source": [
    "AX.predict_weather_for('20180415')"
   ]
  },
  {
   "cell_type": "code",
   "execution_count": 466,
   "metadata": {},
   "outputs": [
    {
     "data": {
      "text/plain": [
       "['20180725', 0.0, 0.0, 25.494696, 2.5]"
      ]
     },
     "execution_count": 466,
     "metadata": {},
     "output_type": "execute_result"
    }
   ],
   "source": [
    "date[1301]"
   ]
  },
  {
   "cell_type": "code",
   "execution_count": 467,
   "metadata": {},
   "outputs": [
    {
     "data": {
      "text/plain": [
       "([array([25])], [array([0])], [array([2])])"
      ]
     },
     "execution_count": 467,
     "metadata": {},
     "output_type": "execute_result"
    }
   ],
   "source": [
    "AX.predict_weather_for('20180725')"
   ]
  },
  {
   "cell_type": "code",
   "execution_count": null,
   "metadata": {},
   "outputs": [],
   "source": []
  },
  {
   "cell_type": "code",
   "execution_count": null,
   "metadata": {},
   "outputs": [],
   "source": []
  },
  {
   "cell_type": "code",
   "execution_count": null,
   "metadata": {},
   "outputs": [],
   "source": []
  },
  {
   "cell_type": "code",
   "execution_count": null,
   "metadata": {},
   "outputs": [],
   "source": []
  },
  {
   "cell_type": "code",
   "execution_count": null,
   "metadata": {},
   "outputs": [],
   "source": []
  },
  {
   "cell_type": "code",
   "execution_count": null,
   "metadata": {},
   "outputs": [],
   "source": []
  }
 ],
 "metadata": {
  "kernelspec": {
   "display_name": "Python 3",
   "language": "python",
   "name": "python3"
  },
  "language_info": {
   "codemirror_mode": {
    "name": "ipython",
    "version": 3
   },
   "file_extension": ".py",
   "mimetype": "text/x-python",
   "name": "python",
   "nbconvert_exporter": "python",
   "pygments_lexer": "ipython3",
   "version": "3.8.3"
  }
 },
 "nbformat": 4,
 "nbformat_minor": 4
}
