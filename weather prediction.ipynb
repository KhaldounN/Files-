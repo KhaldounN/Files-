{
 "cells": [
  {
   "cell_type": "code",
   "execution_count": 330,
   "metadata": {},
   "outputs": [],
   "source": [
    "import numpy as np\n",
    "import pandas as pd\n",
    "from sklearn.neighbors import KNeighborsClassifier\n",
    "data = pd.read_csv('dataexport_20200921T130310.csv')\n",
    "\n"
   ]
  },
  {
   "cell_type": "code",
   "execution_count": 331,
   "metadata": {},
   "outputs": [
    {
     "data": {
      "text/plain": [
       "KNeighborsClassifier(n_neighbors=1, p=7)"
      ]
     },
     "execution_count": 331,
     "metadata": {},
     "output_type": "execute_result"
    }
   ],
   "source": [
    "date = []\n",
    "\n",
    "#data -> Raining & Snow & Basel Temperature [2 m elevation corrected] mean & cloud_cover_low\n",
    "    \n",
    "for i,d in enumerate((data[\"location\"])):\n",
    "    \n",
    "    if d.startswith(\"2015\") or d.startswith(\"2016\") or d.startswith(\"2017\") or d.startswith(\"2018\") or d.startswith(\"2019\"):\n",
    "        date.append([d[:-5],float(data[\"Basel.9\"][i]),float(data[\"Basel.10\"][i]),float(data[\"Basel.2\"][i]),float(data[\"Basel.14\"][i])]) # to remove T0000 things [:-5]\n",
    "        \n",
    "       # in this part I will organize the data data in a way that each raw has the temprature of the day in addtion to the temprature of the 8 days before it.\n",
    "# the result will be a list of lists ( each list have 8 items)\n",
    "rain_data = []\n",
    "l= []\n",
    "\n",
    "for i in range(int(len(date)-8)):\n",
    "    for j in range(8):\n",
    "        l.append(int((date[i+j][3])))\n",
    "    rain_data.insert(i,l)\n",
    "    l=[]\n",
    "         \n",
    "rain_final = np.array(rain_data)\n",
    "\n",
    "# Covert list to an array for easy manipulation \n",
    "rain_final = np.array(rain_data)\n",
    "\n",
    "# in this part I will split the data into training data and results data. the result will be the last day and the training will be the 7 days before\n",
    "results = rain_final[:,-1]\n",
    "desc = rain_final[:,0:-1]\n",
    "\n",
    "\n",
    "# intiate the AI \n",
    "KNN = KNeighborsClassifier(n_neighbors=1,p=7)\n",
    "\n",
    "# train the AI \n",
    "\n",
    "KNN.fit(desc, results)\n",
    "\n",
    "# now I need to learn how use the AI XD "
   ]
  },
  {
   "cell_type": "code",
   "execution_count": 388,
   "metadata": {},
   "outputs": [],
   "source": [
    "class Weather_prediction():\n",
    "    def __init__(self,ai):\n",
    "        self.ai = ai \n",
    "    def get_weather_7days(self,time):\n",
    "        Local_holder = 0 \n",
    "        seven_days = []\n",
    "        for i in range(int(len(date))):\n",
    "            if time == date[i][0]:\n",
    "                Local_holder = i \n",
    "        for k in reversed(range(1,8)):\n",
    "            seven_days.append(date[Local_holder - k][3])\n",
    "        return seven_days \n",
    "    def predict_weather_for(self,time):\n",
    "        inp = self.get_weather_7days(time)\n",
    "        return(self.ai.predict([inp]))\n",
    "            \n",
    "            \n",
    "        "
   ]
  },
  {
   "cell_type": "code",
   "execution_count": 394,
   "metadata": {},
   "outputs": [
    {
     "name": "stdout",
     "output_type": "stream",
     "text": [
      "['20180413', 4.8999996, 0.0, 12.09053, 41.875]\n",
      "['20180414', 0.0, 0.0, 14.202611, 3.5]\n",
      "['20180415', 0.1, 0.0, 15.585528, 29.958334]\n"
     ]
    }
   ],
   "source": [
    "print(date[1198])\n",
    "print(date[1199])\n",
    "print(date[1200])"
   ]
  },
  {
   "cell_type": "code",
   "execution_count": 393,
   "metadata": {},
   "outputs": [
    {
     "data": {
      "text/plain": [
       "[15.808864, 13.915531, 11.723862, 11.473029, 13.199697, 12.09053, 14.202611]"
      ]
     },
     "execution_count": 393,
     "metadata": {},
     "output_type": "execute_result"
    }
   ],
   "source": [
    "ax.get_weather_7days('20180415')"
   ]
  },
  {
   "cell_type": "code",
   "execution_count": 390,
   "metadata": {},
   "outputs": [],
   "source": [
    "ax = Weather_prediction(KNN)\n"
   ]
  },
  {
   "cell_type": "code",
   "execution_count": 391,
   "metadata": {},
   "outputs": [
    {
     "data": {
      "text/plain": [
       "array([15])"
      ]
     },
     "execution_count": 391,
     "metadata": {},
     "output_type": "execute_result"
    }
   ],
   "source": [
    "ax.predict_weather_for('20180415')"
   ]
  },
  {
   "cell_type": "code",
   "execution_count": null,
   "metadata": {},
   "outputs": [],
   "source": []
  },
  {
   "cell_type": "code",
   "execution_count": null,
   "metadata": {},
   "outputs": [],
   "source": []
  },
  {
   "cell_type": "code",
   "execution_count": null,
   "metadata": {},
   "outputs": [],
   "source": []
  },
  {
   "cell_type": "code",
   "execution_count": null,
   "metadata": {},
   "outputs": [],
   "source": []
  },
  {
   "cell_type": "code",
   "execution_count": null,
   "metadata": {},
   "outputs": [],
   "source": []
  },
  {
   "cell_type": "code",
   "execution_count": null,
   "metadata": {},
   "outputs": [],
   "source": []
  }
 ],
 "metadata": {
  "kernelspec": {
   "display_name": "Python 3",
   "language": "python",
   "name": "python3"
  },
  "language_info": {
   "codemirror_mode": {
    "name": "ipython",
    "version": 3
   },
   "file_extension": ".py",
   "mimetype": "text/x-python",
   "name": "python",
   "nbconvert_exporter": "python",
   "pygments_lexer": "ipython3",
   "version": "3.8.3"
  }
 },
 "nbformat": 4,
 "nbformat_minor": 4
}
