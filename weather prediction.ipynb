{
 "cells": [
  {
   "cell_type": "code",
<<<<<<< Updated upstream
   "execution_count": 6,
=======
   "execution_count": 214,
>>>>>>> Stashed changes
   "metadata": {},
   "outputs": [],
   "source": [
    "\n",
    "import numpy as np\n",
    "import pandas as pd\n",
    "from sklearn.neighbors import KNeighborsClassifier\n",
    "df = pd.read_csv (r'C:\\Users\\khaldoun\\Desktop\\Data 2015 to 2019.csv')\n",
    "\n",
    "df1 = pd.read_csv (r'C:\\Users\\khaldoun\\Documents\\GitHub\\Weather-Prediction-\\dataexport_20200921T130310.csv')"
   ]
  },
  {
   "cell_type": "code",
<<<<<<< Updated upstream
   "execution_count": 7,
=======
   "execution_count": 217,
>>>>>>> Stashed changes
   "metadata": {},
   "outputs": [
    {
     "data": {
      "text/plain": [
       "array(['lat', '47.54694', '47.54694', '47.54694', '47.54694', '47.54694',\n",
       "       '47.54694', '47.54694', '47.54694', '47.54694', '47.54694',\n",
       "       '47.54694', '47.54694', '47.54694', '47.54694', '47.54694',\n",
       "       '47.54694', '47.54694', '47.54694', '47.54694', '47.54694',\n",
       "       '47.54694', '47.54694', '47.54694', '47.54694', '47.54694',\n",
       "       '47.54694', '47.54694', '47.54694', '47.54694', '47.54694',\n",
       "       '47.54694', '47.54694', '47.54694', '47.54694', '47.54694',\n",
       "       '47.54694', '47.54694', '47.54694', '47.54694', '47.54694',\n",
       "       '47.54694', '47.54694', '47.54694', '47.54694', '47.54694',\n",
       "       '47.54694', '47.54694', '47.54694', '47.54694', '47.54694',\n",
       "       '47.54694', '47.54694', '47.54694', '47.54694', '47.54694',\n",
       "       '47.54694', '47.54694', '47.54694', '47.54694', '47.54694',\n",
       "       '47.54694', '47.54694', '47.54694', '47.54694', '47.54694',\n",
       "       '47.54694', '47.54694', '47.54694', '47.54694', '47.54694',\n",
       "       '47.54694', '47.54694', '47.54694', '47.54694', '47.54694',\n",
       "       '47.54694', '47.54694', '47.54694', '47.54694', '47.54694',\n",
       "       '47.54694', '47.54694', '47.54694', '47.54694'], dtype=object)"
      ]
     },
     "execution_count": 217,
     "metadata": {},
     "output_type": "execute_result"
    }
   ],
   "source": [
    "#  load data \n",
    "df = pd.read_csv (r'C:\\Users\\khaldoun\\Desktop\\Data 2015 to 2019.csv')\n",
    "\n",
    "#converdata to dataframe \n",
    "data = np.array(df)\n",
    "\n",
    "\n",
    "data2[0]"
   ]
  },
  {
   "cell_type": "code",
<<<<<<< Updated upstream
   "execution_count": 8,
=======
   "execution_count": 199,
>>>>>>> Stashed changes
   "metadata": {},
   "outputs": [],
   "source": [
    "# in this part I will organize the data data in a way that each raw has the temprature of the day in addtion to the temprature of the 8 days before it.\n",
    "# the result will be a list of lists ( each list have 8 items)\n",
    "training_data = []\n",
    "l= []\n",
    "for i in range(1085):\n",
    "    for j in range(8):\n",
    "        l.append(int(data[i+j][1]))\n",
    "    training_data.insert(i,l)\n",
    "    l=[]\n",
    "        \n",
    "   "
   ]
  },
  {
   "cell_type": "code",
<<<<<<< Updated upstream
   "execution_count": 9,
=======
   "execution_count": 200,
>>>>>>> Stashed changes
   "metadata": {},
   "outputs": [],
   "source": [
    "# Covert list to an array for easy manipulation \n",
    "\n",
    "final_data = np.array(training_data)\n",
    "\n"
   ]
  },
  {
   "cell_type": "code",
   "execution_count": 23,
   "metadata": {},
   "outputs": [
    {
     "data": {
      "text/plain": [
       "array([ 3,  2,  0,  1,  0, -3, -2,  0])"
      ]
     },
     "execution_count": 23,
     "metadata": {},
     "output_type": "execute_result"
    }
   ],
   "source": [
    "final_data[0]"
   ]
  },
  {
   "cell_type": "code",
<<<<<<< Updated upstream
   "execution_count": 10,
=======
   "execution_count": 209,
>>>>>>> Stashed changes
   "metadata": {},
   "outputs": [],
   "source": [
    "# in this part I will split the data into training data and results data. the result will be the last day and the training will be the 7 days before\n",
    "results = final_data[:,-1]\n",
    "desc = final_data[:,0:-1]\n",
    "\n"
   ]
  },
  {
   "cell_type": "code",
<<<<<<< Updated upstream
   "execution_count": 30,
=======
   "execution_count": 188,
>>>>>>> Stashed changes
   "metadata": {},
   "outputs": [
    {
     "data": {
      "text/plain": [
       "KNeighborsClassifier(n_neighbors=1, p=7)"
      ]
     },
<<<<<<< Updated upstream
     "execution_count": 30,
=======
     "execution_count": 188,
>>>>>>> Stashed changes
     "metadata": {},
     "output_type": "execute_result"
    }
   ],
   "source": [
    "# in this part I prepare the data in a matrix to feed it to the predictive AI . \n",
    "\n",
    "#results = results.reshape(-1,1)\n",
    "#desc = desc.reshape(1085,7)\n",
    "results = pd.Series(np.array(results))\n",
    "\n",
    "# intiate the AI \n",
    "neigh = KNeighborsClassifier(n_neighbors=1, p = 7)\n",
    "\n",
    "# train the AI \n",
    "\n",
    "neigh.fit(desc, results)\n"
   ]
  },
  {
   "cell_type": "code",
<<<<<<< Updated upstream
   "execution_count": 31,
   "metadata": {},
   "outputs": [
    {
     "data": {
      "text/plain": [
       "array([0])"
      ]
     },
     "execution_count": 31,
     "metadata": {},
     "output_type": "execute_result"
    }
   ],
   "source": [
    "neigh.predict(np.array([[3,  2,  0,  1,  0, -3, -2] ]))"
   ]
=======
   "execution_count": null,
   "metadata": {},
   "outputs": [],
   "source": []
>>>>>>> Stashed changes
  },
  {
   "cell_type": "code",
   "execution_count": 21,
   "metadata": {},
   "outputs": [
    {
     "data": {
      "text/plain": [
       "array([ 3,  2,  0,  1,  0, -3, -2])"
      ]
     },
     "execution_count": 21,
     "metadata": {},
     "output_type": "execute_result"
    }
   ],
   "source": [
    "desc[0]\n"
   ]
  },
  {
   "cell_type": "code",
   "execution_count": null,
   "metadata": {},
   "outputs": [],
   "source": []
  },
  {
   "cell_type": "code",
   "execution_count": null,
   "metadata": {},
   "outputs": [],
   "source": []
  },
  {
   "cell_type": "code",
   "execution_count": 19,
   "metadata": {},
   "outputs": [
    {
     "data": {
      "text/plain": [
       "(1085, 7)"
      ]
     },
     "execution_count": 19,
     "metadata": {},
     "output_type": "execute_result"
    }
   ],
   "source": [
    "desc.shape"
   ]
  },
  {
   "cell_type": "code",
   "execution_count": null,
   "metadata": {},
   "outputs": [],
   "source": []
  }
 ],
 "metadata": {
  "kernelspec": {
   "display_name": "Python 3",
   "language": "python",
   "name": "python3"
  },
  "language_info": {
   "codemirror_mode": {
    "name": "ipython",
    "version": 3
   },
   "file_extension": ".py",
   "mimetype": "text/x-python",
   "name": "python",
   "nbconvert_exporter": "python",
   "pygments_lexer": "ipython3",
   "version": "3.8.3"
  }
 },
 "nbformat": 4,
 "nbformat_minor": 4
}
