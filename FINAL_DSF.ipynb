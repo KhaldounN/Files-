{
  "nbformat": 4,
  "nbformat_minor": 0,
  "metadata": {
    "colab": {
      "name": "Untitled7.ipynb",
      "provenance": [],
      "authorship_tag": "ABX9TyMFmSy+gPbBcEtoJiFsMYcZ",
      "include_colab_link": true
    },
    "kernelspec": {
      "name": "python3",
      "display_name": "Python 3"
    }
  },
  "cells": [
    {
      "cell_type": "markdown",
      "metadata": {
        "id": "view-in-github",
        "colab_type": "text"
      },
      "source": [
        "<a href=\"https://colab.research.google.com/github/KhaldounN/Weather-Prediction-/blob/master/FINAL_DSF.ipynb\" target=\"_parent\"><img src=\"https://colab.research.google.com/assets/colab-badge.svg\" alt=\"Open In Colab\"/></a>"
      ]
    },
    {
      "cell_type": "code",
      "metadata": {
        "id": "iGLm5GbyVz4h"
      },
      "source": [
        "\r\n",
        "  "
      ],
      "execution_count": null,
      "outputs": []
    },
    {
      "cell_type": "code",
      "metadata": {
        "id": "FQGX_E-FZe-v"
      },
      "source": [
        "#!ip3 install flair"
      ],
      "execution_count": 1,
      "outputs": []
    },
    {
      "cell_type": "code",
      "metadata": {
        "id": "1V1G-HhOZfBp",
        "outputId": "bd274c16-eb75-489f-a48b-26ef6116e93b",
        "colab": {
          "base_uri": "https://localhost:8080/"
        }
      },
      "source": [
        "!python -m spacy download en_core_web_md\r\n"
      ],
      "execution_count": 2,
      "outputs": [
        {
          "output_type": "stream",
          "text": [
            "Requirement already satisfied: en_core_web_md==2.2.5 from https://github.com/explosion/spacy-models/releases/download/en_core_web_md-2.2.5/en_core_web_md-2.2.5.tar.gz#egg=en_core_web_md==2.2.5 in /usr/local/lib/python3.6/dist-packages (2.2.5)\n",
            "Requirement already satisfied: spacy>=2.2.2 in /usr/local/lib/python3.6/dist-packages (from en_core_web_md==2.2.5) (2.2.4)\n",
            "Requirement already satisfied: catalogue<1.1.0,>=0.0.7 in /usr/local/lib/python3.6/dist-packages (from spacy>=2.2.2->en_core_web_md==2.2.5) (1.0.0)\n",
            "Requirement already satisfied: setuptools in /usr/local/lib/python3.6/dist-packages (from spacy>=2.2.2->en_core_web_md==2.2.5) (50.3.2)\n",
            "Requirement already satisfied: tqdm<5.0.0,>=4.38.0 in /usr/local/lib/python3.6/dist-packages (from spacy>=2.2.2->en_core_web_md==2.2.5) (4.41.1)\n",
            "Requirement already satisfied: numpy>=1.15.0 in /usr/local/lib/python3.6/dist-packages (from spacy>=2.2.2->en_core_web_md==2.2.5) (1.18.5)\n",
            "Requirement already satisfied: plac<1.2.0,>=0.9.6 in /usr/local/lib/python3.6/dist-packages (from spacy>=2.2.2->en_core_web_md==2.2.5) (1.1.3)\n",
            "Requirement already satisfied: srsly<1.1.0,>=1.0.2 in /usr/local/lib/python3.6/dist-packages (from spacy>=2.2.2->en_core_web_md==2.2.5) (1.0.5)\n",
            "Requirement already satisfied: blis<0.5.0,>=0.4.0 in /usr/local/lib/python3.6/dist-packages (from spacy>=2.2.2->en_core_web_md==2.2.5) (0.4.1)\n",
            "Requirement already satisfied: wasabi<1.1.0,>=0.4.0 in /usr/local/lib/python3.6/dist-packages (from spacy>=2.2.2->en_core_web_md==2.2.5) (0.8.0)\n",
            "Requirement already satisfied: preshed<3.1.0,>=3.0.2 in /usr/local/lib/python3.6/dist-packages (from spacy>=2.2.2->en_core_web_md==2.2.5) (3.0.5)\n",
            "Requirement already satisfied: murmurhash<1.1.0,>=0.28.0 in /usr/local/lib/python3.6/dist-packages (from spacy>=2.2.2->en_core_web_md==2.2.5) (1.0.5)\n",
            "Requirement already satisfied: requests<3.0.0,>=2.13.0 in /usr/local/lib/python3.6/dist-packages (from spacy>=2.2.2->en_core_web_md==2.2.5) (2.23.0)\n",
            "Requirement already satisfied: thinc==7.4.0 in /usr/local/lib/python3.6/dist-packages (from spacy>=2.2.2->en_core_web_md==2.2.5) (7.4.0)\n",
            "Requirement already satisfied: cymem<2.1.0,>=2.0.2 in /usr/local/lib/python3.6/dist-packages (from spacy>=2.2.2->en_core_web_md==2.2.5) (2.0.5)\n",
            "Requirement already satisfied: importlib-metadata>=0.20; python_version < \"3.8\" in /usr/local/lib/python3.6/dist-packages (from catalogue<1.1.0,>=0.0.7->spacy>=2.2.2->en_core_web_md==2.2.5) (3.1.1)\n",
            "Requirement already satisfied: chardet<4,>=3.0.2 in /usr/local/lib/python3.6/dist-packages (from requests<3.0.0,>=2.13.0->spacy>=2.2.2->en_core_web_md==2.2.5) (3.0.4)\n",
            "Requirement already satisfied: certifi>=2017.4.17 in /usr/local/lib/python3.6/dist-packages (from requests<3.0.0,>=2.13.0->spacy>=2.2.2->en_core_web_md==2.2.5) (2020.12.5)\n",
            "Requirement already satisfied: idna<3,>=2.5 in /usr/local/lib/python3.6/dist-packages (from requests<3.0.0,>=2.13.0->spacy>=2.2.2->en_core_web_md==2.2.5) (2.10)\n",
            "Requirement already satisfied: urllib3!=1.25.0,!=1.25.1,<1.26,>=1.21.1 in /usr/local/lib/python3.6/dist-packages (from requests<3.0.0,>=2.13.0->spacy>=2.2.2->en_core_web_md==2.2.5) (1.24.3)\n",
            "Requirement already satisfied: zipp>=0.5 in /usr/local/lib/python3.6/dist-packages (from importlib-metadata>=0.20; python_version < \"3.8\"->catalogue<1.1.0,>=0.0.7->spacy>=2.2.2->en_core_web_md==2.2.5) (3.4.0)\n",
            "\u001b[38;5;2m✔ Download and installation successful\u001b[0m\n",
            "You can now load the model via spacy.load('en_core_web_md')\n"
          ],
          "name": "stdout"
        }
      ]
    },
    {
      "cell_type": "markdown",
      "metadata": {
        "id": "0vhk2aIUgUT7"
      },
      "source": [
        "# Train Model to classify Emotions"
      ]
    },
    {
      "cell_type": "code",
      "metadata": {
        "id": "yYScZ6HMZeCP"
      },
      "source": [
        "from sklearn.ensemble import RandomForestClassifier\r\n",
        "from sklearn.feature_extraction.text import CountVectorizer\r\n",
        "from sklearn.base import TransformerMixin \r\n",
        "from spacy.lang.en.stop_words import STOP_WORDS\r\n",
        "from spacy.lang.en import English\r\n",
        "import string\r\n",
        "import spacy\r\n"
      ],
      "execution_count": 3,
      "outputs": []
    },
    {
      "cell_type": "code",
      "metadata": {
        "id": "bN40ZBYUhL0b"
      },
      "source": [
        "#Creating our tokenizer function\r\n",
        "def spacy_tokenizer(sentence):\r\n",
        "    # Creating our token object, which is used to create documents with linguistic annotations.\r\n",
        "    mytokens = parser(sentence)\r\n",
        "\r\n",
        "    # Lemmatizing each token and converting each token into lowercase\r\n",
        "    mytokens = [ word.lemma_.lower().strip() if word.lemma_ != \"-PRON-\" else word.lower_ for word in mytokens ]\r\n",
        "\r\n",
        "    # Removing stop words\r\n",
        "    mytokens = [ word for word in mytokens if word not in stop_words and word not in punctuations ]\r\n",
        "\r\n",
        "    # return preprocessed list of tokens\r\n",
        "    return mytokens\r\n",
        "# Create our list of stopwords\r\n",
        "nlp = spacy.load('en')\r\n",
        "stop_words = spacy.lang.en.stop_words.STOP_WORDS\r\n",
        "\r\n",
        "# Load English tokenizer, tagger, parser, NER and word vectors\r\n",
        "parser = English()\r\n",
        "\r\n",
        "# This function will clean the text\r\n",
        "def clean_text(text):     \r\n",
        "    return text.strip().lower()\r\n",
        "class predictors(TransformerMixin):\r\n",
        "\r\n",
        "    def transform(self, X, **transform_params):\r\n",
        "        return [clean_text(text) for text in X]\r\n",
        "\r\n",
        "    def fit(self, X, y=None, **fit_params):\r\n",
        "        return self\r\n",
        "\r\n",
        "    def get_params(self, deep=True):\r\n",
        "        return {}\r\n",
        "# Create our list of punctuation marks\r\n",
        "punctuations = string.punctuation"
      ],
      "execution_count": 4,
      "outputs": []
    },
    {
      "cell_type": "code",
      "metadata": {
        "id": "9XKpyuqmgTNe"
      },
      "source": [
        "# We create our bag of words (bow) using our tokenizer and defining an ngram range\r\n",
        "bow = CountVectorizer(tokenizer = spacy_tokenizer, ngram_range=(1,1)) \r\n",
        "\r\n",
        "#initialize the model with 200 estimators parameter \r\n",
        "clf = RandomForestClassifier()"
      ],
      "execution_count": 23,
      "outputs": []
    },
    {
      "cell_type": "code",
      "metadata": {
        "id": "57cz1NAZgTQg"
      },
      "source": [
        "from sklearn.pipeline import Pipeline\r\n",
        "\r\n",
        "\r\n",
        "\r\n",
        "pipe = Pipeline([(\"cleaner\", predictors()),\r\n",
        "                 ('vectorizer', bow),\r\n",
        "                 ('classifier', clf)], verbose=True)"
      ],
      "execution_count": 24,
      "outputs": []
    },
    {
      "cell_type": "code",
      "metadata": {
        "id": "1JFr9Oc5gTTs"
      },
      "source": [
        "### the below function was used to optimize the model and we reached that 200 estimators gives highest accuracy.\r\n",
        "\r\n",
        "def Optimize_model(i):\r\n",
        "  result = []\r\n",
        "  for i in range(10,i,10):\r\n",
        "\r\n",
        "    clf = RandomForestClassifier(n_estimators=i)\r\n",
        "    pipe = Pipeline([(\"cleaner\", predictors()),\r\n",
        "                 ('vectorizer', bow),\r\n",
        "                 ('classifier', clf)], verbose=True)\r\n",
        "    pipe.fit( X_train , y_train ) \r\n",
        "    sample_prediction = pipe.predict(X_test)\r\n",
        "    accuracy = metrics.accuracy_score(y_test, sample_prediction)\r\n",
        "    result.append([i,accuracy])\r\n",
        "    print('')\r\n",
        "    print('')\r\n",
        "    print('')\r\n",
        "    print(i)\r\n",
        "    print(\"Accuracy:\",metrics.accuracy_score(y_test, sample_prediction))\r\n",
        "    confusion_matrix = pd.crosstab(y_test, sample_prediction, rownames=['Actual'], colnames=['Predicted'])\r\n",
        "    RandomForestClassifier\r\n",
        "\r\n",
        "    print(confusion_matrix)\r\n",
        "    sns.heatmap(confusion_matrix)\r\n",
        "    plt.show()\r\n",
        "  return result"
      ],
      "execution_count": 25,
      "outputs": []
    },
    {
      "cell_type": "code",
      "metadata": {
        "id": "vZz6aophgTWE",
        "outputId": "9745f1a8-8e39-4e33-954c-c06ff30c315e",
        "colab": {
          "base_uri": "https://localhost:8080/"
        }
      },
      "source": [
        "# Import data . data from source was saparerated so I can to concatenate it \r\n",
        "\r\n",
        "import pandas as pd \r\n",
        "from sklearn.model_selection import train_test_split\r\n",
        "\r\n",
        "df_train = pd.read_csv('/content/train.txt', header =None, sep =';', names = ['Input','Sentiment'], encoding='utf-8')\r\n",
        "df_test = pd.read_csv('/content/test.txt', header = None, sep =';', names = ['Input','Sentiment'],encoding='utf-8')\r\n",
        "df_val = pd.read_csv('/content/val.txt', header = None, sep =';', names = ['Input','Sentiment'],encoding='utf-8')\r\n",
        "df = pd.concat([df_train,df_test, df_val])\r\n",
        "\r\n",
        "\r\n",
        "#check data balance \r\n",
        "df['Sentiment'].value_counts()\r\n"
      ],
      "execution_count": 26,
      "outputs": [
        {
          "output_type": "execute_result",
          "data": {
            "text/plain": [
              "joy         6761\n",
              "sadness     5797\n",
              "anger       2709\n",
              "fear        2373\n",
              "love        1641\n",
              "surprise     719\n",
              "Name: Sentiment, dtype: int64"
            ]
          },
          "metadata": {
            "tags": []
          },
          "execution_count": 26
        }
      ]
    },
    {
      "cell_type": "code",
      "metadata": {
        "id": "TwXBLPfpgTZc"
      },
      "source": [
        "# split data for train and test \r\n",
        "X = df['Input']\r\n",
        "ylabels = df['Sentiment']\r\n",
        "X_train, X_test, y_train, y_test = train_test_split(X, ylabels, test_size=0.2, random_state=42)"
      ],
      "execution_count": 27,
      "outputs": []
    },
    {
      "cell_type": "code",
      "metadata": {
        "id": "a9mDqDb-gTcN",
        "outputId": "f61706e6-c81c-4c3d-b0aa-d040fec8f39c",
        "colab": {
          "base_uri": "https://localhost:8080/"
        }
      },
      "source": [
        "\r\n",
        "#Train Model\r\n",
        "pipe.fit( X_train , y_train ) "
      ],
      "execution_count": 28,
      "outputs": [
        {
          "output_type": "stream",
          "text": [
            "[Pipeline] ........... (step 1 of 3) Processing cleaner, total=   0.0s\n",
            "[Pipeline] ........ (step 2 of 3) Processing vectorizer, total=   1.9s\n",
            "[Pipeline] ........ (step 3 of 3) Processing classifier, total=  22.4s\n"
          ],
          "name": "stdout"
        },
        {
          "output_type": "execute_result",
          "data": {
            "text/plain": [
              "Pipeline(memory=None,\n",
              "         steps=[('cleaner', <__main__.predictors object at 0x7f800f10a8d0>),\n",
              "                ('vectorizer',\n",
              "                 CountVectorizer(analyzer='word', binary=False,\n",
              "                                 decode_error='strict',\n",
              "                                 dtype=<class 'numpy.int64'>, encoding='utf-8',\n",
              "                                 input='content', lowercase=True, max_df=1.0,\n",
              "                                 max_features=None, min_df=1,\n",
              "                                 ngram_range=(1, 1), preprocessor=None,\n",
              "                                 stop_words=None, strip_accents=None,\n",
              "                                 t...\n",
              "                 RandomForestClassifier(bootstrap=True, ccp_alpha=0.0,\n",
              "                                        class_weight=None, criterion='gini',\n",
              "                                        max_depth=None, max_features='auto',\n",
              "                                        max_leaf_nodes=None, max_samples=None,\n",
              "                                        min_impurity_decrease=0.0,\n",
              "                                        min_impurity_split=None,\n",
              "                                        min_samples_leaf=1, min_samples_split=2,\n",
              "                                        min_weight_fraction_leaf=0.0,\n",
              "                                        n_estimators=100, n_jobs=None,\n",
              "                                        oob_score=False, random_state=None,\n",
              "                                        verbose=0, warm_start=False))],\n",
              "         verbose=True)"
            ]
          },
          "metadata": {
            "tags": []
          },
          "execution_count": 28
        }
      ]
    },
    {
      "cell_type": "code",
      "metadata": {
        "id": "H8m_zOpvjqiM",
        "outputId": "82b613c1-9bd8-4fd2-cbaa-c8c8d4c85262",
        "colab": {
          "base_uri": "https://localhost:8080/",
          "height": 536
        }
      },
      "source": [
        "# Predicting with a test dataset\r\n",
        "sample_prediction = pipe.predict(X_test)\r\n",
        "from sklearn import metrics\r\n",
        "import seaborn as sns\r\n",
        "#test Accuracy :   \r\n",
        "print(\"Accuracy:\",metrics.accuracy_score(y_test, sample_prediction))\r\n",
        "confusion_matrix = pd.crosstab(y_test, sample_prediction, rownames=['Actual'], colnames=['Predicted'])\r\n",
        "print(confusion_matrix)\r\n",
        "sns.heatmap(confusion_matrix)"
      ],
      "execution_count": 29,
      "outputs": [
        {
          "output_type": "stream",
          "text": [
            "Accuracy: 0.87725\n",
            "Predicted  anger  fear   joy  love  sadness  surprise\n",
            "Actual                                               \n",
            "anger        480     7    19     3       26         1\n",
            "fear          22   357    10     2       35        32\n",
            "joy           10    19  1208    58       39         5\n",
            "love           3     2    64   264        2         0\n",
            "sadness       40    18    27    10     1072         6\n",
            "surprise       1    18     8     0        4       128\n"
          ],
          "name": "stdout"
        },
        {
          "output_type": "execute_result",
          "data": {
            "text/plain": [
              "<matplotlib.axes._subplots.AxesSubplot at 0x7f80956bc7f0>"
            ]
          },
          "metadata": {
            "tags": []
          },
          "execution_count": 29
        },
        {
          "output_type": "display_data",
          "data": {
            "image/png": "[encoded data removed]",
            "text/plain": [
              "<Figure size 576x396 with 2 Axes>"
            ]
          },
          "metadata": {
            "tags": []
          }
        }
      ]
    },
    {
      "cell_type": "code",
      "metadata": {
        "id": "g8xMKvJSgTfa"
      },
      "source": [
        "#save Model \r\n",
        "\r\n",
        "import pickle\r\n",
        "filename = 'Randomforest_pipe.sav'\r\n",
        "pickle.dump(pipe,open(filename, 'wb'))\r\n",
        "\r\n"
      ],
      "execution_count": 30,
      "outputs": []
    },
    {
      "cell_type": "code",
      "metadata": {
        "id": "MoyrosWinN9d"
      },
      "source": [
        "filename = 'Randomforest_pipe.sav'"
      ],
      "execution_count": 31,
      "outputs": []
    },
    {
      "cell_type": "code",
      "metadata": {
        "id": "4tHVki3rnOAt"
      },
      "source": [
        "loaded_model = pickle.load(open(filename, 'rb'))\r\n"
      ],
      "execution_count": 32,
      "outputs": []
    },
    {
      "cell_type": "code",
      "metadata": {
        "id": "e2n9aMyKnOEF"
      },
      "source": [
        "s = ' I hate you '"
      ],
      "execution_count": 35,
      "outputs": []
    },
    {
      "cell_type": "code",
      "metadata": {
        "id": "BKWyiOqWnOGl",
        "outputId": "c3a04fe0-960b-47cd-d947-3c71c9b36172",
        "colab": {
          "base_uri": "https://localhost:8080/"
        }
      },
      "source": [
        "loaded_model.predict(s)"
      ],
      "execution_count": 36,
      "outputs": [
        {
          "output_type": "execute_result",
          "data": {
            "text/plain": [
              "array(['joy', 'joy', 'joy', 'joy', 'joy', 'joy', 'joy', 'joy', 'joy',\n",
              "       'joy', 'joy', 'joy'], dtype=object)"
            ]
          },
          "metadata": {
            "tags": []
          },
          "execution_count": 36
        }
      ]
    },
    {
      "cell_type": "code",
      "metadata": {
        "id": "SwwFM4L5ZeFc"
      },
      "source": [
        "from flair.models import TextClassifier\r\n",
        "from flair.data import Sentence\r\n",
        "import pandas as pd\r\n",
        "import numpy as np\r\n",
        "import matplotlib.pyplot as plt\r\n",
        "import seaborn as sns\r\n",
        "plt.style.use(\"seaborn\")\r\n",
        "import math"
      ],
      "execution_count": 15,
      "outputs": []
    },
    {
      "cell_type": "code",
      "metadata": {
        "id": "hhl8ttM0ZeKU"
      },
      "source": [
        ""
      ],
      "execution_count": null,
      "outputs": []
    },
    {
      "cell_type": "markdown",
      "metadata": {
        "id": "g9EgOlBpV0hL"
      },
      "source": [
        "# Defining Functions "
      ]
    },
    {
      "cell_type": "code",
      "metadata": {
        "id": "vZlBhv_9V7i5"
      },
      "source": [
        "\r\n",
        "# load book , clean data and split into sentences \r\n",
        "def Load_book(path):\r\n",
        "  book = open(path, 'r').read()\r\n",
        "  book = book.replace(\"\\n\",'')\r\n",
        "  sentences  = book.split('.')\r\n",
        "\r\n",
        "  return sentences \r\n",
        "\r\n",
        "# run sentiment analysis on each sentence in the book and save them into df_setiment \r\n",
        "def Analyzse_sentiment(sentences):\r\n",
        "  tagger = TextClassifier.load('sentiment')\r\n",
        "  df_sentiment = pd.DataFrame((np.zeros((4,int(len(sentences))))))\r\n",
        "  for i, sentence in enumerate(sentences):\r\n",
        "    sentence = Sentence(sentence)\r\n",
        "    tagger.predict(sentence)\r\n",
        "    df_sentiment[i].update(sentence.labels)\r\n",
        "\r\n",
        "\r\n",
        "  for i , sentence in enumerate(df_sentiment.iloc[0,:]):\r\n",
        "      try:\r\n",
        "        df_sentiment.iloc[1,i] = sentence.value\r\n",
        "        if sentence.value == 'NEGATIVE':\r\n",
        "          df_sentiment.iloc[2,i] = sentence.score * (-1)\r\n",
        "        else:\r\n",
        "          df_sentiment.iloc[2,i] = sentence.score\r\n",
        "      except:\r\n",
        "        pass\r\n",
        "\r\n",
        "  return df_sentiment\r\n",
        "\r\n",
        "\r\n",
        "# calcualte Major and Minor sentiment and vizualize it in a dashabord style\r\n",
        "\r\n",
        "def Display_sentiment(df_sentiment  , booktitle = ' book title'):\r\n",
        "\r\n",
        "  l = df_sentiment.iloc[2,:]\r\n",
        "  l = pd.DataFrame(l) \r\n",
        "  l['Major'] = l.iloc[:,0].rolling(40).mean()\r\n",
        "  l['Minor'] = l.iloc[:,0].rolling(10).mean()\r\n",
        "\r\n",
        "  fig, axes = plt.subplots(nrows=2, ncols=1, figsize=(30, 15))\r\n",
        "  axes[0].set_title(booktitle , fontsize = 30 )\r\n",
        "  axes[0].plot(l['Major'])\r\n",
        "  axes[0].set_xlabel('Sentences' , fontsize=20)\r\n",
        "  axes[0].set_ylabel('Sentiment', fontsize=20)\r\n",
        "  axes[0].legend(['Major Sentiment(rolling average for 30 sentences)'], fontsize=20)\r\n",
        "  axes[0].fill_between(l.index, l['Major'] ,0 , where=l['Major'] >= 0, facecolor='lightgreen',  interpolate=True)\r\n",
        "  axes[0].fill_between(l.index, l['Major'] ,0 , where=l['Major'] <= 0, facecolor='lightcoral',  interpolate=True)\r\n",
        "  axes[0].set_facecolor('aliceblue')\r\n",
        "  axes[1].plot(l['Minor'])\r\n",
        "  axes[1].set_xlabel('Sentences' , fontsize=15)\r\n",
        "  axes[1].set_ylabel('Sentiment' , fontsize=15)\r\n",
        "  axes[1].fill_between(l.index, l['Minor'] ,0 , where=l['Minor'] >= 0, facecolor='lightgreen',  interpolate=True)\r\n",
        "  axes[1].fill_between(l.index, l['Minor'] ,0 , where=l['Minor'] <= 0, facecolor='lightcoral',  interpolate=True)\r\n",
        "  axes[1].set_facecolor('aliceblue')\r\n",
        "  axes[1].legend(['Minor Sentiment(rolling average for 5 sentences)'] , fontsize=20)\r\n",
        "\r\n",
        "def Analyzse_emotions(sentences):\r\n",
        "  filename = 'Randomforest_model.sav'\r\n",
        "  clf = pickle.load(open(filename, 'rb'))\r\n",
        "  for i in \r\n",
        "\r\n",
        "\r\n",
        "  "
      ],
      "execution_count": null,
      "outputs": []
    },
    {
      "cell_type": "code",
      "metadata": {
        "id": "762YwF14pdNv"
      },
      "source": [
        "Analyzse_emotions(df)"
      ],
      "execution_count": null,
      "outputs": []
    },
    {
      "cell_type": "markdown",
      "metadata": {
        "id": "qt3kyhxTm_Mf"
      },
      "source": [
        ""
      ]
    },
    {
      "cell_type": "code",
      "metadata": {
        "id": "iNRDHunAm_wf"
      },
      "source": [
        "\r\n",
        "s = 'I hate you  '\r\n",
        "\r\n",
        "filename = 'Randomforest_model.sav'\r\n",
        "pipe = pickle.load(open(filename, 'rb'))\r\n",
        "f = pipe.predict(s)\r\n",
        "\r\n",
        "print(f)"
      ],
      "execution_count": null,
      "outputs": []
    },
    {
      "cell_type": "code",
      "metadata": {
        "id": "ZE2rpIRrWUGb"
      },
      "source": [
        " sentences = Load_book('/content/Beyond good and Evil.txt')\r\n",
        " sentences = sentences["
      ],
      "execution_count": null,
      "outputs": []
    },
    {
      "cell_type": "code",
      "metadata": {
        "id": "EJbRRjggXqdH"
      },
      "source": [
        "#df = Analyzse_sentiment(sentences)\r\n",
        "Display_sentiment(df)"
      ],
      "execution_count": null,
      "outputs": []
    },
    {
      "cell_type": "code",
      "metadata": {
        "id": "f0XBczGmYG5i"
      },
      "source": [
        ""
      ],
      "execution_count": null,
      "outputs": []
    },
    {
      "cell_type": "code",
      "metadata": {
        "id": "x0FXldpYcmKY"
      },
      "source": [
        ""
      ],
      "execution_count": null,
      "outputs": []
    },
    {
      "cell_type": "code",
      "metadata": {
        "id": "r7YZksdi6AAc"
      },
      "source": [
        ""
      ],
      "execution_count": null,
      "outputs": []
    },
    {
      "cell_type": "code",
      "metadata": {
        "id": "zCdlCrAVekhq"
      },
      "source": [
        ""
      ],
      "execution_count": null,
      "outputs": []
    },
    {
      "cell_type": "code",
      "metadata": {
        "id": "c8IPeKYKsphp"
      },
      "source": [
        ""
      ],
      "execution_count": null,
      "outputs": []
    }
  ]
}